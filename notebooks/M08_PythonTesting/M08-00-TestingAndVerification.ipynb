{
 "cells": [
  {
   "cell_type": "markdown",
   "id": "92bb5fe2-7652-4119-ba7e-f2c69ac5dc49",
   "metadata": {
    "slideshow": {
     "slide_type": "slide"
    },
    "tags": []
   },
   "source": [
    "# Testing and Verification\n",
    "\n",
    "Programming for Data Science"
   ]
  },
  {
   "cell_type": "markdown",
   "id": "39074f3d-c1d7-40c4-8b25-4d7a228db50d",
   "metadata": {
    "slideshow": {
     "slide_type": "skip"
    },
    "tags": []
   },
   "source": [
    "> All happy families are alike, but every unhappy family is unhappy in its own way.\\\n",
    "-- Leo Tolstoy, _Anna Karenina_, 1878."
   ]
  },
  {
   "cell_type": "markdown",
   "id": "44cf8cc9-881f-42aa-9b78-3ecaf4bbdb76",
   "metadata": {
    "slideshow": {
     "slide_type": "slide"
    },
    "tags": []
   },
   "source": [
    "## When Code Breaks\n",
    "\n",
    "In this module, we learn about how to deal with **broken code**.\n",
    "\n",
    "By \"broken code,\" we mean everything from code that does not run to code that does not meet users' expectations.\n",
    "\n",
    "This is a broad topic, with lots of cases in between, so let's break it down."
   ]
  },
  {
   "cell_type": "markdown",
   "id": "039cf00f-463c-4c8c-89e1-cf38184ccdba",
   "metadata": {
    "jp-MarkdownHeadingCollapsed": true,
    "slideshow": {
     "slide_type": "slide"
    },
    "tags": []
   },
   "source": [
    "In the first case, code may not work for a variety of reasons:\n",
    "\n",
    "- It may not run at all.\n",
    "- It may be \"brittle\" or \"buggy.\"\n",
    "- It may be sensitive to contextual factors like bad user input or a bad database connection.\n",
    "- It may run but produce incorrect outcomes."
   ]
  },
  {
   "cell_type": "markdown",
   "id": "e46b4295-04ae-49ef-8944-e865c0d49362",
   "metadata": {
    "jp-MarkdownHeadingCollapsed": true,
    "slideshow": {
     "slide_type": "slide"
    },
    "tags": []
   },
   "source": [
    "In the second case, code may not meet the general or specific user **expectations** for the code.\n",
    "\n",
    "- It may not do what is is supposed to do.\n",
    "- It may perform too poorly to be useful.\n",
    "- It may not add any value to a business process.\n",
    "- It may be unethical or harmful."
   ]
  },
  {
   "cell_type": "markdown",
   "id": "afa8cf1c-1bec-474f-9692-dd7d2796ccab",
   "metadata": {
    "slideshow": {
     "slide_type": "slide"
    },
    "tags": []
   },
   "source": [
    "## Quality Assurance\n",
    "\n",
    "Dealing with broken code at both levels falls under the broad category of quality assurance, or QA.\n",
    "\n",
    "Two broad appraoches to QA are through good **design** and through principled **testing** based on **requirements**."
   ]
  },
  {
   "cell_type": "markdown",
   "id": "94ea6cdc-2c92-4668-8085-7010d59a61be",
   "metadata": {
    "jp-MarkdownHeadingCollapsed": true,
    "slideshow": {
     "slide_type": "slide"
    },
    "tags": []
   },
   "source": [
    "## Design \n",
    "\n",
    "Good design means following sound **architectural principles and patterns**, as well as using **the right tools** (e.g. Python :-)\n",
    "\n",
    "Some principles of good design are:\n",
    "\n",
    "* Favor the **simple over the complex**.\n",
    "* Invest in **data design** to simplify algorithm design.\n",
    "* Write **literate code** so that it is intellible to you and others.\n",
    "* Use tools that are **documented** and have a strong **user community**."
   ]
  },
  {
   "cell_type": "markdown",
   "id": "53b8c561-5bc6-487e-bed2-13bdc6e05961",
   "metadata": {
    "slideshow": {
     "slide_type": "slide"
    },
    "tags": []
   },
   "source": [
    "## Specifications\n",
    "\n",
    "Testing, on the other hand, depends on **the codification of performance expectations**, independent of how things are built.\n",
    "\n",
    "Expectations are typically encoded in **specifications**: \n",
    "A document that contains a precise and detailed statement that **stakeholders** define about the properties the code must have."
   ]
  },
  {
   "cell_type": "markdown",
   "id": "2066d9eb-6b50-4d1f-b72d-84195a0ffd58",
   "metadata": {
    "slideshow": {
     "slide_type": "slide"
    },
    "tags": []
   },
   "source": [
    "There are different kinds of specification, or \"spec\". \n",
    "\n",
    "Here are two common ones:\n",
    "\n",
    "A **design specification** provides exact instructions for _how_ to build something. This goes beyond principles and identifies specific tools, platforms, etc.\n",
    "\n",
    "A **requirements specification** provides exact statements about _what_ should be built. These specify what the code _should_ do, not how or why.\n",
    "\n",
    "Here, we will focus on **requirements**."
   ]
  },
  {
   "cell_type": "markdown",
   "id": "8cea735c-cc28-487d-86be-6c7d6a7d5df5",
   "metadata": {
    "slideshow": {
     "slide_type": "slide"
    },
    "tags": []
   },
   "source": [
    "## Requirements\n",
    "\n",
    "Requirements are **elicited from stakeholders** through a process that typically involves **project management**. We will cover this topic in more depth in a later module.\n",
    "\n",
    "For now, assuming that we have some requirements in hand, our job as coders is to meet those requirements.\n",
    "\n",
    "This means both designing code in accordance with the specs, and ensuring, or **verifying** and **validating**, in a shareable way that the code does in fact meet those requirements."
   ]
  },
  {
   "cell_type": "markdown",
   "id": "695d5f9d-93e2-4cce-9f4d-83389256bc37",
   "metadata": {
    "slideshow": {
     "slide_type": "slide"
    },
    "tags": []
   },
   "source": [
    "**Verification** ensures the software is built right, according to the requirements.\n",
    "\n",
    "**Validation** ensures the software is doing the right thing, relative to the problem the client is trying to solve.\n",
    "\n",
    "The distinction is similar to that referenced by Peter Drucker in this quote:\n",
    "\n",
    "> It’s more important to do the right thing than to do things right.\n",
    "\n",
    "In this module, we focus on **verification**."
   ]
  },
  {
   "cell_type": "markdown",
   "id": "c8c5943a-f010-4d59-ae61-9bbf4babc62a",
   "metadata": {
    "slideshow": {
     "slide_type": "slide"
    },
    "tags": []
   },
   "source": [
    "## Requirements Testing\n",
    "\n",
    "To **verify** that our code aligns with our requirements and is of the highest quality we can provide, we follow **testing** procedures.\n",
    "\n",
    "This is where requirements specifications come in. They provide the **blueprint** for testing.  \n",
    "\n",
    "If you don't have specifications for the product, you **cannot verify** that you're doing the right thing. \n",
    "\n",
    "It also becomes difficult to identify **incorrect** behavior."
   ]
  },
  {
   "cell_type": "markdown",
   "id": "785010c9-fa6a-4241-8319-b2a0459ddf45",
   "metadata": {
    "slideshow": {
     "slide_type": "slide"
    },
    "tags": []
   },
   "source": [
    "## Debugging the Spec\n",
    "\n",
    "Specifications are rarely perfect. They can change over time for a variety of reasons. \n",
    "\n",
    "In fact, some have joked that programming is the act of [\"debugging the spec\"](http://johnunsworth.name/KR/halsted.html):\n",
    "\n",
    "> The process of interpreting what is wanted and making something sort of like it happen on a monitor is one that very much requires the kinds of \n",
    "interpretation Gadamer describes &mdash; in fact, the act of interpreting the original articulation generally leads to a re-formulation of the activity itself, so that programming becomes a way to change how people think of themselves and their work, not simply a reflection of the tasks at hand.\\\n",
    "> Halsted 2001\n",
    "\n",
    "Don't worry about who Gadamer is other than to note that he is a famous German philosopher who argued that the essence of knowledge is interpretation and interpretation always involves play."
   ]
  },
  {
   "cell_type": "markdown",
   "id": "ea0d636f-af5d-43c3-a69f-754d96eb42dd",
   "metadata": {
    "slideshow": {
     "slide_type": "slide"
    },
    "tags": []
   },
   "source": [
    "Broadly speaking, there are two kinds of testing and verification: **formal** and **empirical**."
   ]
  },
  {
   "cell_type": "markdown",
   "id": "221942d2-0222-47b4-abae-e9c6b3f66efd",
   "metadata": {
    "slideshow": {
     "slide_type": "slide"
    },
    "tags": []
   },
   "source": [
    "## Formal Verification\n",
    "\n",
    "Formal verification is the process of mathematically **proving** that a system satisfies a given property.\n",
    "\n",
    "It works by defining a **formal model** for the system and its behavior and then comparing the software to the model.\n",
    "\n",
    "Given their **complexity**, formal verification methods are not widely used."
   ]
  },
  {
   "cell_type": "markdown",
   "id": "6a9dd905-514a-48c8-9021-f47b19df08d0",
   "metadata": {
    "slideshow": {
     "slide_type": "slide"
    },
    "tags": []
   },
   "source": [
    "## Empirical Verification\n",
    "\n",
    "With empirical procedures, requirements matching is demonstrated through **empirical testing**. \n",
    "\n",
    "Empirical testing seeks to see if software **works in practice**. \n",
    "\n",
    "It is **easier** than using proofs.\n",
    "\n",
    "But it's **harder** than just writing code.\n",
    "\n",
    "We will focus on **empirical** testing."
   ]
  },
  {
   "cell_type": "markdown",
   "id": "7229b1ff-1629-49e4-bbec-e956f04bf8d1",
   "metadata": {
    "slideshow": {
     "slide_type": "slide"
    },
    "tags": []
   },
   "source": [
    "## Unit Testing\n",
    "\n",
    "There are many kinds of empirical testing.\n",
    "\n",
    "The most popular is **unit testing**. \n",
    "\n",
    "In **unit testing**, we write code that tests the **smallest possible units** of the requirements spec. \n",
    "\n",
    "The programmer does unit testing **as part of the coding process**.\n",
    "\n",
    "It expects that code is **componential**, i.e. that the smallest units are functionally independent and can be combined in principled ways.\n",
    "\n",
    "This raises the issue of writing **well-designed functions and classes**."
   ]
  },
  {
   "cell_type": "markdown",
   "id": "928fd30a-2ec3-4c27-9246-cab0c46bdb45",
   "metadata": {
    "slideshow": {
     "slide_type": "slide"
    },
    "tags": []
   },
   "source": [
    "Two other kinds of testing are **integration** and **acceptance** (beta) testing. \n",
    "\n",
    "**Integration Testing:** Test that units work together.\n",
    "\n",
    "**Acceptance Testing (Beta Testing):** Give product to real users to try it out.\n",
    "\n",
    "We will not cover these here."
   ]
  },
  {
   "cell_type": "markdown",
   "id": "827e3761-df80-4365-a3b5-8fd7649a04ec",
   "metadata": {
    "slideshow": {
     "slide_type": "slide"
    },
    "tags": []
   },
   "source": [
    "## Debugging\n",
    "\n",
    "Another aspect of testing and verification which we will not cover here is debugging.\n",
    "\n",
    "Debugging &mdash; derived from Grace Hopper's expression \"bug\" &mdash; refers to the process of investigating precisely where and when code breaks. \n",
    "\n",
    "Programming environments like Jupyter Lab and Visual Studio Code provide good tools for debugging."
   ]
  },
  {
   "cell_type": "markdown",
   "id": "7d9f1522-65a2-4563-8288-3ee193fb7847",
   "metadata": {
    "slideshow": {
     "slide_type": "slide"
    },
    "tags": []
   },
   "source": [
    "## A Note of Caution\n",
    "\n",
    "**[Edsger Dijkstra](https://en.wikipedia.org/wiki/Edsger_W._Dijkstra)** was a famous computer scientist and A. M. Turing award winner. He said:\n",
    "\n",
    "> \"Program testing can effectively show the presence of bugs but is\\\n",
    "> hopeless for showing their absence.\"\\\n",
    "> &nbsp;&nbsp;&nbsp;&nbsp;&mdash; Edsger Dijkstra\n",
    "\n",
    "Even if you write a test suite of carefully crafted test cases, and if they all run and pass, it doesn't mean that no further bugs exist.\n",
    "\n",
    "It is much easier to prove the existence of something than to disprove the existence of something. \n",
    "\n",
    "This realization should motivate us to learn how to create carefully crafted unit tests so that we can test as much as we can."
   ]
  },
  {
   "cell_type": "markdown",
   "id": "f15b4ebc-df83-401d-a7cc-2500d0f21351",
   "metadata": {
    "slideshow": {
     "slide_type": "slide"
    },
    "tags": []
   },
   "source": [
    "## Visual Summary\n",
    "<img src=\"kmap.png\" style=\"text-align:center;margin-left:24rem;\"/>"
   ]
  }
 ],
 "metadata": {
  "kernelspec": {
   "display_name": "eta",
   "language": "python",
   "name": "eta"
  },
  "language_info": {
   "codemirror_mode": {
    "name": "ipython",
    "version": 3
   },
   "file_extension": ".py",
   "mimetype": "text/x-python",
   "name": "python",
   "nbconvert_exporter": "python",
   "pygments_lexer": "ipython3",
   "version": "3.9.19"
  }
 },
 "nbformat": 4,
 "nbformat_minor": 5
}
