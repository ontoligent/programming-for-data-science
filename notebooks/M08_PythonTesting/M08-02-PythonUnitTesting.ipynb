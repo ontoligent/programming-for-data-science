{
 "cells": [
  {
   "cell_type": "markdown",
   "metadata": {
    "slideshow": {
     "slide_type": "slide"
    },
    "tags": []
   },
   "source": [
    "# NB: Unit Testing with Unittest\n",
    "\n",
    "Programming for Data Science"
   ]
  },
  {
   "cell_type": "markdown",
   "metadata": {
    "slideshow": {
     "slide_type": "slide"
    },
    "tags": []
   },
   "source": [
    "## Unit Testing\n",
    "\n",
    "Unit testing is **bottom-up** approach to testing code.\n",
    "\n",
    "It assumes that code may be decomposed into **elementary units** that are independent.\n",
    "\n",
    "Quality assurance is achieved by **testing each of these units** for their expected behavior under a variety of conditions."
   ]
  },
  {
   "cell_type": "markdown",
   "metadata": {
    "slideshow": {
     "slide_type": "slide"
    },
    "tags": []
   },
   "source": [
    "## Role of Functions \n",
    "\n",
    "The elementary unit of code is usually the **function**. \n",
    "\n",
    "Recall that functions should be written to perform relatively **simple things** &mdash; simple, well-defined tasks.\n",
    "\n",
    "Unit tests are meant to eliminate **design-time** errors, i.e. those **produced by the coder**.\n",
    "\n",
    "Unit tests may also be designed to test whether or not functions perform correctly during **run-time**, across a range of error-producing **conditions**.\n",
    "\n",
    "These conditions include edge cases, invalid user inputs, broken connections, etc."
   ]
  },
  {
   "cell_type": "markdown",
   "metadata": {
    "slideshow": {
     "slide_type": "slide"
    },
    "tags": []
   },
   "source": [
    "## Integration Testing\n",
    "\n",
    "Unit testing typically focuses on **individual functions** in isolation. \n",
    "\n",
    "To test how **groups of related functions** interact and perform, we employ **integration testing**.\n",
    "\n",
    "Integration testing is more **complex**, given the combinatorial complexity of coding. \n",
    "\n",
    "Ultimately, the best way to test interacting functions &mdash; and the software system as a whole &mdash; is through **user testing**.\n",
    "\n",
    "But unit testing establishes a sold **foundation** on which to conduct these higher-level tests."
   ]
  },
  {
   "cell_type": "markdown",
   "metadata": {
    "slideshow": {
     "slide_type": "slide"
    },
    "tags": []
   },
   "source": [
    "## Role of Design\n",
    "\n",
    "It is worth noting that unit testing benefits from a kind of **design**.\n",
    "\n",
    "If you design functions that are **not well-defined and focused**, then you are **unlikely to test them** effectively.\n",
    "\n",
    "So part of unit testing is **function design** in the first place.\n",
    "\n",
    "A broad area of programming called **functional programming** implements this kind of design.\n",
    "\n",
    "So, unit testing goes **hand-in-hand** with software design."
   ]
  },
  {
   "cell_type": "markdown",
   "metadata": {
    "slideshow": {
     "slide_type": "slide"
    },
    "tags": []
   },
   "source": [
    "## Benefits of Unit Testing\n",
    "\n",
    "Developers can work in a **predictable** way as they develop code.\n",
    "\n",
    "Developers can **write their own unit tests** and check themselves as they build.\n",
    "\n",
    "Unit testing provides **rapid responses** when testing small changes.\n",
    "\n",
    "It reduces **defects in the newly developed features** or reduces bugs when changing the existing functionality.\n",
    "\n",
    "And it reduces **cost of testing**, since defects are captured in very early phase.\n",
    "\n",
    "Finally, it **improves design** and allows better **refactoring** of code."
   ]
  },
  {
   "cell_type": "markdown",
   "metadata": {
    "jp-MarkdownHeadingCollapsed": true,
    "slideshow": {
     "slide_type": "slide"
    },
    "tags": []
   },
   "source": [
    "## Unit Testing Frameworks\n",
    "\n",
    "There are many of these available to Python users, including:\n",
    "\n",
    "**Unittest**: A full-featured unit testing system, inspired by Java's JUnit. Part of the Python Standard Library (as an external project it was called PyUnit).\\\n",
    "**DocTest**: A lightweight test framework that allows you to embed tests directly in the docstrings, making it easy to combine code examples and test cases in one place. Part of the Python Standard Library.\\\n",
    "**PyTest**: An alternative to PyUnit and with a simpler syntax.\\\n",
    "**nose2**: A discovery-based framwork that extends unittest (successor to nose).\\\n",
    "**Testify**: A Pythonic testing framework compatible with unittest tests.\\\n",
    "**Robot**: A framework for test automation and robotic process automation (not just for Python).\\\n",
    "**Behave**: A framework for Behavior-Driven Development.\\\n",
    "**Hypothesis**: A powerful property-based testing.\n",
    "\n",
    "&mdash; Adapted from https://wiki.python.org/moin/UnitTests\n",
    "\n",
    "We will focus on Unittest."
   ]
  },
  {
   "cell_type": "markdown",
   "metadata": {
    "slideshow": {
     "slide_type": "slide"
    },
    "tags": []
   },
   "source": [
    "## The Basic Idea\n",
    "\n",
    "The Unittest framework provides you with \n",
    "a **testing class** that you can inherit.\n",
    "\n",
    "This class contains **a bunch of `assert` methods**.\n",
    "\n",
    "The basic idea is to **write functions that test other functions** by using these assert methods.\n",
    "\n",
    "These functions are put in **another file** that calls your module.\n",
    "\n",
    "This prevents you from  **peppering your code** with assert statements.\n",
    "\n",
    "It aslo allows a clean **separation of concerns**. "
   ]
  },
  {
   "cell_type": "markdown",
   "metadata": {
    "slideshow": {
     "slide_type": "slide"
    },
    "tags": []
   },
   "source": [
    "## Assert Methods\n",
    "\n",
    "Unittest provides **many assert methods** &mdash; see this [cheat sheet](https://kapeli.com/cheat_sheets/Python_unittest_Assertions.docset/Contents/Resources/Documents/index) for more.\n",
    "\n",
    "These are wrappers around Python's built-in `assert` function. \n",
    "\n",
    "Assert methods compare **actual** with **expected** results.\n",
    "\n",
    "Some commonly used assert methods are:\n",
    "\n",
    "* `assertTrue()`: Used to test if your function produces an **actual** result that matches an **expected** result.\n",
    "* `assertFalse()`: Used to test if the actual result **fails** in an expected way.\n",
    "* `assertEqual()`: Used to test if actual and expected results are equal.\n",
    "* `assertRaises()`: Used to test if `raise` statement is raising the correct exception."
   ]
  },
  {
   "cell_type": "markdown",
   "metadata": {
    "slideshow": {
     "slide_type": "slide"
    },
    "tags": []
   },
   "source": [
    "## The Basic Pattern\n",
    "\n",
    "The Unittest framework works as follows:\n",
    "\n",
    "1. **Choose** a package or class that you want to test.\n",
    "\n",
    "2. **Create** a `.py` file to put your `unittest` code.\n",
    "\n",
    "3. In the file, **create a class** that is a subclass of `unittest.TestCase`.\n",
    "\n",
    "4. In that class **write methods** that are designed to test the behavior of methods in the code you want to test.\n",
    "\n",
    "5. **Run** the script from the command line and see the results.\n",
    "\n",
    "6. **Update** the script as you create new methods or refactor existing ones."
   ]
  },
  {
   "cell_type": "markdown",
   "metadata": {
    "slideshow": {
     "slide_type": "slide"
    },
    "tags": []
   },
   "source": [
    "In the test class:\n",
    "\n",
    "- Each **test method** focuses on one behavior of one method (or function).\n",
    "\n",
    "- There can be **many test methods** for each target method.  \n",
    "\n",
    "- Each test method name must be **prefixed** by **`test_`**.\n",
    "  \n",
    "- Tests are executed in **alphabetical order**, so name them in the order you want them executed.\n",
    "  \n",
    "- Each test makes use of an **assert method**. \n",
    "  \n",
    "- You want **all tests to pass**, so if you want to test if something breaks, you return `True` for a `False` condition."
   ]
  },
  {
   "cell_type": "markdown",
   "metadata": {
    "slideshow": {
     "slide_type": "slide"
    },
    "tags": []
   },
   "source": [
    "Let's look at some examples."
   ]
  },
  {
   "cell_type": "markdown",
   "metadata": {
    "slideshow": {
     "slide_type": "slide"
    },
    "tags": []
   },
   "source": [
    "## Example 1\n",
    "\n",
    "Consider the case of this simple static class, stored in `demo/math_ops.py`,  to perform basic arithmetic operations."
   ]
  },
  {
   "cell_type": "markdown",
   "metadata": {
    "tags": []
   },
   "source": [
    "```python\n",
    "class MathOps:\n",
    "\n",
    "    def add(a, b):\n",
    "        return a + b\n",
    "        \n",
    "    def subtract(a, b):\n",
    "        return a - b\n",
    "\n",
    "    def multiply(a, b):\n",
    "        return a * b\n",
    "\n",
    "    def divide(a, b):\n",
    "        if b == 0:\n",
    "            raise ValueError(\"Cannot divide by zero\")\n",
    "        return a / b\n",
    "    \n",
    "if __name__ == '__main__':\n",
    "    print(\"This is the MathOps class. It's meant to be imported into another module.\")\n",
    "    print(\"But since you called it directly, I'll show you how it works!\")\n",
    "    x = 5\n",
    "    y = 10\n",
    "    print(\"5 + 10 =\", MathOps.add(x, y))\n",
    "    print(\"5 - 10 =\", MathOps.subtract(x, y))\n",
    "    print(\"5 * 10 =\", MathOps.multiply(x, y))\n",
    "    print(\"5 / 10 =\", MathOps.divide(x, y))\n",
    "```"
   ]
  },
  {
   "cell_type": "code",
   "execution_count": 74,
   "metadata": {
    "tags": []
   },
   "outputs": [
    {
     "name": "stdout",
     "output_type": "stream",
     "text": [
      "This is the MathOps class. It's meant to be imported into another module.\n",
      "But since you called it directly, I'll show you how it works!\n",
      "5 + 10 = 15\n",
      "5 - 10 = -5\n",
      "5 * 10 = 50\n",
      "5 / 10 = 0.5\n"
     ]
    }
   ],
   "source": [
    "!python demo/math_ops.py"
   ]
  },
  {
   "cell_type": "markdown",
   "metadata": {
    "slideshow": {
     "slide_type": "slide"
    },
    "tags": []
   },
   "source": [
    "Here is an example unittest file, stored in `demo/math_ops_test.py`, to test the methods in the class:"
   ]
  },
  {
   "cell_type": "markdown",
   "metadata": {
    "tags": []
   },
   "source": [
    "```python\n",
    "import unittest\n",
    "from math_ops import MathOps \n",
    "\n",
    "class TestMathOperations(unittest.TestCase):\n",
    "    \n",
    "    def test_add(self):\n",
    "        self.assertEqual(MathOps.add(2, 3), 5)\n",
    "        self.assertEqual(MathOps.add(-1, 1), 0)\n",
    "        self.assertEqual(MathOps.add(-1, -1), -2)\n",
    "\n",
    "    def test_subtract(self):\n",
    "        self.assertEqual(MathOps.subtract(5, 3), 2)\n",
    "        self.assertEqual(MathOps.subtract(1, 1), 0)\n",
    "        self.assertEqual(MathOps.subtract(-1, -1), 0)\n",
    "\n",
    "    def test_multiply(self):\n",
    "        self.assertEqual(MathOps.multiply(2, 3), 6)\n",
    "        self.assertEqual(MathOps.multiply(-2, 3), -6)\n",
    "        self.assertEqual(MathOps.multiply(0, 5), 0)\n",
    "\n",
    "    def test_divide(self):\n",
    "        self.assertEqual(MathOps.divide(6, 3), 2)\n",
    "        self.assertEqual(MathOps.divide(7, 2), 3.5)\n",
    "        self.assertRaises(ValueError, MathOps.divide, 1, 0)\n",
    "\n",
    "if __name__ == '__main__':\n",
    "    unittest.main()\n",
    "```"
   ]
  },
  {
   "cell_type": "markdown",
   "metadata": {
    "slideshow": {
     "slide_type": "slide"
    },
    "tags": []
   },
   "source": [
    "To run the test file, we put the two files in the same directory and run the test file from the command line."
   ]
  },
  {
   "cell_type": "code",
   "execution_count": 65,
   "metadata": {
    "tags": []
   },
   "outputs": [
    {
     "name": "stdout",
     "output_type": "stream",
     "text": [
      "....\n",
      "----------------------------------------------------------------------\n",
      "Ran 4 tests in 0.000s\n",
      "\n",
      "OK\n"
     ]
    }
   ],
   "source": [
    "!python demo/math_ops_test.py"
   ]
  },
  {
   "cell_type": "markdown",
   "metadata": {
    "slideshow": {
     "slide_type": "slide"
    },
    "tags": []
   },
   "source": [
    "To save the results of our test to a file, we can do this:"
   ]
  },
  {
   "cell_type": "code",
   "execution_count": 69,
   "metadata": {
    "tags": []
   },
   "outputs": [],
   "source": [
    "!python demo/math_ops_test.py 2> demo/math_ops_results.txt"
   ]
  },
  {
   "cell_type": "markdown",
   "metadata": {},
   "source": [
    "We use `2>`  because the messages that `unittest` prints are error messages on Unix."
   ]
  },
  {
   "cell_type": "markdown",
   "metadata": {},
   "source": [
    "We can see our results using `more`:"
   ]
  },
  {
   "cell_type": "code",
   "execution_count": 70,
   "metadata": {
    "tags": []
   },
   "outputs": [
    {
     "name": "stdout",
     "output_type": "stream",
     "text": [
      "....\n",
      "----------------------------------------------------------------------\n",
      "Ran 4 tests in 0.000s\n",
      "\n",
      "OK\n"
     ]
    }
   ],
   "source": [
    "!more demo/math_ops_results.txt"
   ]
  },
  {
   "cell_type": "markdown",
   "metadata": {
    "slideshow": {
     "slide_type": "slide"
    },
    "tags": []
   },
   "source": [
    "## Example 2\n",
    "\n",
    "In this example, we create a class called `Student` and save it in a local file called `demo/student.py`."
   ]
  },
  {
   "cell_type": "markdown",
   "metadata": {
    "tags": []
   },
   "source": [
    "```python\n",
    "class Student:\n",
    "    \n",
    "    # constructor\n",
    "    def __init__(self, name, courses=None):\n",
    "        self.name = name \n",
    "        self.courses = [] if courses is None else courses \n",
    "        self.num_courses = len(self.courses)\n",
    "        \n",
    "    # enroll in a course\n",
    "    def enroll_in_course(self, course_name): \n",
    "        self.courses.append(course_name)\n",
    "        self.num_courses += 1 \n",
    "```"
   ]
  },
  {
   "cell_type": "markdown",
   "metadata": {
    "slideshow": {
     "slide_type": "slide"
    },
    "tags": []
   },
   "source": [
    "Then we create a companion test file for our class, saving it in a file called `demo/student_test.py`."
   ]
  },
  {
   "cell_type": "markdown",
   "metadata": {
    "tags": []
   },
   "source": [
    "```python\n",
    "from student import Student\n",
    "import unittest\n",
    "\n",
    "class EnrollInTestCase(unittest.TestCase): \n",
    "    \n",
    "    def test_is_incremented_correctly(self):\n",
    "        \"\"\"\n",
    "        Test if enrollInCourse() method successfully increments the\n",
    "        num_courses attribute of the Student object \n",
    "        \"\"\"\n",
    "\n",
    "        student1 = Student('Katherine', ['DS 5100'])\n",
    "        student1.enroll_in_course(\"CS 5050\")\n",
    "        student1.enroll_in_course(\"CS 5777\")\n",
    "        print('Course names:', student1.courses)\n",
    "        print('Course count:', student1.num_courses)\n",
    "        \n",
    "        expected = 3\n",
    "        self.assertEqual(student1.num_courses, expected)\n",
    "    \n",
    "if __name__ == '__main__':\n",
    "    unittest.main()\n",
    "```"
   ]
  },
  {
   "cell_type": "markdown",
   "metadata": {
    "slideshow": {
     "slide_type": "slide"
    },
    "tags": []
   },
   "source": [
    "To run our tests, we run the test file from the command line:"
   ]
  },
  {
   "cell_type": "code",
   "execution_count": 71,
   "metadata": {
    "tags": []
   },
   "outputs": [
    {
     "name": "stdout",
     "output_type": "stream",
     "text": [
      "Course names: ['DS 5100', 'CS 5050', 'CS 5777']\n",
      "Course count: 3\n",
      ".\n",
      "----------------------------------------------------------------------\n",
      "Ran 1 test in 0.000s\n",
      "\n",
      "OK\n"
     ]
    }
   ],
   "source": [
    "!python demo/student_test.py"
   ]
  },
  {
   "cell_type": "markdown",
   "metadata": {},
   "source": [
    "Again, to capture the results, we do this:"
   ]
  },
  {
   "cell_type": "code",
   "execution_count": 72,
   "metadata": {},
   "outputs": [
    {
     "name": "stdout",
     "output_type": "stream",
     "text": [
      "Course names: ['DS 5100', 'CS 5050', 'CS 5777']\n",
      "Course count: 3\n"
     ]
    }
   ],
   "source": [
    "!python demo/student_test.py 2> demo/student_results.txt"
   ]
  },
  {
   "cell_type": "markdown",
   "metadata": {},
   "source": [
    "Note that program still outputs our print statements."
   ]
  },
  {
   "cell_type": "markdown",
   "metadata": {},
   "source": [
    "Here we capture the print calls in the module and only shows the errors."
   ]
  },
  {
   "cell_type": "code",
   "execution_count": 75,
   "metadata": {},
   "outputs": [
    {
     "name": "stdout",
     "output_type": "stream",
     "text": [
      ".\n",
      "----------------------------------------------------------------------\n",
      "Ran 1 test in 0.000s\n",
      "\n",
      "OK\n"
     ]
    }
   ],
   "source": [
    "!python demo/student_test.py > demo/student_results1.txt"
   ]
  }
 ],
 "metadata": {
  "kernelspec": {
   "display_name": "Python 3",
   "language": "python",
   "name": "python3"
  },
  "language_info": {
   "codemirror_mode": {
    "name": "ipython",
    "version": 3
   },
   "file_extension": ".py",
   "mimetype": "text/x-python",
   "name": "python",
   "nbconvert_exporter": "python",
   "pygments_lexer": "ipython3",
   "version": "3.11.4"
  }
 },
 "nbformat": 4,
 "nbformat_minor": 4
}
