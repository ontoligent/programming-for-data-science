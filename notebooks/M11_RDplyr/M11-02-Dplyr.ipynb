{
 "cells": [
  {
   "cell_type": "markdown",
   "id": "d38ca7a5-00e3-4ce9-85f0-488021afa294",
   "metadata": {
    "slideshow": {
     "slide_type": "slide"
    },
    "tags": []
   },
   "source": [
    "# NB: Dplyr\n",
    "\n",
    "Programming for Data Science"
   ]
  },
  {
   "cell_type": "markdown",
   "id": "8ae467a3-f593-4bf4-a3f7-089ec85a5c0b",
   "metadata": {
    "slideshow": {
     "slide_type": "slide"
    },
    "tags": []
   },
   "source": [
    "## What is Dplyr?\n",
    "\n",
    "The Dplyr package is a **cetnral** component of the Tidyverse.\n",
    "\n",
    "Technically, Dplyr is an optimized and **distilled** version of the previous Plyr package.\n",
    "\n",
    "Plyr organizes much of the functionality of the family of **apply functions in base R** &mdash; functions like `apply()`, `lapply()`, `sapply()`, and `tapply()`.\n",
    "\n",
    "These functions perform the **same action on multiple chunks** of data in a repetitive way.\n",
    "\n",
    "For example, `apply()` applies a function to every element of a row or column in a dataset."
   ]
  },
  {
   "cell_type": "markdown",
   "id": "eed296cf-a444-429e-9ae3-11aa3f8219b8",
   "metadata": {
    "slideshow": {
     "slide_type": "slide"
    },
    "tags": []
   },
   "source": [
    "## Why Dplyr?\n",
    "\n",
    "Dplyr was developed to provide a **clean and intelligble** way to process data tables.\n",
    "\n",
    "It does this by providing a simple **grammar** for data manipulation and for operating on data frames.\n",
    "\n",
    "With this grammar, you can clearly **express and** **communicate** what\n",
    "it is that you are doing to a data frame that other people can\n",
    "understand.\n",
    "\n",
    "This is useful because it provides an abstraction for data manipulation\n",
    "that previously did not exist within R and other programming languages.\n",
    "\n",
    "Another useful contribution is that the Dplyr functions are **very**\n",
    "fast, as many key operations are coded in C++."
   ]
  },
  {
   "cell_type": "markdown",
   "id": "33dcad49-22a3-4d8c-ab2e-423535d61078",
   "metadata": {
    "slideshow": {
     "slide_type": "slide"
    },
    "tags": []
   },
   "source": [
    "Note that Dplyr does not provide any new functionality to R per se.\n",
    "\n",
    "Everything Dplyr does may already be done with base R. \n",
    "\n",
    "But it greatly simplifies existing functionality in R.\n",
    "\n",
    "In the table below, you can see that that Dplyr provides a consistent way of phrasing the someone chaotic idioms of base R."
   ]
  },
  {
   "cell_type": "markdown",
   "id": "8e326099-c619-4884-a427-d6bf495aa4df",
   "metadata": {
    "tags": []
   },
   "source": [
    "|dplyr|base R|\n",
    "|-------|------|\n",
    "|`arrange(df, x)` | `df[order(x), , drop = FALSE]`|\n",
    "|`distinct(df, x)` | `df[!duplicated(x), , drop = FALSE], unique()`|\n",
    "|`filter(df, x)` | `df[which(x), , drop = FALSE], subset()`|\n",
    "|`mutate(df, z = x + y)` | `df$z <- df$x + df$y, transform()`|\n",
    "|`pull(df, 1)` | `df[[1]]`|\n",
    "|`pull(df, x)` | `df$x`|\n",
    "|`rename(df, y = x)` | `names(df)[names(df) == \"x\"] <- \"y\"`|\n",
    "|`relocate(df, y)` | `df[union(\"y\", names(df))]`|\n",
    "|`select(df, x, y)` | `df[c(\"x\", \"y\")], subset()`|\n",
    "|`select(df, starts_with(\"x\"))` | `df[grepl(\"`|`x\", names(df))]`|\n",
    "|`summarise(df, mean(x))` | `mean(df$x), tapply(), aggregate(), by()`|\n",
    "|`slice(df, c(1, 2, 5))` | `df[c(1, 2, 5), , drop = FALSE]`|\n"
   ]
  },
  {
   "cell_type": "markdown",
   "id": "a98d883e-5e39-4a64-bde7-818d410f3ba7",
   "metadata": {
    "slideshow": {
     "slide_type": "slide"
    },
    "tags": []
   },
   "source": [
    "## A Grammar of Data\n",
    "\n",
    "Some of the key “verbs” provided by the Dplyr package are:\n",
    "\n",
    "-   `select`: return a subset of the columns of a data frame, using a\n",
    "    flexible notation.\n",
    "-   `filter`: extract a subset of rows from a data frame based on\n",
    "    logical conditions.\n",
    "-   `arrange`: reorder rows of a. data frame.\n",
    "-   `rename`: rename variables in a data frame.\n",
    "-   `mutate`: add new variables/columns or transform existing variables.\n",
    "-   `summarise` / `summarize`: generate summary statistics of different\n",
    "    variables in the data frame, possibly within strata.\n",
    "\n",
    "`%>%`: the pipe operator is used to connect multiple verb actions\n",
    "    together into a pipeline."
   ]
  },
  {
   "cell_type": "markdown",
   "id": "1c049fce-0ba2-4b01-acd1-a5eb81dffba0",
   "metadata": {
    "jp-MarkdownHeadingCollapsed": true,
    "slideshow": {
     "slide_type": "slide"
    },
    "tags": []
   },
   "source": [
    "## Common Function Properties\n",
    "\n",
    "All Dplyr functions have some common characteristics:\n",
    "\n",
    "1.  The **first argument** is a **data frame** (or **tibble**).\n",
    "2.  The succeeding arguments describe **what to do with the data frame**\n",
    "    specified in the first argument. \n",
    "3.  The **return** result of a function is **a new data frame**.\n",
    "\n",
    "In addition, Dplyr expects data frames to be be **properly structured** as tidy data."
   ]
  },
  {
   "cell_type": "markdown",
   "id": "7b8c33a3-91e9-4fc5-a40c-20ea1213876a",
   "metadata": {
    "slideshow": {
     "slide_type": "slide"
    },
    "tags": []
   },
   "source": [
    "## Installing Dplyr\n",
    "\n",
    "You can install Dplyr directly or as part of Tidyverse, which we installed in the previous notebook."
   ]
  },
  {
   "cell_type": "code",
   "execution_count": 1,
   "id": "a7c45fa8-599c-432b-9aa0-096821a84ba8",
   "metadata": {
    "tags": []
   },
   "outputs": [],
   "source": [
    "# install.packages(\"dplyr\")"
   ]
  },
  {
   "cell_type": "markdown",
   "id": "760c72fa-9b88-44b1-a217-c890441e655c",
   "metadata": {
    "slideshow": {
     "slide_type": "fragment"
    },
    "tags": []
   },
   "source": [
    "Once the package is installed, you may load it into your R session by calling the `library()` function."
   ]
  },
  {
   "cell_type": "code",
   "execution_count": 2,
   "id": "95f58652-3054-4712-91f8-be872410c4c3",
   "metadata": {
    "tags": []
   },
   "outputs": [],
   "source": [
    "# library(dplyr)"
   ]
  },
  {
   "cell_type": "markdown",
   "id": "cb18c2b4-2fff-42e2-bf94-347dc32f0d72",
   "metadata": {
    "slideshow": {
     "slide_type": "fragment"
    },
    "tags": []
   },
   "source": [
    "Of course, you can also just install `tidyverse` if you plan to visualize your results.\n",
    "\n",
    "Since we did this in our previous notebook, we can import it now."
   ]
  },
  {
   "cell_type": "code",
   "execution_count": 3,
   "id": "449b6987-8d3a-41b2-ab56-f834dd10bb4a",
   "metadata": {
    "tags": []
   },
   "outputs": [
    {
     "name": "stderr",
     "output_type": "stream",
     "text": [
      "── \u001b[1mAttaching core tidyverse packages\u001b[22m ──────────────────────── tidyverse 2.0.0 ──\n",
      "\u001b[32m✔\u001b[39m \u001b[34mdplyr    \u001b[39m 1.1.3     \u001b[32m✔\u001b[39m \u001b[34mreadr    \u001b[39m 2.1.4\n",
      "\u001b[32m✔\u001b[39m \u001b[34mforcats  \u001b[39m 1.0.0     \u001b[32m✔\u001b[39m \u001b[34mstringr  \u001b[39m 1.5.0\n",
      "\u001b[32m✔\u001b[39m \u001b[34mggplot2  \u001b[39m 3.4.4     \u001b[32m✔\u001b[39m \u001b[34mtibble   \u001b[39m 3.2.1\n",
      "\u001b[32m✔\u001b[39m \u001b[34mlubridate\u001b[39m 1.9.3     \u001b[32m✔\u001b[39m \u001b[34mtidyr    \u001b[39m 1.3.0\n",
      "\u001b[32m✔\u001b[39m \u001b[34mpurrr    \u001b[39m 1.0.2     \n",
      "── \u001b[1mConflicts\u001b[22m ────────────────────────────────────────── tidyverse_conflicts() ──\n",
      "\u001b[31m✖\u001b[39m \u001b[34mdplyr\u001b[39m::\u001b[32mfilter()\u001b[39m masks \u001b[34mstats\u001b[39m::filter()\n",
      "\u001b[31m✖\u001b[39m \u001b[34mdplyr\u001b[39m::\u001b[32mlag()\u001b[39m    masks \u001b[34mstats\u001b[39m::lag()\n",
      "\u001b[36mℹ\u001b[39m Use the conflicted package (\u001b[3m\u001b[34m<http://conflicted.r-lib.org/>\u001b[39m\u001b[23m) to force all conflicts to become errors\n"
     ]
    }
   ],
   "source": [
    "library(tidyverse)"
   ]
  },
  {
   "cell_type": "markdown",
   "id": "f40ece2f-4f40-4365-8742-2b311daf619f",
   "metadata": {
    "slideshow": {
     "slide_type": "fragment"
    },
    "tags": []
   },
   "source": [
    "You may get some warnings when the package is loaded because there are\n",
    "functions in the `dplyr` package that have the same name as functions in\n",
    "other packages. For now you can ignore the warnings."
   ]
  },
  {
   "cell_type": "markdown",
   "id": "fa546dca-18e8-421e-ad84-c303ad07189c",
   "metadata": {
    "slideshow": {
     "slide_type": "slide"
    },
    "tags": []
   },
   "source": [
    "## Getting a dataset\n",
    "\n",
    "Let’s use a dataset containing air pollution and temperature data for\n",
    "the [city of\n",
    "Chicago](http://www.biostat.jhsph.edu/~rpeng/leanpub/rprog/chicago_data.zip)\n",
    "in the U.S.\n",
    "\n",
    "You will find the data in the directory for this module.\n",
    "\n",
    "We load the data into R using the `readRDS()` function and then convert it to a tibble."
   ]
  },
  {
   "cell_type": "code",
   "execution_count": 4,
   "id": "71ba5671-ba70-4e76-ac72-569acf32d804",
   "metadata": {
    "tags": []
   },
   "outputs": [],
   "source": [
    "chicago <- readRDS(\"chicago.rds\") %>% as_tibble()"
   ]
  },
  {
   "cell_type": "markdown",
   "id": "1ac046ba-6ec9-4c6e-8d86-fac07f2e5084",
   "metadata": {
    "slideshow": {
     "slide_type": "fragment"
    },
    "tags": []
   },
   "source": [
    "We can see some basic characteristics of the dataset with the `print()` function."
   ]
  },
  {
   "cell_type": "code",
   "execution_count": 5,
   "id": "9ecb8993-4d2c-4833-95ff-abd93647a302",
   "metadata": {
    "tags": []
   },
   "outputs": [
    {
     "name": "stdout",
     "output_type": "stream",
     "text": [
      "\u001b[90m# A tibble: 6,940 × 8\u001b[39m\n",
      "   city   tmpd  dptp date       pm25tmean2 pm10tmean2 o3tmean2 no2tmean2\n",
      "   \u001b[3m\u001b[90m<chr>\u001b[39m\u001b[23m \u001b[3m\u001b[90m<dbl>\u001b[39m\u001b[23m \u001b[3m\u001b[90m<dbl>\u001b[39m\u001b[23m \u001b[3m\u001b[90m<date>\u001b[39m\u001b[23m          \u001b[3m\u001b[90m<dbl>\u001b[39m\u001b[23m      \u001b[3m\u001b[90m<dbl>\u001b[39m\u001b[23m    \u001b[3m\u001b[90m<dbl>\u001b[39m\u001b[23m     \u001b[3m\u001b[90m<dbl>\u001b[39m\u001b[23m\n",
      "\u001b[90m 1\u001b[39m chic   31.5  31.5 1987-01-01         \u001b[31mNA\u001b[39m       34       4.25      20.0\n",
      "\u001b[90m 2\u001b[39m chic   33    29.9 1987-01-02         \u001b[31mNA\u001b[39m       \u001b[31mNA\u001b[39m       3.30      23.2\n",
      "\u001b[90m 3\u001b[39m chic   33    27.4 1987-01-03         \u001b[31mNA\u001b[39m       34.2     3.33      23.8\n",
      "\u001b[90m 4\u001b[39m chic   29    28.6 1987-01-04         \u001b[31mNA\u001b[39m       47       4.38      30.4\n",
      "\u001b[90m 5\u001b[39m chic   32    28.9 1987-01-05         \u001b[31mNA\u001b[39m       \u001b[31mNA\u001b[39m       4.75      30.3\n",
      "\u001b[90m 6\u001b[39m chic   40    35.1 1987-01-06         \u001b[31mNA\u001b[39m       48       5.83      25.8\n",
      "\u001b[90m 7\u001b[39m chic   34.5  26.8 1987-01-07         \u001b[31mNA\u001b[39m       41       9.29      20.6\n",
      "\u001b[90m 8\u001b[39m chic   29    22   1987-01-08         \u001b[31mNA\u001b[39m       36      11.3       17.0\n",
      "\u001b[90m 9\u001b[39m chic   26.5  29   1987-01-09         \u001b[31mNA\u001b[39m       33.3     4.5       23.4\n",
      "\u001b[90m10\u001b[39m chic   32.5  27.8 1987-01-10         \u001b[31mNA\u001b[39m       \u001b[31mNA\u001b[39m       4.96      19.5\n",
      "\u001b[90m# ℹ 6,930 more rows\u001b[39m\n"
     ]
    }
   ],
   "source": [
    "print(chicago)"
   ]
  },
  {
   "cell_type": "markdown",
   "id": "06c8131a-c25a-45f8-98d4-f73733adce08",
   "metadata": {
    "slideshow": {
     "slide_type": "slide"
    },
    "tags": []
   },
   "source": [
    "# Dplyr Functions in Depth\n",
    "\n",
    "Let's use this tibble to explore each of the Dplyr verbs in a little more depth."
   ]
  },
  {
   "cell_type": "markdown",
   "id": "c54e3ae9-6188-4d61-9adb-d3fbce79f159",
   "metadata": {
    "slideshow": {
     "slide_type": "slide"
    },
    "tags": []
   },
   "source": [
    "## `select()`\n",
    "\n",
    "We use the `select()` function to **select columns you want to focus\n",
    "on**.\n",
    "\n",
    "For example, we can inspect the `tmpd` column like so:"
   ]
  },
  {
   "cell_type": "code",
   "execution_count": 6,
   "id": "eb8771ba-2aca-40b9-a2aa-82f0b2ca95d5",
   "metadata": {
    "tags": []
   },
   "outputs": [
    {
     "data": {
      "text/html": [
       "<table class=\"dataframe\">\n",
       "<caption>A tibble: 6 × 1</caption>\n",
       "<thead>\n",
       "\t<tr><th scope=col>tmpd</th></tr>\n",
       "\t<tr><th scope=col>&lt;dbl&gt;</th></tr>\n",
       "</thead>\n",
       "<tbody>\n",
       "\t<tr><td>31.5</td></tr>\n",
       "\t<tr><td>33.0</td></tr>\n",
       "\t<tr><td>33.0</td></tr>\n",
       "\t<tr><td>29.0</td></tr>\n",
       "\t<tr><td>32.0</td></tr>\n",
       "\t<tr><td>40.0</td></tr>\n",
       "</tbody>\n",
       "</table>\n"
      ],
      "text/latex": [
       "A tibble: 6 × 1\n",
       "\\begin{tabular}{l}\n",
       " tmpd\\\\\n",
       " <dbl>\\\\\n",
       "\\hline\n",
       "\t 31.5\\\\\n",
       "\t 33.0\\\\\n",
       "\t 33.0\\\\\n",
       "\t 29.0\\\\\n",
       "\t 32.0\\\\\n",
       "\t 40.0\\\\\n",
       "\\end{tabular}\n"
      ],
      "text/markdown": [
       "\n",
       "A tibble: 6 × 1\n",
       "\n",
       "| tmpd &lt;dbl&gt; |\n",
       "|---|\n",
       "| 31.5 |\n",
       "| 33.0 |\n",
       "| 33.0 |\n",
       "| 29.0 |\n",
       "| 32.0 |\n",
       "| 40.0 |\n",
       "\n"
      ],
      "text/plain": [
       "  tmpd\n",
       "1 31.5\n",
       "2 33.0\n",
       "3 33.0\n",
       "4 29.0\n",
       "5 32.0\n",
       "6 40.0"
      ]
     },
     "metadata": {},
     "output_type": "display_data"
    }
   ],
   "source": [
    "chicago %>% select(tmpd) %>% head()"
   ]
  },
  {
   "cell_type": "markdown",
   "id": "2f67bafc-d9ef-4172-877b-3e664455a4a2",
   "metadata": {},
   "source": [
    "In base R, we would do this:"
   ]
  },
  {
   "cell_type": "code",
   "execution_count": 7,
   "id": "fc34192c-7a47-44ee-9646-3935a69ea3b3",
   "metadata": {
    "tags": []
   },
   "outputs": [
    {
     "data": {
      "text/html": [
       "<table class=\"dataframe\">\n",
       "<caption>A tibble: 6 × 1</caption>\n",
       "<thead>\n",
       "\t<tr><th scope=col>tmpd</th></tr>\n",
       "\t<tr><th scope=col>&lt;dbl&gt;</th></tr>\n",
       "</thead>\n",
       "<tbody>\n",
       "\t<tr><td>31.5</td></tr>\n",
       "\t<tr><td>33.0</td></tr>\n",
       "\t<tr><td>33.0</td></tr>\n",
       "\t<tr><td>29.0</td></tr>\n",
       "\t<tr><td>32.0</td></tr>\n",
       "\t<tr><td>40.0</td></tr>\n",
       "</tbody>\n",
       "</table>\n"
      ],
      "text/latex": [
       "A tibble: 6 × 1\n",
       "\\begin{tabular}{l}\n",
       " tmpd\\\\\n",
       " <dbl>\\\\\n",
       "\\hline\n",
       "\t 31.5\\\\\n",
       "\t 33.0\\\\\n",
       "\t 33.0\\\\\n",
       "\t 29.0\\\\\n",
       "\t 32.0\\\\\n",
       "\t 40.0\\\\\n",
       "\\end{tabular}\n"
      ],
      "text/markdown": [
       "\n",
       "A tibble: 6 × 1\n",
       "\n",
       "| tmpd &lt;dbl&gt; |\n",
       "|---|\n",
       "| 31.5 |\n",
       "| 33.0 |\n",
       "| 33.0 |\n",
       "| 29.0 |\n",
       "| 32.0 |\n",
       "| 40.0 |\n",
       "\n"
      ],
      "text/plain": [
       "  tmpd\n",
       "1 31.5\n",
       "2 33.0\n",
       "3 33.0\n",
       "4 29.0\n",
       "5 32.0\n",
       "6 40.0"
      ]
     },
     "metadata": {},
     "output_type": "display_data"
    }
   ],
   "source": [
    "head(chicago[\"tmpd\"])"
   ]
  },
  {
   "cell_type": "markdown",
   "id": "3619a9cc-c75d-4cba-9221-150588a8a569",
   "metadata": {
    "slideshow": {
     "slide_type": "slide"
    },
    "tags": []
   },
   "source": [
    "Now suppose we wanted to take the first $3$ columns only.\n",
    "\n",
    "We could use numerical indices in base R."
   ]
  },
  {
   "cell_type": "code",
   "execution_count": 36,
   "id": "858969fa-97bc-4d5b-9bab-06fad21886c4",
   "metadata": {
    "tags": []
   },
   "outputs": [
    {
     "data": {
      "text/html": [
       "<table class=\"dataframe\">\n",
       "<caption>A tibble: 6 × 3</caption>\n",
       "<thead>\n",
       "\t<tr><th scope=col>city</th><th scope=col>tmpd</th><th scope=col>dewpoint</th></tr>\n",
       "\t<tr><th scope=col>&lt;chr&gt;</th><th scope=col>&lt;dbl&gt;</th><th scope=col>&lt;dbl&gt;</th></tr>\n",
       "</thead>\n",
       "<tbody>\n",
       "\t<tr><td>chic</td><td>31.5</td><td>31.500</td></tr>\n",
       "\t<tr><td>chic</td><td>33.0</td><td>29.875</td></tr>\n",
       "\t<tr><td>chic</td><td>33.0</td><td>27.375</td></tr>\n",
       "\t<tr><td>chic</td><td>29.0</td><td>28.625</td></tr>\n",
       "\t<tr><td>chic</td><td>32.0</td><td>28.875</td></tr>\n",
       "\t<tr><td>chic</td><td>40.0</td><td>35.125</td></tr>\n",
       "</tbody>\n",
       "</table>\n"
      ],
      "text/latex": [
       "A tibble: 6 × 3\n",
       "\\begin{tabular}{lll}\n",
       " city & tmpd & dewpoint\\\\\n",
       " <chr> & <dbl> & <dbl>\\\\\n",
       "\\hline\n",
       "\t chic & 31.5 & 31.500\\\\\n",
       "\t chic & 33.0 & 29.875\\\\\n",
       "\t chic & 33.0 & 27.375\\\\\n",
       "\t chic & 29.0 & 28.625\\\\\n",
       "\t chic & 32.0 & 28.875\\\\\n",
       "\t chic & 40.0 & 35.125\\\\\n",
       "\\end{tabular}\n"
      ],
      "text/markdown": [
       "\n",
       "A tibble: 6 × 3\n",
       "\n",
       "| city &lt;chr&gt; | tmpd &lt;dbl&gt; | dewpoint &lt;dbl&gt; |\n",
       "|---|---|---|\n",
       "| chic | 31.5 | 31.500 |\n",
       "| chic | 33.0 | 29.875 |\n",
       "| chic | 33.0 | 27.375 |\n",
       "| chic | 29.0 | 28.625 |\n",
       "| chic | 32.0 | 28.875 |\n",
       "| chic | 40.0 | 35.125 |\n",
       "\n"
      ],
      "text/plain": [
       "  city tmpd dewpoint\n",
       "1 chic 31.5 31.500  \n",
       "2 chic 33.0 29.875  \n",
       "3 chic 33.0 27.375  \n",
       "4 chic 29.0 28.625  \n",
       "5 chic 32.0 28.875  \n",
       "6 chic 40.0 35.125  "
      ]
     },
     "metadata": {},
     "output_type": "display_data"
    }
   ],
   "source": [
    "head(chicago[1:3])"
   ]
  },
  {
   "cell_type": "markdown",
   "id": "1f155780-881f-4ca4-adb6-0eeb7e5b3d11",
   "metadata": {
    "slideshow": {
     "slide_type": "slide"
    },
    "tags": []
   },
   "source": [
    "In Dplr, we can use the names directly to create a column range slice:"
   ]
  },
  {
   "cell_type": "code",
   "execution_count": 9,
   "id": "c110327d-398b-4996-8186-e9d715f80906",
   "metadata": {
    "tags": []
   },
   "outputs": [
    {
     "data": {
      "text/html": [
       "<table class=\"dataframe\">\n",
       "<caption>A tibble: 6 × 3</caption>\n",
       "<thead>\n",
       "\t<tr><th scope=col>city</th><th scope=col>tmpd</th><th scope=col>dptp</th></tr>\n",
       "\t<tr><th scope=col>&lt;chr&gt;</th><th scope=col>&lt;dbl&gt;</th><th scope=col>&lt;dbl&gt;</th></tr>\n",
       "</thead>\n",
       "<tbody>\n",
       "\t<tr><td>chic</td><td>31.5</td><td>31.500</td></tr>\n",
       "\t<tr><td>chic</td><td>33.0</td><td>29.875</td></tr>\n",
       "\t<tr><td>chic</td><td>33.0</td><td>27.375</td></tr>\n",
       "\t<tr><td>chic</td><td>29.0</td><td>28.625</td></tr>\n",
       "\t<tr><td>chic</td><td>32.0</td><td>28.875</td></tr>\n",
       "\t<tr><td>chic</td><td>40.0</td><td>35.125</td></tr>\n",
       "</tbody>\n",
       "</table>\n"
      ],
      "text/latex": [
       "A tibble: 6 × 3\n",
       "\\begin{tabular}{lll}\n",
       " city & tmpd & dptp\\\\\n",
       " <chr> & <dbl> & <dbl>\\\\\n",
       "\\hline\n",
       "\t chic & 31.5 & 31.500\\\\\n",
       "\t chic & 33.0 & 29.875\\\\\n",
       "\t chic & 33.0 & 27.375\\\\\n",
       "\t chic & 29.0 & 28.625\\\\\n",
       "\t chic & 32.0 & 28.875\\\\\n",
       "\t chic & 40.0 & 35.125\\\\\n",
       "\\end{tabular}\n"
      ],
      "text/markdown": [
       "\n",
       "A tibble: 6 × 3\n",
       "\n",
       "| city &lt;chr&gt; | tmpd &lt;dbl&gt; | dptp &lt;dbl&gt; |\n",
       "|---|---|---|\n",
       "| chic | 31.5 | 31.500 |\n",
       "| chic | 33.0 | 29.875 |\n",
       "| chic | 33.0 | 27.375 |\n",
       "| chic | 29.0 | 28.625 |\n",
       "| chic | 32.0 | 28.875 |\n",
       "| chic | 40.0 | 35.125 |\n",
       "\n"
      ],
      "text/plain": [
       "  city tmpd dptp  \n",
       "1 chic 31.5 31.500\n",
       "2 chic 33.0 29.875\n",
       "3 chic 33.0 27.375\n",
       "4 chic 29.0 28.625\n",
       "5 chic 32.0 28.875\n",
       "6 chic 40.0 35.125"
      ]
     },
     "metadata": {},
     "output_type": "display_data"
    }
   ],
   "source": [
    "chicago %>%\n",
    "  select(city:dptp) %>%\n",
    "  head()"
   ]
  },
  {
   "cell_type": "markdown",
   "id": "6d2f62a8-e72f-4bc7-b226-920b108b4a7e",
   "metadata": {
    "slideshow": {
     "slide_type": "fragment"
    },
    "tags": []
   },
   "source": [
    "Note the use of `:` inside the `select()` — you can use it to specify a\n",
    "range of variable names."
   ]
  },
  {
   "cell_type": "markdown",
   "id": "bee9e156-74d2-4b36-a875-489dbf1b548c",
   "metadata": {
    "slideshow": {
     "slide_type": "slide"
    },
    "tags": []
   },
   "source": [
    "You can also *omit* variables using the `select()` function by using\n",
    "**the negative sign**.\n",
    "\n",
    "With `select()` you can do:"
   ]
  },
  {
   "cell_type": "code",
   "execution_count": 10,
   "id": "06303e1a-98ae-4a52-be41-4f77095e7226",
   "metadata": {
    "tags": []
   },
   "outputs": [
    {
     "data": {
      "text/html": [
       "<table class=\"dataframe\">\n",
       "<caption>A tibble: 6 × 5</caption>\n",
       "<thead>\n",
       "\t<tr><th scope=col>date</th><th scope=col>pm25tmean2</th><th scope=col>pm10tmean2</th><th scope=col>o3tmean2</th><th scope=col>no2tmean2</th></tr>\n",
       "\t<tr><th scope=col>&lt;date&gt;</th><th scope=col>&lt;dbl&gt;</th><th scope=col>&lt;dbl&gt;</th><th scope=col>&lt;dbl&gt;</th><th scope=col>&lt;dbl&gt;</th></tr>\n",
       "</thead>\n",
       "<tbody>\n",
       "\t<tr><td>1987-01-01</td><td>NA</td><td>34.00000</td><td>4.250000</td><td>19.98810</td></tr>\n",
       "\t<tr><td>1987-01-02</td><td>NA</td><td>      NA</td><td>3.304348</td><td>23.19099</td></tr>\n",
       "\t<tr><td>1987-01-03</td><td>NA</td><td>34.16667</td><td>3.333333</td><td>23.81548</td></tr>\n",
       "\t<tr><td>1987-01-04</td><td>NA</td><td>47.00000</td><td>4.375000</td><td>30.43452</td></tr>\n",
       "\t<tr><td>1987-01-05</td><td>NA</td><td>      NA</td><td>4.750000</td><td>30.33333</td></tr>\n",
       "\t<tr><td>1987-01-06</td><td>NA</td><td>48.00000</td><td>5.833333</td><td>25.77233</td></tr>\n",
       "</tbody>\n",
       "</table>\n"
      ],
      "text/latex": [
       "A tibble: 6 × 5\n",
       "\\begin{tabular}{lllll}\n",
       " date & pm25tmean2 & pm10tmean2 & o3tmean2 & no2tmean2\\\\\n",
       " <date> & <dbl> & <dbl> & <dbl> & <dbl>\\\\\n",
       "\\hline\n",
       "\t 1987-01-01 & NA & 34.00000 & 4.250000 & 19.98810\\\\\n",
       "\t 1987-01-02 & NA &       NA & 3.304348 & 23.19099\\\\\n",
       "\t 1987-01-03 & NA & 34.16667 & 3.333333 & 23.81548\\\\\n",
       "\t 1987-01-04 & NA & 47.00000 & 4.375000 & 30.43452\\\\\n",
       "\t 1987-01-05 & NA &       NA & 4.750000 & 30.33333\\\\\n",
       "\t 1987-01-06 & NA & 48.00000 & 5.833333 & 25.77233\\\\\n",
       "\\end{tabular}\n"
      ],
      "text/markdown": [
       "\n",
       "A tibble: 6 × 5\n",
       "\n",
       "| date &lt;date&gt; | pm25tmean2 &lt;dbl&gt; | pm10tmean2 &lt;dbl&gt; | o3tmean2 &lt;dbl&gt; | no2tmean2 &lt;dbl&gt; |\n",
       "|---|---|---|---|---|\n",
       "| 1987-01-01 | NA | 34.00000 | 4.250000 | 19.98810 |\n",
       "| 1987-01-02 | NA |       NA | 3.304348 | 23.19099 |\n",
       "| 1987-01-03 | NA | 34.16667 | 3.333333 | 23.81548 |\n",
       "| 1987-01-04 | NA | 47.00000 | 4.375000 | 30.43452 |\n",
       "| 1987-01-05 | NA |       NA | 4.750000 | 30.33333 |\n",
       "| 1987-01-06 | NA | 48.00000 | 5.833333 | 25.77233 |\n",
       "\n"
      ],
      "text/plain": [
       "  date       pm25tmean2 pm10tmean2 o3tmean2 no2tmean2\n",
       "1 1987-01-01 NA         34.00000   4.250000 19.98810 \n",
       "2 1987-01-02 NA               NA   3.304348 23.19099 \n",
       "3 1987-01-03 NA         34.16667   3.333333 23.81548 \n",
       "4 1987-01-04 NA         47.00000   4.375000 30.43452 \n",
       "5 1987-01-05 NA               NA   4.750000 30.33333 \n",
       "6 1987-01-06 NA         48.00000   5.833333 25.77233 "
      ]
     },
     "metadata": {},
     "output_type": "display_data"
    }
   ],
   "source": [
    "chicago %>%\n",
    "    select(-(city:dptp)) %>% \n",
    "    head()"
   ]
  },
  {
   "cell_type": "markdown",
   "id": "d6a9a76e-def5-41ea-a050-acf72d47a7ae",
   "metadata": {
    "slideshow": {
     "slide_type": "fragment"
    },
    "tags": []
   },
   "source": [
    "This indicates that we should include every variable *except* the\n",
    "variables `city` through `dptp`."
   ]
  },
  {
   "cell_type": "markdown",
   "id": "9509493c-b55b-4e36-a81b-e248bb20264e",
   "metadata": {
    "slideshow": {
     "slide_type": "slide"
    },
    "tags": []
   },
   "source": [
    "The `select()` function also allows a special syntax that allows you to\n",
    "specify **variable names based on patterns**.\n",
    "\n",
    "If you wanted to keep every variable that ends with a “2”, we could do this:"
   ]
  },
  {
   "cell_type": "code",
   "execution_count": 11,
   "id": "68b951a4-df02-4e85-ab63-7c90251ad425",
   "metadata": {
    "tags": []
   },
   "outputs": [
    {
     "data": {
      "text/html": [
       "<table class=\"dataframe\">\n",
       "<caption>A tibble: 6 × 4</caption>\n",
       "<thead>\n",
       "\t<tr><th scope=col>pm25tmean2</th><th scope=col>pm10tmean2</th><th scope=col>o3tmean2</th><th scope=col>no2tmean2</th></tr>\n",
       "\t<tr><th scope=col>&lt;dbl&gt;</th><th scope=col>&lt;dbl&gt;</th><th scope=col>&lt;dbl&gt;</th><th scope=col>&lt;dbl&gt;</th></tr>\n",
       "</thead>\n",
       "<tbody>\n",
       "\t<tr><td>NA</td><td>34.00000</td><td>4.250000</td><td>19.98810</td></tr>\n",
       "\t<tr><td>NA</td><td>      NA</td><td>3.304348</td><td>23.19099</td></tr>\n",
       "\t<tr><td>NA</td><td>34.16667</td><td>3.333333</td><td>23.81548</td></tr>\n",
       "\t<tr><td>NA</td><td>47.00000</td><td>4.375000</td><td>30.43452</td></tr>\n",
       "\t<tr><td>NA</td><td>      NA</td><td>4.750000</td><td>30.33333</td></tr>\n",
       "\t<tr><td>NA</td><td>48.00000</td><td>5.833333</td><td>25.77233</td></tr>\n",
       "</tbody>\n",
       "</table>\n"
      ],
      "text/latex": [
       "A tibble: 6 × 4\n",
       "\\begin{tabular}{llll}\n",
       " pm25tmean2 & pm10tmean2 & o3tmean2 & no2tmean2\\\\\n",
       " <dbl> & <dbl> & <dbl> & <dbl>\\\\\n",
       "\\hline\n",
       "\t NA & 34.00000 & 4.250000 & 19.98810\\\\\n",
       "\t NA &       NA & 3.304348 & 23.19099\\\\\n",
       "\t NA & 34.16667 & 3.333333 & 23.81548\\\\\n",
       "\t NA & 47.00000 & 4.375000 & 30.43452\\\\\n",
       "\t NA &       NA & 4.750000 & 30.33333\\\\\n",
       "\t NA & 48.00000 & 5.833333 & 25.77233\\\\\n",
       "\\end{tabular}\n"
      ],
      "text/markdown": [
       "\n",
       "A tibble: 6 × 4\n",
       "\n",
       "| pm25tmean2 &lt;dbl&gt; | pm10tmean2 &lt;dbl&gt; | o3tmean2 &lt;dbl&gt; | no2tmean2 &lt;dbl&gt; |\n",
       "|---|---|---|---|\n",
       "| NA | 34.00000 | 4.250000 | 19.98810 |\n",
       "| NA |       NA | 3.304348 | 23.19099 |\n",
       "| NA | 34.16667 | 3.333333 | 23.81548 |\n",
       "| NA | 47.00000 | 4.375000 | 30.43452 |\n",
       "| NA |       NA | 4.750000 | 30.33333 |\n",
       "| NA | 48.00000 | 5.833333 | 25.77233 |\n",
       "\n"
      ],
      "text/plain": [
       "  pm25tmean2 pm10tmean2 o3tmean2 no2tmean2\n",
       "1 NA         34.00000   4.250000 19.98810 \n",
       "2 NA               NA   3.304348 23.19099 \n",
       "3 NA         34.16667   3.333333 23.81548 \n",
       "4 NA         47.00000   4.375000 30.43452 \n",
       "5 NA               NA   4.750000 30.33333 \n",
       "6 NA         48.00000   5.833333 25.77233 "
      ]
     },
     "metadata": {},
     "output_type": "display_data"
    }
   ],
   "source": [
    "chicago %>%\n",
    "  select(ends_with(\"2\")) %>%\n",
    "  head()"
   ]
  },
  {
   "cell_type": "markdown",
   "id": "cb8f4fae-d33d-43b9-b7f9-0270c5e49d0b",
   "metadata": {
    "slideshow": {
     "slide_type": "slide"
    },
    "tags": []
   },
   "source": [
    "Or if we wanted to keep every variable that starts with a “d”, we could do this:"
   ]
  },
  {
   "cell_type": "code",
   "execution_count": 12,
   "id": "1068074f-1162-4214-bdde-23b644336363",
   "metadata": {
    "tags": []
   },
   "outputs": [
    {
     "data": {
      "text/html": [
       "<table class=\"dataframe\">\n",
       "<caption>A tibble: 6 × 2</caption>\n",
       "<thead>\n",
       "\t<tr><th scope=col>dptp</th><th scope=col>date</th></tr>\n",
       "\t<tr><th scope=col>&lt;dbl&gt;</th><th scope=col>&lt;date&gt;</th></tr>\n",
       "</thead>\n",
       "<tbody>\n",
       "\t<tr><td>31.500</td><td>1987-01-01</td></tr>\n",
       "\t<tr><td>29.875</td><td>1987-01-02</td></tr>\n",
       "\t<tr><td>27.375</td><td>1987-01-03</td></tr>\n",
       "\t<tr><td>28.625</td><td>1987-01-04</td></tr>\n",
       "\t<tr><td>28.875</td><td>1987-01-05</td></tr>\n",
       "\t<tr><td>35.125</td><td>1987-01-06</td></tr>\n",
       "</tbody>\n",
       "</table>\n"
      ],
      "text/latex": [
       "A tibble: 6 × 2\n",
       "\\begin{tabular}{ll}\n",
       " dptp & date\\\\\n",
       " <dbl> & <date>\\\\\n",
       "\\hline\n",
       "\t 31.500 & 1987-01-01\\\\\n",
       "\t 29.875 & 1987-01-02\\\\\n",
       "\t 27.375 & 1987-01-03\\\\\n",
       "\t 28.625 & 1987-01-04\\\\\n",
       "\t 28.875 & 1987-01-05\\\\\n",
       "\t 35.125 & 1987-01-06\\\\\n",
       "\\end{tabular}\n"
      ],
      "text/markdown": [
       "\n",
       "A tibble: 6 × 2\n",
       "\n",
       "| dptp &lt;dbl&gt; | date &lt;date&gt; |\n",
       "|---|---|\n",
       "| 31.500 | 1987-01-01 |\n",
       "| 29.875 | 1987-01-02 |\n",
       "| 27.375 | 1987-01-03 |\n",
       "| 28.625 | 1987-01-04 |\n",
       "| 28.875 | 1987-01-05 |\n",
       "| 35.125 | 1987-01-06 |\n",
       "\n"
      ],
      "text/plain": [
       "  dptp   date      \n",
       "1 31.500 1987-01-01\n",
       "2 29.875 1987-01-02\n",
       "3 27.375 1987-01-03\n",
       "4 28.625 1987-01-04\n",
       "5 28.875 1987-01-05\n",
       "6 35.125 1987-01-06"
      ]
     },
     "metadata": {},
     "output_type": "display_data"
    }
   ],
   "source": [
    "chicago %>%\n",
    "  select(starts_with(\"d\")) %>%\n",
    "  head()"
   ]
  },
  {
   "cell_type": "markdown",
   "id": "f9803bf5-76c9-4d6c-9f80-a65fe7c7a31e",
   "metadata": {
    "slideshow": {
     "slide_type": "fragment"
    },
    "tags": []
   },
   "source": [
    "This is super useful if you have a table with prefixes, such as `doc_`.\n",
    "\n",
    "You can also use more general **regular expressions** if necessary."
   ]
  },
  {
   "cell_type": "markdown",
   "id": "3cd510d4-8fdf-4411-9bf2-fda7a993b3c6",
   "metadata": {
    "slideshow": {
     "slide_type": "slide"
    },
    "tags": []
   },
   "source": [
    "## Aside: Helper Functions\n",
    "\n",
    "Note the use of the function `ends_with()` inside of the argument space for\n",
    "the function `select()` above.\n",
    "\n",
    "`ends_with()` is an example of a “helper function” — a function that\n",
    "helps make Dplyr functions more effective.\n",
    "\n",
    "There are many of these introduced by Dplyr. \n",
    "\n",
    "Here is a set of helper\n",
    "functions that can be especially useful with `select()`:\n",
    "\n",
    "| Helper Function | Description                                                    | Example                                        |\n",
    "|-------------------|-------------------------------|-----------------------|\n",
    "| `starts_with()` | Matches variable names that start with a given prefix          | `select(data, starts_with(\"X\"))`               |\n",
    "| `ends_with()`   | Matches variable names that end with a given suffix            | `select(data, ends_with(\"_2019\"))`             |\n",
    "| `contains()`    | Matches variable names that contain a given string             | `select(data, contains(\"income\"))`             |\n",
    "| `matches()`     | Matches variable names that match a given regular expression   | `select(data, matches(\"^X[1-3]$\"))`            |\n",
    "| `num_range()`   | Matches variable names that match a pattern of prefix + number | `select(data, num_range(\"X\", 1:3))`            |\n",
    "| `one_of()`      | Matches variable names that are in a given set of names        | `select(data, one_of(c(\"var1\", \"var2\")))`      |\n",
    "| `everything()`  | Matches all variable names (used to reorder variables)         | `select(data, starts_with(\"X\"), everything())` |"
   ]
  },
  {
   "cell_type": "markdown",
   "id": "742ca340-4c09-446f-8294-434572532a36",
   "metadata": {
    "slideshow": {
     "slide_type": "slide"
    },
    "tags": []
   },
   "source": [
    "## `filter()`\n",
    "\n",
    "The `filter()` function extracts **subsets of rows** from a data frame.\n",
    "\n",
    "Whereas `select()` is a **column-wise** operation, `filter()` is **row-wise**.\n",
    "\n",
    "This function is similar to the existing `subset()` function in R but is\n",
    "quite a bit faster."
   ]
  },
  {
   "cell_type": "markdown",
   "id": "cbe067b3-1da3-41be-9ff0-55b43c564a15",
   "metadata": {
    "slideshow": {
     "slide_type": "slide"
    },
    "tags": []
   },
   "source": [
    "Suppose we wanted to extract the rows of the `chicago` data frame where\n",
    "**the levels of PM2.5 are greater than 30** (which is a reasonably high\n",
    "level), we could do this:"
   ]
  },
  {
   "cell_type": "code",
   "execution_count": 16,
   "id": "07bd86c3-9c5e-421c-8463-a3e3eb39720b",
   "metadata": {
    "tags": []
   },
   "outputs": [
    {
     "data": {
      "text/html": [
       "<table class=\"dataframe\">\n",
       "<caption>A tibble: 6 × 8</caption>\n",
       "<thead>\n",
       "\t<tr><th scope=col>city</th><th scope=col>tmpd</th><th scope=col>dptp</th><th scope=col>date</th><th scope=col>pm25tmean2</th><th scope=col>pm10tmean2</th><th scope=col>o3tmean2</th><th scope=col>no2tmean2</th></tr>\n",
       "\t<tr><th scope=col>&lt;chr&gt;</th><th scope=col>&lt;dbl&gt;</th><th scope=col>&lt;dbl&gt;</th><th scope=col>&lt;date&gt;</th><th scope=col>&lt;dbl&gt;</th><th scope=col>&lt;dbl&gt;</th><th scope=col>&lt;dbl&gt;</th><th scope=col>&lt;dbl&gt;</th></tr>\n",
       "</thead>\n",
       "<tbody>\n",
       "\t<tr><td>chic</td><td>23</td><td>21.9</td><td>1998-01-17</td><td>38.10</td><td>32.46154</td><td> 3.180556</td><td>25.30000</td></tr>\n",
       "\t<tr><td>chic</td><td>28</td><td>25.8</td><td>1998-01-23</td><td>33.95</td><td>38.69231</td><td> 1.750000</td><td>29.37630</td></tr>\n",
       "\t<tr><td>chic</td><td>55</td><td>51.3</td><td>1998-04-30</td><td>39.40</td><td>34.00000</td><td>10.786232</td><td>25.31310</td></tr>\n",
       "\t<tr><td>chic</td><td>59</td><td>53.7</td><td>1998-05-01</td><td>35.40</td><td>28.50000</td><td>14.295125</td><td>31.42905</td></tr>\n",
       "\t<tr><td>chic</td><td>57</td><td>52.0</td><td>1998-05-02</td><td>33.30</td><td>35.00000</td><td>20.662879</td><td>26.79861</td></tr>\n",
       "\t<tr><td>chic</td><td>57</td><td>56.0</td><td>1998-05-07</td><td>32.10</td><td>34.50000</td><td>24.270422</td><td>33.99167</td></tr>\n",
       "</tbody>\n",
       "</table>\n"
      ],
      "text/latex": [
       "A tibble: 6 × 8\n",
       "\\begin{tabular}{llllllll}\n",
       " city & tmpd & dptp & date & pm25tmean2 & pm10tmean2 & o3tmean2 & no2tmean2\\\\\n",
       " <chr> & <dbl> & <dbl> & <date> & <dbl> & <dbl> & <dbl> & <dbl>\\\\\n",
       "\\hline\n",
       "\t chic & 23 & 21.9 & 1998-01-17 & 38.10 & 32.46154 &  3.180556 & 25.30000\\\\\n",
       "\t chic & 28 & 25.8 & 1998-01-23 & 33.95 & 38.69231 &  1.750000 & 29.37630\\\\\n",
       "\t chic & 55 & 51.3 & 1998-04-30 & 39.40 & 34.00000 & 10.786232 & 25.31310\\\\\n",
       "\t chic & 59 & 53.7 & 1998-05-01 & 35.40 & 28.50000 & 14.295125 & 31.42905\\\\\n",
       "\t chic & 57 & 52.0 & 1998-05-02 & 33.30 & 35.00000 & 20.662879 & 26.79861\\\\\n",
       "\t chic & 57 & 56.0 & 1998-05-07 & 32.10 & 34.50000 & 24.270422 & 33.99167\\\\\n",
       "\\end{tabular}\n"
      ],
      "text/markdown": [
       "\n",
       "A tibble: 6 × 8\n",
       "\n",
       "| city &lt;chr&gt; | tmpd &lt;dbl&gt; | dptp &lt;dbl&gt; | date &lt;date&gt; | pm25tmean2 &lt;dbl&gt; | pm10tmean2 &lt;dbl&gt; | o3tmean2 &lt;dbl&gt; | no2tmean2 &lt;dbl&gt; |\n",
       "|---|---|---|---|---|---|---|---|\n",
       "| chic | 23 | 21.9 | 1998-01-17 | 38.10 | 32.46154 |  3.180556 | 25.30000 |\n",
       "| chic | 28 | 25.8 | 1998-01-23 | 33.95 | 38.69231 |  1.750000 | 29.37630 |\n",
       "| chic | 55 | 51.3 | 1998-04-30 | 39.40 | 34.00000 | 10.786232 | 25.31310 |\n",
       "| chic | 59 | 53.7 | 1998-05-01 | 35.40 | 28.50000 | 14.295125 | 31.42905 |\n",
       "| chic | 57 | 52.0 | 1998-05-02 | 33.30 | 35.00000 | 20.662879 | 26.79861 |\n",
       "| chic | 57 | 56.0 | 1998-05-07 | 32.10 | 34.50000 | 24.270422 | 33.99167 |\n",
       "\n"
      ],
      "text/plain": [
       "  city tmpd dptp date       pm25tmean2 pm10tmean2 o3tmean2  no2tmean2\n",
       "1 chic 23   21.9 1998-01-17 38.10      32.46154    3.180556 25.30000 \n",
       "2 chic 28   25.8 1998-01-23 33.95      38.69231    1.750000 29.37630 \n",
       "3 chic 55   51.3 1998-04-30 39.40      34.00000   10.786232 25.31310 \n",
       "4 chic 59   53.7 1998-05-01 35.40      28.50000   14.295125 31.42905 \n",
       "5 chic 57   52.0 1998-05-02 33.30      35.00000   20.662879 26.79861 \n",
       "6 chic 57   56.0 1998-05-07 32.10      34.50000   24.270422 33.99167 "
      ]
     },
     "metadata": {},
     "output_type": "display_data"
    }
   ],
   "source": [
    "chicago %>%\n",
    "  filter(pm25tmean2 > 30) %>%\n",
    "  head()"
   ]
  },
  {
   "cell_type": "markdown",
   "id": "9afd4bd5-0a20-4db4-9675-24ea5cacd89b",
   "metadata": {
    "slideshow": {
     "slide_type": "slide"
    },
    "tags": []
   },
   "source": [
    "Compare this to base R:"
   ]
  },
  {
   "cell_type": "code",
   "execution_count": 17,
   "id": "4ee2b831-8e69-491c-8e2a-a888d6b8029f",
   "metadata": {
    "tags": []
   },
   "outputs": [
    {
     "data": {
      "text/html": [
       "<table class=\"dataframe\">\n",
       "<caption>A tibble: 6 × 8</caption>\n",
       "<thead>\n",
       "\t<tr><th scope=col>city</th><th scope=col>tmpd</th><th scope=col>dptp</th><th scope=col>date</th><th scope=col>pm25tmean2</th><th scope=col>pm10tmean2</th><th scope=col>o3tmean2</th><th scope=col>no2tmean2</th></tr>\n",
       "\t<tr><th scope=col>&lt;chr&gt;</th><th scope=col>&lt;dbl&gt;</th><th scope=col>&lt;dbl&gt;</th><th scope=col>&lt;date&gt;</th><th scope=col>&lt;dbl&gt;</th><th scope=col>&lt;dbl&gt;</th><th scope=col>&lt;dbl&gt;</th><th scope=col>&lt;dbl&gt;</th></tr>\n",
       "</thead>\n",
       "<tbody>\n",
       "\t<tr><td>chic</td><td>23</td><td>21.9</td><td>1998-01-17</td><td>38.10</td><td>32.46154</td><td> 3.180556</td><td>25.30000</td></tr>\n",
       "\t<tr><td>chic</td><td>28</td><td>25.8</td><td>1998-01-23</td><td>33.95</td><td>38.69231</td><td> 1.750000</td><td>29.37630</td></tr>\n",
       "\t<tr><td>chic</td><td>55</td><td>51.3</td><td>1998-04-30</td><td>39.40</td><td>34.00000</td><td>10.786232</td><td>25.31310</td></tr>\n",
       "\t<tr><td>chic</td><td>59</td><td>53.7</td><td>1998-05-01</td><td>35.40</td><td>28.50000</td><td>14.295125</td><td>31.42905</td></tr>\n",
       "\t<tr><td>chic</td><td>57</td><td>52.0</td><td>1998-05-02</td><td>33.30</td><td>35.00000</td><td>20.662879</td><td>26.79861</td></tr>\n",
       "\t<tr><td>chic</td><td>57</td><td>56.0</td><td>1998-05-07</td><td>32.10</td><td>34.50000</td><td>24.270422</td><td>33.99167</td></tr>\n",
       "</tbody>\n",
       "</table>\n"
      ],
      "text/latex": [
       "A tibble: 6 × 8\n",
       "\\begin{tabular}{llllllll}\n",
       " city & tmpd & dptp & date & pm25tmean2 & pm10tmean2 & o3tmean2 & no2tmean2\\\\\n",
       " <chr> & <dbl> & <dbl> & <date> & <dbl> & <dbl> & <dbl> & <dbl>\\\\\n",
       "\\hline\n",
       "\t chic & 23 & 21.9 & 1998-01-17 & 38.10 & 32.46154 &  3.180556 & 25.30000\\\\\n",
       "\t chic & 28 & 25.8 & 1998-01-23 & 33.95 & 38.69231 &  1.750000 & 29.37630\\\\\n",
       "\t chic & 55 & 51.3 & 1998-04-30 & 39.40 & 34.00000 & 10.786232 & 25.31310\\\\\n",
       "\t chic & 59 & 53.7 & 1998-05-01 & 35.40 & 28.50000 & 14.295125 & 31.42905\\\\\n",
       "\t chic & 57 & 52.0 & 1998-05-02 & 33.30 & 35.00000 & 20.662879 & 26.79861\\\\\n",
       "\t chic & 57 & 56.0 & 1998-05-07 & 32.10 & 34.50000 & 24.270422 & 33.99167\\\\\n",
       "\\end{tabular}\n"
      ],
      "text/markdown": [
       "\n",
       "A tibble: 6 × 8\n",
       "\n",
       "| city &lt;chr&gt; | tmpd &lt;dbl&gt; | dptp &lt;dbl&gt; | date &lt;date&gt; | pm25tmean2 &lt;dbl&gt; | pm10tmean2 &lt;dbl&gt; | o3tmean2 &lt;dbl&gt; | no2tmean2 &lt;dbl&gt; |\n",
       "|---|---|---|---|---|---|---|---|\n",
       "| chic | 23 | 21.9 | 1998-01-17 | 38.10 | 32.46154 |  3.180556 | 25.30000 |\n",
       "| chic | 28 | 25.8 | 1998-01-23 | 33.95 | 38.69231 |  1.750000 | 29.37630 |\n",
       "| chic | 55 | 51.3 | 1998-04-30 | 39.40 | 34.00000 | 10.786232 | 25.31310 |\n",
       "| chic | 59 | 53.7 | 1998-05-01 | 35.40 | 28.50000 | 14.295125 | 31.42905 |\n",
       "| chic | 57 | 52.0 | 1998-05-02 | 33.30 | 35.00000 | 20.662879 | 26.79861 |\n",
       "| chic | 57 | 56.0 | 1998-05-07 | 32.10 | 34.50000 | 24.270422 | 33.99167 |\n",
       "\n"
      ],
      "text/plain": [
       "  city tmpd dptp date       pm25tmean2 pm10tmean2 o3tmean2  no2tmean2\n",
       "1 chic 23   21.9 1998-01-17 38.10      32.46154    3.180556 25.30000 \n",
       "2 chic 28   25.8 1998-01-23 33.95      38.69231    1.750000 29.37630 \n",
       "3 chic 55   51.3 1998-04-30 39.40      34.00000   10.786232 25.31310 \n",
       "4 chic 59   53.7 1998-05-01 35.40      28.50000   14.295125 31.42905 \n",
       "5 chic 57   52.0 1998-05-02 33.30      35.00000   20.662879 26.79861 \n",
       "6 chic 57   56.0 1998-05-07 32.10      34.50000   24.270422 33.99167 "
      ]
     },
     "metadata": {},
     "output_type": "display_data"
    }
   ],
   "source": [
    "head(na.omit(chicago[(chicago$pm25tmean2 > 30),]))"
   ]
  },
  {
   "cell_type": "markdown",
   "id": "94d67d58-e15a-41b0-ae9a-4a0e7d071745",
   "metadata": {},
   "source": [
    "Note that we have to filter out the `NA` values, which Dplyr does for you.\n",
    "\n",
    "Note also that column names in Dply do not need to be prefixed by the data frame name; they are called directly.\n",
    "\n",
    "For example, compare how the column `pm25tmean2` is accessed below:\n",
    "\n",
    "```r\n",
    "chicago %>% filter(pm25tmean2 > 30)\n",
    "```\n",
    "\n",
    "vs\n",
    "\n",
    "```r\n",
    "chicago[(chicago$pm25tmean2 > 30),]\n",
    "```"
   ]
  },
  {
   "cell_type": "markdown",
   "id": "34d32f31-404e-4cc9-b418-21bf799da580",
   "metadata": {
    "slideshow": {
     "slide_type": "slide"
    },
    "tags": []
   },
   "source": [
    "We can place an arbitrarily complex logical sequence inside of\n",
    "`filter()`.\n",
    "\n",
    "For example, we may extract the rows where PM2.5 is\n",
    "greater than $30$ *and* temperature is greater than $80$ degrees Fahrenheit."
   ]
  },
  {
   "cell_type": "code",
   "execution_count": 18,
   "id": "fca195ec-57e8-46c5-8dd6-1529dcca94e2",
   "metadata": {
    "tags": []
   },
   "outputs": [
    {
     "data": {
      "text/html": [
       "<table class=\"dataframe\">\n",
       "<caption>A tibble: 6 × 3</caption>\n",
       "<thead>\n",
       "\t<tr><th scope=col>date</th><th scope=col>tmpd</th><th scope=col>pm25tmean2</th></tr>\n",
       "\t<tr><th scope=col>&lt;date&gt;</th><th scope=col>&lt;dbl&gt;</th><th scope=col>&lt;dbl&gt;</th></tr>\n",
       "</thead>\n",
       "<tbody>\n",
       "\t<tr><td>1998-08-23</td><td>81</td><td>39.6000</td></tr>\n",
       "\t<tr><td>1998-09-06</td><td>81</td><td>31.5000</td></tr>\n",
       "\t<tr><td>2001-07-20</td><td>82</td><td>32.3000</td></tr>\n",
       "\t<tr><td>2001-08-01</td><td>84</td><td>43.7000</td></tr>\n",
       "\t<tr><td>2001-08-08</td><td>85</td><td>38.8375</td></tr>\n",
       "\t<tr><td>2001-08-09</td><td>84</td><td>38.2000</td></tr>\n",
       "</tbody>\n",
       "</table>\n"
      ],
      "text/latex": [
       "A tibble: 6 × 3\n",
       "\\begin{tabular}{lll}\n",
       " date & tmpd & pm25tmean2\\\\\n",
       " <date> & <dbl> & <dbl>\\\\\n",
       "\\hline\n",
       "\t 1998-08-23 & 81 & 39.6000\\\\\n",
       "\t 1998-09-06 & 81 & 31.5000\\\\\n",
       "\t 2001-07-20 & 82 & 32.3000\\\\\n",
       "\t 2001-08-01 & 84 & 43.7000\\\\\n",
       "\t 2001-08-08 & 85 & 38.8375\\\\\n",
       "\t 2001-08-09 & 84 & 38.2000\\\\\n",
       "\\end{tabular}\n"
      ],
      "text/markdown": [
       "\n",
       "A tibble: 6 × 3\n",
       "\n",
       "| date &lt;date&gt; | tmpd &lt;dbl&gt; | pm25tmean2 &lt;dbl&gt; |\n",
       "|---|---|---|\n",
       "| 1998-08-23 | 81 | 39.6000 |\n",
       "| 1998-09-06 | 81 | 31.5000 |\n",
       "| 2001-07-20 | 82 | 32.3000 |\n",
       "| 2001-08-01 | 84 | 43.7000 |\n",
       "| 2001-08-08 | 85 | 38.8375 |\n",
       "| 2001-08-09 | 84 | 38.2000 |\n",
       "\n"
      ],
      "text/plain": [
       "  date       tmpd pm25tmean2\n",
       "1 1998-08-23 81   39.6000   \n",
       "2 1998-09-06 81   31.5000   \n",
       "3 2001-07-20 82   32.3000   \n",
       "4 2001-08-01 84   43.7000   \n",
       "5 2001-08-08 85   38.8375   \n",
       "6 2001-08-09 84   38.2000   "
      ]
     },
     "metadata": {},
     "output_type": "display_data"
    }
   ],
   "source": [
    "chicago %>%\n",
    "    filter(pm25tmean2 > 30 & tmpd > 80) %>%\n",
    "    select(date, tmpd, pm25tmean2) %>%\n",
    "    head()"
   ]
  },
  {
   "cell_type": "markdown",
   "id": "a9a59f9e-be94-42c1-b4fa-db2cc76f314d",
   "metadata": {
    "slideshow": {
     "slide_type": "slide"
    },
    "tags": []
   },
   "source": [
    "Here’s a table of helper functions specifically associated with\n",
    "`filter()`:\n",
    "\n",
    "| **Helper Function**  | **Description**                                                                                | **Example**                                          |\n",
    "|-------------------|---------------------------------|--------------------|\n",
    "| `between()`          | Check if a value lies between two other values.                                                | `filter(data, between(age, 18, 30))`                 |\n",
    "| `near()`             | Check for near equality (useful for floating-point numbers).                                   | `filter(data, near(price, 19.99, tolerance = 0.01))` |\n",
    "| `isin()` (or `%in%`) | Check if a value is in a set of values.                                                        | `filter(data, region %in% c(\"East\", \"West\"))`        |\n",
    "| `all_of()`           | Check for all of the variables, even if some don’t exist. Useful with character vectors.       | `filter(data, all_of(variables))`                    |\n",
    "| `any_of()`           | Check for any of the variables. Useful with character vectors.                                 | `filter(data, any_of(variables))`                    |\n",
    "| `cur_group_id()`     | Identify the current group inside `group_by()`. Useful for more complex filtering with groups. | `filter(data, cur_group_id() == 1)`                  |"
   ]
  },
  {
   "cell_type": "markdown",
   "id": "42bd9d22-f56d-4a6f-85c2-9d5eba049aab",
   "metadata": {
    "slideshow": {
     "slide_type": "slide"
    },
    "tags": []
   },
   "source": [
    "## `arrange()`\n",
    "\n",
    "We use `arrange()` to **reorder rows** of a data frame according to one or\n",
    "more of the **columns**. \n",
    "\n",
    "This normally called **sorting**.\n",
    "\n",
    "Reordering rows of a data frame (while preserving corresponding order of\n",
    "other columns) is normally a pain to do in R.\n",
    "\n",
    "The `arrange()` function simplifies the process quite a bit."
   ]
  },
  {
   "cell_type": "markdown",
   "id": "50376247-24f7-485d-960a-3ee4ffda827e",
   "metadata": {
    "slideshow": {
     "slide_type": "slide"
    },
    "tags": []
   },
   "source": [
    "Here we order the rows of the data frame by date in ascending order:"
   ]
  },
  {
   "cell_type": "code",
   "execution_count": 19,
   "id": "9d7938a9-c5f8-49d8-8699-c2c156afddb4",
   "metadata": {
    "tags": []
   },
   "outputs": [
    {
     "data": {
      "text/html": [
       "<table class=\"dataframe\">\n",
       "<caption>A tibble: 6 × 8</caption>\n",
       "<thead>\n",
       "\t<tr><th scope=col>city</th><th scope=col>tmpd</th><th scope=col>dptp</th><th scope=col>date</th><th scope=col>pm25tmean2</th><th scope=col>pm10tmean2</th><th scope=col>o3tmean2</th><th scope=col>no2tmean2</th></tr>\n",
       "\t<tr><th scope=col>&lt;chr&gt;</th><th scope=col>&lt;dbl&gt;</th><th scope=col>&lt;dbl&gt;</th><th scope=col>&lt;date&gt;</th><th scope=col>&lt;dbl&gt;</th><th scope=col>&lt;dbl&gt;</th><th scope=col>&lt;dbl&gt;</th><th scope=col>&lt;dbl&gt;</th></tr>\n",
       "</thead>\n",
       "<tbody>\n",
       "\t<tr><td>chic</td><td>31.5</td><td>31.500</td><td>1987-01-01</td><td>NA</td><td>34.00000</td><td>4.250000</td><td>19.98810</td></tr>\n",
       "\t<tr><td>chic</td><td>33.0</td><td>29.875</td><td>1987-01-02</td><td>NA</td><td>      NA</td><td>3.304348</td><td>23.19099</td></tr>\n",
       "\t<tr><td>chic</td><td>33.0</td><td>27.375</td><td>1987-01-03</td><td>NA</td><td>34.16667</td><td>3.333333</td><td>23.81548</td></tr>\n",
       "\t<tr><td>chic</td><td>29.0</td><td>28.625</td><td>1987-01-04</td><td>NA</td><td>47.00000</td><td>4.375000</td><td>30.43452</td></tr>\n",
       "\t<tr><td>chic</td><td>32.0</td><td>28.875</td><td>1987-01-05</td><td>NA</td><td>      NA</td><td>4.750000</td><td>30.33333</td></tr>\n",
       "\t<tr><td>chic</td><td>40.0</td><td>35.125</td><td>1987-01-06</td><td>NA</td><td>48.00000</td><td>5.833333</td><td>25.77233</td></tr>\n",
       "</tbody>\n",
       "</table>\n"
      ],
      "text/latex": [
       "A tibble: 6 × 8\n",
       "\\begin{tabular}{llllllll}\n",
       " city & tmpd & dptp & date & pm25tmean2 & pm10tmean2 & o3tmean2 & no2tmean2\\\\\n",
       " <chr> & <dbl> & <dbl> & <date> & <dbl> & <dbl> & <dbl> & <dbl>\\\\\n",
       "\\hline\n",
       "\t chic & 31.5 & 31.500 & 1987-01-01 & NA & 34.00000 & 4.250000 & 19.98810\\\\\n",
       "\t chic & 33.0 & 29.875 & 1987-01-02 & NA &       NA & 3.304348 & 23.19099\\\\\n",
       "\t chic & 33.0 & 27.375 & 1987-01-03 & NA & 34.16667 & 3.333333 & 23.81548\\\\\n",
       "\t chic & 29.0 & 28.625 & 1987-01-04 & NA & 47.00000 & 4.375000 & 30.43452\\\\\n",
       "\t chic & 32.0 & 28.875 & 1987-01-05 & NA &       NA & 4.750000 & 30.33333\\\\\n",
       "\t chic & 40.0 & 35.125 & 1987-01-06 & NA & 48.00000 & 5.833333 & 25.77233\\\\\n",
       "\\end{tabular}\n"
      ],
      "text/markdown": [
       "\n",
       "A tibble: 6 × 8\n",
       "\n",
       "| city &lt;chr&gt; | tmpd &lt;dbl&gt; | dptp &lt;dbl&gt; | date &lt;date&gt; | pm25tmean2 &lt;dbl&gt; | pm10tmean2 &lt;dbl&gt; | o3tmean2 &lt;dbl&gt; | no2tmean2 &lt;dbl&gt; |\n",
       "|---|---|---|---|---|---|---|---|\n",
       "| chic | 31.5 | 31.500 | 1987-01-01 | NA | 34.00000 | 4.250000 | 19.98810 |\n",
       "| chic | 33.0 | 29.875 | 1987-01-02 | NA |       NA | 3.304348 | 23.19099 |\n",
       "| chic | 33.0 | 27.375 | 1987-01-03 | NA | 34.16667 | 3.333333 | 23.81548 |\n",
       "| chic | 29.0 | 28.625 | 1987-01-04 | NA | 47.00000 | 4.375000 | 30.43452 |\n",
       "| chic | 32.0 | 28.875 | 1987-01-05 | NA |       NA | 4.750000 | 30.33333 |\n",
       "| chic | 40.0 | 35.125 | 1987-01-06 | NA | 48.00000 | 5.833333 | 25.77233 |\n",
       "\n"
      ],
      "text/plain": [
       "  city tmpd dptp   date       pm25tmean2 pm10tmean2 o3tmean2 no2tmean2\n",
       "1 chic 31.5 31.500 1987-01-01 NA         34.00000   4.250000 19.98810 \n",
       "2 chic 33.0 29.875 1987-01-02 NA               NA   3.304348 23.19099 \n",
       "3 chic 33.0 27.375 1987-01-03 NA         34.16667   3.333333 23.81548 \n",
       "4 chic 29.0 28.625 1987-01-04 NA         47.00000   4.375000 30.43452 \n",
       "5 chic 32.0 28.875 1987-01-05 NA               NA   4.750000 30.33333 \n",
       "6 chic 40.0 35.125 1987-01-06 NA         48.00000   5.833333 25.77233 "
      ]
     },
     "metadata": {},
     "output_type": "display_data"
    }
   ],
   "source": [
    "chicago_by_date <- chicago %>%\n",
    "    arrange(date)\n",
    "\n",
    "chicago_by_date %>% head()"
   ]
  },
  {
   "cell_type": "markdown",
   "id": "f2404156-2a63-4c9d-adf3-7cb93bd09618",
   "metadata": {
    "slideshow": {
     "slide_type": "slide"
    },
    "tags": []
   },
   "source": [
    "We can now check the first few rows"
   ]
  },
  {
   "cell_type": "code",
   "execution_count": 20,
   "id": "b3f4e3a6-6be0-49d2-ba03-9fcfc72254c4",
   "metadata": {
    "tags": []
   },
   "outputs": [
    {
     "data": {
      "text/html": [
       "<table class=\"dataframe\">\n",
       "<caption>A tibble: 3 × 2</caption>\n",
       "<thead>\n",
       "\t<tr><th scope=col>date</th><th scope=col>pm25tmean2</th></tr>\n",
       "\t<tr><th scope=col>&lt;date&gt;</th><th scope=col>&lt;dbl&gt;</th></tr>\n",
       "</thead>\n",
       "<tbody>\n",
       "\t<tr><td>1987-01-01</td><td>NA</td></tr>\n",
       "\t<tr><td>1987-01-02</td><td>NA</td></tr>\n",
       "\t<tr><td>1987-01-03</td><td>NA</td></tr>\n",
       "</tbody>\n",
       "</table>\n"
      ],
      "text/latex": [
       "A tibble: 3 × 2\n",
       "\\begin{tabular}{ll}\n",
       " date & pm25tmean2\\\\\n",
       " <date> & <dbl>\\\\\n",
       "\\hline\n",
       "\t 1987-01-01 & NA\\\\\n",
       "\t 1987-01-02 & NA\\\\\n",
       "\t 1987-01-03 & NA\\\\\n",
       "\\end{tabular}\n"
      ],
      "text/markdown": [
       "\n",
       "A tibble: 3 × 2\n",
       "\n",
       "| date &lt;date&gt; | pm25tmean2 &lt;dbl&gt; |\n",
       "|---|---|\n",
       "| 1987-01-01 | NA |\n",
       "| 1987-01-02 | NA |\n",
       "| 1987-01-03 | NA |\n",
       "\n"
      ],
      "text/plain": [
       "  date       pm25tmean2\n",
       "1 1987-01-01 NA        \n",
       "2 1987-01-02 NA        \n",
       "3 1987-01-03 NA        "
      ]
     },
     "metadata": {},
     "output_type": "display_data"
    }
   ],
   "source": [
    "chicago_by_date %>%\n",
    "  select(date, pm25tmean2) %>%\n",
    "  head(3)"
   ]
  },
  {
   "cell_type": "markdown",
   "id": "73fc0b38-b3b5-4446-9fdb-baeedbdb5e0c",
   "metadata": {
    "slideshow": {
     "slide_type": "fragment"
    },
    "tags": []
   },
   "source": [
    "and the last few rows."
   ]
  },
  {
   "cell_type": "code",
   "execution_count": 21,
   "id": "34cdea90-60c0-43be-acf6-c17af8ef9751",
   "metadata": {
    "tags": []
   },
   "outputs": [
    {
     "data": {
      "text/html": [
       "<table class=\"dataframe\">\n",
       "<caption>A tibble: 3 × 2</caption>\n",
       "<thead>\n",
       "\t<tr><th scope=col>date</th><th scope=col>pm25tmean2</th></tr>\n",
       "\t<tr><th scope=col>&lt;date&gt;</th><th scope=col>&lt;dbl&gt;</th></tr>\n",
       "</thead>\n",
       "<tbody>\n",
       "\t<tr><td>2005-12-29</td><td> 7.45000</td></tr>\n",
       "\t<tr><td>2005-12-30</td><td>15.05714</td></tr>\n",
       "\t<tr><td>2005-12-31</td><td>15.00000</td></tr>\n",
       "</tbody>\n",
       "</table>\n"
      ],
      "text/latex": [
       "A tibble: 3 × 2\n",
       "\\begin{tabular}{ll}\n",
       " date & pm25tmean2\\\\\n",
       " <date> & <dbl>\\\\\n",
       "\\hline\n",
       "\t 2005-12-29 &  7.45000\\\\\n",
       "\t 2005-12-30 & 15.05714\\\\\n",
       "\t 2005-12-31 & 15.00000\\\\\n",
       "\\end{tabular}\n"
      ],
      "text/markdown": [
       "\n",
       "A tibble: 3 × 2\n",
       "\n",
       "| date &lt;date&gt; | pm25tmean2 &lt;dbl&gt; |\n",
       "|---|---|\n",
       "| 2005-12-29 |  7.45000 |\n",
       "| 2005-12-30 | 15.05714 |\n",
       "| 2005-12-31 | 15.00000 |\n",
       "\n"
      ],
      "text/plain": [
       "  date       pm25tmean2\n",
       "1 2005-12-29  7.45000  \n",
       "2 2005-12-30 15.05714  \n",
       "3 2005-12-31 15.00000  "
      ]
     },
     "metadata": {},
     "output_type": "display_data"
    }
   ],
   "source": [
    "chicago_by_date %>%\n",
    "  select(date, pm25tmean2) %>%\n",
    "  tail(3)"
   ]
  },
  {
   "cell_type": "markdown",
   "id": "b53154d7-e73e-402d-a420-59431119dcbb",
   "metadata": {
    "slideshow": {
     "slide_type": "slide"
    },
    "tags": []
   },
   "source": [
    "Columns can be arranged in descending order too by using the `desc()` helper function."
   ]
  },
  {
   "cell_type": "code",
   "execution_count": 22,
   "id": "a4aa12e7-3fc1-4d36-bbb7-40d6c6664884",
   "metadata": {
    "tags": []
   },
   "outputs": [
    {
     "data": {
      "text/html": [
       "<table class=\"dataframe\">\n",
       "<caption>A tibble: 6 × 8</caption>\n",
       "<thead>\n",
       "\t<tr><th scope=col>city</th><th scope=col>tmpd</th><th scope=col>dptp</th><th scope=col>date</th><th scope=col>pm25tmean2</th><th scope=col>pm10tmean2</th><th scope=col>o3tmean2</th><th scope=col>no2tmean2</th></tr>\n",
       "\t<tr><th scope=col>&lt;chr&gt;</th><th scope=col>&lt;dbl&gt;</th><th scope=col>&lt;dbl&gt;</th><th scope=col>&lt;date&gt;</th><th scope=col>&lt;dbl&gt;</th><th scope=col>&lt;dbl&gt;</th><th scope=col>&lt;dbl&gt;</th><th scope=col>&lt;dbl&gt;</th></tr>\n",
       "</thead>\n",
       "<tbody>\n",
       "\t<tr><td>chic</td><td>35</td><td>30.1</td><td>2005-12-31</td><td>15.00000</td><td>23.5</td><td> 2.531250</td><td>13.25000</td></tr>\n",
       "\t<tr><td>chic</td><td>36</td><td>31.0</td><td>2005-12-30</td><td>15.05714</td><td>19.2</td><td> 3.034420</td><td>22.80556</td></tr>\n",
       "\t<tr><td>chic</td><td>35</td><td>29.4</td><td>2005-12-29</td><td> 7.45000</td><td>23.5</td><td> 6.794837</td><td>19.97222</td></tr>\n",
       "\t<tr><td>chic</td><td>37</td><td>34.5</td><td>2005-12-28</td><td>17.75000</td><td>27.5</td><td> 3.260417</td><td>19.28563</td></tr>\n",
       "\t<tr><td>chic</td><td>40</td><td>33.6</td><td>2005-12-27</td><td>23.56000</td><td>27.0</td><td> 4.468750</td><td>23.50000</td></tr>\n",
       "\t<tr><td>chic</td><td>35</td><td>29.6</td><td>2005-12-26</td><td> 8.40000</td><td> 8.5</td><td>14.041667</td><td>16.81944</td></tr>\n",
       "</tbody>\n",
       "</table>\n"
      ],
      "text/latex": [
       "A tibble: 6 × 8\n",
       "\\begin{tabular}{llllllll}\n",
       " city & tmpd & dptp & date & pm25tmean2 & pm10tmean2 & o3tmean2 & no2tmean2\\\\\n",
       " <chr> & <dbl> & <dbl> & <date> & <dbl> & <dbl> & <dbl> & <dbl>\\\\\n",
       "\\hline\n",
       "\t chic & 35 & 30.1 & 2005-12-31 & 15.00000 & 23.5 &  2.531250 & 13.25000\\\\\n",
       "\t chic & 36 & 31.0 & 2005-12-30 & 15.05714 & 19.2 &  3.034420 & 22.80556\\\\\n",
       "\t chic & 35 & 29.4 & 2005-12-29 &  7.45000 & 23.5 &  6.794837 & 19.97222\\\\\n",
       "\t chic & 37 & 34.5 & 2005-12-28 & 17.75000 & 27.5 &  3.260417 & 19.28563\\\\\n",
       "\t chic & 40 & 33.6 & 2005-12-27 & 23.56000 & 27.0 &  4.468750 & 23.50000\\\\\n",
       "\t chic & 35 & 29.6 & 2005-12-26 &  8.40000 &  8.5 & 14.041667 & 16.81944\\\\\n",
       "\\end{tabular}\n"
      ],
      "text/markdown": [
       "\n",
       "A tibble: 6 × 8\n",
       "\n",
       "| city &lt;chr&gt; | tmpd &lt;dbl&gt; | dptp &lt;dbl&gt; | date &lt;date&gt; | pm25tmean2 &lt;dbl&gt; | pm10tmean2 &lt;dbl&gt; | o3tmean2 &lt;dbl&gt; | no2tmean2 &lt;dbl&gt; |\n",
       "|---|---|---|---|---|---|---|---|\n",
       "| chic | 35 | 30.1 | 2005-12-31 | 15.00000 | 23.5 |  2.531250 | 13.25000 |\n",
       "| chic | 36 | 31.0 | 2005-12-30 | 15.05714 | 19.2 |  3.034420 | 22.80556 |\n",
       "| chic | 35 | 29.4 | 2005-12-29 |  7.45000 | 23.5 |  6.794837 | 19.97222 |\n",
       "| chic | 37 | 34.5 | 2005-12-28 | 17.75000 | 27.5 |  3.260417 | 19.28563 |\n",
       "| chic | 40 | 33.6 | 2005-12-27 | 23.56000 | 27.0 |  4.468750 | 23.50000 |\n",
       "| chic | 35 | 29.6 | 2005-12-26 |  8.40000 |  8.5 | 14.041667 | 16.81944 |\n",
       "\n"
      ],
      "text/plain": [
       "  city tmpd dptp date       pm25tmean2 pm10tmean2 o3tmean2  no2tmean2\n",
       "1 chic 35   30.1 2005-12-31 15.00000   23.5        2.531250 13.25000 \n",
       "2 chic 36   31.0 2005-12-30 15.05714   19.2        3.034420 22.80556 \n",
       "3 chic 35   29.4 2005-12-29  7.45000   23.5        6.794837 19.97222 \n",
       "4 chic 37   34.5 2005-12-28 17.75000   27.5        3.260417 19.28563 \n",
       "5 chic 40   33.6 2005-12-27 23.56000   27.0        4.468750 23.50000 \n",
       "6 chic 35   29.6 2005-12-26  8.40000    8.5       14.041667 16.81944 "
      ]
     },
     "metadata": {},
     "output_type": "display_data"
    }
   ],
   "source": [
    "chicago %>%\n",
    "  arrange(desc(date)) %>%\n",
    "  head()"
   ]
  },
  {
   "cell_type": "markdown",
   "id": "5cfbac47-6cf9-46ea-8ad3-0ffcee074b99",
   "metadata": {
    "slideshow": {
     "slide_type": "slide"
    },
    "tags": []
   },
   "source": [
    "Here’s a table of helper functions specifically associated with\n",
    "`arrange()`:\n",
    "\n",
    "| **Helper Function** | **Description**                                                                     | **Example**                               |\n",
    "|-------------------|----------------------------------|-------------------|\n",
    "| `desc()`            | Order by descending instead of default ascending.                                   | `arrange(data, desc(salary))`             |\n",
    "| `across()`          | Apply to multiple columns, especially with `c_across()` in `dplyr` 1.0.0 and later. | `arrange(data, across(starts_with(\"X\")))` |\n",
    "| `row_number()`      | Create an index based on the order of rows.                                         | `mutate(data, idx = row_number())`        |\n",
    "\n",
    "Note that `row_number()` is often seen in `mutate()` for creating an index column\n",
    "based on ordering.\n",
    "\n",
    "The `across()` function provides a more concise syntax for working with multiple columns. \n",
    "\n",
    "It is useful in `arrange()` when you’re trying to order rows based\n",
    "on a selection of columns that match a certain criterion.\n",
    "\n",
    "Most of the magic with `arrange()` happens through the way you\n",
    "structure its arguments and not necessarily through a large set of\n",
    "helper functions."
   ]
  },
  {
   "cell_type": "markdown",
   "id": "5fb8f4d8-b959-4ccc-8c82-24925ca0f96f",
   "metadata": {
    "slideshow": {
     "slide_type": "slide"
    },
    "tags": []
   },
   "source": [
    "## `rename()`\n",
    "\n",
    "Renaming a variable in a data frame in R is surprisingly hard to do!\n",
    "\n",
    "The `rename()` function is designed to make this process easier."
   ]
  },
  {
   "cell_type": "markdown",
   "id": "10c9994b-0fdc-44d5-a912-ef42ae98e510",
   "metadata": {
    "slideshow": {
     "slide_type": "slide"
    },
    "tags": []
   },
   "source": [
    "Here we select the names of the first five variables in the `chicago` data frame."
   ]
  },
  {
   "cell_type": "code",
   "execution_count": 23,
   "id": "f282bc64-481f-410e-a1d2-2f2351452111",
   "metadata": {
    "tags": []
   },
   "outputs": [
    {
     "data": {
      "text/html": [
       "<table class=\"dataframe\">\n",
       "<caption>A tibble: 3 × 5</caption>\n",
       "<thead>\n",
       "\t<tr><th scope=col>city</th><th scope=col>tmpd</th><th scope=col>dptp</th><th scope=col>date</th><th scope=col>pm25tmean2</th></tr>\n",
       "\t<tr><th scope=col>&lt;chr&gt;</th><th scope=col>&lt;dbl&gt;</th><th scope=col>&lt;dbl&gt;</th><th scope=col>&lt;date&gt;</th><th scope=col>&lt;dbl&gt;</th></tr>\n",
       "</thead>\n",
       "<tbody>\n",
       "\t<tr><td>chic</td><td>31.5</td><td>31.500</td><td>1987-01-01</td><td>NA</td></tr>\n",
       "\t<tr><td>chic</td><td>33.0</td><td>29.875</td><td>1987-01-02</td><td>NA</td></tr>\n",
       "\t<tr><td>chic</td><td>33.0</td><td>27.375</td><td>1987-01-03</td><td>NA</td></tr>\n",
       "</tbody>\n",
       "</table>\n"
      ],
      "text/latex": [
       "A tibble: 3 × 5\n",
       "\\begin{tabular}{lllll}\n",
       " city & tmpd & dptp & date & pm25tmean2\\\\\n",
       " <chr> & <dbl> & <dbl> & <date> & <dbl>\\\\\n",
       "\\hline\n",
       "\t chic & 31.5 & 31.500 & 1987-01-01 & NA\\\\\n",
       "\t chic & 33.0 & 29.875 & 1987-01-02 & NA\\\\\n",
       "\t chic & 33.0 & 27.375 & 1987-01-03 & NA\\\\\n",
       "\\end{tabular}\n"
      ],
      "text/markdown": [
       "\n",
       "A tibble: 3 × 5\n",
       "\n",
       "| city &lt;chr&gt; | tmpd &lt;dbl&gt; | dptp &lt;dbl&gt; | date &lt;date&gt; | pm25tmean2 &lt;dbl&gt; |\n",
       "|---|---|---|---|---|\n",
       "| chic | 31.5 | 31.500 | 1987-01-01 | NA |\n",
       "| chic | 33.0 | 29.875 | 1987-01-02 | NA |\n",
       "| chic | 33.0 | 27.375 | 1987-01-03 | NA |\n",
       "\n"
      ],
      "text/plain": [
       "  city tmpd dptp   date       pm25tmean2\n",
       "1 chic 31.5 31.500 1987-01-01 NA        \n",
       "2 chic 33.0 29.875 1987-01-02 NA        \n",
       "3 chic 33.0 27.375 1987-01-03 NA        "
      ]
     },
     "metadata": {},
     "output_type": "display_data"
    }
   ],
   "source": [
    "chicago %>% select(1:5) %>% head(3)"
   ]
  },
  {
   "cell_type": "markdown",
   "id": "4fbc5a4a-e9da-4033-9b1a-c1dd86191c18",
   "metadata": {
    "slideshow": {
     "slide_type": "fragment"
    },
    "tags": []
   },
   "source": [
    "The `dptp` column represents the dew point temperature and\n",
    "the `pm25tmean2` column the PM2.5 data.\n",
    "\n",
    "These names are cryptic, so let's rename them."
   ]
  },
  {
   "cell_type": "code",
   "execution_count": 24,
   "id": "0c870358-cadc-451f-9c6b-dbb745e9fcff",
   "metadata": {
    "tags": []
   },
   "outputs": [
    {
     "data": {
      "text/html": [
       "<table class=\"dataframe\">\n",
       "<caption>A tibble: 3 × 8</caption>\n",
       "<thead>\n",
       "\t<tr><th scope=col>city</th><th scope=col>tmpd</th><th scope=col>dewpoint</th><th scope=col>date</th><th scope=col>pm25</th><th scope=col>pm10tmean2</th><th scope=col>o3tmean2</th><th scope=col>no2tmean2</th></tr>\n",
       "\t<tr><th scope=col>&lt;chr&gt;</th><th scope=col>&lt;dbl&gt;</th><th scope=col>&lt;dbl&gt;</th><th scope=col>&lt;date&gt;</th><th scope=col>&lt;dbl&gt;</th><th scope=col>&lt;dbl&gt;</th><th scope=col>&lt;dbl&gt;</th><th scope=col>&lt;dbl&gt;</th></tr>\n",
       "</thead>\n",
       "<tbody>\n",
       "\t<tr><td>chic</td><td>31.5</td><td>31.500</td><td>1987-01-01</td><td>NA</td><td>34.00000</td><td>4.250000</td><td>19.98810</td></tr>\n",
       "\t<tr><td>chic</td><td>33.0</td><td>29.875</td><td>1987-01-02</td><td>NA</td><td>      NA</td><td>3.304348</td><td>23.19099</td></tr>\n",
       "\t<tr><td>chic</td><td>33.0</td><td>27.375</td><td>1987-01-03</td><td>NA</td><td>34.16667</td><td>3.333333</td><td>23.81548</td></tr>\n",
       "</tbody>\n",
       "</table>\n"
      ],
      "text/latex": [
       "A tibble: 3 × 8\n",
       "\\begin{tabular}{llllllll}\n",
       " city & tmpd & dewpoint & date & pm25 & pm10tmean2 & o3tmean2 & no2tmean2\\\\\n",
       " <chr> & <dbl> & <dbl> & <date> & <dbl> & <dbl> & <dbl> & <dbl>\\\\\n",
       "\\hline\n",
       "\t chic & 31.5 & 31.500 & 1987-01-01 & NA & 34.00000 & 4.250000 & 19.98810\\\\\n",
       "\t chic & 33.0 & 29.875 & 1987-01-02 & NA &       NA & 3.304348 & 23.19099\\\\\n",
       "\t chic & 33.0 & 27.375 & 1987-01-03 & NA & 34.16667 & 3.333333 & 23.81548\\\\\n",
       "\\end{tabular}\n"
      ],
      "text/markdown": [
       "\n",
       "A tibble: 3 × 8\n",
       "\n",
       "| city &lt;chr&gt; | tmpd &lt;dbl&gt; | dewpoint &lt;dbl&gt; | date &lt;date&gt; | pm25 &lt;dbl&gt; | pm10tmean2 &lt;dbl&gt; | o3tmean2 &lt;dbl&gt; | no2tmean2 &lt;dbl&gt; |\n",
       "|---|---|---|---|---|---|---|---|\n",
       "| chic | 31.5 | 31.500 | 1987-01-01 | NA | 34.00000 | 4.250000 | 19.98810 |\n",
       "| chic | 33.0 | 29.875 | 1987-01-02 | NA |       NA | 3.304348 | 23.19099 |\n",
       "| chic | 33.0 | 27.375 | 1987-01-03 | NA | 34.16667 | 3.333333 | 23.81548 |\n",
       "\n"
      ],
      "text/plain": [
       "  city tmpd dewpoint date       pm25 pm10tmean2 o3tmean2 no2tmean2\n",
       "1 chic 31.5 31.500   1987-01-01 NA   34.00000   4.250000 19.98810 \n",
       "2 chic 33.0 29.875   1987-01-02 NA         NA   3.304348 23.19099 \n",
       "3 chic 33.0 27.375   1987-01-03 NA   34.16667   3.333333 23.81548 "
      ]
     },
     "metadata": {},
     "output_type": "display_data"
    }
   ],
   "source": [
    "chicago <- chicago %>%\n",
    "  rename(dewpoint = dptp, pm25 = pm25tmean2) \n",
    "\n",
    "chicago %>%  \n",
    "  head(3)"
   ]
  },
  {
   "cell_type": "markdown",
   "id": "ea0efc8c-8836-432b-8262-c96bb7710f69",
   "metadata": {},
   "source": [
    "The syntax inside the `rename()` function is to have the new name on the\n",
    "left-hand side of the `=` sign and the old name on the right-hand side."
   ]
  },
  {
   "cell_type": "markdown",
   "id": "f8ae07ba-a0a9-41f6-9c12-53c21cf5562c",
   "metadata": {
    "slideshow": {
     "slide_type": "slide"
    },
    "tags": []
   },
   "source": [
    "Here’s a table of helper functions that can be used with `rename()`:\n",
    "\n",
    "| **Helper Function** | **Description**                                      | **Example**                                                                                                                     |\n",
    "|-------------------|-------------------|----------------------------------|\n",
    "| `starts_with()`     | Match columns that start with a given prefix.        | `rename(data, start_X = starts_with(\"X\"))` (Note: This example would rename the first column that starts with “X” to “start_X”) |\n",
    "| `ends_with()`       | Match columns that end with a given suffix.          | `rename(data, end_year = ends_with(\"_2021\"))`                                                                                   |\n",
    "| `contains()`        | Match columns that contain a given string.           | `rename(data, has_rate = contains(\"rate\"))`                                                                                     |\n",
    "| `matches()`         | Match columns that match a given regular expression. | `rename(data, match_num = matches(\"^X[1-3]$\"))`                                                                                 |\n",
    "| `everything()`      | Match all columns.                                   | Rarely used with `rename()`, but possible.                                                                                      |\n",
    "\n",
    "It’s worth noting that these helper functions will typically target the\n",
    "first column that meets the specified criterion. \n",
    "\n",
    "If there are multiple columns that match the criterion (e.g., multiple columns that start with\n",
    "“X”), you’ll need to use these helpers with more precision or utilize\n",
    "other techniques.\n",
    "\n",
    "Also, remember to always refer to the official Dplyr documentation as\n",
    "the package continues to evolve and new functionalities might be added\n",
    "over time."
   ]
  },
  {
   "cell_type": "markdown",
   "id": "64a6f8cd-e7e4-4d9e-bd74-f8e9c7719efe",
   "metadata": {
    "slideshow": {
     "slide_type": "slide"
    },
    "tags": []
   },
   "source": [
    "## `mutate()`\n",
    "\n",
    "The `mutate()` function creates **new columns** based on computations\n",
    "usually involving the other columns."
   ]
  },
  {
   "cell_type": "markdown",
   "id": "ce3b73ff-37e0-4490-b421-decc16505f7d",
   "metadata": {
    "slideshow": {
     "slide_type": "slide"
    },
    "tags": []
   },
   "source": [
    "For example, with air pollution data, we often want to **de-trend** the\n",
    "data by subtracting the mean from the data.\n",
    "\n",
    "This allows us to see whether a given day’s air pollution level is\n",
    "higher than or less than average.\n",
    "\n",
    "Here we create a `pm25detrend` variable that subtracts the mean from the\n",
    "`pm25` variable.\n",
    "\n",
    "We also compute the Z-score."
   ]
  },
  {
   "cell_type": "code",
   "execution_count": 25,
   "id": "eac2896e-a3cf-4b9d-a878-b1f536b466f7",
   "metadata": {
    "tags": []
   },
   "outputs": [
    {
     "data": {
      "text/html": [
       "<table class=\"dataframe\">\n",
       "<caption>A tibble: 6 × 10</caption>\n",
       "<thead>\n",
       "\t<tr><th scope=col>city</th><th scope=col>tmpd</th><th scope=col>dewpoint</th><th scope=col>date</th><th scope=col>pm25</th><th scope=col>pm10tmean2</th><th scope=col>o3tmean2</th><th scope=col>no2tmean2</th><th scope=col>pm25detrend</th><th scope=col>pm25z</th></tr>\n",
       "\t<tr><th scope=col>&lt;chr&gt;</th><th scope=col>&lt;dbl&gt;</th><th scope=col>&lt;dbl&gt;</th><th scope=col>&lt;date&gt;</th><th scope=col>&lt;dbl&gt;</th><th scope=col>&lt;dbl&gt;</th><th scope=col>&lt;dbl&gt;</th><th scope=col>&lt;dbl&gt;</th><th scope=col>&lt;dbl&gt;</th><th scope=col>&lt;dbl&gt;</th></tr>\n",
       "</thead>\n",
       "<tbody>\n",
       "\t<tr><td>chic</td><td>35</td><td>29.6</td><td>2005-12-26</td><td> 8.40000</td><td> 8.5</td><td>14.041667</td><td>16.81944</td><td>-7.830958</td><td>-0.9003429</td></tr>\n",
       "\t<tr><td>chic</td><td>40</td><td>33.6</td><td>2005-12-27</td><td>23.56000</td><td>27.0</td><td> 4.468750</td><td>23.50000</td><td> 7.329042</td><td> 0.8426366</td></tr>\n",
       "\t<tr><td>chic</td><td>37</td><td>34.5</td><td>2005-12-28</td><td>17.75000</td><td>27.5</td><td> 3.260417</td><td>19.28563</td><td> 1.519042</td><td> 0.1746477</td></tr>\n",
       "\t<tr><td>chic</td><td>35</td><td>29.4</td><td>2005-12-29</td><td> 7.45000</td><td>23.5</td><td> 6.794837</td><td>19.97222</td><td>-8.780958</td><td>-1.0095666</td></tr>\n",
       "\t<tr><td>chic</td><td>36</td><td>31.0</td><td>2005-12-30</td><td>15.05714</td><td>19.2</td><td> 3.034420</td><td>22.80556</td><td>-1.173815</td><td>-0.1349561</td></tr>\n",
       "\t<tr><td>chic</td><td>35</td><td>30.1</td><td>2005-12-31</td><td>15.00000</td><td>23.5</td><td> 2.531250</td><td>13.25000</td><td>-1.230958</td><td>-0.1415260</td></tr>\n",
       "</tbody>\n",
       "</table>\n"
      ],
      "text/latex": [
       "A tibble: 6 × 10\n",
       "\\begin{tabular}{llllllllll}\n",
       " city & tmpd & dewpoint & date & pm25 & pm10tmean2 & o3tmean2 & no2tmean2 & pm25detrend & pm25z\\\\\n",
       " <chr> & <dbl> & <dbl> & <date> & <dbl> & <dbl> & <dbl> & <dbl> & <dbl> & <dbl>\\\\\n",
       "\\hline\n",
       "\t chic & 35 & 29.6 & 2005-12-26 &  8.40000 &  8.5 & 14.041667 & 16.81944 & -7.830958 & -0.9003429\\\\\n",
       "\t chic & 40 & 33.6 & 2005-12-27 & 23.56000 & 27.0 &  4.468750 & 23.50000 &  7.329042 &  0.8426366\\\\\n",
       "\t chic & 37 & 34.5 & 2005-12-28 & 17.75000 & 27.5 &  3.260417 & 19.28563 &  1.519042 &  0.1746477\\\\\n",
       "\t chic & 35 & 29.4 & 2005-12-29 &  7.45000 & 23.5 &  6.794837 & 19.97222 & -8.780958 & -1.0095666\\\\\n",
       "\t chic & 36 & 31.0 & 2005-12-30 & 15.05714 & 19.2 &  3.034420 & 22.80556 & -1.173815 & -0.1349561\\\\\n",
       "\t chic & 35 & 30.1 & 2005-12-31 & 15.00000 & 23.5 &  2.531250 & 13.25000 & -1.230958 & -0.1415260\\\\\n",
       "\\end{tabular}\n"
      ],
      "text/markdown": [
       "\n",
       "A tibble: 6 × 10\n",
       "\n",
       "| city &lt;chr&gt; | tmpd &lt;dbl&gt; | dewpoint &lt;dbl&gt; | date &lt;date&gt; | pm25 &lt;dbl&gt; | pm10tmean2 &lt;dbl&gt; | o3tmean2 &lt;dbl&gt; | no2tmean2 &lt;dbl&gt; | pm25detrend &lt;dbl&gt; | pm25z &lt;dbl&gt; |\n",
       "|---|---|---|---|---|---|---|---|---|---|\n",
       "| chic | 35 | 29.6 | 2005-12-26 |  8.40000 |  8.5 | 14.041667 | 16.81944 | -7.830958 | -0.9003429 |\n",
       "| chic | 40 | 33.6 | 2005-12-27 | 23.56000 | 27.0 |  4.468750 | 23.50000 |  7.329042 |  0.8426366 |\n",
       "| chic | 37 | 34.5 | 2005-12-28 | 17.75000 | 27.5 |  3.260417 | 19.28563 |  1.519042 |  0.1746477 |\n",
       "| chic | 35 | 29.4 | 2005-12-29 |  7.45000 | 23.5 |  6.794837 | 19.97222 | -8.780958 | -1.0095666 |\n",
       "| chic | 36 | 31.0 | 2005-12-30 | 15.05714 | 19.2 |  3.034420 | 22.80556 | -1.173815 | -0.1349561 |\n",
       "| chic | 35 | 30.1 | 2005-12-31 | 15.00000 | 23.5 |  2.531250 | 13.25000 | -1.230958 | -0.1415260 |\n",
       "\n"
      ],
      "text/plain": [
       "  city tmpd dewpoint date       pm25     pm10tmean2 o3tmean2  no2tmean2\n",
       "1 chic 35   29.6     2005-12-26  8.40000  8.5       14.041667 16.81944 \n",
       "2 chic 40   33.6     2005-12-27 23.56000 27.0        4.468750 23.50000 \n",
       "3 chic 37   34.5     2005-12-28 17.75000 27.5        3.260417 19.28563 \n",
       "4 chic 35   29.4     2005-12-29  7.45000 23.5        6.794837 19.97222 \n",
       "5 chic 36   31.0     2005-12-30 15.05714 19.2        3.034420 22.80556 \n",
       "6 chic 35   30.1     2005-12-31 15.00000 23.5        2.531250 13.25000 \n",
       "  pm25detrend pm25z     \n",
       "1 -7.830958   -0.9003429\n",
       "2  7.329042    0.8426366\n",
       "3  1.519042    0.1746477\n",
       "4 -8.780958   -1.0095666\n",
       "5 -1.173815   -0.1349561\n",
       "6 -1.230958   -0.1415260"
      ]
     },
     "metadata": {},
     "output_type": "display_data"
    }
   ],
   "source": [
    "chicago <- chicago %>%\n",
    "    mutate(pm25detrend = pm25 - mean(pm25, na.rm = TRUE),\n",
    "       pm25z = pm25detrend / sd(pm25, na.rm = TRUE))\n",
    "\n",
    "chicago %>% tail()"
   ]
  },
  {
   "cell_type": "markdown",
   "id": "b05d4231-c027-47a2-8df4-41a700ebad89",
   "metadata": {},
   "source": [
    "Note how the new column name `pm25detrend` can be used immediately within the argument space of `mutate()`."
   ]
  },
  {
   "cell_type": "markdown",
   "id": "9c163c75-8219-49ca-86bc-05958afbdcc2",
   "metadata": {
    "slideshow": {
     "slide_type": "slide"
    },
    "tags": []
   },
   "source": [
    "Dplyr also has a  related `transmute()` function.\n",
    "\n",
    "It does the same thing as `mutate()` but then ***drops all non-transformed variables***.\n",
    "\n",
    "Here we de-trend the PM10 and ozone (O3) variables."
   ]
  },
  {
   "cell_type": "code",
   "execution_count": 26,
   "id": "0774ad08-80eb-4344-928f-63e10d1bc814",
   "metadata": {
    "tags": []
   },
   "outputs": [
    {
     "data": {
      "text/html": [
       "<table class=\"dataframe\">\n",
       "<caption>A tibble: 6 × 3</caption>\n",
       "<thead>\n",
       "\t<tr><th scope=col>pm10detrend</th><th scope=col>o3detrend</th><th scope=col>o3z</th></tr>\n",
       "\t<tr><th scope=col>&lt;dbl&gt;</th><th scope=col>&lt;dbl&gt;</th><th scope=col>&lt;dbl&gt;</th></tr>\n",
       "</thead>\n",
       "<tbody>\n",
       "\t<tr><td> 0.1047939</td><td>-15.18551</td><td>-1.333702</td></tr>\n",
       "\t<tr><td>        NA</td><td>-16.13117</td><td>-1.416756</td></tr>\n",
       "\t<tr><td> 0.2714605</td><td>-16.10218</td><td>-1.414211</td></tr>\n",
       "\t<tr><td>13.1047939</td><td>-15.06051</td><td>-1.322724</td></tr>\n",
       "\t<tr><td>        NA</td><td>-14.68551</td><td>-1.289789</td></tr>\n",
       "\t<tr><td>14.1047939</td><td>-13.60218</td><td>-1.194642</td></tr>\n",
       "</tbody>\n",
       "</table>\n"
      ],
      "text/latex": [
       "A tibble: 6 × 3\n",
       "\\begin{tabular}{lll}\n",
       " pm10detrend & o3detrend & o3z\\\\\n",
       " <dbl> & <dbl> & <dbl>\\\\\n",
       "\\hline\n",
       "\t  0.1047939 & -15.18551 & -1.333702\\\\\n",
       "\t         NA & -16.13117 & -1.416756\\\\\n",
       "\t  0.2714605 & -16.10218 & -1.414211\\\\\n",
       "\t 13.1047939 & -15.06051 & -1.322724\\\\\n",
       "\t         NA & -14.68551 & -1.289789\\\\\n",
       "\t 14.1047939 & -13.60218 & -1.194642\\\\\n",
       "\\end{tabular}\n"
      ],
      "text/markdown": [
       "\n",
       "A tibble: 6 × 3\n",
       "\n",
       "| pm10detrend &lt;dbl&gt; | o3detrend &lt;dbl&gt; | o3z &lt;dbl&gt; |\n",
       "|---|---|---|\n",
       "|  0.1047939 | -15.18551 | -1.333702 |\n",
       "|         NA | -16.13117 | -1.416756 |\n",
       "|  0.2714605 | -16.10218 | -1.414211 |\n",
       "| 13.1047939 | -15.06051 | -1.322724 |\n",
       "|         NA | -14.68551 | -1.289789 |\n",
       "| 14.1047939 | -13.60218 | -1.194642 |\n",
       "\n"
      ],
      "text/plain": [
       "  pm10detrend o3detrend o3z      \n",
       "1  0.1047939  -15.18551 -1.333702\n",
       "2         NA  -16.13117 -1.416756\n",
       "3  0.2714605  -16.10218 -1.414211\n",
       "4 13.1047939  -15.06051 -1.322724\n",
       "5         NA  -14.68551 -1.289789\n",
       "6 14.1047939  -13.60218 -1.194642"
      ]
     },
     "metadata": {},
     "output_type": "display_data"
    }
   ],
   "source": [
    "chicago_detrended <- chicago %>%\n",
    "  transmute(pm10detrend = pm10tmean2 - mean(pm10tmean2, na.rm = TRUE), \n",
    "            o3detrend = o3tmean2 - mean(o3tmean2, na.rm = TRUE),\n",
    "            o3z = o3detrend / sd(o3tmean2, na.rm = TRUE))\n",
    "\n",
    "chicago_detrended %>% head()"
   ]
  },
  {
   "cell_type": "markdown",
   "id": "8419d03a-5470-4d78-90da-0b132cbe96e0",
   "metadata": {},
   "source": [
    "Note that there are only three columns in the transmuted data frame."
   ]
  },
  {
   "cell_type": "markdown",
   "id": "0417401a-7888-462f-a6a4-488053490636",
   "metadata": {
    "slideshow": {
     "slide_type": "slide"
    },
    "tags": []
   },
   "source": [
    "Here’s a table of helper functions specifically associated with\n",
    "`mutate()`:\n",
    "\n",
    "| **Helper Function**                             | **Description**                                                | **Example**                                                                          |\n",
    "|-------------------|-----------------------|-------------------------------|\n",
    "| `if_else()`                                     | A vectorized conditional operation (if-else).                  | `mutate(data, status = if_else(age < 18, \"minor\", \"adult\"))`                         |\n",
    "| `case_when()`                                   | Generalized multiple conditions for transformations.           | `mutate(data, category = case_when(score > 90 ~ \"A\", score > 80 ~ \"B\", TRUE ~ \"C\"))` |\n",
    "| `lead()`                                        | Access the subsequent value in the column.                     | `mutate(data, next_value = lead(column_name))`                                       |\n",
    "| `lag()`                                         | Access the preceding value in the column.                      | `mutate(data, previous_value = lag(column_name))`                                    |\n",
    "| `row_number()`                                  | Generate row numbers, often used with `arrange()`.             | `mutate(data, rank = row_number())`                                                  |\n",
    "| `rank()`, `min_rank()`, `dense_rank()`          | Different types of ranking functions.                          | `mutate(data, rank = rank(score))`                                                   |\n",
    "| `cumsum()`, `cumprod()`, `cummin()`, `cummax()` | Cumulative functions.                                          | `mutate(data, cumulative_total = cumsum(total))`                                     |\n",
    "| `coalesce()`                                    | Return the first non-missing value among its arguments.        | `mutate(data, combined = coalesce(col1, col2))`                                      |\n",
    "| `na_if()`                                       | Replace a specified value with NA.                             | `mutate(data, updated_col = na_if(column_name, \"replace_me\"))`                       |\n",
    "| `replace_na()`                                  | Replace NA values with a specified value.                      | `mutate(data, updated_col = replace_na(column_name, \"new_value\"))`                   |\n",
    "| `recode()`                                      | Recode or replace values in a column.                          | `mutate(data, recoded_col = recode(column_name, old=\"new\", ...))`                    |\n",
    "| `across()`                                      | Apply a function across multiple columns (from `dplyr` 1.0.0). | `mutate(data, across(c(col1, col2), function_name))`                                 |"
   ]
  },
  {
   "cell_type": "markdown",
   "id": "68072fb5-7e67-4450-991f-8579633b5900",
   "metadata": {
    "slideshow": {
     "slide_type": "slide"
    },
    "tags": []
   },
   "source": [
    "## `group_by()`\n",
    "\n",
    "The `group_by()` function is used to generate **summary or aggregate statistics** from a data frame.\n",
    "\n",
    "In conjunction with the `group_by()` function we often use the `summarize()` function.\n",
    "\n",
    "The general operation here is a combination of:\n",
    "\n",
    "- **splitting** a table into separate pieces defined by a variable or group of variables\n",
    "(`group_by()`), \n",
    "- then **applying** a summary function across those\n",
    "subsets (`summarize()`), \n",
    "- then **combining** back into another table.\n",
    "\n",
    "This pattern is called **split, apply, and combine**. \n",
    "\n",
    "It is a fundamental pattern in data processing."
   ]
  },
  {
   "cell_type": "markdown",
   "id": "150e3f33-a18b-42c1-abf7-94a4d24c8b24",
   "metadata": {
    "slideshow": {
     "slide_type": "slide"
    },
    "tags": []
   },
   "source": [
    "For example, in this air pollution dataset, you might want to know the **average annual level of PM2.5**.\n",
    "\n",
    "The stratum is the **year**, which we can derive from the `date` variable.\n",
    "\n",
    "First, we can create a `year` variable using `as.POSIXlt()`.\n",
    "\n",
    "Then we group on our new column and compute summary statistics for each\n",
    "year with the `summarize()` function."
   ]
  },
  {
   "cell_type": "code",
   "execution_count": 27,
   "id": "72d710d1-c794-40ff-b6c8-d8bc843b5ffc",
   "metadata": {
    "tags": []
   },
   "outputs": [
    {
     "data": {
      "text/html": [
       "<table class=\"dataframe\">\n",
       "<caption>A tibble: 6 × 4</caption>\n",
       "<thead>\n",
       "\t<tr><th scope=col>year</th><th scope=col>pm25</th><th scope=col>o3</th><th scope=col>no2</th></tr>\n",
       "\t<tr><th scope=col>&lt;dbl&gt;</th><th scope=col>&lt;dbl&gt;</th><th scope=col>&lt;dbl&gt;</th><th scope=col>&lt;dbl&gt;</th></tr>\n",
       "</thead>\n",
       "<tbody>\n",
       "\t<tr><td>1987</td><td>NaN</td><td>62.96966</td><td>23.49369</td></tr>\n",
       "\t<tr><td>1988</td><td>NaN</td><td>61.67708</td><td>24.52296</td></tr>\n",
       "\t<tr><td>1989</td><td>NaN</td><td>59.72727</td><td>26.14062</td></tr>\n",
       "\t<tr><td>1990</td><td>NaN</td><td>52.22917</td><td>22.59583</td></tr>\n",
       "\t<tr><td>1991</td><td>NaN</td><td>63.10417</td><td>21.38194</td></tr>\n",
       "\t<tr><td>1992</td><td>NaN</td><td>50.82870</td><td>24.78921</td></tr>\n",
       "</tbody>\n",
       "</table>\n"
      ],
      "text/latex": [
       "A tibble: 6 × 4\n",
       "\\begin{tabular}{llll}\n",
       " year & pm25 & o3 & no2\\\\\n",
       " <dbl> & <dbl> & <dbl> & <dbl>\\\\\n",
       "\\hline\n",
       "\t 1987 & NaN & 62.96966 & 23.49369\\\\\n",
       "\t 1988 & NaN & 61.67708 & 24.52296\\\\\n",
       "\t 1989 & NaN & 59.72727 & 26.14062\\\\\n",
       "\t 1990 & NaN & 52.22917 & 22.59583\\\\\n",
       "\t 1991 & NaN & 63.10417 & 21.38194\\\\\n",
       "\t 1992 & NaN & 50.82870 & 24.78921\\\\\n",
       "\\end{tabular}\n"
      ],
      "text/markdown": [
       "\n",
       "A tibble: 6 × 4\n",
       "\n",
       "| year &lt;dbl&gt; | pm25 &lt;dbl&gt; | o3 &lt;dbl&gt; | no2 &lt;dbl&gt; |\n",
       "|---|---|---|---|\n",
       "| 1987 | NaN | 62.96966 | 23.49369 |\n",
       "| 1988 | NaN | 61.67708 | 24.52296 |\n",
       "| 1989 | NaN | 59.72727 | 26.14062 |\n",
       "| 1990 | NaN | 52.22917 | 22.59583 |\n",
       "| 1991 | NaN | 63.10417 | 21.38194 |\n",
       "| 1992 | NaN | 50.82870 | 24.78921 |\n",
       "\n"
      ],
      "text/plain": [
       "  year pm25 o3       no2     \n",
       "1 1987 NaN  62.96966 23.49369\n",
       "2 1988 NaN  61.67708 24.52296\n",
       "3 1989 NaN  59.72727 26.14062\n",
       "4 1990 NaN  52.22917 22.59583\n",
       "5 1991 NaN  63.10417 21.38194\n",
       "6 1992 NaN  50.82870 24.78921"
      ]
     },
     "metadata": {},
     "output_type": "display_data"
    }
   ],
   "source": [
    "years <- chicago %>%\n",
    "  mutate(year = as.POSIXlt(date)$year + 1900) %>%\n",
    "  group_by(year) %>%\n",
    "  summarize(pm25 = mean(pm25, na.rm = TRUE), \n",
    "          o3 = max(o3tmean2, na.rm = TRUE), \n",
    "          no2 = median(no2tmean2, na.rm = TRUE), .groups = \"drop\")\n",
    "\n",
    "years %>% head()"
   ]
  },
  {
   "cell_type": "markdown",
   "id": "173179b5-b6f8-4c2a-b61e-91809a44bf72",
   "metadata": {
    "slideshow": {
     "slide_type": "fragment"
    },
    "tags": []
   },
   "source": [
    "To see why we add $1900$ in the preceding mutation, note that the date\n",
    "function returns just the last two digits of the year."
   ]
  },
  {
   "cell_type": "code",
   "execution_count": 28,
   "id": "72e37fed-73eb-4ce5-977f-66c764ad49be",
   "metadata": {
    "tags": []
   },
   "outputs": [
    {
     "data": {
      "text/html": [
       "<style>\n",
       ".list-inline {list-style: none; margin:0; padding: 0}\n",
       ".list-inline>li {display: inline-block}\n",
       ".list-inline>li:not(:last-child)::after {content: \"\\00b7\"; padding: 0 .5ex}\n",
       "</style>\n",
       "<ol class=list-inline><li>87</li><li>87</li><li>87</li><li>87</li><li>87</li><li>87</li></ol>\n"
      ],
      "text/latex": [
       "\\begin{enumerate*}\n",
       "\\item 87\n",
       "\\item 87\n",
       "\\item 87\n",
       "\\item 87\n",
       "\\item 87\n",
       "\\item 87\n",
       "\\end{enumerate*}\n"
      ],
      "text/markdown": [
       "1. 87\n",
       "2. 87\n",
       "3. 87\n",
       "4. 87\n",
       "5. 87\n",
       "6. 87\n",
       "\n",
       "\n"
      ],
      "text/plain": [
       "[1] 87 87 87 87 87 87"
      ]
     },
     "metadata": {},
     "output_type": "display_data"
    }
   ],
   "source": [
    "as.POSIXlt(chicago$date)$year %>% head()"
   ]
  },
  {
   "cell_type": "markdown",
   "id": "51170e2c-f442-49fd-b998-65c2e9049a93",
   "metadata": {
    "slideshow": {
     "slide_type": "slide"
    },
    "tags": []
   },
   "source": [
    "Note in the process, we implicitly created a separate data frame that\n",
    "splits the original data frame by year, which is then passed to\n",
    "`summarize()`.\n",
    "\n",
    "`summarize()` then returns a data frame with columns for `year` and the\n",
    "annual averages of `pm25`, `o3`, and `no2`."
   ]
  },
  {
   "cell_type": "markdown",
   "id": "8e48d49f-abf6-4111-a290-7199a188c648",
   "metadata": {
    "slideshow": {
     "slide_type": "slide"
    },
    "tags": []
   },
   "source": [
    "In a slightly more complicated example, we might want to know what are\n",
    "the average levels of ozone `o3` and nitrogen dioxide `no2` within\n",
    "quantiles of `pm25`.\n",
    "\n",
    "We could do this with a regression model, but we can also do this quickly with `group_by()` and `summarize()`.\n",
    "\n",
    "First, we can create a categorical variable of `pm25` divided into\n",
    "quantiles."
   ]
  },
  {
   "cell_type": "code",
   "execution_count": 29,
   "id": "57fe034f-1e99-4ca8-a53a-3ce149974d0a",
   "metadata": {
    "tags": []
   },
   "outputs": [
    {
     "name": "stdout",
     "output_type": "stream",
     "text": [
      "    0%    20%    40%    60%    80%   100% \n",
      " 1.700  8.700 12.375 16.700 22.610 61.500 \n"
     ]
    }
   ],
   "source": [
    "qq <- quantile(chicago$pm25, seq(0, 1, 0.2), na.rm = TRUE)\n",
    "print(qq)"
   ]
  },
  {
   "cell_type": "markdown",
   "id": "cc476f37-bdad-4189-b493-e3802fe0ca70",
   "metadata": {
    "slideshow": {
     "slide_type": "fragment"
    },
    "tags": []
   },
   "source": [
    "Then we group the data frame by the `pm25.quint` variable and compute the mean of `o3` and `no2` within quantiles of `pm25`."
   ]
  },
  {
   "cell_type": "code",
   "execution_count": 30,
   "id": "7f29dc70-af72-41c1-ba16-294320090610",
   "metadata": {
    "tags": []
   },
   "outputs": [
    {
     "data": {
      "text/html": [
       "<table class=\"dataframe\">\n",
       "<caption>A tibble: 6 × 3</caption>\n",
       "<thead>\n",
       "\t<tr><th scope=col>pm25.quint</th><th scope=col>o3</th><th scope=col>no2</th></tr>\n",
       "\t<tr><th scope=col>&lt;fct&gt;</th><th scope=col>&lt;dbl&gt;</th><th scope=col>&lt;dbl&gt;</th></tr>\n",
       "</thead>\n",
       "<tbody>\n",
       "\t<tr><td>(1.7,8.7]  </td><td>21.66401</td><td>17.99129</td></tr>\n",
       "\t<tr><td>(8.7,12.4] </td><td>20.38248</td><td>22.13004</td></tr>\n",
       "\t<tr><td>(12.4,16.7]</td><td>20.66160</td><td>24.35708</td></tr>\n",
       "\t<tr><td>(16.7,22.6]</td><td>19.88122</td><td>27.27132</td></tr>\n",
       "\t<tr><td>(22.6,61.5]</td><td>20.31775</td><td>29.64427</td></tr>\n",
       "\t<tr><td>NA         </td><td>18.79044</td><td>25.77585</td></tr>\n",
       "</tbody>\n",
       "</table>\n"
      ],
      "text/latex": [
       "A tibble: 6 × 3\n",
       "\\begin{tabular}{lll}\n",
       " pm25.quint & o3 & no2\\\\\n",
       " <fct> & <dbl> & <dbl>\\\\\n",
       "\\hline\n",
       "\t (1.7,8.7{]}   & 21.66401 & 17.99129\\\\\n",
       "\t (8.7,12.4{]}  & 20.38248 & 22.13004\\\\\n",
       "\t (12.4,16.7{]} & 20.66160 & 24.35708\\\\\n",
       "\t (16.7,22.6{]} & 19.88122 & 27.27132\\\\\n",
       "\t (22.6,61.5{]} & 20.31775 & 29.64427\\\\\n",
       "\t NA          & 18.79044 & 25.77585\\\\\n",
       "\\end{tabular}\n"
      ],
      "text/markdown": [
       "\n",
       "A tibble: 6 × 3\n",
       "\n",
       "| pm25.quint &lt;fct&gt; | o3 &lt;dbl&gt; | no2 &lt;dbl&gt; |\n",
       "|---|---|---|\n",
       "| (1.7,8.7]   | 21.66401 | 17.99129 |\n",
       "| (8.7,12.4]  | 20.38248 | 22.13004 |\n",
       "| (12.4,16.7] | 20.66160 | 24.35708 |\n",
       "| (16.7,22.6] | 19.88122 | 27.27132 |\n",
       "| (22.6,61.5] | 20.31775 | 29.64427 |\n",
       "| NA          | 18.79044 | 25.77585 |\n",
       "\n"
      ],
      "text/plain": [
       "  pm25.quint  o3       no2     \n",
       "1 (1.7,8.7]   21.66401 17.99129\n",
       "2 (8.7,12.4]  20.38248 22.13004\n",
       "3 (12.4,16.7] 20.66160 24.35708\n",
       "4 (16.7,22.6] 19.88122 27.27132\n",
       "5 (22.6,61.5] 20.31775 29.64427\n",
       "6 NA          18.79044 25.77585"
      ]
     },
     "metadata": {},
     "output_type": "display_data"
    }
   ],
   "source": [
    "chicago %>%\n",
    "  mutate(pm25.quint = cut(pm25, qq)) %>%\n",
    "  group_by(pm25.quint) %>%\n",
    "  summarize(o3 = mean(o3tmean2, na.rm = TRUE), \n",
    "          no2 = mean(no2tmean2, na.rm = TRUE),\n",
    "          .groups = \"drop\")"
   ]
  },
  {
   "cell_type": "markdown",
   "id": "63755657-363e-4bf0-877d-1cd2e1f1613c",
   "metadata": {
    "slideshow": {
     "slide_type": "slide"
    },
    "tags": []
   },
   "source": [
    "From the table, it seems there isn’t a strong relationship between\n",
    "`pm25` and `o3`, but there appears to be a positive correlation between\n",
    "`pm25` and `no2`."
   ]
  },
  {
   "cell_type": "markdown",
   "id": "793a1444-00e3-42bb-b4a8-55aad64a4275",
   "metadata": {
    "slideshow": {
     "slide_type": "slide"
    },
    "tags": []
   },
   "source": [
    "More sophisticated statistical modeling can help to provide precise\n",
    "answers to these questions, but a simple application of Dplyr\n",
    "functions can often get you most of the way there.\n",
    "\n",
    "Here is another example:"
   ]
  },
  {
   "cell_type": "code",
   "execution_count": 31,
   "id": "2a436a25-323d-4870-b49e-a767f9b457fa",
   "metadata": {
    "tags": []
   },
   "outputs": [
    {
     "data": {
      "text/html": [
       "<table class=\"dataframe\">\n",
       "<caption>A tibble: 12 × 4</caption>\n",
       "<thead>\n",
       "\t<tr><th scope=col>month</th><th scope=col>pm25</th><th scope=col>o3</th><th scope=col>no2</th></tr>\n",
       "\t<tr><th scope=col>&lt;dbl&gt;</th><th scope=col>&lt;dbl&gt;</th><th scope=col>&lt;dbl&gt;</th><th scope=col>&lt;dbl&gt;</th></tr>\n",
       "</thead>\n",
       "<tbody>\n",
       "\t<tr><td> 1</td><td>17.76996</td><td>28.22222</td><td>25.35417</td></tr>\n",
       "\t<tr><td> 2</td><td>20.37513</td><td>37.37500</td><td>26.78034</td></tr>\n",
       "\t<tr><td> 3</td><td>17.40818</td><td>39.05000</td><td>26.76984</td></tr>\n",
       "\t<tr><td> 4</td><td>13.85879</td><td>47.94907</td><td>25.03125</td></tr>\n",
       "\t<tr><td> 5</td><td>14.07420</td><td>52.75000</td><td>24.22222</td></tr>\n",
       "\t<tr><td> 6</td><td>15.86461</td><td>66.58750</td><td>25.01140</td></tr>\n",
       "\t<tr><td> 7</td><td>16.57087</td><td>59.54167</td><td>22.38442</td></tr>\n",
       "\t<tr><td> 8</td><td>16.93380</td><td>53.96701</td><td>22.98333</td></tr>\n",
       "\t<tr><td> 9</td><td>15.91279</td><td>57.48864</td><td>24.47917</td></tr>\n",
       "\t<tr><td>10</td><td>14.23557</td><td>47.09275</td><td>24.15217</td></tr>\n",
       "\t<tr><td>11</td><td>15.15794</td><td>29.45833</td><td>23.56537</td></tr>\n",
       "\t<tr><td>12</td><td>17.52221</td><td>27.70833</td><td>24.45773</td></tr>\n",
       "</tbody>\n",
       "</table>\n"
      ],
      "text/latex": [
       "A tibble: 12 × 4\n",
       "\\begin{tabular}{llll}\n",
       " month & pm25 & o3 & no2\\\\\n",
       " <dbl> & <dbl> & <dbl> & <dbl>\\\\\n",
       "\\hline\n",
       "\t  1 & 17.76996 & 28.22222 & 25.35417\\\\\n",
       "\t  2 & 20.37513 & 37.37500 & 26.78034\\\\\n",
       "\t  3 & 17.40818 & 39.05000 & 26.76984\\\\\n",
       "\t  4 & 13.85879 & 47.94907 & 25.03125\\\\\n",
       "\t  5 & 14.07420 & 52.75000 & 24.22222\\\\\n",
       "\t  6 & 15.86461 & 66.58750 & 25.01140\\\\\n",
       "\t  7 & 16.57087 & 59.54167 & 22.38442\\\\\n",
       "\t  8 & 16.93380 & 53.96701 & 22.98333\\\\\n",
       "\t  9 & 15.91279 & 57.48864 & 24.47917\\\\\n",
       "\t 10 & 14.23557 & 47.09275 & 24.15217\\\\\n",
       "\t 11 & 15.15794 & 29.45833 & 23.56537\\\\\n",
       "\t 12 & 17.52221 & 27.70833 & 24.45773\\\\\n",
       "\\end{tabular}\n"
      ],
      "text/markdown": [
       "\n",
       "A tibble: 12 × 4\n",
       "\n",
       "| month &lt;dbl&gt; | pm25 &lt;dbl&gt; | o3 &lt;dbl&gt; | no2 &lt;dbl&gt; |\n",
       "|---|---|---|---|\n",
       "|  1 | 17.76996 | 28.22222 | 25.35417 |\n",
       "|  2 | 20.37513 | 37.37500 | 26.78034 |\n",
       "|  3 | 17.40818 | 39.05000 | 26.76984 |\n",
       "|  4 | 13.85879 | 47.94907 | 25.03125 |\n",
       "|  5 | 14.07420 | 52.75000 | 24.22222 |\n",
       "|  6 | 15.86461 | 66.58750 | 25.01140 |\n",
       "|  7 | 16.57087 | 59.54167 | 22.38442 |\n",
       "|  8 | 16.93380 | 53.96701 | 22.98333 |\n",
       "|  9 | 15.91279 | 57.48864 | 24.47917 |\n",
       "| 10 | 14.23557 | 47.09275 | 24.15217 |\n",
       "| 11 | 15.15794 | 29.45833 | 23.56537 |\n",
       "| 12 | 17.52221 | 27.70833 | 24.45773 |\n",
       "\n"
      ],
      "text/plain": [
       "   month pm25     o3       no2     \n",
       "1   1    17.76996 28.22222 25.35417\n",
       "2   2    20.37513 37.37500 26.78034\n",
       "3   3    17.40818 39.05000 26.76984\n",
       "4   4    13.85879 47.94907 25.03125\n",
       "5   5    14.07420 52.75000 24.22222\n",
       "6   6    15.86461 66.58750 25.01140\n",
       "7   7    16.57087 59.54167 22.38442\n",
       "8   8    16.93380 53.96701 22.98333\n",
       "9   9    15.91279 57.48864 24.47917\n",
       "10 10    14.23557 47.09275 24.15217\n",
       "11 11    15.15794 29.45833 23.56537\n",
       "12 12    17.52221 27.70833 24.45773"
      ]
     },
     "metadata": {},
     "output_type": "display_data"
    }
   ],
   "source": [
    "chicago %>%  \n",
    "  mutate(month = as.POSIXlt(date)$mon + 1) %>% \n",
    "  group_by(month) %>%                              # SPLIT\n",
    "  summarize(pm25 = mean(pm25, na.rm = TRUE),       # APPLY \n",
    "    o3 = max(o3tmean2, na.rm = TRUE), \n",
    "    no2 = median(no2tmean2, na.rm = TRUE),\n",
    "    .groups = \"drop\") \n",
    "                                                    # COMBINE (in the result)"
   ]
  },
  {
   "cell_type": "markdown",
   "id": "bb1989f7-f9e9-4007-bc5c-4a7753e4c36f",
   "metadata": {
    "slideshow": {
     "slide_type": "slide"
    },
    "tags": []
   },
   "source": [
    "Here’s a table of helper functions specifically associated with\n",
    "`group_by()`:\n",
    "\n",
    "| **Helper Function**                             | **Description**                                                                                                 | **Example**                                                              |\n",
    "|-------------------|--------------------------------|----------------------|\n",
    "| `add_tally()`                                   | Adds a column with the count of each group (equivalent to adding a count with `mutate()` after a `group_by()`). | `group_by(data, group_var) %>% add_tally()`                              |\n",
    "| `group_size()`                                  | Returns the size of each group.                                                                                 | `group_by(data, group_var) %>% summarise(size = group_size())`           |\n",
    "| `ntile()`                                       | Creates rank percentiles within groups.                                                                         | `group_by(data, group_var) %>% mutate(perc = ntile(score, 4))`           |\n",
    "| `cur_group_id()`                                | Gives an integer identifier for the current group.                                                              | `group_by(data, group_var) %>% filter(cur_group_id() == 1)`              |\n",
    "| `cur_group_rows()`                              | Provides row indices for the current group.                                                                     | Used internally, but can be useful for advanced operations.              |\n",
    "| `group_map()`, `group_modify()`, `group_walk()` | Functions to iterate over groups, modify them or walk them with side effects.                                   | `group_map(data, ~ head(.x, 2))` shows the first two rows of each group. |\n",
    "\n",
    "It’s worth noting that `group_by()` often works in tandem with other\n",
    "verbs, so the real power comes from the combined operations. \n",
    "\n",
    "For example, after grouping data, one often uses `summarise()` to calculate\n",
    "summary statistics for each group. \n",
    "\n",
    "The combination of these functions and their associated helpers allow for a wide range of group-wise data manipulation tasks."
   ]
  },
  {
   "cell_type": "markdown",
   "id": "ed67539d-3647-48d7-9e08-fee40bf2f6fb",
   "metadata": {
    "slideshow": {
     "slide_type": "slide"
    },
    "tags": []
   },
   "source": [
    "Based on [Peng 2022](https://bookdown.org/rdpeng/rprogdatascience/)"
   ]
  }
 ],
 "metadata": {
  "kernelspec": {
   "display_name": "R Environment",
   "language": "R",
   "name": "r_env"
  },
  "language_info": {
   "codemirror_mode": "r",
   "file_extension": ".r",
   "mimetype": "text/x-r-source",
   "name": "R",
   "pygments_lexer": "r",
   "version": "4.3.1"
  }
 },
 "nbformat": 4,
 "nbformat_minor": 5
}
