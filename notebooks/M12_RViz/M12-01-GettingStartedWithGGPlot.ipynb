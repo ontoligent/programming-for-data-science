{
 "cells": [
  {
   "cell_type": "markdown",
   "metadata": {
    "editable": true,
    "slideshow": {
     "slide_type": "slide"
    },
    "tags": []
   },
   "source": [
    "# Getting Started with GGPlot2\n",
    "\n",
    "Programming for Data Science"
   ]
  },
  {
   "cell_type": "markdown",
   "metadata": {
    "editable": true,
    "slideshow": {
     "slide_type": "slide"
    },
    "tags": []
   },
   "source": [
    "In this notebook, we look at GGPlot2, the specific graphics package associated with the Tidyverse.\n",
    "\n",
    "It implements the logic of the grammar of graphics model described in the previous notebook."
   ]
  },
  {
   "cell_type": "markdown",
   "metadata": {
    "slideshow": {
     "slide_type": "slide"
    },
    "tags": []
   },
   "source": [
    "# A First Plot\n",
    "\n",
    "Everything starts with getting `ggplot()`, which is imported when you import `tidyverse`."
   ]
  },
  {
   "cell_type": "code",
   "execution_count": null,
   "metadata": {
    "editable": true,
    "slideshow": {
     "slide_type": ""
    },
    "tags": [],
    "vscode": {
     "languageId": "r"
    }
   },
   "outputs": [],
   "source": [
    "library(tidyverse)"
   ]
  },
  {
   "cell_type": "markdown",
   "metadata": {
    "editable": true,
    "slideshow": {
     "slide_type": "slide"
    },
    "tags": []
   },
   "source": [
    "GGPlot gives lots of warning messages.\n",
    "\n",
    "For sake of clarity, we are going to turn these off for now.\n",
    "\n",
    "We're also going to the set the default size of our plots so they display better.\n",
    "\n",
    "We do this with the `options()` function we saw earlier."
   ]
  },
  {
   "cell_type": "code",
   "execution_count": null,
   "metadata": {
    "tags": [],
    "vscode": {
     "languageId": "r"
    }
   },
   "outputs": [],
   "source": [
    "options(warn=-1)\n",
    "options(repr.plot.width = 16, repr.plot.height = 10)"
   ]
  },
  {
   "cell_type": "markdown",
   "metadata": {
    "slideshow": {
     "slide_type": "slide"
    },
    "tags": []
   },
   "source": [
    "Here is a **basic graph** &mdash; a scatterplot comparing two features in the iris dataset. \n",
    "\n",
    "The functions and arguments are broken out so you can see how the grammar is implemented:"
   ]
  },
  {
   "cell_type": "code",
   "execution_count": null,
   "metadata": {
    "tags": [],
    "vscode": {
     "languageId": "r"
    }
   },
   "outputs": [],
   "source": [
    "iris %>%\n",
    "    ggplot(\n",
    "        mapping = aes(x = Sepal.Length, y = Sepal.Width)\n",
    "    ) + \n",
    "    geom_point(\n",
    "        size = 5, \n",
    "        aes(color = Species)\n",
    "    )"
   ]
  },
  {
   "cell_type": "markdown",
   "metadata": {
    "slideshow": {
     "slide_type": "slide"
    },
    "tags": []
   },
   "source": [
    "Here is an alternate way to build the graph:"
   ]
  },
  {
   "cell_type": "code",
   "execution_count": null,
   "metadata": {
    "tags": [],
    "vscode": {
     "languageId": "r"
    }
   },
   "outputs": [],
   "source": [
    "iris %>%\n",
    "    ggplot() +\n",
    "    aes(x = Sepal.Length, y = Sepal.Width) + \n",
    "    geom_point(size = 5) +\n",
    "    aes(color = Species)"
   ]
  },
  {
   "cell_type": "markdown",
   "metadata": {},
   "source": [
    "Note how we can pull the `aes()` functions out of the `geom_` and `mapping()` functions."
   ]
  },
  {
   "cell_type": "markdown",
   "metadata": {
    "slideshow": {
     "slide_type": "slide"
    },
    "tags": []
   },
   "source": [
    "Note that to create a scatterplot, we did not use a function like `geom_scatterplot()`.\n",
    "\n",
    "Instead, we constructed one **from scratch** using the buildings blocks according to a simple design pattern.\n",
    "\n",
    "We will see that some plot types are constructred this way while others have named functions.\n",
    "\n",
    "For example, a histogram is created with `geom_hist()`."
   ]
  },
  {
   "cell_type": "markdown",
   "metadata": {
    "slideshow": {
     "slide_type": "slide"
    },
    "tags": []
   },
   "source": [
    "# How it Works\n",
    "\n",
    "The `ggplot()` function starts by creating a coordinate system that you can add layers to.\n",
    "\n",
    "You can think of it as providing a **base layer** or canvas.\n",
    "\n",
    "Other layers are added by calling **geometry** functions.\n",
    "\n",
    "For example, `geom_point` creates a point-based visualization.\n",
    "\n",
    "For each layer, we can apply an **aesthetic mapping**.\n",
    "\n",
    "Here's a description of what we just plotted:\n",
    "\n",
    "\n",
    "```r\n",
    "gglot() + # Build the coordinate system, i.e. the base layer canvas\n",
    "\n",
    "aes(x = Sepal.Length, y = Sepal.Width) + # Map two features onto the `x` and `y` axes\n",
    "\n",
    "geom_point(size = 3) + # Define a geometry that gives visible form to `x` and `y` coordinates\n",
    "\n",
    "aes(color = Species) # Map colors onto coordinates by a third dimension\n",
    "```\n",
    "\n",
    "Note that the coordinate system can be changed after the graph is initiated.\n"
   ]
  },
  {
   "cell_type": "markdown",
   "metadata": {
    "slideshow": {
     "slide_type": "slide"
    },
    "tags": []
   },
   "source": [
    "There are many `geom_` functions:\n",
    "\n",
    "- `geom_point()`\n",
    "- `geom_bar()`\n",
    "- `geom_histogram()`\n",
    "- `geom_boxplot()`\n",
    "- `geom_violin()`\n",
    "- `geom_density()`\n",
    "\n",
    "etc.\n",
    "\n",
    "These can be layered on top of each other in a variety of ways."
   ]
  },
  {
   "cell_type": "markdown",
   "metadata": {
    "slideshow": {
     "slide_type": "slide"
    },
    "tags": []
   },
   "source": [
    "There are also many channels that can used to represent numeric and categorical features with `aes()`:\n",
    "\n",
    "-   x and y positions (in a two-dimensional system)\n",
    "-   Color\n",
    "-   Size\n",
    "-   Shape\n",
    "-   Text"
   ]
  },
  {
   "cell_type": "markdown",
   "metadata": {
    "slideshow": {
     "slide_type": "slide"
    },
    "tags": []
   },
   "source": [
    "# A Two Layered Plot\n",
    "\n",
    "Here we have a plot with two layers. \n",
    "\n",
    "The second layer is created by a `stat_` function.\n",
    "\n",
    "This function internally applies a `geom_` function to a statistical transformation to the data."
   ]
  },
  {
   "cell_type": "code",
   "execution_count": null,
   "metadata": {
    "editable": true,
    "slideshow": {
     "slide_type": ""
    },
    "tags": [],
    "vscode": {
     "languageId": "r"
    }
   },
   "outputs": [],
   "source": [
    "iris %>%\n",
    "    ggplot(aes(x = Sepal.Length, y = Sepal.Width)) + \n",
    "    geom_point(size = 5, aes(color = Species)) + \n",
    "    stat_smooth(method = lm)"
   ]
  },
  {
   "cell_type": "markdown",
   "metadata": {
    "editable": true,
    "slideshow": {
     "slide_type": ""
    },
    "tags": []
   },
   "source": [
    "The tilde sign `~` means \"as a function of\" &mdash; in this case, `y` is being plotted as function of `x`.\n",
    "\n",
    "The reason for this is that `aes` will be applied to the specific layer in which it is called.\n",
    "\n",
    "So, in the case above, it is applied to the first layer, which is the plot as a whole.\n",
    "\n",
    "In the case below, it is "
   ]
  },
  {
   "cell_type": "markdown",
   "metadata": {
    "editable": true,
    "slideshow": {
     "slide_type": "slide"
    },
    "tags": []
   },
   "source": [
    "Interestingly, if we pull the  `aes()` function out of `geom_point()`, we get a different plot."
   ]
  },
  {
   "cell_type": "code",
   "execution_count": null,
   "metadata": {
    "editable": true,
    "slideshow": {
     "slide_type": ""
    },
    "tags": [],
    "vscode": {
     "languageId": "r"
    }
   },
   "outputs": [],
   "source": [
    "iris %>%\n",
    "    ggplot() +\n",
    "    aes(color=Species) +\n",
    "    geom_point(size = 5) +\n",
    "    aes(x = Sepal.Length, y = Sepal.Width) +\n",
    "    stat_smooth(method = lm)"
   ]
  },
  {
   "cell_type": "code",
   "execution_count": null,
   "metadata": {
    "editable": true,
    "slideshow": {
     "slide_type": ""
    },
    "tags": [],
    "vscode": {
     "languageId": "r"
    }
   },
   "outputs": [],
   "source": [
    "iris %>%\n",
    "    ggplot() +\n",
    "    geom_point(size = 5) +\n",
    "    aes(color=Species) +\n",
    "    aes(x = Sepal.Length, y = Sepal.Width) +\n",
    "    stat_smooth(method = lm)"
   ]
  },
  {
   "cell_type": "markdown",
   "metadata": {
    "slideshow": {
     "slide_type": "slide"
    },
    "tags": []
   },
   "source": [
    "# The `+` Operator\n",
    "\n",
    "You will notice the use of the `+` operator to connect GGPlot functions together to produce a final product. \n",
    "\n",
    "Theses are not quite the same as pipes `%>%`.\n",
    "\n",
    "Whereas pipes feed data from one function to another, the `+` operation is a form of **method chaining**.\n",
    "\n",
    "We saw method chaining in Pandas.\n",
    "\n",
    "Keep in mind: the `+` always goes at the **end of a line**, never at the beginning."
   ]
  },
  {
   "cell_type": "markdown",
   "metadata": {
    "slideshow": {
     "slide_type": "slide"
    },
    "tags": []
   },
   "source": [
    "# Faceting\n",
    "\n",
    "GGPlot also provides plot **faceting**.\n",
    "\n",
    "Faceting is the visual equivalent of **grouping** in the split-apply-combine pattern. \n",
    "\n",
    "Just as with grouping, the **distinct values** in a data feature are used to divide the visualization into groups.\n",
    "\n",
    "Each group takes the same form but shows a different subset of data."
   ]
  },
  {
   "cell_type": "code",
   "execution_count": null,
   "metadata": {
    "slideshow": {
     "slide_type": "slide"
    },
    "tags": [],
    "vscode": {
     "languageId": "r"
    }
   },
   "outputs": [],
   "source": [
    "iris %>%\n",
    "    ggplot(aes(x = Sepal.Length, y = Sepal.Width)) + \n",
    "    geom_point(size = 5, aes(color = Species)) + \n",
    "    stat_smooth(method = lm) +\n",
    "    facet_wrap(facets = vars(Species))"
   ]
  },
  {
   "cell_type": "markdown",
   "metadata": {
    "slideshow": {
     "slide_type": "slide"
    },
    "tags": []
   },
   "source": [
    "By the way, this is an example of Simpson's Paradox. \n",
    "\n",
    "The overall trend is downward, but each group trend upward.\n",
    "\n",
    "We can see this by layering the regression line for the aggregate over the individual ones."
   ]
  },
  {
   "cell_type": "code",
   "execution_count": null,
   "metadata": {
    "vscode": {
     "languageId": "r"
    }
   },
   "outputs": [],
   "source": [
    "iris %>%\n",
    "    ggplot(aes(x = Sepal.Length, y = Sepal.Width)) + \n",
    "    geom_point(size = 5, aes(color=Species)) + \n",
    "    stat_smooth(method = lm, se=F) +\n",
    "    stat_smooth(method = lm, se=F, aes(color=Species))"
   ]
  },
  {
   "cell_type": "markdown",
   "metadata": {},
   "source": [
    "Note, the `se` argument in `stat_smooth()` toggles whether or not to display the shaded confidence intervals."
   ]
  },
  {
   "cell_type": "markdown",
   "metadata": {
    "slideshow": {
     "slide_type": "slide"
    },
    "tags": []
   },
   "source": [
    "# Visualizing Dimensions\n",
    "\n",
    "Aesthetics and facets are ways to represent extra dimensions without resorting to increasing the number of axes in our plots.\n",
    "\n",
    "For example, instead of using color or facets to represent species, we might have considered a third axis `z` to represent this feature. \n",
    "\n",
    "We tend to avoid going beyond two axes in our plots and so resort to other visual devices."
   ]
  },
  {
   "cell_type": "markdown",
   "metadata": {
    "slideshow": {
     "slide_type": "slide"
    },
    "tags": []
   },
   "source": [
    "# Bar Chart\n",
    "\n",
    "Let's look at some other geometries.\n",
    "\n",
    "Here is a simple bar chart made with `gemo_bar()`."
   ]
  },
  {
   "cell_type": "code",
   "execution_count": null,
   "metadata": {
    "tags": [],
    "vscode": {
     "languageId": "r"
    }
   },
   "outputs": [],
   "source": [
    "mtcars %>% \n",
    "    ggplot(aes(x = cyl)) +\n",
    "    geom_bar(fill = 'limegreen')"
   ]
  },
  {
   "cell_type": "markdown",
   "metadata": {
    "slideshow": {
     "slide_type": "slide"
    },
    "tags": []
   },
   "source": [
    "# Histogram\n",
    "\n",
    "The function `geom_hist()` will generate a histogram.\n",
    "\n",
    "Note that this function actually performs a behind-the-scenes data transformation, which goes beyond mapping the data.\n",
    "\n",
    "We typically see this with the `stat_` family of functions."
   ]
  },
  {
   "cell_type": "code",
   "execution_count": null,
   "metadata": {
    "tags": [],
    "vscode": {
     "languageId": "r"
    }
   },
   "outputs": [],
   "source": [
    "mtcars %>% \n",
    "    ggplot(aes(x = mpg)) + \n",
    "    geom_histogram(bins = 20, aes(fill = factor(cyl))) + \n",
    "    labs(title=\"Histogram\") "
   ]
  },
  {
   "cell_type": "markdown",
   "metadata": {},
   "source": [
    "Note the use of the `lab()` function to provide a title."
   ]
  },
  {
   "cell_type": "markdown",
   "metadata": {
    "slideshow": {
     "slide_type": "slide"
    },
    "tags": [],
    "vscode": {
     "languageId": "r"
    }
   },
   "source": [
    "# Density Plot\n",
    "\n",
    "Here is a **kernel density estimate** (KDE) plot made with `geom_density()`.\n",
    "\n",
    "A KDE plot is a smoothed version of a histogram. \n",
    "\n",
    "As with `geom_histogram()`, this function does some behind-the-scenes compuation and then plots the result."
   ]
  },
  {
   "cell_type": "code",
   "execution_count": null,
   "metadata": {
    "tags": [],
    "vscode": {
     "languageId": "r"
    }
   },
   "outputs": [],
   "source": [
    "mtcars %>% \n",
    "    ggplot(aes(x = mpg)) + \n",
    "    geom_density(size = 2, aes(fill = factor(cyl))) + \n",
    "    labs(title=\"Density plot\") "
   ]
  },
  {
   "cell_type": "markdown",
   "metadata": {
    "slideshow": {
     "slide_type": "slide"
    },
    "tags": []
   },
   "source": [
    "# Boxplot\n",
    "\n",
    "The function `geom_boxplot()` gives a classic boxplot, showing the mean, quantiles, and outliers of each variable. \n",
    "\n",
    "Note the arguments used &mdash; they control how the outliers are rendered.\n",
    "\n",
    "Notice we also pull out the `aes()` function for clarity; it could have remained within the geometry function's argument space."
   ]
  },
  {
   "cell_type": "code",
   "execution_count": null,
   "metadata": {
    "tags": [],
    "vscode": {
     "languageId": "r"
    }
   },
   "outputs": [],
   "source": [
    "mtcars %>% \n",
    "    ggplot(aes(x = factor(cyl), y = mpg)) +\n",
    "    geom_boxplot(\n",
    "        width = 0.5, \n",
    "        outlier.colour = \"dodgerblue\", \n",
    "        outlier.size = 4, \n",
    "        outlier.shape = 16, \n",
    "        outlier.stroke = 2, \n",
    "    ) + \n",
    "    aes(fill = factor(cyl)) +\n",
    "    labs(title = \"Box plot\")"
   ]
  },
  {
   "cell_type": "markdown",
   "metadata": {
    "slideshow": {
     "slide_type": "slide"
    },
    "tags": []
   },
   "source": [
    "# Violin Plot\n",
    "\n",
    "This is a violin plot using `geom_violin()`.\n",
    "\n",
    "A violin plot is something like a smoothed version of a boxplot.\n",
    "\n",
    "This version is untrimmed, i.e. we set `trim` to `FALSE`."
   ]
  },
  {
   "cell_type": "code",
   "execution_count": null,
   "metadata": {
    "tags": [],
    "vscode": {
     "languageId": "r"
    }
   },
   "outputs": [],
   "source": [
    "mtcars %>%\n",
    "    ggplot(aes(factor(cyl), mpg)) + \n",
    "    geom_violin(width = 0.5, trim = F) + \n",
    "    aes(fill = factor(cyl)) +\n",
    "    labs(title = \"Violin plot\")"
   ]
  },
  {
   "cell_type": "markdown",
   "metadata": {
    "slideshow": {
     "slide_type": "slide"
    },
    "tags": []
   },
   "source": [
    "# Heatmap\n",
    "\n",
    "To create a heatmap, we use `geom_tile()`.\n",
    "\n",
    "To use this function, we first need to **reshape** our data into **narrow** form.\n",
    "\n",
    "Here, we take a **correlation** matrix among the features of `mtcars`. "
   ]
  },
  {
   "cell_type": "code",
   "execution_count": null,
   "metadata": {
    "tags": [],
    "vscode": {
     "languageId": "r"
    }
   },
   "outputs": [],
   "source": [
    "corr <- round(cor(mtcars), 2)\n",
    "corr"
   ]
  },
  {
   "cell_type": "markdown",
   "metadata": {
    "slideshow": {
     "slide_type": "slide"
    },
    "tags": []
   },
   "source": [
    "The we **melt** it into narrow form:"
   ]
  },
  {
   "cell_type": "code",
   "execution_count": null,
   "metadata": {
    "tags": [],
    "vscode": {
     "languageId": "r"
    }
   },
   "outputs": [],
   "source": [
    "narrow <- reshape2::melt(corr)"
   ]
  },
  {
   "cell_type": "code",
   "execution_count": null,
   "metadata": {
    "tags": [],
    "vscode": {
     "languageId": "r"
    }
   },
   "outputs": [],
   "source": [
    "narrow %>% head()"
   ]
  },
  {
   "cell_type": "markdown",
   "metadata": {
    "slideshow": {
     "slide_type": "slide"
    },
    "tags": []
   },
   "source": [
    "Now we can pass the narrow data frame to our plot constructor:"
   ]
  },
  {
   "cell_type": "code",
   "execution_count": null,
   "metadata": {
    "tags": [],
    "vscode": {
     "languageId": "r"
    }
   },
   "outputs": [],
   "source": [
    "narrow %>% ggplot() +\n",
    "    aes(x = Var1, y = Var2, fill = value, label = value) +\n",
    "    geom_tile() + \n",
    "    geom_text(color = \"white\", size = 8) + \n",
    "    labs(title=\"mtcars - Correlation plot\") + \n",
    "    theme(text=element_text(size = 20), legend.position = \"none\")"
   ]
  },
  {
   "cell_type": "markdown",
   "metadata": {},
   "source": [
    "Note the use of `theme()` function to remove the legend and alter the font size in the result."
   ]
  },
  {
   "cell_type": "markdown",
   "metadata": {
    "slideshow": {
     "slide_type": "slide"
    },
    "tags": []
   },
   "source": [
    "# Assigning to a Variable\n",
    "\n",
    "We can assign plots to variables and build them incrementally."
   ]
  },
  {
   "cell_type": "code",
   "execution_count": null,
   "metadata": {
    "tags": [],
    "vscode": {
     "languageId": "r"
    }
   },
   "outputs": [],
   "source": [
    "gg <- iris %>% ggplot()\n",
    "gg"
   ]
  },
  {
   "cell_type": "code",
   "execution_count": null,
   "metadata": {
    "slideshow": {
     "slide_type": "slide"
    },
    "tags": [],
    "vscode": {
     "languageId": "r"
    }
   },
   "outputs": [],
   "source": [
    "gg <- gg + aes(x = Sepal.Length, y = Sepal.Width)\n",
    "gg"
   ]
  },
  {
   "cell_type": "code",
   "execution_count": null,
   "metadata": {
    "slideshow": {
     "slide_type": "slide"
    },
    "tags": [],
    "vscode": {
     "languageId": "r"
    }
   },
   "outputs": [],
   "source": [
    "gg <- gg + geom_point(size=5)\n",
    "gg"
   ]
  },
  {
   "cell_type": "code",
   "execution_count": null,
   "metadata": {
    "slideshow": {
     "slide_type": "slide"
    },
    "tags": [],
    "vscode": {
     "languageId": "r"
    }
   },
   "outputs": [],
   "source": [
    "gg <- gg + aes(color = Species)\n",
    "gg"
   ]
  },
  {
   "cell_type": "code",
   "execution_count": null,
   "metadata": {
    "slideshow": {
     "slide_type": "slide"
    },
    "tags": [],
    "vscode": {
     "languageId": "r"
    }
   },
   "outputs": [],
   "source": [
    "gg <- gg + stat_smooth(method = 'lm')\n",
    "gg"
   ]
  },
  {
   "cell_type": "markdown",
   "metadata": {
    "slideshow": {
     "slide_type": "slide"
    },
    "tags": []
   },
   "source": [
    "# Design Pattern\n",
    "\n",
    "Let's use this ability to assign plots to variables to demonstrate another design pattern.\n",
    "\n",
    "Often, you will have data of a certain kind and you want to visualize it various ways.\n",
    "\n",
    "You may not be sure of the most effective visualization, so you want to play around."
   ]
  },
  {
   "cell_type": "markdown",
   "metadata": {
    "slideshow": {
     "slide_type": "slide"
    },
    "tags": []
   },
   "source": [
    "For example, you may want to explore the relationship between two continuous variables.\n",
    "\n",
    "This relationship can visualized using a variety of geometries.\n",
    "\n",
    "So, we may begin by assigning the basic plot to a variable and then applying different geometries to it."
   ]
  },
  {
   "cell_type": "code",
   "execution_count": null,
   "metadata": {
    "tags": [],
    "vscode": {
     "languageId": "r"
    }
   },
   "outputs": [],
   "source": [
    "my_gg <- ggplot(mpg, aes(cty, hwy))\n",
    "my_gg"
   ]
  },
  {
   "cell_type": "markdown",
   "metadata": {},
   "source": [
    "The object `my_gg` just contains a blank canvas with two labeled and scaled axes."
   ]
  },
  {
   "cell_type": "markdown",
   "metadata": {
    "slideshow": {
     "slide_type": "slide"
    },
    "tags": []
   },
   "source": [
    "Here we draw a simple scatter plot by adding a geometry to our object."
   ]
  },
  {
   "cell_type": "code",
   "execution_count": null,
   "metadata": {
    "tags": [],
    "vscode": {
     "languageId": "r"
    }
   },
   "outputs": [],
   "source": [
    "my_gg + geom_point(size=5, color='red')"
   ]
  },
  {
   "cell_type": "markdown",
   "metadata": {
    "slideshow": {
     "slide_type": "slide"
    },
    "tags": []
   },
   "source": [
    "Here we show the coordinates as text labels showing `cty` with a rectangle background. \n",
    "\n",
    "The object remains unchanged by the previous visualization; we are just swapping out geometries."
   ]
  },
  {
   "cell_type": "code",
   "execution_count": null,
   "metadata": {
    "tags": [],
    "vscode": {
     "languageId": "r"
    }
   },
   "outputs": [],
   "source": [
    "my_gg + geom_label(aes(label = cty), nudge_x = 1, nudge_y = 1, color = 'blue') "
   ]
  },
  {
   "cell_type": "markdown",
   "metadata": {
    "slideshow": {
     "slide_type": "slide"
    },
    "tags": []
   },
   "source": [
    "Here is a simple regression line."
   ]
  },
  {
   "cell_type": "code",
   "execution_count": null,
   "metadata": {
    "tags": [],
    "vscode": {
     "languageId": "r"
    }
   },
   "outputs": [],
   "source": [
    "my_gg + geom_smooth(method = lm) "
   ]
  },
  {
   "cell_type": "markdown",
   "metadata": {
    "slideshow": {
     "slide_type": "slide"
    },
    "tags": []
   },
   "source": [
    "And here is a boxplot ..."
   ]
  },
  {
   "cell_type": "code",
   "execution_count": null,
   "metadata": {
    "tags": [],
    "vscode": {
     "languageId": "r"
    }
   },
   "outputs": [],
   "source": [
    "my_gg + geom_boxplot()"
   ]
  },
  {
   "cell_type": "markdown",
   "metadata": {
    "slideshow": {
     "slide_type": "slide"
    },
    "tags": []
   },
   "source": [
    "The `geom_density2d()` function shows a $2$D kernel density estimation overlaying a scatterplot. "
   ]
  },
  {
   "cell_type": "code",
   "execution_count": null,
   "metadata": {
    "tags": [],
    "vscode": {
     "languageId": "r"
    }
   },
   "outputs": [],
   "source": [
    "my_gg + geom_point() + geom_density2d()"
   ]
  },
  {
   "cell_type": "markdown",
   "metadata": {
    "slideshow": {
     "slide_type": "slide"
    },
    "tags": []
   },
   "source": [
    "And here is filled line graph. "
   ]
  },
  {
   "cell_type": "code",
   "execution_count": null,
   "metadata": {
    "tags": [],
    "vscode": {
     "languageId": "r"
    }
   },
   "outputs": [],
   "source": [
    "my_gg + geom_area(fill='red')"
   ]
  },
  {
   "cell_type": "markdown",
   "metadata": {
    "editable": true,
    "slideshow": {
     "slide_type": "slide"
    },
    "tags": []
   },
   "source": [
    "# Conclusion\n",
    "\n",
    "This notebook just scratches the surface of what you can do with GGPlot.\n",
    "\n",
    "There are many other features we have not covered, such as changing coordinates.\n",
    "\n",
    "In addition, there are many more geometry and statistics layers we have not shown.\n",
    "\n",
    "However, hopefully you understanding something of the logic of GGPlot and have gained insight into how graphics are built.\n",
    "\n",
    "This should enable you to make informed guesses and asked effective questions as you develop your knowledge of this powerful toolkit."
   ]
  }
 ],
 "metadata": {
  "kernelspec": {
   "display_name": "R Environment",
   "language": "R",
   "name": "r_env"
  },
  "language_info": {
   "codemirror_mode": "r",
   "file_extension": ".r",
   "mimetype": "text/x-r-source",
   "name": "R",
   "pygments_lexer": "r",
   "version": "4.3.1"
  }
 },
 "nbformat": 4,
 "nbformat_minor": 4
}
