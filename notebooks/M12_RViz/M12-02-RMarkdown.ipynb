{
 "cells": [
  {
   "cell_type": "markdown",
   "id": "4373f01f-8a6c-41bf-83e2-c7ff69880124",
   "metadata": {
    "slideshow": {
     "slide_type": "slide"
    },
    "tags": []
   },
   "source": [
    "# NB R Markdown\n",
    "\n",
    "Programming for Data Science"
   ]
  },
  {
   "cell_type": "markdown",
   "id": "551194ea-313e-4464-86eb-4e1ddfba24e3",
   "metadata": {
    "slideshow": {
     "slide_type": "slide"
    },
    "tags": []
   },
   "source": [
    "# Literate Programming\n",
    "\n",
    "R provides a notebook style coding environment similar to **Jupyter** called R Markdown.\n",
    "\n",
    "It follows the **literate programming** paradigm of **inter-leaving text and runnable code**.\n",
    "\n",
    "As with Jupyter, they can be used **interactively** or as **exported** documents into standard formats."
   ]
  },
  {
   "cell_type": "markdown",
   "id": "c88331fc-76d6-4393-9ec2-d3c3517c2574",
   "metadata": {
    "slideshow": {
     "slide_type": "slide"
    },
    "tags": []
   },
   "source": [
    "R Markdown files consists of the three types of element:\n",
    "\n",
    "1. **Metadata**, written in **YAML** (at the top of the file).\n",
    "2. **Text**, written in **Markdown**.\n",
    "3. **Code**, written in one of several supported **programming languages**.\n",
    "\n",
    "All of these are plain text and live in the same `.Rmd` file."
   ]
  },
  {
   "cell_type": "markdown",
   "id": "80b2ed49-d2f5-4535-a0bd-293f9cbca193",
   "metadata": {
    "slideshow": {
     "slide_type": "slide"
    },
    "tags": []
   },
   "source": [
    "# Markdown\n",
    "\n",
    "As the name implies, R Markdown files uses a version of [Markdown](https://www.markdownguide.org/) to create the text components and define the code blocks.\n",
    "\n",
    "Mardown is a simplified version of HTML markup that uses typographic symbols and line spaces instead of angle brackets."
   ]
  },
  {
   "cell_type": "markdown",
   "id": "1c549538-0c19-4664-acf4-14c60a3e2061",
   "metadata": {
    "slideshow": {
     "slide_type": "fragment"
    },
    "tags": []
   },
   "source": [
    "For example, instead of writing this in HTML:"
   ]
  },
  {
   "cell_type": "raw",
   "id": "7fee46d8-58dc-46d7-95f9-5690ca999861",
   "metadata": {
    "tags": []
   },
   "source": [
    "<h1>This is is header</h1>\n",
    "\n",
    "<p>This paragraph defines a <a href='http://place.com'>link</a>/</p>"
   ]
  },
  {
   "cell_type": "markdown",
   "id": "33e8964b-73c1-4682-a077-7f8d212745cf",
   "metadata": {
    "tags": []
   },
   "source": [
    "You would write this:"
   ]
  },
  {
   "cell_type": "raw",
   "id": "033ed944-ef18-41ad-81c8-bd6d55e39eeb",
   "metadata": {
    "jp-MarkdownHeadingCollapsed": true,
    "tags": []
   },
   "source": [
    "# This is a header\n",
    "\n",
    "This paragraph defines a [link](http://place.com)."
   ]
  },
  {
   "cell_type": "markdown",
   "id": "8e079b98-68c6-401e-a9c6-1fc183d7926e",
   "metadata": {
    "tags": []
   },
   "source": [
    "The markdown gets converted into HTML by a viewer or converter at display time."
   ]
  },
  {
   "cell_type": "markdown",
   "id": "345e1ba0-b314-4481-bac4-7540a5cbbd91",
   "metadata": {
    "slideshow": {
     "slide_type": "slide"
    },
    "tags": []
   },
   "source": [
    "# Code\n",
    "\n",
    "The **code blocks** are delimmited by three backtacks <tt>```</tt> with a language specified in braces.\n",
    "\n",
    "For example, to run a block of R code, you would enter this:"
   ]
  },
  {
   "cell_type": "raw",
   "id": "89b603c9-893c-4e8b-83d0-da93bc8dd8f1",
   "metadata": {
    "jp-MarkdownHeadingCollapsed": true,
    "tags": []
   },
   "source": [
    "```{r}\n",
    "x <- 10\n",
    "print(x)\n",
    "```"
   ]
  },
  {
   "cell_type": "markdown",
   "id": "c4a14468-485d-48c2-86fd-ddf25c5c1d15",
   "metadata": {
    "slideshow": {
     "slide_type": "fragment"
    },
    "tags": []
   },
   "source": [
    "R Markdown also supports running code in other languages in the same document.\n",
    "\n",
    "To run a Python block, you could do something like this:"
   ]
  },
  {
   "cell_type": "raw",
   "id": "fdd7b70e-bc6a-4573-a87c-5375e2434751",
   "metadata": {},
   "source": [
    "```{python}\n",
    "x = 10\n",
    "print(x)\n",
    "```"
   ]
  },
  {
   "cell_type": "markdown",
   "id": "d8dee534-31ac-45db-97ed-c2fa4338b9e5",
   "metadata": {},
   "source": [
    "In RStudio, these blocks of code can be executed in place, with results output in below the cell, as with Jupyter."
   ]
  },
  {
   "cell_type": "markdown",
   "id": "db2c5f17-606c-4ec3-a7d9-ddec9990555b",
   "metadata": {
    "slideshow": {
     "slide_type": "slide"
    },
    "tags": []
   },
   "source": [
    "# Comparison to Jupyter \n",
    "\n",
    "R Markdown files are optimized to be *published documents*. \n",
    "\n",
    "Jupyter notebooks are meant primarily to be interactive environments.\n",
    "\n",
    "R Markdown files are plain text.\n",
    "\n",
    "Jupyter notebooks are written in **JavaScript**.\n",
    "\n",
    "JavaScript is the native programming language of web browsers; the notebook format is executable code that can be integrated into a web application."
   ]
  },
  {
   "cell_type": "markdown",
   "id": "7272cd5c-9760-46f5-af3b-553a30ca20d4",
   "metadata": {
    "slideshow": {
     "slide_type": "slide"
    },
    "tags": []
   },
   "source": [
    "# Varieties of R Markdown outputs\n",
    "\n",
    "R Markdown is designed to be output to several formats, including notebooks, documents, presentations, and interactive applications.\n",
    "\n",
    "**Notebooks** and documents can be output as HTML, PDF, or Word files.\n",
    "\n",
    "**Presentations** may be output in IOSlides, Beamer, or PowerPoint format.\n",
    "\n",
    "**Interactive** applications are interactive apps that can be published on the web with a framework called Shiny."
   ]
  },
  {
   "cell_type": "markdown",
   "id": "7b44e1d2-c260-4792-b3ec-7ef826cad1e2",
   "metadata": {
    "slideshow": {
     "slide_type": "slide"
    },
    "tags": []
   },
   "source": [
    "# Knitting\n",
    "\n",
    "Knitting is the process of compiling all the code and visual assets of an R Markdown into a single file."
   ]
  },
  {
   "cell_type": "markdown",
   "id": "390a420e-ca37-43f7-ac20-5e8bb1ed0feb",
   "metadata": {
    "slideshow": {
     "slide_type": "slide"
    },
    "tags": []
   },
   "source": [
    "# Publishing\n",
    "\n",
    "RMarkdown has publication in mind as an outcome.\n",
    "RStudio allows you to publish in these destinations:\n",
    "\n",
    "-   [RPubs](https://rpubs.com/)\n",
    "-   [R Studio Connect](https://www.rstudio.com/products/connect/)"
   ]
  },
  {
   "cell_type": "markdown",
   "id": "0dc40ec6-0ea0-459e-bc51-ffb39e1d8424",
   "metadata": {
    "slideshow": {
     "slide_type": "slide"
    },
    "tags": []
   },
   "source": [
    "# Outputting\n",
    "\n",
    "There are two ways to set the output of a document:\n",
    "\n",
    "1.  Permanently, by modifying the YAML header:"
   ]
  },
  {
   "cell_type": "markdown",
   "id": "07c7ecde-ba21-44d2-9e77-0a983e7f3d6a",
   "metadata": {
    "tags": []
   },
   "source": [
    "```yaml\n",
    "---\n",
    "title: \"Viridis Demo\"\n",
    "output: html_document\n",
    "---\n",
    "```"
   ]
  },
  {
   "cell_type": "markdown",
   "id": "55710f64-471f-4794-9f49-e7054d6e6035",
   "metadata": {
    "slideshow": {
     "slide_type": "fragment"
    },
    "tags": []
   },
   "source": [
    "2.  Transiently, by calling `rmarkdown::render()` by hand:"
   ]
  },
  {
   "cell_type": "raw",
   "id": "3676d458-8c1d-4319-bbae-f906f9db7e51",
   "metadata": {
    "tags": []
   },
   "source": [
    "rmarkdown::render(\"diamond-sizes.Rmd\", output_format = \"word_document\")"
   ]
  },
  {
   "cell_type": "markdown",
   "id": "92fb930e-15ea-451c-be2b-2dce4933758f",
   "metadata": {
    "tags": []
   },
   "source": [
    "This is useful if you want to programmatically produce multiple types of output.\n",
    "\n",
    "RStudio's knit button renders a file to the first format listed in its `output` field."
   ]
  },
  {
   "cell_type": "markdown",
   "id": "82ade592-7ffb-44fa-8990-77ab5cd17659",
   "metadata": {
    "slideshow": {
     "slide_type": "slide"
    },
    "tags": []
   },
   "source": [
    "# Output options\n",
    "\n",
    "To override the default parameter values, you need to use an expanded `output` field.\n",
    "For example, if you wanted to render an `html_document` with a floating table of contents, you'd use:"
   ]
  },
  {
   "cell_type": "markdown",
   "id": "7cca69f2-82d4-43d3-b1db-bb0181cc948f",
   "metadata": {
    "tags": []
   },
   "source": [
    "```yaml\n",
    "---\n",
    "output:\n",
    "  html_document:\n",
    "    toc: true\n",
    "    toc_float: true\n",
    "---\n",
    "```"
   ]
  },
  {
   "cell_type": "markdown",
   "id": "5c7e1f4a-d047-4345-a015-079e254c4bf8",
   "metadata": {
    "slideshow": {
     "slide_type": "fragment"
    },
    "tags": []
   },
   "source": [
    "You can even render to multiple outputs by supplying a list of formats:"
   ]
  },
  {
   "cell_type": "markdown",
   "id": "cccafcbe-c850-4321-a5d6-214b2a3b37f6",
   "metadata": {
    "tags": []
   },
   "source": [
    "```yaml\n",
    "---\n",
    "output:\n",
    "  html_document:\n",
    "    toc: true\n",
    "    toc_float: true\n",
    "  pdf_document: default\n",
    "---\n",
    "```"
   ]
  },
  {
   "cell_type": "markdown",
   "id": "bffbc348-bc30-4763-99a4-c55d1ec2bbc0",
   "metadata": {
    "tags": []
   },
   "source": [
    "Note the special syntax if you don't want to override any of the default options."
   ]
  },
  {
   "cell_type": "markdown",
   "id": "13dfa8ba-c2c2-441b-b93a-7069a9d7fe54",
   "metadata": {
    "jp-MarkdownHeadingCollapsed": true,
    "slideshow": {
     "slide_type": "slide"
    },
    "tags": []
   },
   "source": [
    "# How It Works\n",
    "\n",
    "![](images/paste-7C07E815.png)"
   ]
  }
 ],
 "metadata": {
  "kernelspec": {
   "display_name": "R Environment",
   "language": "R",
   "name": "r_env"
  },
  "language_info": {
   "codemirror_mode": "r",
   "file_extension": ".r",
   "mimetype": "text/x-r-source",
   "name": "R",
   "pygments_lexer": "r",
   "version": "4.3.1"
  }
 },
 "nbformat": 4,
 "nbformat_minor": 5
}
