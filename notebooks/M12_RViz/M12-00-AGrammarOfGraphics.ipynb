{
 "cells": [
  {
   "cell_type": "markdown",
   "id": "8d90e358-9dd9-493a-93c9-688bc3f80252",
   "metadata": {
    "slideshow": {
     "slide_type": "slide"
    },
    "tags": []
   },
   "source": [
    "# GGPlot and the Grammar of Graphics\n",
    "\n",
    "Programming for Data Science"
   ]
  },
  {
   "cell_type": "markdown",
   "id": "f8b1eaff-fe87-4b3b-ab09-6708897ca58a",
   "metadata": {
    "slideshow": {
     "slide_type": "slide"
    },
    "tags": []
   },
   "source": [
    "**GGPlot** is the graphics package associated with the Tidyverse.\n",
    "\n",
    "In this notebook, we will present a quick overview of the **design** principles behind the package."
   ]
  },
  {
   "cell_type": "markdown",
   "id": "5175ca89-549d-4f7d-aeae-f343fb65b6fa",
   "metadata": {
    "slideshow": {
     "slide_type": "slide"
    },
    "tags": []
   },
   "source": [
    "As with Dplyr, GGPlot2 is a an entirely new system that **supplants** the older graph functions that are built into R.\n",
    "\n",
    "It is founded on a principled analysis of its domain and from this develops a basic **grammar** which can then be expressed in R.\n",
    "\n",
    "Just as Dplyr is built on a **grammar of data** consisting of pipable verbs that correspond to the logic data transformation, GGPlot2 is built on a **grammar of graphics** consisting of **nouns** that correspond to **the architecture of a graphic** (aka plot)."
   ]
  },
  {
   "cell_type": "markdown",
   "id": "58ffdd58-69a0-4184-9a9f-dabe61a71dc6",
   "metadata": {
    "slideshow": {
     "slide_type": "slide"
    },
    "tags": []
   },
   "source": [
    "The phrase \"grammar of graphics\" actually comes from [the book](https://www.google.com/books/edition/The_Grammar_of_Graphics/YGgUswEACAAJ?hl=en) by that name written by statistician and computer scientist **Leland Wilkinson** in 1999 and later revised:\n",
    "\n",
    "<img src=\"images/paste-39DF579F.png\" alt=\"Image of book cover\" width=\"300\"/>\n",
    "\n",
    "It is worth reading if you want to get a solid grounding in visualization, which belongs to the **design area of data science**."
   ]
  },
  {
   "cell_type": "markdown",
   "id": "9fda4381-5336-4ff0-ab40-fbcb35488557",
   "metadata": {
    "slideshow": {
     "slide_type": "slide"
    },
    "tags": []
   },
   "source": [
    "The Grammar of Graphics takes an **object-oriented approach** to visualization and formalizes two main **principles**:\n",
    "\n",
    "I.  **Graphics** are built out of distinct ***layers***.\n",
    "\n",
    "II. In each layer, meaningful **plots** are constructed through **mappings of data onto aesthetics.**\n",
    "\n",
    "The primary layers are these:\n",
    "\n",
    "![](images/paste-E167991C.png)"
   ]
  },
  {
   "cell_type": "markdown",
   "id": "e96c7034-1039-4ebd-b70a-68f2d5725465",
   "metadata": {
    "slideshow": {
     "slide_type": "slide"
    },
    "tags": []
   },
   "source": [
    "According to Wickham, who adopted these principles and applied them to R,\n",
    "\n",
    "> A grammar of graphics is a tool that enables us to **concisely describe the components of a graphic**. Such a grammar allows us to **move beyond named graphics** (e.g., the \"scatterplot\") and gain insight into **the deep structure** that underlies statistical graphics ([Wickham 2012](https://www.tandfonline.com/doi/abs/10.1198/jcgs.2009.07098))."
   ]
  },
  {
   "cell_type": "markdown",
   "id": "d2fd5bf3-f935-4087-b314-1a842c233b20",
   "metadata": {
    "slideshow": {
     "slide_type": "slide"
    },
    "tags": []
   },
   "source": [
    "Wickham takes this idea and develops it into this:\n",
    "\n",
    "![](images/paste-D2214B2A.png)\n",
    "\n",
    "[Source](https://blog.gramener.com/grammar-of-graphics-data-stories/) (see also [ScienceCraft](https://www.science-craft.com/2014/07/08/introducing-the-grammar-of-graphics-plotting-concept/))."
   ]
  },
  {
   "cell_type": "markdown",
   "id": "78f96a3e-177e-4bdc-9558-053b52e3e9d6",
   "metadata": {
    "slideshow": {
     "slide_type": "slide"
    },
    "tags": []
   },
   "source": [
    "In this model, everything starts with **data.**\n",
    "\n",
    "Then data are mapped on **aesthetics** within **geometries.**\n",
    "\n",
    "-   **Geometries** are geometric things like points, lines, and bars.\n",
    "\n",
    "-   **Aesthetics** are visual things like position, size, color and shape."
   ]
  },
  {
   "cell_type": "markdown",
   "id": "3ff41495-a022-463c-9ff7-c2a36b980166",
   "metadata": {
    "slideshow": {
     "slide_type": "slide"
    },
    "tags": []
   },
   "source": [
    "Also note that aesthetics make use of visual **channels** to signify features and their properties.\n",
    "\n",
    "-   **Size** can mean greater than, which is good for numeric scale but not categories\n",
    "\n",
    "-   **Color** can signify things like value, e.g. via `red : dangerous : : green : safe`.\n",
    "\n",
    "These compose the primary layers.\n",
    "\n",
    "The other layers apply **downstream modifications** that add more **information** and **style** to the graph."
   ]
  }
 ],
 "metadata": {
  "kernelspec": {
   "display_name": "Python 3",
   "language": "python",
   "name": "python3"
  },
  "language_info": {
   "codemirror_mode": {
    "name": "ipython",
    "version": 3
   },
   "file_extension": ".py",
   "mimetype": "text/x-python",
   "name": "python",
   "nbconvert_exporter": "python",
   "pygments_lexer": "ipython3",
   "version": "3.11.4"
  }
 },
 "nbformat": 4,
 "nbformat_minor": 5
}
