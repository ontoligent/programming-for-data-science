{
 "cells": [
  {
   "cell_type": "markdown",
   "metadata": {
    "tags": []
   },
   "source": [
    "# NB: Extra\n",
    "\n",
    "Programming for Data Science"
   ]
  },
  {
   "cell_type": "markdown",
   "metadata": {},
   "source": [
    "## Class and Globals\n",
    "\n",
    "We experiment to see if classes can see the globals of their surrounding environment.\n",
    "\n",
    "We already know that functions can."
   ]
  },
  {
   "cell_type": "code",
   "execution_count": 2,
   "metadata": {
    "tags": []
   },
   "outputs": [],
   "source": [
    "class Test:\n",
    "    \n",
    "    # x has not been declared within the class \n",
    "    # or any of its methods\n",
    "    \n",
    "    def static_test():\n",
    "        print(x)\n",
    "        \n",
    "    def method_test(self):\n",
    "        print(x)"
   ]
  },
  {
   "cell_type": "code",
   "execution_count": 3,
   "metadata": {
    "tags": []
   },
   "outputs": [],
   "source": [
    "x = 5"
   ]
  },
  {
   "cell_type": "code",
   "execution_count": 4,
   "metadata": {
    "tags": []
   },
   "outputs": [
    {
     "name": "stdout",
     "output_type": "stream",
     "text": [
      "5\n"
     ]
    }
   ],
   "source": [
    "try:\n",
    "    Test.static_test()\n",
    "except NameError as e:\n",
    "    print(e)"
   ]
  },
  {
   "cell_type": "code",
   "execution_count": 5,
   "metadata": {
    "tags": []
   },
   "outputs": [],
   "source": [
    "t = Test()"
   ]
  },
  {
   "cell_type": "code",
   "execution_count": 6,
   "metadata": {
    "tags": []
   },
   "outputs": [
    {
     "name": "stdout",
     "output_type": "stream",
     "text": [
      "5\n"
     ]
    }
   ],
   "source": [
    "try:\n",
    "    t.method_test()\n",
    "except NameError as e:\n",
    "    print(e)"
   ]
  },
  {
   "cell_type": "markdown",
   "metadata": {},
   "source": [
    "So, global variables are **also visible within classes**.\n",
    "\n",
    "The class can see the globals, even though `x` was defined after the class definition.\n",
    "\n",
    "But what about imported classes and functions?\n",
    "\n",
    "### Try with Imports\n",
    "\n",
    "Now let's see how scope works with import.\n",
    "\n",
    "Here is the code contained by the file `test.py`:\n",
    "\n",
    "```python\n",
    "y = 15\n",
    "\n",
    "def imported_function_test():\n",
    "    print(x)\n",
    "\n",
    "def imported_function_test_y():\n",
    "    print(y)\n",
    "    \n",
    "class ImportedTest:\n",
    "    \n",
    "    def imported_static_test():\n",
    "        print(x)\n",
    "    \n",
    "    def imported_method_test(self):\n",
    "        print(x)\n",
    "        \n",
    "    def imported_static_test_y():\n",
    "        print(y)\n",
    "    \n",
    "    def imported_method_test_y(self):\n",
    "        print(y)\n",
    "```"
   ]
  },
  {
   "cell_type": "markdown",
   "metadata": {},
   "source": [
    "Now we import the module and all of its defined functions and classes."
   ]
  },
  {
   "cell_type": "code",
   "execution_count": 6,
   "metadata": {
    "tags": []
   },
   "outputs": [],
   "source": [
    "from test import *"
   ]
  },
  {
   "cell_type": "markdown",
   "metadata": {},
   "source": [
    "### Imported Function\n",
    "\n",
    "Now let's see if `x` is in any way visible to module."
   ]
  },
  {
   "cell_type": "code",
   "execution_count": 7,
   "metadata": {
    "tags": []
   },
   "outputs": [
    {
     "name": "stdout",
     "output_type": "stream",
     "text": [
      "name 'x' is not defined\n"
     ]
    }
   ],
   "source": [
    "try:\n",
    "    imported_function_test()\n",
    "except NameError as e:\n",
    "    print(e)"
   ]
  },
  {
   "cell_type": "code",
   "execution_count": 8,
   "metadata": {
    "tags": []
   },
   "outputs": [
    {
     "name": "stdout",
     "output_type": "stream",
     "text": [
      "15\n"
     ]
    }
   ],
   "source": [
    "try:\n",
    "    imported_function_test_y()\n",
    "except NameError as e:\n",
    "    print(e)"
   ]
  },
  {
   "cell_type": "markdown",
   "metadata": {},
   "source": [
    "### Imported Static Method"
   ]
  },
  {
   "cell_type": "code",
   "execution_count": 9,
   "metadata": {
    "tags": []
   },
   "outputs": [
    {
     "name": "stdout",
     "output_type": "stream",
     "text": [
      "name 'x' is not defined\n"
     ]
    }
   ],
   "source": [
    "try:\n",
    "    ImportedTest.imported_static_test()\n",
    "except NameError as e:\n",
    "    print(e)"
   ]
  },
  {
   "cell_type": "code",
   "execution_count": 10,
   "metadata": {
    "tags": []
   },
   "outputs": [
    {
     "name": "stdout",
     "output_type": "stream",
     "text": [
      "15\n"
     ]
    }
   ],
   "source": [
    "try:\n",
    "    ImportedTest.imported_static_test_y()\n",
    "except NameError as e:\n",
    "    print(e)"
   ]
  },
  {
   "cell_type": "markdown",
   "metadata": {},
   "source": [
    "### Imported Instance Method"
   ]
  },
  {
   "cell_type": "code",
   "execution_count": 11,
   "metadata": {
    "tags": []
   },
   "outputs": [],
   "source": [
    "t2 = ImportedTest()"
   ]
  },
  {
   "cell_type": "code",
   "execution_count": 12,
   "metadata": {
    "tags": []
   },
   "outputs": [
    {
     "name": "stdout",
     "output_type": "stream",
     "text": [
      "name 'x' is not defined\n"
     ]
    }
   ],
   "source": [
    "try:\n",
    "    t2.imported_method_test()\n",
    "except NameError as e:\n",
    "    print(e)"
   ]
  },
  {
   "cell_type": "code",
   "execution_count": 13,
   "metadata": {
    "tags": []
   },
   "outputs": [
    {
     "name": "stdout",
     "output_type": "stream",
     "text": [
      "15\n"
     ]
    }
   ],
   "source": [
    "try:\n",
    "    t2.imported_method_test_y()\n",
    "except NameError as e:\n",
    "    print(e)"
   ]
  },
  {
   "cell_type": "markdown",
   "metadata": {},
   "source": [
    "### Conclusion"
   ]
  },
  {
   "cell_type": "markdown",
   "metadata": {},
   "source": [
    "The global context of a class or function is the module, i.e. file, in which it is defined, \\\n",
    "not in which it is called."
   ]
  }
 ],
 "metadata": {
  "kernelspec": {
   "display_name": "Python 3",
   "language": "python",
   "name": "python3"
  },
  "language_info": {
   "codemirror_mode": {
    "name": "ipython",
    "version": 3
   },
   "file_extension": ".py",
   "mimetype": "text/x-python",
   "name": "python",
   "nbconvert_exporter": "python",
   "pygments_lexer": "ipython3",
   "version": "3.11.4"
  }
 },
 "nbformat": 4,
 "nbformat_minor": 4
}
