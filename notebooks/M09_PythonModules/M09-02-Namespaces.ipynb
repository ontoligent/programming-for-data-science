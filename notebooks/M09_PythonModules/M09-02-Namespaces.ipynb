{
 "cells": [
  {
   "cell_type": "markdown",
   "id": "f7e27f6b-920f-46c3-ab9f-f3aa04782077",
   "metadata": {
    "slideshow": {
     "slide_type": "slide"
    },
    "tags": []
   },
   "source": [
    "# NB: Namespaces and Paths\n",
    "\n",
    "Programming for Data Science"
   ]
  },
  {
   "cell_type": "markdown",
   "id": "4e3b4446-6572-4144-a936-bfdee4d31c3d",
   "metadata": {
    "slideshow": {
     "slide_type": "slide"
    },
    "tags": []
   },
   "source": [
    "## What is a Namespace?\n",
    "\n",
    "You can see that a python **module** acts as a unit for organizing a collection of elements or attributes:\n",
    "\n",
    "-   functions\n",
    "-   constants\n",
    "-   classes\n",
    "-   etc.\n",
    "\n",
    "All of these things are accessed by the formula:\n",
    "\n",
    "```python\n",
    "module.attribute\n",
    "```\n",
    "\n",
    "The module name in this formula defines the **namespace** for the attributes it contains."
   ]
  },
  {
   "cell_type": "markdown",
   "id": "4037bc33-f219-465b-8d8c-4ff96faafbb2",
   "metadata": {
    "slideshow": {
     "slide_type": "slide"
    },
    "tags": []
   },
   "source": [
    "So, a namespace holds **a collection of currently defined names** being used by a program.\n",
    "\n",
    "You can think of it as something like a Python **dictionary**. \n",
    "\n",
    "The keys are the module or package names and the values are the attribures contained by them.\n",
    "\n",
    "It's a way of making sure variable and function names **do not collide** or get confused with each other.\n",
    "\n",
    "So, two functions with the same name from different modules can be used in the same program if they are called with their namespaces:\n",
    "\n",
    "```python\n",
    "module1.my_function()\n",
    "module2.my_function()\n",
    "```"
   ]
  },
  {
   "cell_type": "markdown",
   "id": "b37b0806-5829-4ef8-a5f0-68daf2ad2bd4",
   "metadata": {
    "slideshow": {
     "slide_type": "slide"
    },
    "tags": []
   },
   "source": [
    "## Namespace Levels\n",
    "\n",
    "Python has **four** namespace **levels**:\n",
    "\n",
    "**B: Built-In**: Contains the names of all of Python’s built-in objects. \n",
    "\n",
    "**G: Global**: Contains any names defined at the level of the main program. \n",
    "\n",
    "* A global namespace is also created for any module that your program imports. \n",
    "* In other words, global refers to the top-level namespace **within a module** or file.\n",
    "\n",
    "**E: Enclosing**: The namespaces of a function for any functions defined within that function. \n",
    "\n",
    "* We saw this with `nonlocal` when going over functions and scope.\n",
    "\n",
    "**L: Local**: Contains any names defined inside of a function."
   ]
  },
  {
   "cell_type": "markdown",
   "id": "18290520-0755-456d-a9b9-02afb06ec114",
   "metadata": {
    "slideshow": {
     "slide_type": "slide"
    },
    "tags": []
   },
   "source": [
    "To know the context in which a name has meaning, Python searches namespaces from the inside out.\n",
    "\n",
    "    L -> E -> G -> B\n",
    "\n",
    "![image.png](../../media/scope.png)"
   ]
  },
  {
   "cell_type": "markdown",
   "id": "4b8106de-2794-4b4c-871e-7021ff4499f7",
   "metadata": {
    "slideshow": {
     "slide_type": "slide"
    },
    "tags": []
   },
   "source": [
    "Here is a demonstration of namespaces:"
   ]
  },
  {
   "cell_type": "code",
   "execution_count": 55,
   "id": "2769be84-bc35-4697-a3a8-43b86d83c160",
   "metadata": {
    "tags": []
   },
   "outputs": [],
   "source": [
    "g = 100\n",
    "\n",
    "def foo():\n",
    "    x = y = z = 1\n",
    "    print(\"Locals in foo:\", locals())\n",
    "    \n",
    "    def bar():\n",
    "        a = b = c = 2\n",
    "        print(\"Locals in bar:\", locals())\n",
    "        print(\"Global g:\", globals()['g'])\n",
    "        \n",
    "    bar()"
   ]
  },
  {
   "cell_type": "code",
   "execution_count": 56,
   "id": "a4664b13-441f-4f0d-b93d-ba78ff797768",
   "metadata": {
    "tags": []
   },
   "outputs": [
    {
     "name": "stdout",
     "output_type": "stream",
     "text": [
      "Locals in foo: {'x': 1, 'y': 1, 'z': 1}\n",
      "Locals in bar: {'a': 2, 'b': 2, 'c': 2}\n",
      "Global g: 100\n"
     ]
    }
   ],
   "source": [
    "foo()"
   ]
  },
  {
   "cell_type": "markdown",
   "id": "1e07893d-7745-4faa-be06-cea33cfa415d",
   "metadata": {
    "tags": []
   },
   "source": [
    "Notice how namespaces are related to **scope**."
   ]
  },
  {
   "cell_type": "markdown",
   "id": "c897fd02-30b8-4ce2-814d-590e285b39c0",
   "metadata": {
    "slideshow": {
     "slide_type": "slide"
    },
    "tags": []
   },
   "source": [
    "## How Python Finds Things\n",
    "\n",
    "How does Python know where to find modules?\n",
    "\n",
    "The interpreter keeps a list of places that it looks for modules or packages when you do an import. \n",
    "\n",
    "You can access this list from the `path` attribute in the `sys` module."
   ]
  },
  {
   "cell_type": "code",
   "execution_count": 34,
   "id": "938eaf89-8fd8-43a5-be21-9e03e7801f24",
   "metadata": {
    "slideshow": {
     "slide_type": "fragment"
    },
    "tags": []
   },
   "outputs": [
    {
     "data": {
      "text/plain": [
       "['/sfs/qumulo/qhome/rca2t/Documents/MSDS/DS5100/repo-book/notebooks/M09_PythonModules',\n",
       " '/apps/software/standard/core/jupyterlab/3.6.3-py3.11/lib/python311.zip',\n",
       " '/apps/software/standard/core/jupyterlab/3.6.3-py3.11/lib/python3.11',\n",
       " '/apps/software/standard/core/jupyterlab/3.6.3-py3.11/lib/python3.11/lib-dynload',\n",
       " '',\n",
       " '/home/rca2t/.local/lib/python3.11/site-packages',\n",
       " '/apps/software/standard/core/jupyterlab/3.6.3-py3.11/lib/python3.11/site-packages']"
      ]
     },
     "execution_count": 34,
     "metadata": {},
     "output_type": "execute_result"
    }
   ],
   "source": [
    "import sys\n",
    "\n",
    "sys.path"
   ]
  },
  {
   "cell_type": "markdown",
   "id": "7c334a5c-0440-4b33-a770-82f453a1bb16",
   "metadata": {
    "slideshow": {
     "slide_type": "fragment"
    },
    "tags": []
   },
   "source": [
    "You can edit that list to add or remove paths to let python find\n",
    "modules on a new place.\n",
    "\n",
    "```python\n",
    "sys.path.append(some_local_dir)\n",
    "```"
   ]
  },
  {
   "cell_type": "markdown",
   "id": "47b4e43e-7619-4aab-9a43-0da86565876a",
   "metadata": {
    "slideshow": {
     "slide_type": "slide"
    },
    "tags": []
   },
   "source": [
    "## Relative vs Absolute Paths\n",
    "\n",
    "You will sometimes see a dot `.` used in the import statements found in package intitialization files.\n",
    "\n",
    "It is used in the context of a `from` statement. \n",
    "\n",
    "For example:\n",
    "\n",
    "```python\n",
    "from . import funniest\n",
    "```\n",
    "or \n",
    "```python\n",
    "from .funniest import joke\n",
    "```"
   ]
  },
  {
   "cell_type": "markdown",
   "id": "843f9320-1dcc-4e7c-9d36-cfe14b30c5fb",
   "metadata": {
    "slideshow": {
     "slide_type": "fragment"
    },
    "tags": []
   },
   "source": [
    "The dot is used to create **relative** path names to packages and modules.\n",
    "\n",
    "This is in contrast to **absolute** path names, which is how Python accesses things by default."
   ]
  },
  {
   "cell_type": "markdown",
   "id": "a8599b22-1a43-4fce-840d-799ee61cf60e",
   "metadata": {
    "slideshow": {
     "slide_type": "slide"
    },
    "tags": []
   },
   "source": [
    "With **absolute** path names, Python will interpret package and module paths from the perspective of the **project directory**.\n",
    "\n",
    "The project directory contains the file that is importing the module, sometimes called the **main** file.\n",
    "\n",
    "When you are just importing a module that is in your directory, the project directory is the **directory of your script**.\n",
    "\n",
    "When you are importing a module that has been installed using `setup.py`, the project directory is the directory that contains the setup file.\n",
    "\n",
    "We'll look at setup files in another notebook."
   ]
  },
  {
   "cell_type": "markdown",
   "id": "28047b57-e4f3-44d0-a25d-d8efec58c9cf",
   "metadata": {
    "slideshow": {
     "slide_type": "slide"
    },
    "tags": []
   },
   "source": [
    "With **relative** path names, when you import modules in an `__init__.py` file within a package directory, the dot `.` refers to the **current** package or module's namespace, not the calling file's. "
   ]
  },
  {
   "cell_type": "markdown",
   "id": "d24a4394-4987-4f73-913e-07266eb651da",
   "metadata": {
    "slideshow": {
     "slide_type": "slide"
    },
    "tags": []
   },
   "source": [
    "For example, consider a package structure like this:\n",
    "\n",
    "```bash\n",
    "myproject/\n",
    "    main.py\n",
    "    mypackage/\n",
    "        __init__.py\n",
    "        module1.py\n",
    "        module2.py\n",
    "```"
   ]
  },
  {
   "cell_type": "markdown",
   "id": "d896e9b0-cf4c-4c95-9963-ca68cea35a66",
   "metadata": {
    "slideshow": {
     "slide_type": "fragment"
    },
    "tags": []
   },
   "source": [
    "Imagine that `main.py` is your program, and inside of it you want to import the modules in `mypackage` to do some things.\n",
    "\n",
    "Also imagine that `__init__.py` contains an import statement to pre-import `module1` and `module2`:\n",
    "\n",
    "```python\n",
    "from mypackage import moudle1, module2\n",
    "```"
   ]
  },
  {
   "cell_type": "markdown",
   "id": "fe6148b5-25cc-4754-b328-5bb20fec5a8c",
   "metadata": {
    "slideshow": {
     "slide_type": "fragment"
    },
    "tags": []
   },
   "source": [
    "So, you might do this from `main.py`:\n",
    "\n",
    "```python\n",
    "import mypackage as mp\n",
    "\n",
    "mp.module1.function1()\n",
    "```"
   ]
  },
  {
   "cell_type": "markdown",
   "id": "63dc122b-19f9-42be-8e20-9fadbf728aa6",
   "metadata": {
    "slideshow": {
     "slide_type": "slide"
    },
    "tags": []
   },
   "source": [
    "Now, when `myproject` is imported into main, the path in `__init__.py` is interpreted from **the perspective of the calling module**, i.e. `main.py`.\n",
    "\n",
    "This is why even though `__init__.py` is inside of `mypackage`, it will include `mypackage` in the import path, as if `mypackage` were below the directory that contains `__init__.py`."
   ]
  },
  {
   "cell_type": "markdown",
   "id": "9b1cbd7b-c7d3-4337-bb0c-c8978cf4b3a2",
   "metadata": {
    "slideshow": {
     "slide_type": "slide"
    },
    "tags": []
   },
   "source": [
    "To override this behavior, and have `__init__.py` use paths relative to itself, you can use a dot `.` to stand for the **current directory**.\n",
    "\n",
    "So, if you import `module1` using a relative import with a dot `.`, it would look like this:\n",
    "\n",
    "```python\n",
    "from . import module1, module2\n",
    "```"
   ]
  },
  {
   "cell_type": "markdown",
   "id": "114c28a3-fe5e-4190-88a4-0201dc0f14f3",
   "metadata": {
    "slideshow": {
     "slide_type": "fragment"
    },
    "tags": []
   },
   "source": [
    "This will probably not make much sense to you now.\n",
    "\n",
    "We will learn more about paths when we go over creating your own packages."
   ]
  }
 ],
 "metadata": {
  "kernelspec": {
   "display_name": "Python 3",
   "language": "python",
   "name": "python3"
  },
  "language_info": {
   "codemirror_mode": {
    "name": "ipython",
    "version": 3
   },
   "file_extension": ".py",
   "mimetype": "text/x-python",
   "name": "python",
   "nbconvert_exporter": "python",
   "pygments_lexer": "ipython3",
   "version": "3.11.4"
  }
 },
 "nbformat": 4,
 "nbformat_minor": 5
}
