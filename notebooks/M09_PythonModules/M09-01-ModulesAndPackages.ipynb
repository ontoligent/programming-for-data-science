{
 "cells": [
  {
   "cell_type": "markdown",
   "id": "f7e27f6b-920f-46c3-ab9f-f3aa04782077",
   "metadata": {
    "slideshow": {
     "slide_type": "slide"
    },
    "tags": []
   },
   "source": [
    "# NB: Modules and Packages\n",
    "\n",
    "Programming for Data Science"
   ]
  },
  {
   "cell_type": "markdown",
   "id": "3352f66d-5fc7-45d7-abb1-002cb2b41039",
   "metadata": {
    "slideshow": {
     "slide_type": "slide"
    },
    "tags": []
   },
   "source": [
    "## Modules\n",
    "\n",
    "In Python, a **module is a file** containing Python code &mdash; basically, a collection of expressions and statements. \n",
    "\n",
    "It will usually **contain** functions, classes, and fixed variables (\"constants\") such as the value of $\\Large\\pi$."
   ]
  },
  {
   "cell_type": "markdown",
   "id": "01fc9211-4c83-4212-8cb5-2a94d4721d64",
   "metadata": {
    "jp-MarkdownHeadingCollapsed": true,
    "slideshow": {
     "slide_type": "slide"
    },
    "tags": []
   },
   "source": [
    "For instance, let's say we have a file called `fibo.py` that contains the following code:\n",
    "\n",
    "```python\n",
    "## Fibonacci numbers module\n",
    "\n",
    "def fib(n):\n",
    "    \"Prints Fibonacci series up to n.\"\n",
    "    a, b = 0, 1\n",
    "    while a < n:\n",
    "        print(a, end=' ')\n",
    "        a, b = b, a+b\n",
    "    print()\n",
    "\n",
    "def fib2(n):\n",
    "    \"Returns a Fibonacci series up to n.\"\n",
    "    a, b = 0, 1\n",
    "    result = []\n",
    "    while a < n:\n",
    "        result.append(a)\n",
    "        a, b = b, a+b\n",
    "    return result\n",
    "```\n",
    "\n",
    "We would say that these two function belong to the module `fibo`, based on the filename used to store the code."
   ]
  },
  {
   "cell_type": "markdown",
   "id": "8fa75afe-ffc9-459e-84d0-bc907289c039",
   "metadata": {
    "slideshow": {
     "slide_type": "slide"
    },
    "tags": []
   },
   "source": [
    "## Importing\n",
    "\n",
    "To use the functions in this module in another program, you would need to **import** it.\n",
    "\n",
    "You can import a module into the script you are working in as follows:"
   ]
  },
  {
   "cell_type": "code",
   "execution_count": 1,
   "id": "74827140-683a-4fcd-b310-fe4b31325cc2",
   "metadata": {
    "tags": []
   },
   "outputs": [],
   "source": [
    "import fibo"
   ]
  },
  {
   "cell_type": "markdown",
   "id": "49e62395-facc-41dc-89ee-7bb29553d269",
   "metadata": {
    "slideshow": {
     "slide_type": "fragment"
    },
    "tags": []
   },
   "source": [
    "We can do this since `fibo.py` is sitting in the same directory as our notebook."
   ]
  },
  {
   "cell_type": "code",
   "execution_count": 2,
   "id": "7e1b074e-2ed9-4447-93c8-c6246f0923cd",
   "metadata": {
    "tags": []
   },
   "outputs": [
    {
     "name": "stdout",
     "output_type": "stream",
     "text": [
      "fibo.py\n"
     ]
    }
   ],
   "source": [
    "!ls | grep fibo.py"
   ]
  },
  {
   "cell_type": "markdown",
   "id": "3a5e03aa-2b95-47e2-aa7c-4b3502dfc783",
   "metadata": {
    "slideshow": {
     "slide_type": "fragment"
    },
    "tags": []
   },
   "source": [
    "Once we have imported the module, we can use its attributes (as they are called) in our code."
   ]
  },
  {
   "cell_type": "code",
   "execution_count": 3,
   "id": "7817c836-de97-46f3-ae5f-69adc287a9fe",
   "metadata": {
    "tags": []
   },
   "outputs": [
    {
     "name": "stdout",
     "output_type": "stream",
     "text": [
      "0 1 1 2 3 5 8 13 21 34 55 89 144 233 377 610 987 \n"
     ]
    }
   ],
   "source": [
    "fibo.fib(1000)"
   ]
  },
  {
   "cell_type": "code",
   "execution_count": 4,
   "id": "1fba2e0f-13c8-4c2f-882a-49505a2710b8",
   "metadata": {
    "tags": []
   },
   "outputs": [
    {
     "data": {
      "text/plain": [
       "[0, 1, 1, 2, 3, 5, 8, 13, 21, 34, 55, 89]"
      ]
     },
     "execution_count": 4,
     "metadata": {},
     "output_type": "execute_result"
    }
   ],
   "source": [
    "fibo.fib2(100)"
   ]
  },
  {
   "cell_type": "markdown",
   "id": "a0a9e2d2-11f4-43dc-95b1-23dafaa724ef",
   "metadata": {
    "slideshow": {
     "slide_type": "slide"
    },
    "tags": []
   },
   "source": [
    "## Module Names\n",
    "\n",
    "Note that the module's **name** we used to import is just the file name without the `.py` suffix. \n",
    "\n",
    "So, we say that the file `fibo.py` contains the module `fibo`."
   ]
  },
  {
   "cell_type": "markdown",
   "id": "04f3f79f-f27e-42e2-89b4-c579a1b7b4bd",
   "metadata": {
    "slideshow": {
     "slide_type": "slide"
    },
    "tags": []
   },
   "source": [
    "## `__name__`\n",
    "\n",
    "Python provides a special variable called `__name__` that you can use to get the name of a module.\n",
    "\n",
    "We saw this in our discussion of `unittest`.\n",
    "\n",
    "For example:"
   ]
  },
  {
   "cell_type": "code",
   "execution_count": 5,
   "id": "533d6f40-ea5c-425e-a1f8-94798ce67346",
   "metadata": {
    "tags": []
   },
   "outputs": [
    {
     "data": {
      "text/plain": [
       "'fibo'"
      ]
     },
     "execution_count": 5,
     "metadata": {},
     "output_type": "execute_result"
    }
   ],
   "source": [
    "fibo.__name__"
   ]
  },
  {
   "cell_type": "markdown",
   "id": "aef14d1f-77c5-4585-8ea8-f1e819d84750",
   "metadata": {
    "slideshow": {
     "slide_type": "fragment"
    },
    "tags": []
   },
   "source": [
    "Note that when the module being run is the current file, the name changes to `__main__`."
   ]
  },
  {
   "cell_type": "markdown",
   "id": "d7d35ae5-bb0b-4c5c-abd1-1bde9d7450d0",
   "metadata": {
    "tags": []
   },
   "source": [
    "Let's look at the name of this notebook."
   ]
  },
  {
   "cell_type": "code",
   "execution_count": 6,
   "id": "a7f7ee3e-d98e-4038-9095-50289745cbba",
   "metadata": {
    "tags": []
   },
   "outputs": [
    {
     "data": {
      "text/plain": [
       "'__main__'"
      ]
     },
     "execution_count": 6,
     "metadata": {},
     "output_type": "execute_result"
    }
   ],
   "source": [
    "__name__"
   ]
  },
  {
   "cell_type": "markdown",
   "id": "ef6c616f-2282-4571-85a9-845b57b9230c",
   "metadata": {
    "slideshow": {
     "slide_type": "slide"
    },
    "tags": []
   },
   "source": [
    "## Packages\n",
    "\n",
    "**A package is just a directory** that may contain other modules and packages.\n",
    "\n",
    "For a directory to become a package, it should contain an `__init__.py` file.\n",
    "\n",
    "Note that as of Python 3.3, this file is optional. However, it is still useful and commonly used.\n",
    "\n",
    "The `__init__.py` can be **totally empty** or it can have some Python code in it. \n",
    "\n",
    "We'll see why you would put code in it below."
   ]
  },
  {
   "cell_type": "markdown",
   "id": "840f7898-ddfe-413d-b051-fd9666424414",
   "metadata": {
    "slideshow": {
     "slide_type": "slide"
    },
    "tags": []
   },
   "source": [
    "Here's an example of a simple package:"
   ]
  },
  {
   "cell_type": "raw",
   "id": "11e4aba4-3991-4439-a42b-59f28612ad81",
   "metadata": {
    "tags": []
   },
   "source": [
    "a_package_dir/\n",
    "    __init__.py # Can be empty\n",
    "    module_a.py # Contains functions, classes, etc."
   ]
  },
  {
   "cell_type": "markdown",
   "id": "9f49d4f6-cf98-4526-be8d-38ec6999ca1f",
   "metadata": {
    "slideshow": {
     "slide_type": "fragment"
    },
    "tags": []
   },
   "source": [
    "Here is an example directory structure of a package that contains another package:"
   ]
  },
  {
   "cell_type": "raw",
   "id": "8cc9467c-651b-421f-8b00-14d7ecde0189",
   "metadata": {
    "tags": []
   },
   "source": [
    "a_package_dir/\n",
    "    __init__.py\n",
    "    module_a.py\n",
    "    a_sub_package_dir/ # A subdirectory\n",
    "        __init__.py\n",
    "        module_b.py"
   ]
  },
  {
   "cell_type": "markdown",
   "id": "4c5c1e55-76eb-43d2-a5a0-b3190e69e60b",
   "metadata": {
    "slideshow": {
     "slide_type": "fragment"
    },
    "tags": []
   },
   "source": [
    "Given the above directory and file structures, within a Python file you can import the package `a_package` like this:\n",
    "\n",
    "```python\n",
    "import a_package\n",
    "````\n",
    "\n",
    "This will run any code in `a_package/__init__.py`."
   ]
  },
  {
   "cell_type": "markdown",
   "id": "168f2fab-6bb4-4819-afac-28e59e4f4470",
   "metadata": {
    "slideshow": {
     "slide_type": "fragment"
    },
    "tags": []
   },
   "source": [
    "Any variable or function names defined in the `__init__.py` will be available like this:\n",
    "\n",
    "```python\n",
    "a_package.a_name\n",
    "```"
   ]
  },
  {
   "cell_type": "markdown",
   "id": "000c6eda-0138-4e97-82c0-3f59384bf4a8",
   "metadata": {
    "slideshow": {
     "slide_type": "slide"
    },
    "tags": []
   },
   "source": [
    "However, no **modules** will be imported unless explicity commanded to. \n",
    "\n",
    "So, the following will not work:\n",
    "\n",
    "```python\n",
    "a_package.module_a\n",
    "```\n",
    "\n",
    "This is because `module_a` has **not** be imported. "
   ]
  },
  {
   "cell_type": "markdown",
   "id": "f7e135d8-dd6d-4de3-bdec-603294bc62a2",
   "metadata": {
    "slideshow": {
     "slide_type": "fragment"
    },
    "tags": []
   },
   "source": [
    "To access `module_a`, we need to explicitly import it:\n",
    "\n",
    "```python\n",
    "import a_package.module_a\n",
    "```"
   ]
  },
  {
   "cell_type": "markdown",
   "id": "67b0d2ef-1368-4e1a-97c4-7c9cd5c9871d",
   "metadata": {
    "slideshow": {
     "slide_type": "slide"
    },
    "tags": []
   },
   "source": [
    "## Example"
   ]
  },
  {
   "cell_type": "markdown",
   "id": "04f0a2ab-9397-4503-9fc5-03b3361f0d51",
   "metadata": {},
   "source": [
    "Let's look at an example with actual files."
   ]
  },
  {
   "cell_type": "code",
   "execution_count": 7,
   "id": "d64423d8-d9b3-4498-9ef0-5cf680a8736f",
   "metadata": {
    "slideshow": {
     "slide_type": "slide"
    },
    "tags": []
   },
   "outputs": [
    {
     "name": "stdout",
     "output_type": "stream",
     "text": [
      "total 8\n",
      "-rw------- 1 rca2t users  0 May  8 15:36 __init__.py\n",
      "-rw------- 1 rca2t users 49 May  8 15:36 module1.py\n"
     ]
    }
   ],
   "source": [
    "!ls -l demo_package1/"
   ]
  },
  {
   "cell_type": "code",
   "execution_count": 8,
   "id": "2c245599-b753-40e6-90ec-ee4c3f156295",
   "metadata": {
    "slideshow": {
     "slide_type": "fragment"
    },
    "tags": []
   },
   "outputs": [],
   "source": [
    "!more demo_package1/__init__.py"
   ]
  },
  {
   "cell_type": "code",
   "execution_count": 9,
   "id": "7615823c-5102-4117-872e-1678b48dca0f",
   "metadata": {
    "slideshow": {
     "slide_type": "fragment"
    },
    "tags": []
   },
   "outputs": [
    {
     "name": "stdout",
     "output_type": "stream",
     "text": [
      "def welcome1():\n",
      "    print(\"Hi, I'm from Demo 1!\")\n"
     ]
    }
   ],
   "source": [
    "!more demo_package1/module1.py"
   ]
  },
  {
   "cell_type": "markdown",
   "id": "0d44509a-e93c-41c2-b2eb-aa9a089b530a",
   "metadata": {
    "slideshow": {
     "slide_type": "fragment"
    },
    "tags": []
   },
   "source": [
    "We import the package ..."
   ]
  },
  {
   "cell_type": "code",
   "execution_count": 10,
   "id": "5454fa1a-4422-45de-95a5-ac5300074be3",
   "metadata": {
    "tags": []
   },
   "outputs": [],
   "source": [
    "import demo_package1"
   ]
  },
  {
   "cell_type": "markdown",
   "id": "6ab609a0-7dc9-436d-8707-2a601cbf12cb",
   "metadata": {
    "slideshow": {
     "slide_type": "fragment"
    },
    "tags": []
   },
   "source": [
    "But cannot access the module."
   ]
  },
  {
   "cell_type": "code",
   "execution_count": 11,
   "id": "7ca651bd-71e1-4dc9-9ea8-1eb02c849bce",
   "metadata": {
    "scrolled": true,
    "tags": []
   },
   "outputs": [
    {
     "ename": "AttributeError",
     "evalue": "module 'demo_package1' has no attribute 'module1'",
     "output_type": "error",
     "traceback": [
      "\u001b[0;31m---------------------------------------------------------------------------\u001b[0m",
      "\u001b[0;31mAttributeError\u001b[0m                            Traceback (most recent call last)",
      "Cell \u001b[0;32mIn[11], line 1\u001b[0m\n\u001b[0;32m----> 1\u001b[0m \u001b[43mdemo_package1\u001b[49m\u001b[38;5;241;43m.\u001b[39;49m\u001b[43mmodule1\u001b[49m\n",
      "\u001b[0;31mAttributeError\u001b[0m: module 'demo_package1' has no attribute 'module1'"
     ]
    }
   ],
   "source": [
    "demo_package1.module1"
   ]
  },
  {
   "cell_type": "markdown",
   "id": "2f72c147-2ab6-45d0-8860-b6b87c9e48f0",
   "metadata": {
    "slideshow": {
     "slide_type": "slide"
    },
    "tags": []
   },
   "source": [
    "To access the module in the package directory, we have to specify it in the **import path**:"
   ]
  },
  {
   "cell_type": "code",
   "execution_count": 12,
   "id": "93b5fbc4-1a20-46fa-9ff1-58778aebc151",
   "metadata": {
    "tags": []
   },
   "outputs": [],
   "source": [
    "import demo_package1.module1"
   ]
  },
  {
   "cell_type": "code",
   "execution_count": 13,
   "id": "158307cd-9600-4a0d-a792-6870a662c46b",
   "metadata": {
    "tags": []
   },
   "outputs": [
    {
     "data": {
      "text/plain": [
       "<module 'demo_package1.module1' from '/sfs/qumulo/qhome/rca2t/Documents/MSDS/DS5100/repo-book/notebooks/M09_PythonModules/demo_package1/module1.py'>"
      ]
     },
     "execution_count": 13,
     "metadata": {},
     "output_type": "execute_result"
    }
   ],
   "source": [
    "demo_package1.module1"
   ]
  },
  {
   "cell_type": "markdown",
   "id": "7f7d1eba-af74-4b70-a525-076b5e82c0e9",
   "metadata": {
    "slideshow": {
     "slide_type": "fragment"
    },
    "tags": []
   },
   "source": [
    "Now we have it in memory and can access its attributes."
   ]
  },
  {
   "cell_type": "code",
   "execution_count": 14,
   "id": "fdc4bd71-f6fc-4ab6-8275-f995dbedc6b0",
   "metadata": {
    "tags": []
   },
   "outputs": [
    {
     "name": "stdout",
     "output_type": "stream",
     "text": [
      "Hi, I'm from Demo 1!\n"
     ]
    }
   ],
   "source": [
    "demo_package1.module1.welcome1()"
   ]
  },
  {
   "cell_type": "markdown",
   "id": "21c06821-7c57-4f98-bc05-ad612d3a52fb",
   "metadata": {
    "slideshow": {
     "slide_type": "slide"
    },
    "tags": []
   },
   "source": [
    "## `from`"
   ]
  },
  {
   "cell_type": "markdown",
   "id": "c0ec45d8-4be9-42ad-bc86-f75d754a2cf2",
   "metadata": {},
   "source": [
    "We can use the `from` statement to provide a context for our imports.\n",
    "\n",
    "This allows use to directly import the module into our code."
   ]
  },
  {
   "cell_type": "code",
   "execution_count": 15,
   "id": "ad4ddbe0-512e-4dad-a967-38161d18cb6e",
   "metadata": {
    "slideshow": {
     "slide_type": "fragment"
    },
    "tags": []
   },
   "outputs": [],
   "source": [
    "from demo_package1 import module1"
   ]
  },
  {
   "cell_type": "code",
   "execution_count": 16,
   "id": "ce47f0cc-3f5e-4f0e-b466-9e4e4d7d9e77",
   "metadata": {
    "tags": []
   },
   "outputs": [
    {
     "name": "stdout",
     "output_type": "stream",
     "text": [
      "Hi, I'm from Demo 1!\n"
     ]
    }
   ],
   "source": [
    "module1.welcome1()"
   ]
  },
  {
   "cell_type": "code",
   "execution_count": 17,
   "id": "68aa15e5-a8a1-49d3-a18b-e08f57128721",
   "metadata": {
    "slideshow": {
     "slide_type": "fragment"
    },
    "tags": []
   },
   "outputs": [],
   "source": [
    "from demo_package1.module1 import welcome1"
   ]
  },
  {
   "cell_type": "code",
   "execution_count": 18,
   "id": "140a25ac-f04b-4144-afea-000a03d717b4",
   "metadata": {
    "tags": []
   },
   "outputs": [
    {
     "name": "stdout",
     "output_type": "stream",
     "text": [
      "Hi, I'm from Demo 1!\n"
     ]
    }
   ],
   "source": [
    "welcome1()"
   ]
  },
  {
   "cell_type": "markdown",
   "id": "54c0e2df-273c-42e7-8bf9-9cb5328d1c4e",
   "metadata": {},
   "source": [
    "Note how we avoid having to name the package or module in these examples. "
   ]
  },
  {
   "cell_type": "markdown",
   "id": "aafbef69-e1d1-47a0-b384-61b5a982e2f9",
   "metadata": {
    "slideshow": {
     "slide_type": "slide"
    },
    "tags": []
   },
   "source": [
    "Note that we can't do this:"
   ]
  },
  {
   "cell_type": "code",
   "execution_count": 19,
   "id": "78682598-f41d-42d4-8d07-14a20275bb0c",
   "metadata": {
    "tags": []
   },
   "outputs": [
    {
     "ename": "SyntaxError",
     "evalue": "invalid syntax (2584258834.py, line 1)",
     "output_type": "error",
     "traceback": [
      "\u001b[0;36m  Cell \u001b[0;32mIn[19], line 1\u001b[0;36m\u001b[0m\n\u001b[0;31m    from demo_package1 import module1.welcome1\u001b[0m\n\u001b[0m                                     ^\u001b[0m\n\u001b[0;31mSyntaxError\u001b[0m\u001b[0;31m:\u001b[0m invalid syntax\n"
     ]
    }
   ],
   "source": [
    "from demo_package1 import module1.welcome1"
   ]
  },
  {
   "cell_type": "markdown",
   "id": "85c3e77d-a891-49f7-bfc9-0445e9c1f20f",
   "metadata": {
    "slideshow": {
     "slide_type": "fragment"
    },
    "tags": []
   },
   "source": [
    "This is because you can only import what a module or package **direclty** contains.\n",
    "\n",
    "So, although `demo_package1` contains `module1`,\\\n",
    "and `module1` contains `welcome1`,\\\n",
    "`demo_package1` does **not** contain `welcome1`."
   ]
  },
  {
   "cell_type": "markdown",
   "id": "6af6c48b-3db3-4995-beab-fbdf6968b430",
   "metadata": {
    "slideshow": {
     "slide_type": "fragment"
    },
    "tags": []
   },
   "source": [
    "Notice the **grammar** here. \n",
    "\n",
    "The `from` keyword provides the **context** resource, and the `import` keyword specifies the **attribute name** directly contained by the resource.\n",
    "\n",
    "In each case, what follows `import` is the name of the resource you will use to access it."
   ]
  },
  {
   "cell_type": "markdown",
   "id": "b7196f85-47c6-4878-b652-c2d51069c5fe",
   "metadata": {
    "slideshow": {
     "slide_type": "slide"
    },
    "tags": []
   },
   "source": [
    "## Preloading Modules and Functions\n",
    "\n",
    "Rembmer that you can put any code you want in a `__init__.py` file.\n",
    "\n",
    "It's as if the package directory is a module, and the contents the initialization file is the content of the module."
   ]
  },
  {
   "cell_type": "markdown",
   "id": "8f5ba576-016a-43c8-9c07-da53204103d9",
   "metadata": {
    "slideshow": {
     "slide_type": "fragment"
    },
    "tags": []
   },
   "source": [
    "A **common use case** for putting code into the package initialization file is to **preload modules** when importing the package.\n",
    "\n",
    "This can be useful if you want to make certain modules available to all other modules in your project.\n",
    "\n",
    "You can also use it to import files to be shared by modules in your own project for convenience."
   ]
  },
  {
   "cell_type": "markdown",
   "id": "8232e315-5df8-4c55-89c7-da820f054bca",
   "metadata": {
    "slideshow": {
     "slide_type": "slide"
    },
    "tags": []
   },
   "source": [
    "For example, let's say you have the following package set up:\n",
    "\n",
    "```bash\n",
    "funny/\n",
    "    __init__.py\n",
    "    funniest.py # contains the function joke()\n",
    "```"
   ]
  },
  {
   "cell_type": "markdown",
   "id": "bda405f6-c943-4f6b-aaf5-cede5204a5a7",
   "metadata": {
    "slideshow": {
     "slide_type": "fragment"
    },
    "tags": []
   },
   "source": [
    "If you wanted to import the module `funniest` into a script and have access to the function `joke()`, you'd have to do this:\n",
    "\n",
    "```python\n",
    "import funny.funniest\n",
    "```"
   ]
  },
  {
   "cell_type": "markdown",
   "id": "fce00da2-9105-4e4b-b206-98e01a0ded41",
   "metadata": {
    "slideshow": {
     "slide_type": "fragment"
    },
    "tags": []
   },
   "source": [
    "And then to use the function, do this:\n",
    "\n",
    "```python\n",
    "funny.funniest.joke()\n",
    "```"
   ]
  },
  {
   "cell_type": "markdown",
   "id": "1826b40f-7d20-4cc8-ae45-77443f0cb890",
   "metadata": {
    "slideshow": {
     "slide_type": "fragment"
    },
    "tags": []
   },
   "source": [
    "But, remember, you **can't** do this:\n",
    "\n",
    "```python\n",
    "import funny\n",
    "\n",
    "funny.funniest.joke()\n",
    "```"
   ]
  },
  {
   "cell_type": "markdown",
   "id": "a017b69c-5287-4427-b83a-560db130a038",
   "metadata": {
    "slideshow": {
     "slide_type": "slide"
    },
    "tags": []
   },
   "source": [
    "However, you _could_ do this if you want to simplify how you access the function:\n",
    "\n",
    "```python\n",
    "from funny import funniest\n",
    "\n",
    "funniest.joke()\n",
    "```"
   ]
  },
  {
   "cell_type": "markdown",
   "id": "7f70a8cb-c525-4645-8c3b-69f9f5123232",
   "metadata": {
    "slideshow": {
     "slide_type": "fragment"
    },
    "tags": []
   },
   "source": [
    "Or even this:\n",
    "\n",
    "```python\n",
    "from funny.funniest import joke\n",
    "\n",
    "joke()\n",
    "```"
   ]
  },
  {
   "cell_type": "markdown",
   "id": "68814f48-b619-43a4-a4f5-da7264b5c3dc",
   "metadata": {
    "slideshow": {
     "slide_type": "slide"
    },
    "tags": []
   },
   "source": [
    "Now, you can **by-pass** having to import the module doing all of this in the initialization file.\n",
    "\n",
    "Basically, you can put the same import line into the initialization file, and it's as if you did it in your program.\n",
    "\n",
    "Here are some scenarios."
   ]
  },
  {
   "cell_type": "markdown",
   "id": "10c24497-3ba8-48a9-ae06-733b47c4628e",
   "metadata": {},
   "source": [
    "In `__init__.py` put:\n",
    "\n",
    "```python\n",
    "import funny.funniest\n",
    "```\n",
    "\n",
    "Or:\n",
    "\n",
    "```python\n",
    "from funny import funniest\n",
    "```\n"
   ]
  },
  {
   "cell_type": "markdown",
   "id": "97f9d559-4905-4d81-8802-3dce52ed9cf6",
   "metadata": {
    "slideshow": {
     "slide_type": "fragment"
    },
    "tags": []
   },
   "source": [
    "Then in the program:\n",
    "\n",
    "```python\n",
    "import funny\n",
    "\n",
    "funny.funniest.joke()\n",
    "```"
   ]
  },
  {
   "cell_type": "markdown",
   "id": "8fb56803-350e-401d-a4e8-1564fa5e1760",
   "metadata": {
    "slideshow": {
     "slide_type": "fragment"
    },
    "tags": []
   },
   "source": [
    "It looks like we violated the principle that you can only access what is immediately contained by the resource, but we secretly imported the contained module in our package initializer."
   ]
  },
  {
   "cell_type": "markdown",
   "id": "5bfebc3a-e90c-4ea7-8494-4d5873384ba1",
   "metadata": {
    "slideshow": {
     "slide_type": "slide"
    },
    "tags": []
   },
   "source": [
    "Or, you can put this in the initialization file:\n",
    "\n",
    "```python\n",
    "from funny.funniest import joke\n",
    "```"
   ]
  },
  {
   "cell_type": "markdown",
   "id": "1a62bb7e-c428-4b8b-8f7f-93e1993f375d",
   "metadata": {
    "slideshow": {
     "slide_type": "fragment"
    },
    "tags": []
   },
   "source": [
    "Then in the program, you can do this:\n",
    "\n",
    "```python\n",
    "import funny\n",
    "\n",
    "funny.joke()\n",
    "```"
   ]
  },
  {
   "cell_type": "markdown",
   "id": "266e67cf-7a6a-4589-9340-b4b0579ae837",
   "metadata": {
    "slideshow": {
     "slide_type": "fragment"
    },
    "tags": []
   },
   "source": [
    "Or this:\n",
    "\n",
    "```python\n",
    "from funny import joke\n",
    "\n",
    "joke()\n",
    "```"
   ]
  },
  {
   "cell_type": "markdown",
   "id": "585ce415-ef6a-4796-bd56-a98e9af7a256",
   "metadata": {
    "slideshow": {
     "slide_type": "fragment"
    },
    "tags": []
   },
   "source": [
    "See how it simplifies the import statement?"
   ]
  },
  {
   "cell_type": "markdown",
   "id": "cbb3015b-6014-427c-a587-09a1557abe58",
   "metadata": {
    "slideshow": {
     "slide_type": "slide"
    },
    "tags": []
   },
   "source": [
    "Let's looks at some examples with real files."
   ]
  },
  {
   "cell_type": "markdown",
   "id": "80053cfe-4b2a-42a3-bf56-573a19eeea8f",
   "metadata": {
    "slideshow": {
     "slide_type": "slide"
    },
    "tags": []
   },
   "source": [
    "## Example 1: Empty `__init__.py`"
   ]
  },
  {
   "cell_type": "markdown",
   "id": "576dbc6a-3544-402b-b76c-11e77aaea87c",
   "metadata": {},
   "source": [
    "Let's import a module, this time using an alias."
   ]
  },
  {
   "cell_type": "code",
   "execution_count": 20,
   "id": "b6950e5e-7489-4640-a3f2-e287b18338af",
   "metadata": {
    "tags": []
   },
   "outputs": [],
   "source": [
    "import demo_package1.module1 as d1m"
   ]
  },
  {
   "cell_type": "code",
   "execution_count": 21,
   "id": "88715859-ad41-4367-ab4f-35f01ca432b0",
   "metadata": {
    "tags": []
   },
   "outputs": [
    {
     "name": "stdout",
     "output_type": "stream",
     "text": [
      "Hi, I'm from Demo 1!\n"
     ]
    }
   ],
   "source": [
    "d1m.welcome1()"
   ]
  },
  {
   "cell_type": "markdown",
   "id": "5f83d8c1-fbb1-45c8-8a28-9ac132a7ebaf",
   "metadata": {
    "slideshow": {
     "slide_type": "fragment"
    },
    "tags": []
   },
   "source": [
    "Here we use a `from` statement to provide context."
   ]
  },
  {
   "cell_type": "code",
   "execution_count": 22,
   "id": "6bb3ef0e-822f-4fff-8b27-5e99f370fc55",
   "metadata": {
    "tags": []
   },
   "outputs": [],
   "source": [
    "from demo_package1.module1 import welcome1"
   ]
  },
  {
   "cell_type": "code",
   "execution_count": 23,
   "id": "8bb2ebc2-f133-4880-b8fe-24cf85a44ef0",
   "metadata": {
    "tags": []
   },
   "outputs": [
    {
     "name": "stdout",
     "output_type": "stream",
     "text": [
      "Hi, I'm from Demo 1!\n"
     ]
    }
   ],
   "source": [
    "welcome1()"
   ]
  },
  {
   "cell_type": "markdown",
   "id": "649f4ed1-c567-4cbc-a232-7a0a2d667fe5",
   "metadata": {
    "slideshow": {
     "slide_type": "slide"
    },
    "tags": []
   },
   "source": [
    "## Example 2: Edited `__init__.py`\n",
    "\n",
    "Now, we can allow the users to import a module function directly from a package by simply adding the following to our package initializer:\n",
    "\n",
    "```python\n",
    "from package.module import func # or class\n",
    "```"
   ]
  },
  {
   "cell_type": "markdown",
   "id": "1399c89e-fc86-45d1-8325-207b607f1cf0",
   "metadata": {
    "slideshow": {
     "slide_type": "fragment"
    },
    "tags": []
   },
   "source": [
    "For example, our Demo2 `__init__().py` contains:\n",
    "\n",
    "```python\n",
    "from demo_package2.module2 import welcome2\n",
    "```"
   ]
  },
  {
   "cell_type": "markdown",
   "id": "642fbe77-f1f5-46a6-a743-f56043ab7dca",
   "metadata": {
    "slideshow": {
     "slide_type": "fragment"
    },
    "tags": []
   },
   "source": [
    "This allows us to do this in our calling script:"
   ]
  },
  {
   "cell_type": "code",
   "execution_count": 24,
   "id": "8f6d822f-2373-4a65-b464-959eb319c8c4",
   "metadata": {
    "tags": []
   },
   "outputs": [
    {
     "name": "stdout",
     "output_type": "stream",
     "text": [
      "Hi, I'm from Demo 2!\n"
     ]
    }
   ],
   "source": [
    "import demo_package2 as d2\n",
    "\n",
    "d2.welcome2()"
   ]
  },
  {
   "cell_type": "markdown",
   "id": "20d6fe6d-d68a-4147-a5b3-57559a2879d5",
   "metadata": {
    "slideshow": {
     "slide_type": "fragment"
    },
    "tags": []
   },
   "source": [
    "Or this:"
   ]
  },
  {
   "cell_type": "code",
   "execution_count": 25,
   "id": "8bc445bc-ab82-4130-8733-af150244f6a4",
   "metadata": {
    "tags": []
   },
   "outputs": [
    {
     "name": "stdout",
     "output_type": "stream",
     "text": [
      "Hi, I'm from Demo 2!\n"
     ]
    }
   ],
   "source": [
    "from demo_package2 import welcome2\n",
    "\n",
    "welcome2()"
   ]
  },
  {
   "cell_type": "markdown",
   "id": "9a52bc25-5aa3-4cc3-b3f6-c9bfb9065bfd",
   "metadata": {},
   "source": [
    "It turns out, this is a common practice."
   ]
  }
 ],
 "metadata": {
  "kernelspec": {
   "display_name": "Python 3",
   "language": "python",
   "name": "python3"
  },
  "language_info": {
   "codemirror_mode": {
    "name": "ipython",
    "version": 3
   },
   "file_extension": ".py",
   "mimetype": "text/x-python",
   "name": "python",
   "nbconvert_exporter": "python",
   "pygments_lexer": "ipython3",
   "version": "3.11.4"
  }
 },
 "nbformat": 4,
 "nbformat_minor": 5
}
