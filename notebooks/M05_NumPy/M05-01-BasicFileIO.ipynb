{
 "cells": [
  {
   "cell_type": "markdown",
   "metadata": {
    "slideshow": {
     "slide_type": "slide"
    }
   },
   "source": [
    "# NB: Basic File I/O\n",
    "\n",
    "Programming for Data Science"
   ]
  },
  {
   "cell_type": "markdown",
   "metadata": {
    "slideshow": {
     "slide_type": "slide"
    }
   },
   "source": [
    "## Motivation\n",
    "\n",
    "Another useful topic that we will introduce now concerns how to read and write data to and from sources external to your program.\n",
    "\n",
    "External sources include the file system, the web, or an external database.\n",
    "\n",
    "We call reading your data to and from files **file I/O**, where I/O stands for input and output.\n",
    "\n",
    "Python provides a function for file i/o &mdash; `open()`.\n",
    "\n",
    "We will discuss this along with a use case of importing structured data from a file.\n",
    "\n",
    "This will motivate the use of more sophisticated tools such as we will encounter with NumPy and Pandas."
   ]
  },
  {
   "cell_type": "markdown",
   "metadata": {
    "slideshow": {
     "slide_type": "slide"
    }
   },
   "source": [
    "## Open Files with `open()`\n",
    "\n",
    "Python's `open()` function allows you to read and write files from the file system, or, as we sometimes say, \"from disk.\"\n",
    "\n",
    "A common use case is opening up a text file containing data you want to work with, such as a CSV file.\n",
    "\n",
    "CSV means \"Comma Separated Values.\"\n",
    "\n",
    "A CSV file is a plain text file where each line has a list of data items separated (i.e. delimitied) by a comma (or other character, such as tab).\n",
    "\n",
    "Each row should have the same number of delimited items.\n",
    "\n",
    "Often, but not always, the first line contains the names of the columns for the delimited data."
   ]
  },
  {
   "cell_type": "markdown",
   "metadata": {
    "slideshow": {
     "slide_type": "slide"
    }
   },
   "source": [
    "## Biostats Data\n",
    "\n",
    "Let's open a sample CSV file, `biostats.csv`.\n",
    "\n",
    "Because we want to convert it into a Python data structure, we need to know something about how the source file is structured. Here are some basic facts about the file:\n",
    "\n",
    "- It has some biometric statistics for a group of office workers. \n",
    "- There are 18 records, recording Name, Sex, Age, Height, Weight \n",
    "- There is an initial header line.\n",
    "\n",
    "This file was downloaded from https://people.sc.fsu.edu/~jburkardt/data/csv/csv.html and modified slightly.\n",
    "\n",
    "Let's open a downloaded version."
   ]
  },
  {
   "cell_type": "code",
   "execution_count": 1,
   "metadata": {},
   "outputs": [],
   "source": [
    "src_file_name = \"./sample_data_files/biostats.csv\"\n",
    "file_handle = open(src_file_name, 'r')"
   ]
  },
  {
   "cell_type": "markdown",
   "metadata": {
    "slideshow": {
     "slide_type": "slide"
    }
   },
   "source": [
    "The `open()` function takes two parameters:\n",
    "\n",
    "* The **name** of the file we want to open.\n",
    "* The **mode** in which the file is opened. It defaults to `r` which means open for reading in text\n",
    "mode. Other common values are:\n",
    "  * `w` for writing (truncating the file if it already exists)\n",
    "  * `x` for creating and writing to a new file \n",
    "  * `a` for appending\n",
    "\n",
    "This returns a file an _iterator_.\n",
    "\n",
    "We sometimes call the file object a file \"handle.\""
   ]
  },
  {
   "cell_type": "markdown",
   "metadata": {
    "slideshow": {
     "slide_type": "slide"
    }
   },
   "source": [
    "To get the contents of the file into the program, we have a couple of options.\n",
    "\n",
    "`.read()` reads in the file as one long string.\n",
    "\n",
    "`.readlines()` reads in the file as a list of lines, created by the hard returns `\\n` in the source file.\n",
    "\n",
    "Let's look at the first function:"
   ]
  },
  {
   "cell_type": "code",
   "execution_count": 2,
   "metadata": {},
   "outputs": [],
   "source": [
    "file_as_big_string = file_handle.read()"
   ]
  },
  {
   "cell_type": "code",
   "execution_count": 3,
   "metadata": {},
   "outputs": [
    {
     "data": {
      "text/plain": [
       "'\"Name\",     \"Sex\", \"Age\", \"Height (in)\", \"Weight (lbs)\"\\n\"Alex\",       \"M\",   41,       74,      170\\n\"Bert\",       \"M\",   42,       68,      166\\n\"Carl\",       \"M\",   32,       70,      155\\n\"Dave\",       \"M\",   39,       72,      167\\n\"Elly\",       \"F\",   30,       66,      124\\n\"Fran\",       \"F\",   33,       66,      115\\n\"Gwen\",       \"F\",   26,       64,      121\\n\"Hank\",       \"M\",   30,       71,      158\\n\"Ivan\",       \"M\",   53,       72,      175\\n\"Jake\",       \"M\",   32,       69,      143\\n\"Kate\",       \"F\",   47,       69,      139\\n\"Luke\",       \"M\",   34,       72,      163\\n\"Myra\",       \"F\",   23,       62,       98\\n\"Neil\",       \"M\",   36,       75,      160\\n\"Omar\",       \"M\",   38,       70,      145\\n\"Page\",       \"F\",   31,       67,      135\\n\"Quin\",       \"M\",   29,       71,      176\\n\"Ruth\",       \"F\",   28,       65,      131'"
      ]
     },
     "execution_count": 3,
     "metadata": {},
     "output_type": "execute_result"
    }
   ],
   "source": [
    "file_as_big_string[:1000]"
   ]
  },
  {
   "cell_type": "markdown",
   "metadata": {
    "slideshow": {
     "slide_type": "slide"
    }
   },
   "source": [
    "Since the file object is an iterator, we can't get the string again from the object."
   ]
  },
  {
   "cell_type": "code",
   "execution_count": 4,
   "metadata": {},
   "outputs": [
    {
     "data": {
      "text/plain": [
       "''"
      ]
     },
     "execution_count": 4,
     "metadata": {},
     "output_type": "execute_result"
    }
   ],
   "source": [
    "file_as_big_string = file_handle.read()\n",
    "file_as_big_string[:1000]"
   ]
  },
  {
   "cell_type": "markdown",
   "metadata": {
    "slideshow": {
     "slide_type": "slide"
    }
   },
   "source": [
    "So, let's create a new handle, read in the contents again, and then parse our string by newlines using `.split(\"\\n\")`."
   ]
  },
  {
   "cell_type": "code",
   "execution_count": 5,
   "metadata": {
    "scrolled": true
   },
   "outputs": [
    {
     "data": {
      "text/plain": [
       "['\"Name\",     \"Sex\", \"Age\", \"Height (in)\", \"Weight (lbs)\"',\n",
       " '\"Alex\",       \"M\",   41,       74,      170',\n",
       " '\"Bert\",       \"M\",   42,       68,      166',\n",
       " '\"Carl\",       \"M\",   32,       70,      155',\n",
       " '\"Dave\",       \"M\",   39,       72,      167',\n",
       " '\"Elly\",       \"F\",   30,       66,      124',\n",
       " '\"Fran\",       \"F\",   33,       66,      115',\n",
       " '\"Gwen\",       \"F\",   26,       64,      121',\n",
       " '\"Hank\",       \"M\",   30,       71,      158',\n",
       " '\"Ivan\",       \"M\",   53,       72,      175',\n",
       " '\"Jake\",       \"M\",   32,       69,      143',\n",
       " '\"Kate\",       \"F\",   47,       69,      139',\n",
       " '\"Luke\",       \"M\",   34,       72,      163',\n",
       " '\"Myra\",       \"F\",   23,       62,       98',\n",
       " '\"Neil\",       \"M\",   36,       75,      160',\n",
       " '\"Omar\",       \"M\",   38,       70,      145',\n",
       " '\"Page\",       \"F\",   31,       67,      135',\n",
       " '\"Quin\",       \"M\",   29,       71,      176',\n",
       " '\"Ruth\",       \"F\",   28,       65,      131']"
      ]
     },
     "execution_count": 5,
     "metadata": {},
     "output_type": "execute_result"
    }
   ],
   "source": [
    "file_handle = open(\"./sample_data_files/biostats.csv\", 'r')\n",
    "file_as_big_string = file_handle.read()\n",
    "file_as_big_string.split(\"\\n\")"
   ]
  },
  {
   "cell_type": "markdown",
   "metadata": {},
   "source": [
    "This creates a list of lines, each containing a string of delimited data."
   ]
  },
  {
   "cell_type": "markdown",
   "metadata": {
    "slideshow": {
     "slide_type": "slide"
    }
   },
   "source": [
    "A short-cut to this process is to call the `.readlines()` method, which returns a pre-made list of lines."
   ]
  },
  {
   "cell_type": "code",
   "execution_count": 6,
   "metadata": {},
   "outputs": [
    {
     "data": {
      "text/plain": [
       "['\"Name\",     \"Sex\", \"Age\", \"Height (in)\", \"Weight (lbs)\"\\n',\n",
       " '\"Alex\",       \"M\",   41,       74,      170\\n',\n",
       " '\"Bert\",       \"M\",   42,       68,      166\\n',\n",
       " '\"Carl\",       \"M\",   32,       70,      155\\n',\n",
       " '\"Dave\",       \"M\",   39,       72,      167\\n',\n",
       " '\"Elly\",       \"F\",   30,       66,      124\\n',\n",
       " '\"Fran\",       \"F\",   33,       66,      115\\n',\n",
       " '\"Gwen\",       \"F\",   26,       64,      121\\n',\n",
       " '\"Hank\",       \"M\",   30,       71,      158\\n',\n",
       " '\"Ivan\",       \"M\",   53,       72,      175\\n',\n",
       " '\"Jake\",       \"M\",   32,       69,      143\\n',\n",
       " '\"Kate\",       \"F\",   47,       69,      139\\n',\n",
       " '\"Luke\",       \"M\",   34,       72,      163\\n',\n",
       " '\"Myra\",       \"F\",   23,       62,       98\\n',\n",
       " '\"Neil\",       \"M\",   36,       75,      160\\n',\n",
       " '\"Omar\",       \"M\",   38,       70,      145\\n',\n",
       " '\"Page\",       \"F\",   31,       67,      135\\n',\n",
       " '\"Quin\",       \"M\",   29,       71,      176\\n',\n",
       " '\"Ruth\",       \"F\",   28,       65,      131']"
      ]
     },
     "execution_count": 6,
     "metadata": {},
     "output_type": "execute_result"
    }
   ],
   "source": [
    "file_handle = open(src_file_name, 'r')\n",
    "file_as_list_of_strings = file_handle.readlines()\n",
    "file_as_list_of_strings"
   ]
  },
  {
   "cell_type": "markdown",
   "metadata": {
    "slideshow": {
     "slide_type": "-"
    }
   },
   "source": [
    "Note that the newlines are preserved in this case."
   ]
  },
  {
   "cell_type": "markdown",
   "metadata": {
    "slideshow": {
     "slide_type": "slide"
    },
    "tags": []
   },
   "source": [
    "We could fix this by opening the file in a comprehension, like so:"
   ]
  },
  {
   "cell_type": "code",
   "execution_count": 7,
   "metadata": {
    "tags": []
   },
   "outputs": [
    {
     "data": {
      "text/plain": [
       "['\"Name\",     \"Sex\", \"Age\", \"Height (in)\", \"Weight (lbs)\"',\n",
       " '\"Alex\",       \"M\",   41,       74,      170',\n",
       " '\"Bert\",       \"M\",   42,       68,      166',\n",
       " '\"Carl\",       \"M\",   32,       70,      155',\n",
       " '\"Dave\",       \"M\",   39,       72,      167',\n",
       " '\"Elly\",       \"F\",   30,       66,      124',\n",
       " '\"Fran\",       \"F\",   33,       66,      115',\n",
       " '\"Gwen\",       \"F\",   26,       64,      121',\n",
       " '\"Hank\",       \"M\",   30,       71,      158',\n",
       " '\"Ivan\",       \"M\",   53,       72,      175',\n",
       " '\"Jake\",       \"M\",   32,       69,      143',\n",
       " '\"Kate\",       \"F\",   47,       69,      139',\n",
       " '\"Luke\",       \"M\",   34,       72,      163',\n",
       " '\"Myra\",       \"F\",   23,       62,       98',\n",
       " '\"Neil\",       \"M\",   36,       75,      160',\n",
       " '\"Omar\",       \"M\",   38,       70,      145',\n",
       " '\"Page\",       \"F\",   31,       67,      135',\n",
       " '\"Quin\",       \"M\",   29,       71,      176',\n",
       " '\"Ruth\",       \"F\",   28,       65,      131']"
      ]
     },
     "execution_count": 7,
     "metadata": {},
     "output_type": "execute_result"
    }
   ],
   "source": [
    "file_handle = open(src_file_name, 'r')\n",
    "file_as_list_of_strings = [line.rstrip() for line in file_handle.readlines()]\n",
    "file_as_list_of_strings  "
   ]
  },
  {
   "cell_type": "markdown",
   "metadata": {
    "slideshow": {
     "slide_type": "slide"
    }
   },
   "source": [
    "File objects should be closed when you are done with them."
   ]
  },
  {
   "cell_type": "code",
   "execution_count": 8,
   "metadata": {},
   "outputs": [],
   "source": [
    "file_handle.close()"
   ]
  },
  {
   "cell_type": "markdown",
   "metadata": {
    "slideshow": {
     "slide_type": "slide"
    }
   },
   "source": [
    "## Using a `with` block \n",
    "\n",
    "To automatically open and close the file i/o object, we can use a `with` block.\n",
    "\n",
    "This automatically closes the file handle once the program moves out of the block."
   ]
  },
  {
   "cell_type": "code",
   "execution_count": 9,
   "metadata": {},
   "outputs": [],
   "source": [
    "with open(src_file_name, 'r') as infile:\n",
    "    file_as_list = [line.rstrip() for line in infile.readlines()]"
   ]
  },
  {
   "cell_type": "code",
   "execution_count": 10,
   "metadata": {},
   "outputs": [
    {
     "data": {
      "text/plain": [
       "['\"Name\",     \"Sex\", \"Age\", \"Height (in)\", \"Weight (lbs)\"',\n",
       " '\"Alex\",       \"M\",   41,       74,      170',\n",
       " '\"Bert\",       \"M\",   42,       68,      166',\n",
       " '\"Carl\",       \"M\",   32,       70,      155',\n",
       " '\"Dave\",       \"M\",   39,       72,      167',\n",
       " '\"Elly\",       \"F\",   30,       66,      124',\n",
       " '\"Fran\",       \"F\",   33,       66,      115',\n",
       " '\"Gwen\",       \"F\",   26,       64,      121',\n",
       " '\"Hank\",       \"M\",   30,       71,      158',\n",
       " '\"Ivan\",       \"M\",   53,       72,      175',\n",
       " '\"Jake\",       \"M\",   32,       69,      143',\n",
       " '\"Kate\",       \"F\",   47,       69,      139',\n",
       " '\"Luke\",       \"M\",   34,       72,      163',\n",
       " '\"Myra\",       \"F\",   23,       62,       98',\n",
       " '\"Neil\",       \"M\",   36,       75,      160',\n",
       " '\"Omar\",       \"M\",   38,       70,      145',\n",
       " '\"Page\",       \"F\",   31,       67,      135',\n",
       " '\"Quin\",       \"M\",   29,       71,      176',\n",
       " '\"Ruth\",       \"F\",   28,       65,      131']"
      ]
     },
     "execution_count": 10,
     "metadata": {},
     "output_type": "execute_result"
    }
   ],
   "source": [
    "file_as_list"
   ]
  },
  {
   "cell_type": "markdown",
   "metadata": {},
   "source": [
    "`with` blocks can be used with other handles, too, like database connections."
   ]
  },
  {
   "cell_type": "markdown",
   "metadata": {
    "slideshow": {
     "slide_type": "slide"
    }
   },
   "source": [
    "## Converting to a 2D list\n",
    "\n",
    "Let's convert our list of strings to a **list of lists**, where each element of the first list is a **row** and each element of the second list is a **cell** containing data.\n",
    "\n",
    "The shared index **positions** of the cells in the rows can be thought of as **columns**."
   ]
  },
  {
   "cell_type": "code",
   "execution_count": 11,
   "metadata": {},
   "outputs": [],
   "source": [
    "list_2d = []\n",
    "with open(src_file_name, 'r') as infile:\n",
    "    for line in infile.readlines():\n",
    "        row = line.rstrip().split(\",\")   \n",
    "        new_row = []\n",
    "        for cell in row:\n",
    "            new_row.append(cell.strip().replace('\"', ''))\n",
    "        list_2d.append(new_row)"
   ]
  },
  {
   "cell_type": "code",
   "execution_count": 12,
   "metadata": {},
   "outputs": [
    {
     "data": {
      "text/plain": [
       "[['Name', 'Sex', 'Age', 'Height (in)', 'Weight (lbs)'],\n",
       " ['Alex', 'M', '41', '74', '170'],\n",
       " ['Bert', 'M', '42', '68', '166'],\n",
       " ['Carl', 'M', '32', '70', '155'],\n",
       " ['Dave', 'M', '39', '72', '167']]"
      ]
     },
     "execution_count": 12,
     "metadata": {},
     "output_type": "execute_result"
    }
   ],
   "source": [
    "list_2d[:5]"
   ]
  },
  {
   "cell_type": "markdown",
   "metadata": {
    "slideshow": {
     "slide_type": "slide"
    }
   },
   "source": [
    "## Using a Nested Comprehension\n",
    "\n",
    "We can replace the entire code block above nested list comprehensions.\n",
    "\n",
    "Remember, you can put any expression into the first part of a comprehension, even another comprehension."
   ]
  },
  {
   "cell_type": "code",
   "execution_count": 13,
   "metadata": {},
   "outputs": [],
   "source": [
    "list_2d = [[cell.strip() \n",
    "            for cell in line.rstrip().replace('\"', '').split(\",\")] \n",
    "            for line in open(src_file_name, 'r').readlines()]"
   ]
  },
  {
   "cell_type": "code",
   "execution_count": 14,
   "metadata": {
    "scrolled": true
   },
   "outputs": [
    {
     "data": {
      "text/plain": [
       "[['Name', 'Sex', 'Age', 'Height (in)', 'Weight (lbs)'],\n",
       " ['Alex', 'M', '41', '74', '170'],\n",
       " ['Bert', 'M', '42', '68', '166'],\n",
       " ['Carl', 'M', '32', '70', '155'],\n",
       " ['Dave', 'M', '39', '72', '167'],\n",
       " ['Elly', 'F', '30', '66', '124'],\n",
       " ['Fran', 'F', '33', '66', '115'],\n",
       " ['Gwen', 'F', '26', '64', '121'],\n",
       " ['Hank', 'M', '30', '71', '158'],\n",
       " ['Ivan', 'M', '53', '72', '175'],\n",
       " ['Jake', 'M', '32', '69', '143'],\n",
       " ['Kate', 'F', '47', '69', '139'],\n",
       " ['Luke', 'M', '34', '72', '163'],\n",
       " ['Myra', 'F', '23', '62', '98'],\n",
       " ['Neil', 'M', '36', '75', '160'],\n",
       " ['Omar', 'M', '38', '70', '145'],\n",
       " ['Page', 'F', '31', '67', '135'],\n",
       " ['Quin', 'M', '29', '71', '176'],\n",
       " ['Ruth', 'F', '28', '65', '131']]"
      ]
     },
     "execution_count": 14,
     "metadata": {},
     "output_type": "execute_result"
    }
   ],
   "source": [
    "list_2d"
   ]
  },
  {
   "cell_type": "markdown",
   "metadata": {
    "slideshow": {
     "slide_type": "slide"
    }
   },
   "source": [
    "## Converting to Data Types\n",
    "\n",
    "If we were to continue the process of importing this data set, we'd **need to convert the data into their proper types**.\n",
    "\n",
    "We can see that there are **three data types** in the set: Strings, Categories, and Integers.\n",
    "\n",
    "We'd have to write a another segment of code to identify data type by row position and use casting functions, such as `int()`, to do this. Also, since basic Python doesn't have a data type for categories, we'd have to think about we handle `M` and `F`.\n",
    "\n",
    "```python\n",
    "[['Name', 'Sex', 'Age', 'Height (in)', 'Weight (lbs)'],\n",
    " ['Alex', 'M', '41', '74', '170'],\n",
    " ['Bert', 'M', '42', '68', '166'],\n",
    " ['Carl', 'M', '32', '70', '155'],\n",
    " ['Dave', 'M', '39', '72', '167'],\n",
    " ['Elly', 'F', '30', '66', '124'],\n",
    " ['Fran', 'F', '33', '66', '115'],\n",
    " ['Gwen', 'F', '26', '64', '121'],\n",
    " ['Hank', 'M', '30', '71', '158'],\n",
    " ['Ivan', 'M', '53', '72', '175'],\n",
    " ['Jake', 'M', '32', '69', '143'],\n",
    " ['Kate', 'F', '47', '69', '139'],\n",
    " ['Luke', 'M', '34', '72', '163'],\n",
    " ['Myra', 'F', '23', '62', '98'],\n",
    " ['Neil', 'M', '36', '75', '160'],\n",
    " ['Omar', 'M', '38', '70', '145'],\n",
    " ['Page', 'F', '31', '67', '135'],\n",
    " ['Quin', 'M', '29', '71', '176'],\n",
    " ['Ruth', 'F', '28', '65', '131']]\n",
    "```\n",
    "\n",
    "At this point, it might be better to find some tools that do all this automatically."
   ]
  },
  {
   "cell_type": "markdown",
   "metadata": {
    "slideshow": {
     "slide_type": "slide"
    }
   },
   "source": [
    "## Observations\n",
    "\n",
    "It is pretty easy to import and process CSV files this way, but you will encounter some issues if you use this as your default pattern for importing data. \n",
    "\n",
    "Here are just a few:\n",
    "\n",
    "- **Not all sources are well-formed**. They may have delimitters that are complex to parse, and the the data themselve may be hard to parse.\n",
    "\n",
    "- **You have to keep the column names in a separate list or vector** and then associate them with the data if and when necessary.\n",
    "\n",
    "- **You have to convert each column vector into its appropriate data type yourself.** Or, you have to create separate 2D arrays for each collection of columns with a common data type. This process also invovles human inspection of the file, as opposed to have a program try to figure it out for you.\n",
    "\n",
    "For these reasons, other tools such as NumPy and Pandas were created to make the work of a data scientist a bit easier and more productive.\n",
    "\n",
    "Plus, they are faster!"
   ]
  }
 ],
 "metadata": {
  "celltoolbar": "Slideshow",
  "kernelspec": {
   "display_name": "Python 3",
   "language": "python",
   "name": "python3"
  },
  "language_info": {
   "codemirror_mode": {
    "name": "ipython",
    "version": 3
   },
   "file_extension": ".py",
   "mimetype": "text/x-python",
   "name": "python",
   "nbconvert_exporter": "python",
   "pygments_lexer": "ipython3",
   "version": "3.11.4"
  }
 },
 "nbformat": 4,
 "nbformat_minor": 4
}
