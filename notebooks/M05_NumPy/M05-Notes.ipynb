{
 "cells": [
  {
   "cell_type": "markdown",
   "id": "d96c4d4f-2cf7-4395-aa31-f8fb09b84113",
   "metadata": {},
   "source": [
    "# M05 Notes"
   ]
  },
  {
   "cell_type": "markdown",
   "id": "a88f7555-26df-422a-9ef5-42da85b7da54",
   "metadata": {},
   "source": [
    "## NumPy Versions\n",
    "\n",
    "We have been using NumPy 1.24.4 (see below).\n",
    "\n",
    "However, NumPy now has a 2.0 version."
   ]
  },
  {
   "cell_type": "code",
   "execution_count": 1,
   "id": "8a2a2bb6-432d-45e5-9637-89736216528b",
   "metadata": {
    "tags": []
   },
   "outputs": [],
   "source": [
    "import numpy as np"
   ]
  },
  {
   "cell_type": "code",
   "execution_count": 2,
   "id": "be841bc9-8fec-40c6-b522-06f40deef9f7",
   "metadata": {
    "tags": []
   },
   "outputs": [
    {
     "data": {
      "text/plain": [
       "'1.24.4'"
      ]
     },
     "execution_count": 2,
     "metadata": {},
     "output_type": "execute_result"
    }
   ],
   "source": [
    "np.__version__"
   ]
  },
  {
   "cell_type": "markdown",
   "id": "2be3c672-0e42-4c31-aeb7-b9dfeb1b1451",
   "metadata": {
    "tags": []
   },
   "source": [
    "## Structure Datatypes\n",
    "\n",
    "NumPy does offer a data type with labels called **structured arrays**. It also has **record arrays**.\n",
    "\n",
    "See [Structured Data](https://numpy.org/doc/1.26/user/basics.rec.html) in the documentation."
   ]
  },
  {
   "cell_type": "markdown",
   "id": "6ab2d64c-4abf-488a-b6ed-0f708b23538d",
   "metadata": {
    "tags": []
   },
   "source": [
    "## In-Place Operations\n",
    "\n",
    "E.g. `arr.sort()`"
   ]
  },
  {
   "cell_type": "code",
   "execution_count": null,
   "id": "6fde8a0d-5de9-4b1b-a542-9b5979369a0b",
   "metadata": {},
   "outputs": [],
   "source": []
  }
 ],
 "metadata": {
  "kernelspec": {
   "display_name": "Python 3",
   "language": "python",
   "name": "python3"
  },
  "language_info": {
   "codemirror_mode": {
    "name": "ipython",
    "version": 3
   },
   "file_extension": ".py",
   "mimetype": "text/x-python",
   "name": "python",
   "nbconvert_exporter": "python",
   "pygments_lexer": "ipython3",
   "version": "3.11.4"
  }
 },
 "nbformat": 4,
 "nbformat_minor": 5
}
