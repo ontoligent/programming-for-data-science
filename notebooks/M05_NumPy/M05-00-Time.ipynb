{
 "cells": [
  {
   "cell_type": "markdown",
   "metadata": {
    "slideshow": {
     "slide_type": "slide"
    },
    "tags": []
   },
   "source": [
    "# NB: Python Timing\n",
    "\n",
    "Programming for Data Science"
   ]
  },
  {
   "cell_type": "markdown",
   "metadata": {
    "slideshow": {
     "slide_type": "slide"
    }
   },
   "source": [
    "Before we move onto the topic of NumPy, let's pause and cover the topic of **timing**.\n",
    "\n",
    "This sometimes called the **runtime** of a program or code block.\n",
    "\n",
    "Timing in this context refers to **measuring how long it takes** your code to execute.\n",
    "\n",
    "Python provides some **tools** that let you measure how long a block of code takes to execute, so you can **compare** the speed of different approaches to the same problem.\n",
    "\n",
    "For example, we might compare the speed of using a comprehension versus a for loop."
   ]
  },
  {
   "cell_type": "markdown",
   "metadata": {
    "slideshow": {
     "slide_type": "slide"
    },
    "tags": []
   },
   "source": [
    "## The `time` module\n",
    "\n",
    "One way to to measure how long it takes a block of code to run is to use **the `time` module**.\n",
    "\n",
    "This module provides a number of functions to **get and compute time**.\n",
    "\n",
    "The simplest function is `time()`, which returns the number of seconds elapsed since **the Epoch**.\n",
    "\n",
    "The Epoch is `00:00:00 UTC` on 1 January 1970, excluding leapseconds.\n",
    "\n",
    "It corresponds roughly to when Unix was invented."
   ]
  },
  {
   "cell_type": "markdown",
   "metadata": {
    "slideshow": {
     "slide_type": "slide"
    }
   },
   "source": [
    "To get the time of a block, we get the time before the code runs $t_0$ and substract it from the time the code finishes $t_1$. Let's try this by comparing a simple loop and comprehension."
   ]
  },
  {
   "cell_type": "code",
   "execution_count": 101,
   "metadata": {
    "slideshow": {
     "slide_type": "-"
    },
    "tags": []
   },
   "outputs": [],
   "source": [
    "from time import time"
   ]
  },
  {
   "cell_type": "code",
   "execution_count": 102,
   "metadata": {
    "slideshow": {
     "slide_type": "-"
    },
    "tags": []
   },
   "outputs": [
    {
     "name": "stdout",
     "output_type": "stream",
     "text": [
      "0 1 2 3 4 5 6 7 8 9 "
     ]
    }
   ],
   "source": [
    "t0 = time() # START\n",
    "for i in range(10):\n",
    "    print(i, end=' ')\n",
    "t1 = time() # END"
   ]
  },
  {
   "cell_type": "code",
   "execution_count": 103,
   "metadata": {},
   "outputs": [
    {
     "name": "stdout",
     "output_type": "stream",
     "text": [
      "0 1 2 3 4 5 6 7 8 9 "
     ]
    }
   ],
   "source": [
    "t3 = time()\n",
    "_ = [print(i, end=' ') for i in range(10)]\n",
    "t4 = time()"
   ]
  },
  {
   "cell_type": "code",
   "execution_count": 104,
   "metadata": {
    "slideshow": {
     "slide_type": "-"
    },
    "tags": []
   },
   "outputs": [
    {
     "name": "stdout",
     "output_type": "stream",
     "text": [
      "loop: 8.58306884765625e-05\n",
      "comp: 9.298324584960938e-05\n",
      "loop/comp: 0.92\n"
     ]
    }
   ],
   "source": [
    "delta_loop = t1 - t0\n",
    "delta_comp = t4 - t3\n",
    "print('loop:', delta_for)\n",
    "print('comp:', delta_comp)\n",
    "print('loop/comp:', round(delta_loop/delta_comp, 2))"
   ]
  },
  {
   "cell_type": "markdown",
   "metadata": {
    "slideshow": {
     "slide_type": "-"
    },
    "tags": []
   },
   "source": [
    "Interestingly, the for loop is faster than the comprehension."
   ]
  },
  {
   "cell_type": "markdown",
   "metadata": {
    "slideshow": {
     "slide_type": "slide"
    }
   },
   "source": [
    "## Using `timeit`\n",
    "\n",
    "To get a **better** measure of runtime, we can use the `timeit` module.\n",
    "\n",
    "Thie module measures timing across **many runs**.\n",
    "\n",
    "Since `timeit()` will return the runtime across _all_ runs, we **divide** by the number of runs to get the mean runtime.\n",
    "\n",
    "`timeit()` works by evaluating code blocks written as **strings**."
   ]
  },
  {
   "cell_type": "markdown",
   "metadata": {
    "slideshow": {
     "slide_type": "slide"
    }
   },
   "source": [
    "Let's compare two funcitons using `timeit`:"
   ]
  },
  {
   "cell_type": "code",
   "execution_count": 89,
   "metadata": {
    "slideshow": {
     "slide_type": "-"
    },
    "tags": []
   },
   "outputs": [
    {
     "name": "stdout",
     "output_type": "stream",
     "text": [
      "loop = 0.005688848439604044\n",
      "comp = 0.0046883809473365545\n",
      "loop/list = 1.2133929609188114\n",
      "list/loop = 0.8241353231872839\n"
     ]
    }
   ],
   "source": [
    "from timeit import timeit\n",
    "  \n",
    "num_runs = 100\n",
    "\n",
    "loop_code = ''' \n",
    "vals = []\n",
    "for i in range(1, 100001):\n",
    "    if i % 2 == 1:\n",
    "        i *= -1\n",
    "    vals.append(i)\n",
    "'''\n",
    "\n",
    "comp_code = ''' \n",
    "vals = [i * -1 if i % 2 == 1 else i for i in range(1, 100001)]\n",
    "'''\n",
    "\n",
    "loop_mean_time = timeit(stmt = loop_code, number = num_runs) / num_runs\n",
    "comp_mean_time = timeit(stmt = comp_code, number = num_runs) / num_runs\n",
    "t_diff = loop_mean_time / comp_mean_time\n",
    "print('loop =', loop_mean_time)\n",
    "print('comp =', comp_mean_time)\n",
    "print('loop/list =', t_diff)\n",
    "print('list/loop =', 1/t_diff)"
   ]
  },
  {
   "cell_type": "markdown",
   "metadata": {
    "slideshow": {
     "slide_type": "slide"
    }
   },
   "source": [
    "## Using Magic \n",
    "\n",
    "Instead of calling `time` and `timeit` directly, we can use the  so-called **magic** commands.\n",
    "\n",
    "Magic commands are `%` or `%%` prefixed commands that work in **Jupyter** notebooks and other **IPython** environments.  \n",
    "\n",
    "`%` commands apply to **single lines**; they go at the beginning of the line.\n",
    "\n",
    "`%%` commands apply to **cell blocks**; they go at the top of the cell.\n",
    "\n",
    "Placing `%%timeit` or `%%time` at the top of a cell will appy these functions to the cell block.\n",
    "\n",
    "Placing `%timeit` or `%time` as the first item on a line of code will apply the to a single line."
   ]
  },
  {
   "cell_type": "markdown",
   "metadata": {
    "slideshow": {
     "slide_type": "slide"
    }
   },
   "source": [
    "Note that magic commands can take arguments. \n",
    "\n",
    "For more on this topic, see Chapter 3 of Wes McKinney's [_Python for Data Analysis_](https://learning.oreilly.com/library/view/python-for-data/9781449323592/ch03.html) and the [official documentation](https://ipython.readthedocs.io/en/stable/interactive/magics.html)"
   ]
  },
  {
   "cell_type": "markdown",
   "metadata": {
    "slideshow": {
     "slide_type": "slide"
    }
   },
   "source": [
    "Let's look at an example, similar to those above, comparing a loop to a comprehension.\n",
    "\n",
    "**`time`**"
   ]
  },
  {
   "cell_type": "code",
   "execution_count": null,
   "metadata": {},
   "outputs": [],
   "source": [
    "imax = 10000"
   ]
  },
  {
   "cell_type": "code",
   "execution_count": 109,
   "metadata": {},
   "outputs": [
    {
     "name": "stdout",
     "output_type": "stream",
     "text": [
      "CPU times: user 1.17 ms, sys: 0 ns, total: 1.17 ms\n",
      "Wall time: 1.18 ms\n"
     ]
    }
   ],
   "source": [
    "%%time\n",
    "vals = []\n",
    "for i in range(1, imax+1):\n",
    "    if i % 2 == 1:\n",
    "        i *= -1\n",
    "    vals.append(i)"
   ]
  },
  {
   "cell_type": "code",
   "execution_count": 110,
   "metadata": {},
   "outputs": [
    {
     "name": "stdout",
     "output_type": "stream",
     "text": [
      "CPU times: user 528 µs, sys: 0 ns, total: 528 µs\n",
      "Wall time: 538 µs\n"
     ]
    }
   ],
   "source": [
    "%time vals = [i*-1 if i % 2 == 1 else i for i in range(1,imax+1)] "
   ]
  },
  {
   "cell_type": "markdown",
   "metadata": {
    "slideshow": {
     "slide_type": "slide"
    }
   },
   "source": [
    "**`timeit`**"
   ]
  },
  {
   "cell_type": "code",
   "execution_count": 106,
   "metadata": {},
   "outputs": [
    {
     "name": "stdout",
     "output_type": "stream",
     "text": [
      "507 µs ± 1.28 µs per loop (mean ± std. dev. of 7 runs, 1,000 loops each)\n"
     ]
    }
   ],
   "source": [
    "%%timeit\n",
    "\n",
    "vals = []\n",
    "imax = 10000\n",
    "for i in range(1, imax+1):\n",
    "    if i % 2 == 1:\n",
    "        i *= -1\n",
    "    vals.append(i)"
   ]
  },
  {
   "cell_type": "code",
   "execution_count": 107,
   "metadata": {},
   "outputs": [
    {
     "name": "stdout",
     "output_type": "stream",
     "text": [
      "469 µs ± 1.04 µs per loop (mean ± std. dev. of 7 runs, 1,000 loops each)\n"
     ]
    }
   ],
   "source": [
    "%timeit vals = [i*-1 if i % 2 == 1 else i for i in range(1,imax+1)] "
   ]
  },
  {
   "cell_type": "markdown",
   "metadata": {
    "slideshow": {
     "slide_type": "slide"
    }
   },
   "source": [
    "## Types of Time\n",
    "\n",
    "Note that the return values of `time` contain a detailed description of results, including three kinds of **CPU time** and **wall time**.\n",
    "\n",
    "**Wall time** measures how much time has passed, as if you were looking at the clock on your wall. \n",
    "\n",
    "**CPU time** refers to how many seconds the CPU was actually busy. \n",
    "\n",
    "In CPU time, **user** time is the amount of time a processor spends running application code.\n",
    "\n",
    "**System** time is the amount of time it spends running operating system functions related to the application. "
   ]
  }
 ],
 "metadata": {
  "celltoolbar": "Slideshow",
  "kernelspec": {
   "display_name": "Python 3",
   "language": "python",
   "name": "python3"
  },
  "language_info": {
   "codemirror_mode": {
    "name": "ipython",
    "version": 3
   },
   "file_extension": ".py",
   "mimetype": "text/x-python",
   "name": "python",
   "nbconvert_exporter": "python",
   "pygments_lexer": "ipython3",
   "version": "3.11.4"
  },
  "toc": {
   "base_numbering": 1,
   "nav_menu": {},
   "number_sections": true,
   "sideBar": true,
   "skip_h1_title": false,
   "title_cell": "Table of Contents",
   "title_sidebar": "Contents",
   "toc_cell": false,
   "toc_position": {},
   "toc_section_display": true,
   "toc_window_display": false
  },
  "varInspector": {
   "cols": {
    "lenName": 16,
    "lenType": 16,
    "lenVar": 40
   },
   "kernels_config": {
    "python": {
     "delete_cmd_postfix": "",
     "delete_cmd_prefix": "del ",
     "library": "var_list.py",
     "varRefreshCmd": "print(var_dic_list())"
    },
    "r": {
     "delete_cmd_postfix": ") ",
     "delete_cmd_prefix": "rm(",
     "library": "var_list.r",
     "varRefreshCmd": "cat(var_dic_list()) "
    }
   },
   "types_to_exclude": [
    "module",
    "function",
    "builtin_function_or_method",
    "instance",
    "_Feature"
   ],
   "window_display": false
  },
  "widgets": {
   "application/vnd.jupyter.widget-state+json": {
    "state": {},
    "version_major": 2,
    "version_minor": 0
   }
  }
 },
 "nbformat": 4,
 "nbformat_minor": 4
}
