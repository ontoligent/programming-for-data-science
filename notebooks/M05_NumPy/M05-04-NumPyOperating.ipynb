{
 "cells": [
  {
   "cell_type": "markdown",
   "id": "f049262c-b42b-41ca-8137-8908bdd4d3d8",
   "metadata": {
    "slideshow": {
     "slide_type": "slide"
    },
    "tags": []
   },
   "source": [
    "# NB: NumPy Operations\n",
    "\n",
    "Programming for Data Science"
   ]
  },
  {
   "cell_type": "markdown",
   "id": "882e1515-1f7c-41c5-8a7d-429027bf9a22",
   "metadata": {
    "slideshow": {
     "slide_type": "slide"
    },
    "tags": []
   },
   "source": [
    "## Element-wise Arithmetic\n",
    "\n",
    "NumPy arrays can be transformed with with arithmetic operations.\n",
    "\n",
    "These are all **element-wise operations**."
   ]
  },
  {
   "cell_type": "markdown",
   "id": "9b0c04d4-2cb0-4d9b-97e3-6c49d8b02e9e",
   "metadata": {
    "slideshow": {
     "slide_type": "slide"
    },
    "tags": []
   },
   "source": [
    "Let's start with a couple of $2$-D arrays."
   ]
  },
  {
   "cell_type": "code",
   "execution_count": 1,
   "id": "4b77c92e-07b2-40f4-83a2-1648b10a486c",
   "metadata": {
    "tags": []
   },
   "outputs": [],
   "source": [
    "import numpy as np"
   ]
  },
  {
   "cell_type": "code",
   "execution_count": 2,
   "id": "f5acc4fa-5330-48fc-8c6f-27dc86bd8627",
   "metadata": {
    "tags": []
   },
   "outputs": [
    {
     "data": {
      "text/plain": [
       "(array([[1., 2., 3.],\n",
       "        [4., 5., 6.]]),\n",
       " array([[ 0.,  4.,  1.],\n",
       "        [ 7.,  2., 12.]]))"
      ]
     },
     "execution_count": 2,
     "metadata": {},
     "output_type": "execute_result"
    }
   ],
   "source": [
    "arr1 = np.array([[1., 2., 3.], [4., 5., 6.]])\n",
    "arr2 = np.array([[0., 4., 1.], [7., 2., 12.]])\n",
    "arr1, arr2"
   ]
  },
  {
   "cell_type": "markdown",
   "id": "5726ed24-1b48-4862-82d6-1780f136bd58",
   "metadata": {
    "slideshow": {
     "slide_type": "slide"
    },
    "tags": []
   },
   "source": [
    "If we multiply these two matrices, NumPy performs multiplication on each pair of cells with the same index or coordinate."
   ]
  },
  {
   "cell_type": "code",
   "execution_count": 3,
   "id": "ce60fb37-2e26-4936-a310-f70ffed97329",
   "metadata": {
    "tags": []
   },
   "outputs": [
    {
     "data": {
      "text/plain": [
       "array([[ 0.,  8.,  3.],\n",
       "       [28., 10., 72.]])"
      ]
     },
     "execution_count": 3,
     "metadata": {},
     "output_type": "execute_result"
    }
   ],
   "source": [
    "arr1 * arr2"
   ]
  },
  {
   "cell_type": "markdown",
   "id": "5fe67082-931e-485c-99bd-1c3e810ef3f8",
   "metadata": {},
   "source": [
    "You can think of it this way:\n",
    "\n",
    "```\n",
    "coordinate   arr1   arr2  arr1 * arr2 \n",
    "0, 0         1.     0.    0.\n",
    "0, 1         2.     4.    8.\n",
    "0, 2         3.     1.    3.\n",
    "...\n",
    "````"
   ]
  },
  {
   "cell_type": "markdown",
   "id": "77f48ccd-ba0b-4ec5-a633-8f0299569f87",
   "metadata": {
    "slideshow": {
     "slide_type": "slide"
    },
    "tags": []
   },
   "source": [
    "Of course, this works for the other operations, too."
   ]
  },
  {
   "cell_type": "code",
   "execution_count": 4,
   "id": "c39cf673-0800-4b2e-aa8f-547a13c44dc5",
   "metadata": {
    "tags": []
   },
   "outputs": [
    {
     "data": {
      "text/plain": [
       "array([[ 1., -2.,  2.],\n",
       "       [-3.,  3., -6.]])"
      ]
     },
     "execution_count": 4,
     "metadata": {},
     "output_type": "execute_result"
    }
   ],
   "source": [
    "arr1 - arr2"
   ]
  },
  {
   "cell_type": "code",
   "execution_count": 5,
   "id": "6ebeff11-5883-42d2-ac67-5a608fa0abf7",
   "metadata": {
    "tags": []
   },
   "outputs": [
    {
     "data": {
      "text/plain": [
       "array([[0.        , 2.        , 0.33333333],\n",
       "       [1.75      , 0.4       , 2.        ]])"
      ]
     },
     "execution_count": 5,
     "metadata": {},
     "output_type": "execute_result"
    }
   ],
   "source": [
    "arr2 / arr1"
   ]
  },
  {
   "cell_type": "code",
   "execution_count": 6,
   "id": "22c43e30-b619-4607-b880-d294f7c9ab32",
   "metadata": {
    "tags": []
   },
   "outputs": [
    {
     "data": {
      "text/plain": [
       "array([[1.        , 0.5       , 0.33333333],\n",
       "       [0.25      , 0.2       , 0.16666667]])"
      ]
     },
     "execution_count": 6,
     "metadata": {},
     "output_type": "execute_result"
    }
   ],
   "source": [
    "1 / arr1"
   ]
  },
  {
   "cell_type": "code",
   "execution_count": 7,
   "id": "b6930e93-273e-4341-81ea-c6e29eb6222f",
   "metadata": {
    "tags": []
   },
   "outputs": [
    {
     "data": {
      "text/plain": [
       "array([[1.00000000e+00, 1.60000000e+01, 3.00000000e+00],\n",
       "       [1.63840000e+04, 2.50000000e+01, 2.17678234e+09]])"
      ]
     },
     "execution_count": 7,
     "metadata": {},
     "output_type": "execute_result"
    }
   ],
   "source": [
    "arr1 ** arr2"
   ]
  },
  {
   "cell_type": "code",
   "execution_count": 8,
   "id": "996b8de7-c40b-496b-a8de-8e2802a4ad7c",
   "metadata": {
    "tags": []
   },
   "outputs": [
    {
     "data": {
      "text/plain": [
       "array([[0.        , 2.        , 1.        ],\n",
       "       [2.64575131, 1.41421356, 3.46410162]])"
      ]
     },
     "execution_count": 8,
     "metadata": {},
     "output_type": "execute_result"
    }
   ],
   "source": [
    "arr2 ** 0.5"
   ]
  },
  {
   "cell_type": "code",
   "execution_count": 9,
   "id": "c96d7c86-e17d-4d9a-a84a-b0ef69e0cc0d",
   "metadata": {
    "tags": []
   },
   "outputs": [
    {
     "data": {
      "text/plain": [
       "array([[False,  True, False],\n",
       "       [ True, False,  True]])"
      ]
     },
     "execution_count": 9,
     "metadata": {},
     "output_type": "execute_result"
    }
   ],
   "source": [
    "arr2 > arr1"
   ]
  },
  {
   "cell_type": "markdown",
   "id": "f57d8bd5-0c83-4e96-9dc1-1d2163ba02f2",
   "metadata": {
    "slideshow": {
     "slide_type": "slide"
    },
    "tags": []
   },
   "source": [
    "## Broadcasting\n",
    "\n",
    "What happens when you try to perform an element-wise operation on two arrays of different shape?\n",
    "\n",
    "NumPy will convert a low-dimensional array into a high-dimensional array to allow the operation to take place.\n",
    "\n",
    "This is called **broadcasting**."
   ]
  },
  {
   "cell_type": "markdown",
   "id": "ed5f8aeb-d502-49c9-aaa3-896ddbf66a33",
   "metadata": {
    "slideshow": {
     "slide_type": "slide"
    },
    "tags": []
   },
   "source": [
    "Let's look at an example."
   ]
  },
  {
   "cell_type": "code",
   "execution_count": 10,
   "id": "f55e271c-11fa-41a4-826f-64bee73c811e",
   "metadata": {
    "tags": []
   },
   "outputs": [],
   "source": [
    "foo = np.ones((6,4))"
   ]
  },
  {
   "cell_type": "code",
   "execution_count": 11,
   "id": "8b24ceaf-0ad7-45bb-8a5d-356d9e672b6d",
   "metadata": {
    "tags": []
   },
   "outputs": [
    {
     "data": {
      "text/plain": [
       "array([[1., 1., 1., 1.],\n",
       "       [1., 1., 1., 1.],\n",
       "       [1., 1., 1., 1.],\n",
       "       [1., 1., 1., 1.],\n",
       "       [1., 1., 1., 1.],\n",
       "       [1., 1., 1., 1.]])"
      ]
     },
     "execution_count": 11,
     "metadata": {},
     "output_type": "execute_result"
    }
   ],
   "source": [
    "foo"
   ]
  },
  {
   "cell_type": "markdown",
   "id": "c10687be-417e-43a1-b08d-ed4df6db3f24",
   "metadata": {
    "tags": []
   },
   "source": [
    "If we multiply it by $5$, the scalar is converted into an array of the same shape as `foo` with the value $5$ \"broadcast\" to populate the entire array."
   ]
  },
  {
   "cell_type": "code",
   "execution_count": 12,
   "id": "7ebaf75c-8e83-482d-8753-a70a66d89239",
   "metadata": {
    "tags": []
   },
   "outputs": [
    {
     "data": {
      "text/plain": [
       "array([[5., 5., 5., 5.],\n",
       "       [5., 5., 5., 5.],\n",
       "       [5., 5., 5., 5.],\n",
       "       [5., 5., 5., 5.],\n",
       "       [5., 5., 5., 5.],\n",
       "       [5., 5., 5., 5.]])"
      ]
     },
     "execution_count": 12,
     "metadata": {},
     "output_type": "execute_result"
    }
   ],
   "source": [
    "foo * 5"
   ]
  },
  {
   "cell_type": "markdown",
   "id": "1ed183d4-46e8-45f8-8fe5-449e1795ad43",
   "metadata": {
    "tags": []
   },
   "source": [
    "We actually saw this already when we looked at slices."
   ]
  },
  {
   "cell_type": "markdown",
   "id": "984a92b6-9b4e-4ea5-a5ea-3f6bd276ed12",
   "metadata": {
    "slideshow": {
     "slide_type": "slide"
    },
    "tags": []
   },
   "source": [
    "If we want to multiply an array by a vector, the vector is broadcast to become a 2D array."
   ]
  },
  {
   "cell_type": "code",
   "execution_count": 13,
   "id": "50639ff2-025f-412b-b44e-c189598a84d8",
   "metadata": {
    "tags": []
   },
   "outputs": [
    {
     "data": {
      "text/plain": [
       "array([[ 5., 10.,  6.,  8.],\n",
       "       [ 5., 10.,  6.,  8.],\n",
       "       [ 5., 10.,  6.,  8.],\n",
       "       [ 5., 10.,  6.,  8.],\n",
       "       [ 5., 10.,  6.,  8.],\n",
       "       [ 5., 10.,  6.,  8.]])"
      ]
     },
     "execution_count": 13,
     "metadata": {},
     "output_type": "execute_result"
    }
   ],
   "source": [
    "foo * np.array([5, 10, 6, 8])"
   ]
  },
  {
   "cell_type": "markdown",
   "id": "9459d6c7-4e8b-43fe-aaac-a5da781dff7f",
   "metadata": {
    "slideshow": {
     "slide_type": "slide"
    },
    "tags": []
   },
   "source": [
    "Note that NumPy can't always make the adjustment:"
   ]
  },
  {
   "cell_type": "code",
   "execution_count": 14,
   "id": "93c7175d-ec65-4889-b155-5b28467f0b21",
   "metadata": {
    "tags": []
   },
   "outputs": [
    {
     "ename": "ValueError",
     "evalue": "operands could not be broadcast together with shapes (6,4) (2,) ",
     "output_type": "error",
     "traceback": [
      "\u001b[0;31m---------------------------------------------------------------------------\u001b[0m",
      "\u001b[0;31mValueError\u001b[0m                                Traceback (most recent call last)",
      "Cell \u001b[0;32mIn[14], line 1\u001b[0m\n\u001b[0;32m----> 1\u001b[0m \u001b[43mfoo\u001b[49m\u001b[43m \u001b[49m\u001b[38;5;241;43m*\u001b[39;49m\u001b[43m \u001b[49m\u001b[43mnp\u001b[49m\u001b[38;5;241;43m.\u001b[39;49m\u001b[43marray\u001b[49m\u001b[43m(\u001b[49m\u001b[43m[\u001b[49m\u001b[38;5;241;43m5\u001b[39;49m\u001b[43m,\u001b[49m\u001b[43m \u001b[49m\u001b[38;5;241;43m10\u001b[39;49m\u001b[43m]\u001b[49m\u001b[43m)\u001b[49m\n",
      "\u001b[0;31mValueError\u001b[0m: operands could not be broadcast together with shapes (6,4) (2,) "
     ]
    }
   ],
   "source": [
    "foo * np.array([5, 10])"
   ]
  },
  {
   "cell_type": "markdown",
   "id": "bae2739d-f931-4ef8-9849-ed9d4940c4c8",
   "metadata": {
    "slideshow": {
     "slide_type": "slide"
    },
    "tags": []
   },
   "source": [
    "## Boolean Indexing\n",
    "\n",
    "Another crucial topic in NumPy is boolean indexing. \n",
    "\n",
    "In brief, you can pass a boolean array to the array indexer (i.e. the `[]` suffix) and it will return only those cells that are `True`.\n",
    "\n",
    "This is a technique we will use frequently in Pandas and R."
   ]
  },
  {
   "cell_type": "markdown",
   "id": "7cffecc3-c128-470b-be4e-1086e22c85af",
   "metadata": {
    "slideshow": {
     "slide_type": "slide"
    },
    "tags": []
   },
   "source": [
    "Let's assume that we have two related arrays:\n",
    "\n",
    "* `names` which holds the names associated with the data in each row, or **observations**, of a table.\n",
    "* `data` which holds the data associated with each **feature** of a table.\n",
    "\n",
    "There are $7$ observations and $4$ features."
   ]
  },
  {
   "cell_type": "code",
   "execution_count": 35,
   "id": "98298b1b-3b1d-42b0-853c-0ddbbb74f167",
   "metadata": {},
   "outputs": [
    {
     "data": {
      "text/plain": [
       "array(['Bob', 'Joe', 'Will', 'Bob', 'Will', 'Joe', 'Joe'], dtype='<U4')"
      ]
     },
     "execution_count": 35,
     "metadata": {},
     "output_type": "execute_result"
    }
   ],
   "source": [
    "names = np.array(['Bob', 'Joe', 'Will', 'Bob', 'Will', 'Joe', 'Joe'])\n",
    "names"
   ]
  },
  {
   "cell_type": "code",
   "execution_count": 36,
   "id": "5ca47474-9e5e-48d4-a63f-c099ed26e83b",
   "metadata": {},
   "outputs": [
    {
     "data": {
      "text/plain": [
       "array([[-1.0441337 , -0.8075191 , -1.89069483, -0.9007478 ],\n",
       "       [ 1.57167643, -0.50688096,  0.78120542,  0.22558685],\n",
       "       [-1.45769989, -0.49824512, -1.2056539 , -0.43596557],\n",
       "       [-0.33496411, -0.25575133, -0.61952407,  0.88984652],\n",
       "       [-0.59001244, -2.23411426, -0.31123889, -0.86358338],\n",
       "       [ 1.23662366, -0.90041871,  0.63348956, -0.58677799],\n",
       "       [-3.09362317,  0.92042332,  0.53013723,  0.24224835]])"
      ]
     },
     "execution_count": 36,
     "metadata": {},
     "output_type": "execute_result"
    }
   ],
   "source": [
    "data = np.random.randn(7, 4)\n",
    "data"
   ]
  },
  {
   "cell_type": "markdown",
   "id": "c957a756-4ad1-45e7-8585-9081ca49e726",
   "metadata": {
    "slideshow": {
     "slide_type": "slide"
    },
    "tags": []
   },
   "source": [
    "A comparison operation for an array returns an array of booleans.\n",
    "\n",
    "Let's see which names are `'Bob'`:"
   ]
  },
  {
   "cell_type": "code",
   "execution_count": 37,
   "id": "bd203b5d-0aec-4817-9c0a-3a449d1ea5e3",
   "metadata": {},
   "outputs": [
    {
     "data": {
      "text/plain": [
       "array([ True, False, False,  True, False, False, False])"
      ]
     },
     "execution_count": 37,
     "metadata": {},
     "output_type": "execute_result"
    }
   ],
   "source": [
    "names == 'Bob'"
   ]
  },
  {
   "cell_type": "markdown",
   "id": "b580f6a6-0359-4173-bb34-e5200e2b8fee",
   "metadata": {
    "slideshow": {
     "slide_type": "slide"
    },
    "tags": []
   },
   "source": [
    "Now, this boolean expression can be passed to an array indexer to the data:"
   ]
  },
  {
   "cell_type": "code",
   "execution_count": 38,
   "id": "2991c4c4-3034-4f72-9c9f-37547150f9b5",
   "metadata": {},
   "outputs": [
    {
     "data": {
      "text/plain": [
       "array([[-1.0441337 , -0.8075191 , -1.89069483, -0.9007478 ],\n",
       "       [-0.33496411, -0.25575133, -0.61952407,  0.88984652]])"
      ]
     },
     "execution_count": 38,
     "metadata": {},
     "output_type": "execute_result"
    }
   ],
   "source": [
    "data[names == 'Bob']"
   ]
  },
  {
   "cell_type": "markdown",
   "id": "f8a22003-0ae1-4565-927a-fe5bbb5723ed",
   "metadata": {
    "slideshow": {
     "slide_type": "slide"
    },
    "tags": []
   },
   "source": [
    "Along the second axis, we can use a slice or integer to select data."
   ]
  },
  {
   "cell_type": "code",
   "execution_count": 39,
   "id": "0a4ddcaa-4c82-4aa5-bbd0-79ab9b53b618",
   "metadata": {},
   "outputs": [
    {
     "data": {
      "text/plain": [
       "array([[-1.89069483, -0.9007478 ],\n",
       "       [-0.61952407,  0.88984652]])"
      ]
     },
     "execution_count": 39,
     "metadata": {},
     "output_type": "execute_result"
    }
   ],
   "source": [
    "data[names == 'Bob', 2:]"
   ]
  },
  {
   "cell_type": "code",
   "execution_count": 40,
   "id": "863b1be8-2ae2-4e76-be0d-d7c409e8ada9",
   "metadata": {
    "tags": []
   },
   "outputs": [
    {
     "data": {
      "text/plain": [
       "array([-0.9007478 ,  0.88984652])"
      ]
     },
     "execution_count": 40,
     "metadata": {},
     "output_type": "execute_result"
    }
   ],
   "source": [
    "data[names == 'Bob', 3]"
   ]
  },
  {
   "cell_type": "markdown",
   "id": "af9cf44a-8bc1-4a34-a7df-659766d231ed",
   "metadata": {},
   "source": [
    "If you know SQL, this is like the query:\n",
    "\n",
    "```sql\n",
    "SELECT col3, col4 FROM data WHERE name = 'Bob'\n",
    "```"
   ]
  },
  {
   "cell_type": "markdown",
   "id": "bc9ca53a-389b-4855-8a5c-87cf03eac341",
   "metadata": {
    "slideshow": {
     "slide_type": "slide"
    },
    "tags": []
   },
   "source": [
    "## Negation"
   ]
  },
  {
   "cell_type": "markdown",
   "id": "dafbefac-ca67-4287-8dd9-f5e4613c7e6b",
   "metadata": {},
   "source": [
    "Here are some examples of negated boolean operations being applied."
   ]
  },
  {
   "cell_type": "code",
   "execution_count": 41,
   "id": "15ead767-4c7f-49c8-adea-92685ec33bb1",
   "metadata": {},
   "outputs": [
    {
     "data": {
      "text/plain": [
       "array([False,  True,  True, False,  True,  True,  True])"
      ]
     },
     "execution_count": 41,
     "metadata": {},
     "output_type": "execute_result"
    }
   ],
   "source": [
    "bix = names != 'Bob'\n",
    "bix"
   ]
  },
  {
   "cell_type": "code",
   "execution_count": 42,
   "id": "c2f1a912-94a8-459d-a816-cdbf2302b5e0",
   "metadata": {
    "tags": []
   },
   "outputs": [
    {
     "data": {
      "text/plain": [
       "array([[ 1.57167643, -0.50688096,  0.78120542,  0.22558685],\n",
       "       [-1.45769989, -0.49824512, -1.2056539 , -0.43596557],\n",
       "       [-0.59001244, -2.23411426, -0.31123889, -0.86358338],\n",
       "       [ 1.23662366, -0.90041871,  0.63348956, -0.58677799],\n",
       "       [-3.09362317,  0.92042332,  0.53013723,  0.24224835]])"
      ]
     },
     "execution_count": 42,
     "metadata": {},
     "output_type": "execute_result"
    }
   ],
   "source": [
    "data[bix]"
   ]
  },
  {
   "cell_type": "code",
   "execution_count": 43,
   "id": "a651f4b9-4b90-4044-af7e-7faa2136a8d7",
   "metadata": {
    "tags": []
   },
   "outputs": [
    {
     "data": {
      "text/plain": [
       "array([[-1.0441337 , -0.8075191 , -1.89069483, -0.9007478 ],\n",
       "       [-0.33496411, -0.25575133, -0.61952407,  0.88984652]])"
      ]
     },
     "execution_count": 43,
     "metadata": {},
     "output_type": "execute_result"
    }
   ],
   "source": [
    "data[~bix] # Back to Bob"
   ]
  },
  {
   "cell_type": "code",
   "execution_count": 44,
   "id": "4207995e-50fb-4169-b5db-e0fb6abcdcac",
   "metadata": {},
   "outputs": [
    {
     "data": {
      "text/plain": [
       "array([[ 1.57167643, -0.50688096,  0.78120542,  0.22558685],\n",
       "       [-1.45769989, -0.49824512, -1.2056539 , -0.43596557],\n",
       "       [-0.59001244, -2.23411426, -0.31123889, -0.86358338],\n",
       "       [ 1.23662366, -0.90041871,  0.63348956, -0.58677799],\n",
       "       [-3.09362317,  0.92042332,  0.53013723,  0.24224835]])"
      ]
     },
     "execution_count": 44,
     "metadata": {},
     "output_type": "execute_result"
    }
   ],
   "source": [
    "data[~(names == 'Bob')]"
   ]
  },
  {
   "cell_type": "markdown",
   "id": "edc00508-dac4-452f-9aea-b4e32eba854a",
   "metadata": {},
   "source": [
    "Note that we don't use `not` but instead the tilde `~` sign to negate (flip) a value.\n",
    "\n",
    "Nor do we use `and` and `or`; instead we use `&` and `|`.\n",
    "\n",
    "Also, expressions join by these operators **must be in parentheses**."
   ]
  },
  {
   "cell_type": "code",
   "execution_count": 45,
   "id": "585f527d-012a-4e64-844b-468c8693432f",
   "metadata": {},
   "outputs": [
    {
     "data": {
      "text/plain": [
       "array([[-1.0441337 , -0.8075191 , -1.89069483, -0.9007478 ],\n",
       "       [-1.45769989, -0.49824512, -1.2056539 , -0.43596557],\n",
       "       [-0.33496411, -0.25575133, -0.61952407,  0.88984652],\n",
       "       [-0.59001244, -2.23411426, -0.31123889, -0.86358338]])"
      ]
     },
     "execution_count": 45,
     "metadata": {},
     "output_type": "execute_result"
    }
   ],
   "source": [
    "mask = (names == 'Bob') | (names == 'Will')\n",
    "mask\n",
    "data[mask]"
   ]
  },
  {
   "cell_type": "markdown",
   "id": "04b0cdc2-d037-45c4-a4df-cdf6a0339494",
   "metadata": {
    "slideshow": {
     "slide_type": "slide"
    },
    "tags": []
   },
   "source": [
    "We can also do things like this:"
   ]
  },
  {
   "cell_type": "code",
   "execution_count": 46,
   "id": "d60c99ad-33a8-478e-84b9-1ad8c4f1deeb",
   "metadata": {
    "slideshow": {
     "slide_type": "slide"
    },
    "tags": []
   },
   "outputs": [
    {
     "data": {
      "text/plain": [
       "array([[0.        , 0.        , 0.        , 0.        ],\n",
       "       [1.57167643, 0.        , 0.78120542, 0.22558685],\n",
       "       [0.        , 0.        , 0.        , 0.        ],\n",
       "       [0.        , 0.        , 0.        , 0.88984652],\n",
       "       [0.        , 0.        , 0.        , 0.        ],\n",
       "       [1.23662366, 0.        , 0.63348956, 0.        ],\n",
       "       [0.        , 0.92042332, 0.53013723, 0.24224835]])"
      ]
     },
     "execution_count": 46,
     "metadata": {},
     "output_type": "execute_result"
    }
   ],
   "source": [
    "data[data < 0] = 0\n",
    "data"
   ]
  },
  {
   "cell_type": "markdown",
   "id": "1e718079-81ee-4c89-957f-01bbd859c340",
   "metadata": {
    "slideshow": {
     "slide_type": "slide"
    },
    "tags": []
   },
   "source": [
    "And we can alter data with boolean indexing, just as we did with slices."
   ]
  },
  {
   "cell_type": "code",
   "execution_count": 47,
   "id": "aeaae861-62ee-40e1-af38-44c2bf2933c9",
   "metadata": {
    "tags": []
   },
   "outputs": [
    {
     "data": {
      "text/plain": [
       "array([[7.        , 7.        , 7.        , 7.        ],\n",
       "       [1.57167643, 0.        , 0.78120542, 0.22558685],\n",
       "       [7.        , 7.        , 7.        , 7.        ],\n",
       "       [7.        , 7.        , 7.        , 7.        ],\n",
       "       [7.        , 7.        , 7.        , 7.        ],\n",
       "       [1.23662366, 0.        , 0.63348956, 0.        ],\n",
       "       [0.        , 0.92042332, 0.53013723, 0.24224835]])"
      ]
     },
     "execution_count": 47,
     "metadata": {},
     "output_type": "execute_result"
    }
   ],
   "source": [
    "data[names != 'Joe'] = 7\n",
    "data"
   ]
  }
 ],
 "metadata": {
  "kernelspec": {
   "display_name": "Python 3",
   "language": "python",
   "name": "python3"
  },
  "language_info": {
   "codemirror_mode": {
    "name": "ipython",
    "version": 3
   },
   "file_extension": ".py",
   "mimetype": "text/x-python",
   "name": "python",
   "nbconvert_exporter": "python",
   "pygments_lexer": "ipython3",
   "version": "3.11.4"
  }
 },
 "nbformat": 4,
 "nbformat_minor": 5
}
