{
 "cells": [
  {
   "cell_type": "markdown",
   "id": "e63dd104-cd3b-40b6-921e-4eb2bf25d00b",
   "metadata": {
    "slideshow": {
     "slide_type": "slide"
    },
    "tags": []
   },
   "source": [
    "# NB: NumPy Indexing\n",
    "\n",
    "Programming for Data Science"
   ]
  },
  {
   "cell_type": "markdown",
   "id": "668366c6-49ac-43fa-acce-ac2f2a708cd3",
   "metadata": {
    "slideshow": {
     "slide_type": "slide"
    },
    "tags": []
   },
   "source": [
    "## Indexing\n",
    "\n",
    "Now that we have learned about the **basic structure** of NumPy's multidimensional arrays, let's look at how to **access and extract** subsets of data from them.\n",
    "\n",
    "Here is a $2$-D array, or matrix, initialized from a list of lists."
   ]
  },
  {
   "cell_type": "code",
   "execution_count": 1,
   "id": "f6b63338-11fa-4401-852b-f519152737aa",
   "metadata": {
    "tags": []
   },
   "outputs": [
    {
     "data": {
      "text/plain": [
       "array([[1, 2, 3],\n",
       "       [4, 5, 6],\n",
       "       [7, 8, 9]])"
      ]
     },
     "execution_count": 1,
     "metadata": {},
     "output_type": "execute_result"
    }
   ],
   "source": [
    "import numpy as np\n",
    "arr2d = np.array([[1, 2, 3], [4, 5, 6], [7, 8, 9]])\n",
    "arr2d"
   ]
  },
  {
   "cell_type": "markdown",
   "id": "0e38dac0-0a36-4276-9736-cbe3d469de61",
   "metadata": {
    "slideshow": {
     "slide_type": "slide"
    },
    "tags": []
   },
   "source": [
    "If we wanted to get the third row of the matrix, we can do this:"
   ]
  },
  {
   "cell_type": "code",
   "execution_count": 2,
   "id": "5f57062e-2041-47e0-bf4a-9ecf6cd77766",
   "metadata": {
    "tags": []
   },
   "outputs": [
    {
     "data": {
      "text/plain": [
       "array([7, 8, 9])"
      ]
     },
     "execution_count": 2,
     "metadata": {},
     "output_type": "execute_result"
    }
   ],
   "source": [
    "arr2d[2]"
   ]
  },
  {
   "cell_type": "markdown",
   "id": "486905ac",
   "metadata": {},
   "source": [
    "This is called **indexing**, and it is similar to what we learned about accessing data from lists, tuples, and other sequences in basic Python. \n",
    "\n",
    "Indexing into an axis produces **lower-order arrays**.\n",
    "\n",
    "Here we returned a $1$-D array from a $2$-D one."
   ]
  },
  {
   "cell_type": "markdown",
   "id": "61a6f628",
   "metadata": {
    "slideshow": {
     "slide_type": "slide"
    }
   },
   "source": [
    "## Simplified Notation\n",
    "\n",
    "Let's say we wanted to extract a **single scalar** from the matrix. \n",
    "\n",
    "We could do this to get the third cell from the first row:"
   ]
  },
  {
   "cell_type": "code",
   "execution_count": 3,
   "id": "1b48b797-a1c4-4538-9642-972c6773bd64",
   "metadata": {
    "tags": []
   },
   "outputs": [
    {
     "data": {
      "text/plain": [
       "3"
      ]
     },
     "execution_count": 3,
     "metadata": {},
     "output_type": "execute_result"
    }
   ],
   "source": [
    "arr2d[0][2]"
   ]
  },
  {
   "cell_type": "markdown",
   "id": "de033b6e-3e69-4472-8f57-a87c7ae285cd",
   "metadata": {
    "slideshow": {
     "slide_type": "slide"
    },
    "tags": []
   },
   "source": [
    "NumPy offers a **simpler way** to index mulitple axes.\n",
    "\n",
    "Instead of `x[a][b][c]` you can write `x[a, b, c]`.\n",
    "\n",
    "Think of this as similar to how NumPy represents **shape** as a tuple.\n",
    "\n",
    "Each element of the array has an **index tuple**, which is really a **coordinate**."
   ]
  },
  {
   "cell_type": "markdown",
   "id": "bc231628-1f37-4431-aa15-18ebf0109f19",
   "metadata": {
    "slideshow": {
     "slide_type": "slide"
    },
    "tags": []
   },
   "source": [
    "So, in this case, we could do this:"
   ]
  },
  {
   "cell_type": "code",
   "execution_count": 4,
   "id": "bf2a1e13-0301-4b58-954d-3f1eb5c41eda",
   "metadata": {
    "tags": []
   },
   "outputs": [
    {
     "data": {
      "text/plain": [
       "3"
      ]
     },
     "execution_count": 4,
     "metadata": {},
     "output_type": "execute_result"
    }
   ],
   "source": [
    "arr2d[0, 2]"
   ]
  },
  {
   "cell_type": "markdown",
   "id": "c7e80391-b0ac-48e1-a274-fa87d22d793c",
   "metadata": {},
   "source": [
    "Or, thinking of the cell as a point in $2$-D space: "
   ]
  },
  {
   "cell_type": "code",
   "execution_count": 5,
   "id": "a96b4070-4d30-477c-84eb-7b93910d9b65",
   "metadata": {
    "tags": []
   },
   "outputs": [
    {
     "data": {
      "text/plain": [
       "3"
      ]
     },
     "execution_count": 5,
     "metadata": {},
     "output_type": "execute_result"
    }
   ],
   "source": [
    "my_cell_coord = (0,2)\n",
    "arr2d[my_cell_coord]"
   ]
  },
  {
   "cell_type": "markdown",
   "id": "84436319-6eba-4f0a-9891-301540d6b289",
   "metadata": {
    "slideshow": {
     "slide_type": "slide"
    },
    "tags": []
   },
   "source": [
    "Let's look at a cube:"
   ]
  },
  {
   "cell_type": "code",
   "execution_count": 6,
   "id": "5df5a51e-62d8-4b0a-a2ac-0715d20a444f",
   "metadata": {
    "tags": []
   },
   "outputs": [],
   "source": [
    "arr3d = np.array([[[1, 2, 3], [4, 5, 6]], [[7, 8, 9], [10, 11, 12]]])"
   ]
  },
  {
   "cell_type": "code",
   "execution_count": 7,
   "id": "0d0ca265-7bca-4b54-a73f-df6a61a47145",
   "metadata": {
    "tags": []
   },
   "outputs": [
    {
     "data": {
      "text/plain": [
       "array([[[ 1,  2,  3],\n",
       "        [ 4,  5,  6]],\n",
       "\n",
       "       [[ 7,  8,  9],\n",
       "        [10, 11, 12]]])"
      ]
     },
     "execution_count": 7,
     "metadata": {},
     "output_type": "execute_result"
    }
   ],
   "source": [
    "arr3d"
   ]
  },
  {
   "cell_type": "markdown",
   "id": "43de3513-ba33-4780-90cb-52bb88d4185c",
   "metadata": {},
   "source": [
    "This is how we could access the `(1,0,2)` coordinate:"
   ]
  },
  {
   "cell_type": "code",
   "execution_count": 8,
   "id": "4a9f7439-8570-441a-a861-67b4285a3e78",
   "metadata": {
    "tags": []
   },
   "outputs": [
    {
     "data": {
      "text/plain": [
       "9"
      ]
     },
     "execution_count": 8,
     "metadata": {},
     "output_type": "execute_result"
    }
   ],
   "source": [
    "arr3d[1, 0, 2]"
   ]
  },
  {
   "cell_type": "markdown",
   "id": "f6b94508-baea-440a-888c-ef715fc98407",
   "metadata": {
    "slideshow": {
     "slide_type": "slide"
    },
    "tags": []
   },
   "source": [
    "## Visualizing Array Structure\n",
    "\n",
    "Here is a way to help you **visualize** 3 and higher dimensional data:\n",
    "\n",
    "```python\n",
    "[ # AXIS 0                       AXIS 0: CONTAINS 2 matrices\n",
    "    [ # AXIS 1                   AXIS 1: EACH MEMBER CONTAINS 2 vectors\n",
    "        [1, 2, 3],   # AXIS 2    AXIS 2: EACH MEMBER CONTAINS 3 scalars\n",
    "        [4, 5, 6]    # AXIS 2\n",
    "    ],  \n",
    "    [ # AXIS 1\n",
    "        [7, 8, 9],   # AXIS 2\n",
    "        [10, 11, 12] # AXIS 2\n",
    "    ]\n",
    "]\n",
    "```\n",
    "\n",
    "**Each axis is a level** in the nested **hierarchy**, like a tree or DAG (directed-acyclic graph).\n",
    "\n",
    "Each axis is a **container** of a **lower-order array** &mdash; the cube contains matrices with contain vectors which contain scalars.\n",
    "\n",
    "There is only one top container.\n",
    "\n",
    "Only the bottom containers have scalar data &mdash; the numbers."
   ]
  },
  {
   "cell_type": "markdown",
   "id": "e5d9bfe4-3546-49ac-9d8a-239d1ba2a672",
   "metadata": {
    "slideshow": {
     "slide_type": "slide"
    },
    "tags": []
   },
   "source": [
    "So, if you omit later indices of an array, the returned object will be a **lower-dimensional array** consisting of all the data contained by the higher indexed dimension. \n",
    "\n",
    "So, with `arr3d`, selecting an element from the first axis, we get a matrix from a cube:"
   ]
  },
  {
   "cell_type": "code",
   "execution_count": 9,
   "id": "a8435da3-4af3-4aba-92ff-22c2c4e69f77",
   "metadata": {
    "tags": []
   },
   "outputs": [
    {
     "data": {
      "text/plain": [
       "array([[1, 2, 3],\n",
       "       [4, 5, 6]])"
      ]
     },
     "execution_count": 9,
     "metadata": {},
     "output_type": "execute_result"
    }
   ],
   "source": [
    "arr3d[0]"
   ]
  },
  {
   "cell_type": "markdown",
   "id": "99f8958a-5968-4e0a-80e8-933a63e957b9",
   "metadata": {
    "slideshow": {
     "slide_type": "slide"
    },
    "tags": []
   },
   "source": [
    "Similarly, `arr3d[1, 0]` gives you all of the values whose indices start with (1, 0), forming a 1-dimensional array:"
   ]
  },
  {
   "cell_type": "code",
   "execution_count": 10,
   "id": "6800ea13-ed12-40e8-915d-335a7be46ee4",
   "metadata": {
    "tags": []
   },
   "outputs": [
    {
     "data": {
      "text/plain": [
       "array([7, 8, 9])"
      ]
     },
     "execution_count": 10,
     "metadata": {},
     "output_type": "execute_result"
    }
   ],
   "source": [
    "arr3d[1, 0]"
   ]
  },
  {
   "cell_type": "markdown",
   "id": "51e673d5-00a3-4ce9-8790-24631745bb98",
   "metadata": {
    "slideshow": {
     "slide_type": "slide"
    },
    "tags": []
   },
   "source": [
    "## Slicing\n",
    "\n",
    "Slicing refers to selecting subsets of arrays.\n",
    "\n",
    "It is like selecting in SQL &mdash; you ask for parts of an array.\n",
    "\n",
    "Let's look at some examples."
   ]
  },
  {
   "cell_type": "markdown",
   "id": "92574e39-3188-4fc4-91f9-3320f8f9dcb4",
   "metadata": {
    "slideshow": {
     "slide_type": "slide"
    },
    "tags": []
   },
   "source": [
    "Here is a vector."
   ]
  },
  {
   "cell_type": "code",
   "execution_count": 11,
   "id": "88e397fb-815e-4548-8882-f5629deba2f3",
   "metadata": {
    "tags": []
   },
   "outputs": [
    {
     "data": {
      "text/plain": [
       "array([76, 46, 76, 64, 37, 11, 43, 75, 42, 71])"
      ]
     },
     "execution_count": 11,
     "metadata": {},
     "output_type": "execute_result"
    }
   ],
   "source": [
    "arr1d = np.random.randint(1, 100, 10)\n",
    "arr1d"
   ]
  },
  {
   "cell_type": "markdown",
   "id": "1afb9757-b3d0-4ec0-bbca-f3fe68d8271f",
   "metadata": {},
   "source": [
    "By using the colon `:` notation, we can select a vector with the second through the fifth elements. "
   ]
  },
  {
   "cell_type": "code",
   "execution_count": 12,
   "id": "9417e8c0-a185-4efd-8e7a-f8c05bb135ef",
   "metadata": {
    "tags": []
   },
   "outputs": [
    {
     "data": {
      "text/plain": [
       "array([46, 76, 64, 37, 11])"
      ]
     },
     "execution_count": 12,
     "metadata": {},
     "output_type": "execute_result"
    }
   ],
   "source": [
    "arr1d[1:6]"
   ]
  },
  {
   "cell_type": "markdown",
   "id": "58607262-c82e-411b-bfd0-4df962fd4f0f",
   "metadata": {
    "slideshow": {
     "slide_type": "slide"
    },
    "tags": []
   },
   "source": [
    "Here is a matrix."
   ]
  },
  {
   "cell_type": "code",
   "execution_count": 13,
   "id": "06d08a22-b96c-4cb4-a945-9b3a4d6b5eaf",
   "metadata": {
    "tags": []
   },
   "outputs": [
    {
     "data": {
      "text/plain": [
       "array([[1, 2, 3],\n",
       "       [4, 5, 6],\n",
       "       [7, 8, 9]])"
      ]
     },
     "execution_count": 13,
     "metadata": {},
     "output_type": "execute_result"
    }
   ],
   "source": [
    "arr2d"
   ]
  },
  {
   "cell_type": "markdown",
   "id": "7c1a61d9-417d-478e-b67d-8650e7559ceb",
   "metadata": {},
   "source": [
    "By omitting the first number, NumPy defaults to the beginning $0$. \n",
    "\n",
    "This returns the first two elements of the top level, which means two rows:"
   ]
  },
  {
   "cell_type": "code",
   "execution_count": 14,
   "id": "ea4c5542-c73d-45af-b28e-2bb35f15397d",
   "metadata": {},
   "outputs": [
    {
     "data": {
      "text/plain": [
       "array([[1, 2, 3],\n",
       "       [4, 5, 6]])"
      ]
     },
     "execution_count": 14,
     "metadata": {},
     "output_type": "execute_result"
    }
   ],
   "source": [
    "arr2d[:2]"
   ]
  },
  {
   "cell_type": "markdown",
   "id": "53f4072e-5392-489b-b421-18ed8a17bd1b",
   "metadata": {
    "slideshow": {
     "slide_type": "slide"
    },
    "tags": []
   },
   "source": [
    "Here we grab the first two rows, and then, for each row, we omit the first element:"
   ]
  },
  {
   "cell_type": "code",
   "execution_count": 15,
   "id": "66bad7aa-b75a-485b-b75e-b2351bfe1a3a",
   "metadata": {
    "tags": []
   },
   "outputs": [
    {
     "data": {
      "text/plain": [
       "array([[2, 3],\n",
       "       [5, 6]])"
      ]
     },
     "execution_count": 15,
     "metadata": {},
     "output_type": "execute_result"
    }
   ],
   "source": [
    "arr2d[:2, 1:]"
   ]
  },
  {
   "cell_type": "markdown",
   "id": "6d2e2a9b-99b8-48ae-8a0c-0e15cf588631",
   "metadata": {
    "slideshow": {
     "slide_type": "slide"
    },
    "tags": []
   },
   "source": [
    "And here are some more examples of slicing into a matrix:"
   ]
  },
  {
   "cell_type": "code",
   "execution_count": 16,
   "id": "b27874de-4159-4897-8837-8c8eb9acd6b6",
   "metadata": {
    "tags": []
   },
   "outputs": [
    {
     "data": {
      "text/plain": [
       "array([4, 5])"
      ]
     },
     "execution_count": 16,
     "metadata": {},
     "output_type": "execute_result"
    }
   ],
   "source": [
    "arr2d[1, :2]"
   ]
  },
  {
   "cell_type": "code",
   "execution_count": 17,
   "id": "d1e6316a-6c66-49b3-8ee1-732fbf66b3b8",
   "metadata": {
    "tags": []
   },
   "outputs": [
    {
     "data": {
      "text/plain": [
       "array([3, 6])"
      ]
     },
     "execution_count": 17,
     "metadata": {},
     "output_type": "execute_result"
    }
   ],
   "source": [
    "arr2d[:2, 2]"
   ]
  },
  {
   "cell_type": "code",
   "execution_count": 18,
   "id": "e278801e-f35a-4379-b1aa-410d91091fd9",
   "metadata": {
    "tags": []
   },
   "outputs": [
    {
     "data": {
      "text/plain": [
       "array([[1],\n",
       "       [4],\n",
       "       [7]])"
      ]
     },
     "execution_count": 18,
     "metadata": {},
     "output_type": "execute_result"
    }
   ],
   "source": [
    "arr2d[:, :1]"
   ]
  },
  {
   "cell_type": "markdown",
   "id": "1600171e-e4a7-450b-8d3d-95cdc84a0844",
   "metadata": {
    "slideshow": {
     "slide_type": "slide"
    },
    "tags": []
   },
   "source": [
    "## Shapes\n",
    "\n",
    "Recall that there is a difference between a $1$-dimensional array and an $2$-dimensional array with one row or column.\n",
    "\n",
    "This comes up again in slices.\n",
    "\n",
    "Consider the following examples."
   ]
  },
  {
   "cell_type": "markdown",
   "id": "136ba24e-c852-4eb6-96c5-1ba10ac4495c",
   "metadata": {
    "slideshow": {
     "slide_type": "slide"
    },
    "tags": []
   },
   "source": [
    "Here we compare a slice that extracts a single row, and a simple index that extracts a the same row."
   ]
  },
  {
   "cell_type": "code",
   "execution_count": 19,
   "id": "05589816-81df-4f98-b17d-8bf960576907",
   "metadata": {
    "tags": []
   },
   "outputs": [
    {
     "data": {
      "text/plain": [
       "(array([[1, 2, 3]]), array([1, 2, 3]))"
      ]
     },
     "execution_count": 19,
     "metadata": {},
     "output_type": "execute_result"
    }
   ],
   "source": [
    "arr2d[0:1], arr2d[0]"
   ]
  },
  {
   "cell_type": "code",
   "execution_count": 20,
   "id": "cff974ce-8ae7-4ed3-bcfc-627c4b113a37",
   "metadata": {
    "tags": []
   },
   "outputs": [
    {
     "data": {
      "text/plain": [
       "((1, 3), (3,))"
      ]
     },
     "execution_count": 20,
     "metadata": {},
     "output_type": "execute_result"
    }
   ],
   "source": [
    "arr2d[0:1].shape, arr2d[0].shape"
   ]
  },
  {
   "cell_type": "markdown",
   "id": "1267cdfe-8689-438e-97d6-8be5d6923606",
   "metadata": {},
   "source": [
    "Note the difference in shape.\n",
    "\n",
    "A range, even of length $1$, returns a slice, which is always a sequence. \n",
    "\n",
    "In this case, the range selects a 1-element sequence of vectors, while the simple index selects the element itself."
   ]
  },
  {
   "cell_type": "markdown",
   "id": "783f2cdf-559b-472d-b8ea-68ed95e4277f",
   "metadata": {
    "slideshow": {
     "slide_type": "slide"
    },
    "tags": []
   },
   "source": [
    "Let's look at a higher-order array.\n",
    "\n",
    "In the first axis selector, we use a scalar in one case and a slice in the other."
   ]
  },
  {
   "cell_type": "code",
   "execution_count": 21,
   "id": "435ec0c3-ba32-4bc1-a7ee-228682f2ee71",
   "metadata": {
    "tags": []
   },
   "outputs": [
    {
     "data": {
      "text/plain": [
       "(array([[ 7,  8,  9],\n",
       "        [10, 11, 12]]),\n",
       " array([[[ 7,  8,  9],\n",
       "         [10, 11, 12]]]))"
      ]
     },
     "execution_count": 21,
     "metadata": {},
     "output_type": "execute_result"
    }
   ],
   "source": [
    "arr3d[1, :], arr3d[1:, :]"
   ]
  },
  {
   "cell_type": "code",
   "execution_count": 22,
   "id": "20d59f3a-8f19-4072-8e2d-88695e63521c",
   "metadata": {
    "tags": []
   },
   "outputs": [
    {
     "data": {
      "text/plain": [
       "((2, 3), (1, 2, 3))"
      ]
     },
     "execution_count": 22,
     "metadata": {},
     "output_type": "execute_result"
    }
   ],
   "source": [
    "arr3d[1, :].shape, arr3d[1:, :].shape"
   ]
  },
  {
   "cell_type": "markdown",
   "id": "e112344e-67fd-4d25-ac98-4db880b922c1",
   "metadata": {
    "jp-MarkdownHeadingCollapsed": true,
    "slideshow": {
     "slide_type": "slide"
    },
    "tags": []
   },
   "source": [
    "## Another Visual\n",
    "\n",
    "Here is a nice visualization of how slicing works, taken from [McKinney 2017](https://learning.oreilly.com/library/view/python-for-data/9781491957653/ch04.html), Chapter 4.\n",
    "\n",
    "<table>\n",
    "    <tr>\n",
    "        <td style=\"vertical-align: top;\">\n",
    "            <p>Consider the following $2$-D array. Each cell is labeled by its address.</p>\n",
    "            <br/><br/>\n",
    "<img src=\"https://learning.oreilly.com/api/v2/epubs/urn:orm:book:9781449323592/files/httpatomoreillycomsourceoreillyimages2172112.png\"/>\n",
    "        </td>\n",
    "        <td style=\"vertical-align: top;\">\n",
    "            <p>Here are some slices and their return values.</p>\n",
    "            <br/><br/>\n",
    "<img src=\"https://learning.oreilly.com/api/v2/epubs/urn:orm:book:9781449323592/files/httpatomoreillycomsourceoreillyimages2172114.png\"/>\n",
    "        </td>\n",
    "    </tr>\n",
    "</table>"
   ]
  },
  {
   "cell_type": "markdown",
   "id": "cac41d7f-5148-4183-b944-00136bfd55a4",
   "metadata": {
    "slideshow": {
     "slide_type": "slide"
    },
    "tags": []
   },
   "source": [
    "## Altering Values\n",
    "\n",
    "Slices can be used to extract subsets of data, but we may also use them to alter subsets as well.\n",
    "\n",
    "Here we set all the values of a slice to $0$."
   ]
  },
  {
   "cell_type": "code",
   "execution_count": 23,
   "id": "341f22c3-48b1-4d6d-b1db-b1d0d0c89701",
   "metadata": {
    "scrolled": true,
    "tags": []
   },
   "outputs": [
    {
     "data": {
      "text/plain": [
       "array([[1, 0, 0],\n",
       "       [4, 0, 0],\n",
       "       [7, 8, 9]])"
      ]
     },
     "execution_count": 23,
     "metadata": {},
     "output_type": "execute_result"
    }
   ],
   "source": [
    "arr2d[:2, 1:] = 0\n",
    "arr2d"
   ]
  },
  {
   "cell_type": "markdown",
   "id": "a355d559-d0d3-468c-9b5d-58bbd4bdcd8b",
   "metadata": {
    "slideshow": {
     "slide_type": "slide"
    },
    "tags": []
   },
   "source": [
    "## Views\n",
    "\n",
    "It is crucial to understand when altering the results of a slicing or indexing operation , NumPy returns **views** to the source object, not **copies** of it.\n",
    "\n",
    "That is the two variables both **point** to the same object.\n",
    "\n",
    "This means if we assign a slice to a variable and alter the new variable, we also alter the original!\n",
    "\n",
    "Let's illustrate this with an example. See what happens when we change a view."
   ]
  },
  {
   "cell_type": "markdown",
   "id": "2f22fc50-1012-413a-b167-d9ed4a5f9e6d",
   "metadata": {
    "slideshow": {
     "slide_type": "slide"
    },
    "tags": []
   },
   "source": [
    "Here we assign a slice to a variable."
   ]
  },
  {
   "cell_type": "code",
   "execution_count": 24,
   "id": "8a04915c-cac2-469a-8cb9-a808e81c46fb",
   "metadata": {
    "tags": []
   },
   "outputs": [
    {
     "data": {
      "text/plain": [
       "array([[7, 8, 9]])"
      ]
     },
     "execution_count": 24,
     "metadata": {},
     "output_type": "execute_result"
    }
   ],
   "source": [
    "arr_slice = arr2d[2:3]\n",
    "arr_slice"
   ]
  },
  {
   "cell_type": "markdown",
   "id": "162d7c00-56b8-423f-a078-ce32a0a0402b",
   "metadata": {},
   "source": [
    "Then we alter the data in the variable."
   ]
  },
  {
   "cell_type": "code",
   "execution_count": 25,
   "id": "4555c6ec-e839-4425-96f6-3305bd6ca46e",
   "metadata": {
    "tags": []
   },
   "outputs": [],
   "source": [
    "arr_slice[0,2] = 12345"
   ]
  },
  {
   "cell_type": "markdown",
   "id": "5d0a112e-9e94-4eae-a09c-95a659f3c18c",
   "metadata": {},
   "source": [
    "But notice how it changes our original:"
   ]
  },
  {
   "cell_type": "code",
   "execution_count": 26,
   "id": "f0f2a927-425f-44f8-abf8-4b2257e59e08",
   "metadata": {
    "tags": []
   },
   "outputs": [
    {
     "data": {
      "text/plain": [
       "array([[    1,     0,     0],\n",
       "       [    4,     0,     0],\n",
       "       [    7,     8, 12345]])"
      ]
     },
     "execution_count": 26,
     "metadata": {},
     "output_type": "execute_result"
    }
   ],
   "source": [
    "arr2d"
   ]
  },
  {
   "cell_type": "markdown",
   "id": "601763d7-e626-4287-84d7-05be5b81413c",
   "metadata": {
    "slideshow": {
     "slide_type": "slide"
    },
    "tags": []
   },
   "source": [
    "Here's another example, to reinforce the point."
   ]
  },
  {
   "cell_type": "code",
   "execution_count": 27,
   "id": "f60f4bd3-f283-4909-92b3-1a4fe0c48a68",
   "metadata": {
    "tags": []
   },
   "outputs": [],
   "source": [
    "arr_slice[:] = 64"
   ]
  },
  {
   "cell_type": "code",
   "execution_count": 28,
   "id": "4579a390-5be7-48cc-8f9b-29f4c2d30ed5",
   "metadata": {
    "tags": []
   },
   "outputs": [
    {
     "data": {
      "text/plain": [
       "array([[64, 64, 64]])"
      ]
     },
     "execution_count": 28,
     "metadata": {},
     "output_type": "execute_result"
    }
   ],
   "source": [
    "arr_slice"
   ]
  },
  {
   "cell_type": "code",
   "execution_count": 29,
   "id": "b4b3009b-b3b8-469a-b826-b09f5f07cc2e",
   "metadata": {
    "tags": []
   },
   "outputs": [
    {
     "data": {
      "text/plain": [
       "array([[ 1,  0,  0],\n",
       "       [ 4,  0,  0],\n",
       "       [64, 64, 64]])"
      ]
     },
     "execution_count": 29,
     "metadata": {},
     "output_type": "execute_result"
    }
   ],
   "source": [
    "arr2d"
   ]
  },
  {
   "cell_type": "markdown",
   "id": "2fb92939-b599-4b5e-8740-edd922b8eeed",
   "metadata": {
    "slideshow": {
     "slide_type": "slide"
    },
    "tags": []
   },
   "source": [
    "## Copies\n",
    "\n",
    "NumPy defaults to views rather than copies because copies are **expensive**.\n",
    "\n",
    "This is because NumPy is designed with **large data** use cases in mind.\n",
    "\n",
    "If you want a **copy** of a slice of an array instead of a view, use `.copy()`."
   ]
  },
  {
   "cell_type": "markdown",
   "id": "f07adeba-a4e7-4f4a-a3dc-236b57575cdb",
   "metadata": {
    "slideshow": {
     "slide_type": "slide"
    },
    "tags": []
   },
   "source": [
    "Here's an example:"
   ]
  },
  {
   "cell_type": "code",
   "execution_count": 30,
   "id": "9d91e75b-ebd2-4793-804e-5a1f30351682",
   "metadata": {
    "tags": []
   },
   "outputs": [
    {
     "data": {
      "text/plain": [
       "array([[64, 64, 64]])"
      ]
     },
     "execution_count": 30,
     "metadata": {},
     "output_type": "execute_result"
    }
   ],
   "source": [
    "arr_slice_copy = arr2d[2:3].copy()\n",
    "arr_slice_copy"
   ]
  },
  {
   "cell_type": "code",
   "execution_count": 31,
   "id": "90ae4580-1663-425b-9715-dcf0dbc49923",
   "metadata": {
    "tags": []
   },
   "outputs": [
    {
     "data": {
      "text/plain": [
       "array([[99, 99, 99]])"
      ]
     },
     "execution_count": 31,
     "metadata": {},
     "output_type": "execute_result"
    }
   ],
   "source": [
    "arr_slice_copy[:] = 99\n",
    "arr_slice_copy"
   ]
  },
  {
   "cell_type": "markdown",
   "id": "9a93c6fc-ca70-4271-a9c5-ece173c1d708",
   "metadata": {},
   "source": [
    "Note how the original array is unchanged:"
   ]
  },
  {
   "cell_type": "code",
   "execution_count": 32,
   "id": "fa917d21-a91b-4c2a-a591-d2b3f5db26f9",
   "metadata": {
    "tags": []
   },
   "outputs": [
    {
     "data": {
      "text/plain": [
       "array([[ 1,  0,  0],\n",
       "       [ 4,  0,  0],\n",
       "       [64, 64, 64]])"
      ]
     },
     "execution_count": 32,
     "metadata": {},
     "output_type": "execute_result"
    }
   ],
   "source": [
    "arr2d"
   ]
  },
  {
   "cell_type": "markdown",
   "id": "23c96a19-c526-4639-acb0-95b0bce7f191",
   "metadata": {
    "slideshow": {
     "slide_type": "slide"
    },
    "tags": []
   },
   "source": [
    "One pattern to follow is to **save data** before modifying an array."
   ]
  },
  {
   "cell_type": "code",
   "execution_count": 33,
   "id": "7a393343-623c-4e37-bc96-c3175ff007aa",
   "metadata": {
    "tags": []
   },
   "outputs": [
    {
     "data": {
      "text/plain": [
       "array([[1, 2, 3],\n",
       "       [4, 5, 6]])"
      ]
     },
     "execution_count": 33,
     "metadata": {},
     "output_type": "execute_result"
    }
   ],
   "source": [
    "arr3d[0]"
   ]
  },
  {
   "cell_type": "code",
   "execution_count": 34,
   "id": "4bcfeaa4-3399-4a31-880a-db1b43bf5904",
   "metadata": {
    "tags": []
   },
   "outputs": [
    {
     "data": {
      "text/plain": [
       "array([[[42, 42, 42],\n",
       "        [42, 42, 42]],\n",
       "\n",
       "       [[ 7,  8,  9],\n",
       "        [10, 11, 12]]])"
      ]
     },
     "execution_count": 34,
     "metadata": {},
     "output_type": "execute_result"
    }
   ],
   "source": [
    "saved_data = arr3d[0].copy()\n",
    "arr3d[0] = 42\n",
    "arr3d"
   ]
  },
  {
   "cell_type": "markdown",
   "id": "ef1f9504-6234-4a37-b402-137b627e5461",
   "metadata": {},
   "source": [
    "Putting the data back."
   ]
  },
  {
   "cell_type": "code",
   "execution_count": 35,
   "id": "907456ea-3909-4c07-9c42-aeb80a4e83ec",
   "metadata": {
    "tags": []
   },
   "outputs": [
    {
     "data": {
      "text/plain": [
       "array([[[ 1,  2,  3],\n",
       "        [ 4,  5,  6]],\n",
       "\n",
       "       [[ 7,  8,  9],\n",
       "        [10, 11, 12]]])"
      ]
     },
     "execution_count": 35,
     "metadata": {},
     "output_type": "execute_result"
    }
   ],
   "source": [
    "arr3d[0] = saved_data\n",
    "arr3d"
   ]
  },
  {
   "cell_type": "markdown",
   "id": "e07f470e-1913-4a72-a929-78e5c15d8d09",
   "metadata": {
    "slideshow": {
     "slide_type": "slide"
    },
    "tags": []
   },
   "source": [
    "## Fancy Indexing\n",
    "\n",
    "In addition to passing integers and slices to the array indexer, we can pass lists of array index numbers for each axis.\n",
    "\n",
    "This is called **fancy indexing**.\n",
    "\n",
    "This can be used to both **sub-select** and **re-order** data from an array."
   ]
  },
  {
   "cell_type": "markdown",
   "id": "e871b912-f636-4304-96f1-a13da784fc16",
   "metadata": {
    "slideshow": {
     "slide_type": "slide"
    },
    "tags": []
   },
   "source": [
    "Here's an example.\n",
    "\n",
    "We create an empty $8 \\times 4$ array and then immediately re-populate it."
   ]
  },
  {
   "cell_type": "code",
   "execution_count": 36,
   "id": "cff0817c-bfed-4c3a-b8d5-9c1d25840bce",
   "metadata": {},
   "outputs": [
    {
     "data": {
      "text/plain": [
       "array([[0., 0., 0., 0.],\n",
       "       [1., 1., 1., 1.],\n",
       "       [2., 2., 2., 2.],\n",
       "       [3., 3., 3., 3.],\n",
       "       [4., 4., 4., 4.],\n",
       "       [5., 5., 5., 5.],\n",
       "       [6., 6., 6., 6.],\n",
       "       [7., 7., 7., 7.]])"
      ]
     },
     "execution_count": 36,
     "metadata": {},
     "output_type": "execute_result"
    }
   ],
   "source": [
    "arr = np.empty((8, 4))\n",
    "for i in range(arr.shape[0]):\n",
    "    arr[i] = i\n",
    "arr"
   ]
  },
  {
   "cell_type": "markdown",
   "id": "c70222de-3995-4d80-b445-ff4a986b868a",
   "metadata": {
    "slideshow": {
     "slide_type": "slide"
    },
    "tags": []
   },
   "source": [
    "The following fancy index selects rows 4, 3, 0, and 6, in that order:"
   ]
  },
  {
   "cell_type": "code",
   "execution_count": 37,
   "id": "da0e29a5-97b0-4349-b717-4694a2526b64",
   "metadata": {},
   "outputs": [
    {
     "data": {
      "text/plain": [
       "array([[4., 4., 4., 4.],\n",
       "       [3., 3., 3., 3.],\n",
       "       [0., 0., 0., 0.],\n",
       "       [6., 6., 6., 6.]])"
      ]
     },
     "execution_count": 37,
     "metadata": {},
     "output_type": "execute_result"
    }
   ],
   "source": [
    "arr[[4, 3, 0, 6]]"
   ]
  },
  {
   "cell_type": "markdown",
   "id": "33d48ec4-4b95-4c6d-8a2a-e4d3128b9712",
   "metadata": {
    "slideshow": {
     "slide_type": "slide"
    },
    "tags": []
   },
   "source": [
    "We can also go backwards, just as we can index elements of a list."
   ]
  },
  {
   "cell_type": "code",
   "execution_count": 38,
   "id": "9d097e64-341f-4477-a69b-08dad311ff64",
   "metadata": {},
   "outputs": [
    {
     "data": {
      "text/plain": [
       "array([[5., 5., 5., 5.],\n",
       "       [3., 3., 3., 3.],\n",
       "       [1., 1., 1., 1.]])"
      ]
     },
     "execution_count": 38,
     "metadata": {},
     "output_type": "execute_result"
    }
   ],
   "source": [
    "arr[[-3, -5, -7]]"
   ]
  },
  {
   "cell_type": "markdown",
   "id": "43f37d4b-6fca-4ced-b893-51193affae85",
   "metadata": {
    "slideshow": {
     "slide_type": "slide"
    },
    "tags": []
   },
   "source": [
    "We can also use lists to perform some complex indexing."
   ]
  },
  {
   "cell_type": "code",
   "execution_count": 39,
   "id": "1389fa7b-36bd-4432-bfd5-bbd1928456e7",
   "metadata": {},
   "outputs": [
    {
     "data": {
      "text/plain": [
       "array([[ 0,  1,  2,  3],\n",
       "       [ 4,  5,  6,  7],\n",
       "       [ 8,  9, 10, 11],\n",
       "       [12, 13, 14, 15],\n",
       "       [16, 17, 18, 19],\n",
       "       [20, 21, 22, 23],\n",
       "       [24, 25, 26, 27],\n",
       "       [28, 29, 30, 31]])"
      ]
     },
     "execution_count": 39,
     "metadata": {},
     "output_type": "execute_result"
    }
   ],
   "source": [
    "arr = np.arange(32).reshape((8, 4))\n",
    "arr"
   ]
  },
  {
   "cell_type": "markdown",
   "id": "471d9cb3-dfc9-4871-95e8-b8835a727cc1",
   "metadata": {},
   "source": [
    "Here we grab rows, then select columns from each row."
   ]
  },
  {
   "cell_type": "code",
   "execution_count": 40,
   "id": "f0a247eb-e43d-47f9-a8c7-2b00f341feb3",
   "metadata": {},
   "outputs": [
    {
     "data": {
      "text/plain": [
       "array([ 4, 23, 29, 10])"
      ]
     },
     "execution_count": 40,
     "metadata": {},
     "output_type": "execute_result"
    }
   ],
   "source": [
    "arr[[1, 5, 7, 2], [0, 3, 1, 2]]"
   ]
  },
  {
   "cell_type": "markdown",
   "id": "ab17abbf-75ee-4fca-930e-9f9bfa074c31",
   "metadata": {
    "tags": []
   },
   "source": [
    "And here we grab some rows in a particular order, then re-order the columns."
   ]
  },
  {
   "cell_type": "code",
   "execution_count": 41,
   "id": "5dfced6f-ef77-43a7-adab-4c260d44beee",
   "metadata": {
    "tags": []
   },
   "outputs": [
    {
     "data": {
      "text/plain": [
       "array([[ 4,  7,  5,  6],\n",
       "       [20, 23, 21, 22],\n",
       "       [28, 31, 29, 30],\n",
       "       [ 8, 11,  9, 10]])"
      ]
     },
     "execution_count": 41,
     "metadata": {},
     "output_type": "execute_result"
    }
   ],
   "source": [
    "arr[[1, 5, 7, 2]][:, [0, 3, 1, 2]] "
   ]
  },
  {
   "cell_type": "markdown",
   "id": "e11735cb-b9a7-4799-b3b8-657fbc2cc3f2",
   "metadata": {
    "slideshow": {
     "slide_type": "slide"
    }
   },
   "source": [
    "## Something to be Aware of\n",
    "\n",
    "There is a difference between doing this `arr[1:, :2]` ...\n",
    "\n",
    "and doing this `arr[1:][:2]`.\n",
    "\n",
    "The first case operates on both axes **simultaneousy**, slicing both rows and columns.\n",
    "\n",
    "The second case operates on the axes **sequentially**, slicing rows then rows again.\n",
    "\n",
    "This may be confusing, since the two notations are the same when we are not using slices."
   ]
  },
  {
   "cell_type": "markdown",
   "id": "1d5aaaf1-3b4a-4fd6-8c84-25ef7bace541",
   "metadata": {
    "slideshow": {
     "slide_type": "slide"
    },
    "tags": []
   },
   "source": [
    "Here is an example."
   ]
  },
  {
   "cell_type": "code",
   "execution_count": 42,
   "id": "4f8355ab-5036-4198-b94f-7d930f75765e",
   "metadata": {},
   "outputs": [],
   "source": [
    "foo = np.random.randn(3,5)"
   ]
  },
  {
   "cell_type": "code",
   "execution_count": 43,
   "id": "31dade39-5165-4748-9360-b547aa62805e",
   "metadata": {
    "tags": []
   },
   "outputs": [
    {
     "data": {
      "text/plain": [
       "array([[ 0.88095771,  0.17701757,  0.69125263,  0.67894113,  0.1763698 ],\n",
       "       [ 0.17465033, -0.25317231,  0.45904164,  0.21024919,  1.11688081],\n",
       "       [-0.52672375, -0.09234619, -0.46120961, -0.1940446 , -0.28382698]])"
      ]
     },
     "execution_count": 43,
     "metadata": {},
     "output_type": "execute_result"
    }
   ],
   "source": [
    "foo"
   ]
  },
  {
   "cell_type": "markdown",
   "id": "ebd3fb29-c9dc-4476-aac3-9bcfb4580009",
   "metadata": {},
   "source": [
    "Now, this slices rows and columns:"
   ]
  },
  {
   "cell_type": "code",
   "execution_count": 44,
   "id": "64594316-7992-4114-b92b-4c7157dc7f64",
   "metadata": {
    "tags": []
   },
   "outputs": [
    {
     "data": {
      "text/plain": [
       "array([[ 0.17465033, -0.25317231],\n",
       "       [-0.52672375, -0.09234619]])"
      ]
     },
     "execution_count": 44,
     "metadata": {},
     "output_type": "execute_result"
    }
   ],
   "source": [
    "foo[1:, :2]"
   ]
  },
  {
   "cell_type": "markdown",
   "id": "3a3ef9d8-f241-4ad7-a617-f8e33d3004e9",
   "metadata": {},
   "source": [
    "And this slices rows, then rows again on the result:"
   ]
  },
  {
   "cell_type": "code",
   "execution_count": 45,
   "id": "7dd5a46d-8bdd-4f65-a54e-fbaa9f4693b7",
   "metadata": {
    "tags": []
   },
   "outputs": [
    {
     "data": {
      "text/plain": [
       "array([[ 0.17465033, -0.25317231,  0.45904164,  0.21024919,  1.11688081],\n",
       "       [-0.52672375, -0.09234619, -0.46120961, -0.1940446 , -0.28382698]])"
      ]
     },
     "execution_count": 45,
     "metadata": {},
     "output_type": "execute_result"
    }
   ],
   "source": [
    "foo[1:][:2]"
   ]
  }
 ],
 "metadata": {
  "kernelspec": {
   "display_name": "eta",
   "language": "python",
   "name": "eta"
  },
  "language_info": {
   "codemirror_mode": {
    "name": "ipython",
    "version": 3
   },
   "file_extension": ".py",
   "mimetype": "text/x-python",
   "name": "python",
   "nbconvert_exporter": "python",
   "pygments_lexer": "ipython3",
   "version": "3.9.19"
  }
 },
 "nbformat": 4,
 "nbformat_minor": 5
}
