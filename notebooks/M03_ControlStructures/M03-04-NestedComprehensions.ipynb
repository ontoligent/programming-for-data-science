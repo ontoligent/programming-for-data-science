{
 "cells": [
  {
   "cell_type": "markdown",
   "id": "7051db1b-36ae-4d30-9cfd-f6df7e2b9988",
   "metadata": {
    "slideshow": {
     "slide_type": "slide"
    },
    "tags": []
   },
   "source": [
    "# NB: Nested Comprehensions\n",
    "\n",
    "Programming for Data Science"
   ]
  },
  {
   "cell_type": "markdown",
   "id": "5d1b95e4-8c65-47ca-be01-43b03c9924e8",
   "metadata": {
    "slideshow": {
     "slide_type": "slide"
    },
    "tags": []
   },
   "source": [
    "Recall that nested loops are the algorithmic complement to nested data structures.\n",
    "\n",
    "Just as we can nest loops using for loops, we can do so with comprehensions.\n",
    "\n",
    "Here are some examples.\n",
    "\n",
    "<span style=\"font-size:80%;float:right;\">This notebook is adapted from [GeeksForGeeks](https://www.geeksforgeeks.org/nested-list-comprehensions-in-python/).</style>"
   ]
  },
  {
   "cell_type": "markdown",
   "id": "a8adb982-f8a2-4a8f-b435-e0050b1f5028",
   "metadata": {
    "slideshow": {
     "slide_type": "slide"
    },
    "tags": []
   },
   "source": [
    "# Example 1: Creating a Matrix"
   ]
  },
  {
   "cell_type": "markdown",
   "id": "1aa6f6e0-c701-46ad-9d5e-6ddbf5e61949",
   "metadata": {},
   "source": [
    "Here is how we can make a matrix &mdash; a two-dimensional data structure where each element is of the same data type &mdash; using plain old for loops."
   ]
  },
  {
   "cell_type": "code",
   "execution_count": 1,
   "id": "cdd1eb54-5ac7-499d-9174-c046720f207d",
   "metadata": {
    "tags": []
   },
   "outputs": [],
   "source": [
    "matrix1 = [] # Matrix created\n",
    "for i in range(5):\n",
    "    matrix1.append([]) # Row created\n",
    "    for j in range(5):\n",
    "        matrix1[i].append(j) # Cell populated"
   ]
  },
  {
   "cell_type": "code",
   "execution_count": 2,
   "id": "2c07ec29-9103-4552-9bbf-335a3895cc5e",
   "metadata": {
    "tags": []
   },
   "outputs": [
    {
     "data": {
      "text/plain": [
       "[[0, 1, 2, 3, 4],\n",
       " [0, 1, 2, 3, 4],\n",
       " [0, 1, 2, 3, 4],\n",
       " [0, 1, 2, 3, 4],\n",
       " [0, 1, 2, 3, 4]]"
      ]
     },
     "execution_count": 2,
     "metadata": {},
     "output_type": "execute_result"
    }
   ],
   "source": [
    "matrix1"
   ]
  },
  {
   "cell_type": "markdown",
   "id": "521d974d-d744-4774-81eb-4e0822abe59d",
   "metadata": {
    "tags": []
   },
   "source": [
    "Here's how we can do this with a nested list comprehension:"
   ]
  },
  {
   "cell_type": "code",
   "execution_count": 3,
   "id": "9473be9e-2712-47d3-ac5b-b9e050d29539",
   "metadata": {
    "tags": []
   },
   "outputs": [],
   "source": [
    "matrix2 = [[j for j in range(5)] for i in range(5)]"
   ]
  },
  {
   "cell_type": "code",
   "execution_count": 4,
   "id": "2327c550-ff92-4e4b-a63c-4d529a5ab6b4",
   "metadata": {
    "tags": []
   },
   "outputs": [
    {
     "data": {
      "text/plain": [
       "[[0, 1, 2, 3, 4],\n",
       " [0, 1, 2, 3, 4],\n",
       " [0, 1, 2, 3, 4],\n",
       " [0, 1, 2, 3, 4],\n",
       " [0, 1, 2, 3, 4]]"
      ]
     },
     "execution_count": 4,
     "metadata": {},
     "output_type": "execute_result"
    }
   ],
   "source": [
    "matrix2"
   ]
  },
  {
   "cell_type": "markdown",
   "id": "da852dc8-9380-4a66-ac7f-e74e22f26a40",
   "metadata": {},
   "source": [
    "We replace five lines of code with one."
   ]
  },
  {
   "cell_type": "markdown",
   "id": "4c6e0199-b50f-4904-815c-29e8679673ce",
   "metadata": {
    "slideshow": {
     "slide_type": "slide"
    },
    "tags": []
   },
   "source": [
    "# Example 2: Filtering a Nested List\n",
    "\n",
    "Let create a filter to extract some things we want from a matrix.\n",
    "\n",
    "In this case, we want to pull out all of the odd numbers and save them as a list."
   ]
  },
  {
   "cell_type": "code",
   "execution_count": 5,
   "id": "b2ecc40d-c7e1-4dd1-9fd2-48c238831ba0",
   "metadata": {
    "tags": []
   },
   "outputs": [],
   "source": [
    "matrix3 = [[1, 2, 3], [4, 5, 6], [7, 8, 9]]\n",
    "odd_numbers1 = []\n",
    "for row in matrix3:\n",
    "    for element in row:\n",
    "        if element % 2 != 0:\n",
    "            odd_numbers1.append(element)"
   ]
  },
  {
   "cell_type": "code",
   "execution_count": 6,
   "id": "545ba914-de29-4c0c-beb0-a5ccd976c231",
   "metadata": {
    "tags": []
   },
   "outputs": [
    {
     "data": {
      "text/plain": [
       "[1, 3, 5, 7, 9]"
      ]
     },
     "execution_count": 6,
     "metadata": {},
     "output_type": "execute_result"
    }
   ],
   "source": [
    "odd_numbers1"
   ]
  },
  {
   "cell_type": "code",
   "execution_count": 7,
   "id": "8d62e8b6-8c20-4d5f-9a97-137554575a1c",
   "metadata": {
    "tags": []
   },
   "outputs": [],
   "source": [
    "odd_numbers2 = [element for row in matrix3 for element in row if element % 2 != 0]"
   ]
  },
  {
   "cell_type": "code",
   "execution_count": 8,
   "id": "6a31556c-1662-4de7-a294-5e25aacdf459",
   "metadata": {
    "tags": []
   },
   "outputs": [
    {
     "data": {
      "text/plain": [
       "[1, 3, 5, 7, 9]"
      ]
     },
     "execution_count": 8,
     "metadata": {},
     "output_type": "execute_result"
    }
   ],
   "source": [
    "odd_numbers2"
   ]
  },
  {
   "cell_type": "markdown",
   "id": "5236b286-555e-4fde-821b-aaaec3cf68bc",
   "metadata": {
    "slideshow": {
     "slide_type": "slide"
    },
    "tags": []
   },
   "source": [
    "Here's **a closer look** at how nesting is represented in a comprehension compared to the traditional way."
   ]
  },
  {
   "cell_type": "markdown",
   "id": "9572da0c-6b97-4be7-9682-805beb502fed",
   "metadata": {},
   "source": [
    "Traditional for loop:\n",
    "```python\n",
    "for row in matrix3:\n",
    "    for element in row:\n",
    "        if element % 2 != 0:\n",
    "            odd_numbers1.append(element) # This is hoised to the top\n",
    "                                         # and implicitly appended\n",
    "```\n",
    "\n",
    "Comprehension (inside `[]`):\n",
    "```python\n",
    "element                        \n",
    "    for row in matrix3 \n",
    "        for element in row \n",
    "            if element % 2 != 0\n",
    "```\n",
    "\n",
    "See how they are the same, except that the kernel operation &mdash; appending filtered values to a result list &mdash; is hoisted to the top in the case of the comprehension."
   ]
  },
  {
   "cell_type": "markdown",
   "id": "ecac50c4-ad57-48a6-9dfa-4b0e181762ce",
   "metadata": {
    "slideshow": {
     "slide_type": "slide"
    },
    "tags": []
   },
   "source": [
    "# Example 3: Flattening Nested Sub-Lists\n",
    "\n",
    "Here we take a nested structure and flatten it out. "
   ]
  },
  {
   "cell_type": "code",
   "execution_count": 9,
   "id": "fac07595-4ccb-4382-8159-10d916eaeeda",
   "metadata": {
    "tags": []
   },
   "outputs": [],
   "source": [
    "nested_list = [[1, 2, 3], [4, 5], [6, 7, 8, 9]]\n",
    "flat_list1 = []\n",
    "for sub_list in nested_list:\n",
    "    for val in sub_list:\n",
    "        flat_list1.append(val)"
   ]
  },
  {
   "cell_type": "code",
   "execution_count": 10,
   "id": "76d6e6c8-73fe-4e84-9c84-806d94d8433b",
   "metadata": {
    "tags": []
   },
   "outputs": [
    {
     "data": {
      "text/plain": [
       "[1, 2, 3, 4, 5, 6, 7, 8, 9]"
      ]
     },
     "execution_count": 10,
     "metadata": {},
     "output_type": "execute_result"
    }
   ],
   "source": [
    "flat_list1"
   ]
  },
  {
   "cell_type": "code",
   "execution_count": 11,
   "id": "73517324-a451-46bd-bf17-d5372c28d4f7",
   "metadata": {
    "tags": []
   },
   "outputs": [],
   "source": [
    "flat_list2 = [val for sub_list in nested_list for val in sub_list]"
   ]
  },
  {
   "cell_type": "code",
   "execution_count": 12,
   "id": "9b4e43ee-01d4-4fb7-aff9-3c51d9e3b4cb",
   "metadata": {
    "tags": []
   },
   "outputs": [
    {
     "data": {
      "text/plain": [
       "[1, 2, 3, 4, 5, 6, 7, 8, 9]"
      ]
     },
     "execution_count": 12,
     "metadata": {},
     "output_type": "execute_result"
    }
   ],
   "source": [
    "flat_list2"
   ]
  },
  {
   "cell_type": "markdown",
   "id": "1a3983b9-f36c-4ea2-9710-49f0c319522e",
   "metadata": {
    "slideshow": {
     "slide_type": "slide"
    },
    "tags": []
   },
   "source": [
    "# Example 4: Manipulating Matrix Values"
   ]
  },
  {
   "cell_type": "markdown",
   "id": "90e5f581-83b2-45b7-b418-87abdda5c0de",
   "metadata": {},
   "source": [
    "Finally, we demonstrate how to manipulate each value in a matrix of words.\n",
    "\n",
    "In this case, we simply capitalize each string."
   ]
  },
  {
   "cell_type": "code",
   "execution_count": 13,
   "id": "2087c3e5-7d81-490d-a215-96d3c2b3025f",
   "metadata": {
    "tags": []
   },
   "outputs": [],
   "source": [
    "matrix4 = [[\"apple\", \"banana\", \"cherry\"],\n",
    "        [\"date\", \"fig\", \"grape\"],\n",
    "        [\"kiwi\", \"lemon\", \"mango\"]]\n",
    "modified_matrix1 = []\n",
    "for row in matrix4:\n",
    "    modified_row = []\n",
    "    for fruit in row:\n",
    "        modified_row.append(fruit.capitalize())\n",
    "    modified_matrix1.append(modified_row)"
   ]
  },
  {
   "cell_type": "code",
   "execution_count": 14,
   "id": "69e0b56c-d2b5-4493-80f8-542b82bce61a",
   "metadata": {
    "tags": []
   },
   "outputs": [
    {
     "data": {
      "text/plain": [
       "[['Apple', 'Banana', 'Cherry'],\n",
       " ['Date', 'Fig', 'Grape'],\n",
       " ['Kiwi', 'Lemon', 'Mango']]"
      ]
     },
     "execution_count": 14,
     "metadata": {},
     "output_type": "execute_result"
    }
   ],
   "source": [
    "modified_matrix1"
   ]
  },
  {
   "cell_type": "code",
   "execution_count": 15,
   "id": "865f9950-05da-4052-a0fc-861b9ba27738",
   "metadata": {
    "tags": []
   },
   "outputs": [],
   "source": [
    "modified_matrix2 = [[fruit.capitalize() for fruit in row] for row in matrix4]"
   ]
  },
  {
   "cell_type": "code",
   "execution_count": 16,
   "id": "6aaab15c-fe4f-48da-ba20-094d2e639fa0",
   "metadata": {
    "tags": []
   },
   "outputs": [
    {
     "data": {
      "text/plain": [
       "[['Apple', 'Banana', 'Cherry'],\n",
       " ['Date', 'Fig', 'Grape'],\n",
       " ['Kiwi', 'Lemon', 'Mango']]"
      ]
     },
     "execution_count": 16,
     "metadata": {},
     "output_type": "execute_result"
    }
   ],
   "source": [
    "modified_matrix2"
   ]
  }
 ],
 "metadata": {
  "kernelspec": {
   "display_name": "Python 3",
   "language": "python",
   "name": "python3"
  },
  "language_info": {
   "codemirror_mode": {
    "name": "ipython",
    "version": 3
   },
   "file_extension": ".py",
   "mimetype": "text/x-python",
   "name": "python",
   "nbconvert_exporter": "python",
   "pygments_lexer": "ipython3",
   "version": "3.11.4"
  }
 },
 "nbformat": 4,
 "nbformat_minor": 5
}
