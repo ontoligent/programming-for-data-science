{
 "cells": [
  {
   "cell_type": "markdown",
   "id": "e0ade335-c1d2-40fa-9119-ca94451f52f3",
   "metadata": {
    "slideshow": {
     "slide_type": "slide"
    },
    "tags": []
   },
   "source": [
    "# NB: Putting Your Class in a File\n",
    "\n",
    "Programming for Data Science"
   ]
  },
  {
   "cell_type": "markdown",
   "id": "be0ec245-e650-4a40-8b98-650eb5d18238",
   "metadata": {
    "slideshow": {
     "slide_type": "slide"
    },
    "tags": []
   },
   "source": [
    "In this notebook, we demonstrate that you can put our class code in a separate `.py` file and then call it from within a notebook.\n",
    "\n",
    "This is normal practice &mdash; **class files cannot reside in notebooks if they are to be used by other code!**"
   ]
  },
  {
   "cell_type": "markdown",
   "id": "3d94412e-a69e-4e6d-8b39-194bbc8e70ed",
   "metadata": {
    "slideshow": {
     "slide_type": "slide"
    },
    "tags": []
   },
   "source": [
    "Open the file `diegame.py` in the course repo to inspect the code."
   ]
  },
  {
   "cell_type": "code",
   "execution_count": 10,
   "id": "a3eef161-bdde-4739-bca7-ee436b2d81fd",
   "metadata": {
    "tags": []
   },
   "outputs": [
    {
     "name": "stdout",
     "output_type": "stream",
     "text": [
      "import pandas as pd\n",
      "\n",
      "class DieGame():\n",
      "    \"\"\"\n",
      "    Just another Python class.\n",
      "    \"\"\"\n",
      "    n_rolls = 10\n",
      "    weights = [1,1,1,1,1,1]\n",
      "    \n",
      "    def __init__(self):\n",
      "        pass\n",
      "        \n",
      "    def create_die(self):\n",
      "        self.n_sides = len(self.weights)\n",
      "        self.my_probs = [i/sum(self.weights) for i in self.weights]\n",
      "        self.die = pd.DataFrame({\n",
      "            'side': range(1, self.n_sides + 1),\n",
      "            'weights': self.my_probs\n",
      "        })\n",
      "    \n",
      "    def roll_die(self):\n",
      "        results = []\n",
      "        for i in range(self.n_rolls):\n",
      "\u001b[Km--More--(38%)\u001b[m"
     ]
    }
   ],
   "source": [
    "!more diegame.py"
   ]
  },
  {
   "cell_type": "markdown",
   "id": "6975f70b-d522-41aa-9ac4-58acc6c46620",
   "metadata": {
    "slideshow": {
     "slide_type": "slide"
    },
    "tags": []
   },
   "source": [
    "We import the class in `diegame.py` into this notebook."
   ]
  },
  {
   "cell_type": "code",
   "execution_count": 2,
   "id": "360c77d9-fc2b-47a2-9739-3c8f929c49f8",
   "metadata": {
    "tags": []
   },
   "outputs": [],
   "source": [
    "from diegame import DieGame"
   ]
  },
  {
   "cell_type": "markdown",
   "id": "8345beee-e478-424e-9e65-c8dccd43c320",
   "metadata": {
    "tags": []
   },
   "source": [
    "We initialize two objects."
   ]
  },
  {
   "cell_type": "code",
   "execution_count": 3,
   "id": "28f3529c-fa38-49ac-b859-3361abf74af6",
   "metadata": {
    "tags": []
   },
   "outputs": [],
   "source": [
    "dg1 = DieGame()\n",
    "dg2 = DieGame()"
   ]
  },
  {
   "cell_type": "code",
   "execution_count": 4,
   "id": "099e8584-4fea-4bd6-b3ae-0668c4cba782",
   "metadata": {
    "tags": []
   },
   "outputs": [
    {
     "name": "stdout",
     "output_type": "stream",
     "text": [
      "Sides: 6\n",
      "Model:\n",
      "1    0.17\n",
      "2    0.17\n",
      "3    0.17\n",
      "4    0.17\n",
      "5    0.17\n",
      "6    0.17\n",
      "dtype: float64\n",
      "Rolls: 10\n"
     ]
    },
    {
     "data": {
      "image/png": "[encoded data removed]",
      "text/plain": [
       "<Figure size 640x480 with 1 Axes>"
      ]
     },
     "metadata": {},
     "output_type": "display_data"
    }
   ],
   "source": [
    "dg1.do_it_all()"
   ]
  },
  {
   "cell_type": "code",
   "execution_count": 5,
   "id": "1fd1ec54-2199-4992-a567-46e5287ac648",
   "metadata": {
    "slideshow": {
     "slide_type": "slide"
    },
    "tags": []
   },
   "outputs": [
    {
     "name": "stdout",
     "output_type": "stream",
     "text": [
      "Sides: 6\n",
      "Model:\n",
      "1    0.17\n",
      "2    0.17\n",
      "3    0.17\n",
      "4    0.17\n",
      "5    0.17\n",
      "6    0.17\n",
      "dtype: float64\n",
      "Rolls: 10\n"
     ]
    },
    {
     "data": {
      "image/png": "[encoded data removed]",
      "text/plain": [
       "<Figure size 640x480 with 1 Axes>"
      ]
     },
     "metadata": {},
     "output_type": "display_data"
    }
   ],
   "source": [
    "dg2.do_it_all()"
   ]
  },
  {
   "cell_type": "markdown",
   "id": "3e39fddc-086c-4124-9fbf-affeaea3605a",
   "metadata": {
    "jp-MarkdownHeadingCollapsed": true,
    "slideshow": {
     "slide_type": "slide"
    },
    "tags": []
   },
   "source": [
    "To demonstrate the point made in the previous notebook about class and instance attributes, let's \n",
    "update our objects."
   ]
  },
  {
   "cell_type": "code",
   "execution_count": 11,
   "id": "c2b992c1-29ac-412c-b802-5aa029aea106",
   "metadata": {
    "tags": []
   },
   "outputs": [],
   "source": [
    "dg1.n_rolls = 20 # This overrides the Class attribute\n",
    "dg1.weights = [1, 10, 1, 1, 1, 1] # So does this\n",
    "dg2.weights.append(1) # But this also alters the static because this is not an assignment!\n",
    "DieGame.n_rolls = 50 # This should change dg2 but not dg1"
   ]
  },
  {
   "cell_type": "code",
   "execution_count": 12,
   "id": "1fabb3c5-26fd-47d7-af8a-31bab3e840f6",
   "metadata": {
    "tags": []
   },
   "outputs": [],
   "source": [
    "results = [\n",
    "    ('n_roles', dg1.n_rolls, dg2.n_rolls, DieGame.n_rolls),\n",
    "    ('weights', dg1.weights, dg2.weights, DieGame.weights)\n",
    "]"
   ]
  },
  {
   "cell_type": "code",
   "execution_count": 13,
   "id": "d56a0342-f60f-41dc-87cb-55c0c86efcd3",
   "metadata": {
    "tags": []
   },
   "outputs": [],
   "source": [
    "import pandas as pd"
   ]
  },
  {
   "cell_type": "code",
   "execution_count": 14,
   "id": "b0401e82-074b-4059-9c6f-0c4dbc67a3d3",
   "metadata": {
    "tags": []
   },
   "outputs": [
    {
     "data": {
      "text/html": [
       "<div>\n",
       "<style scoped>\n",
       "    .dataframe tbody tr th:only-of-type {\n",
       "        vertical-align: middle;\n",
       "    }\n",
       "\n",
       "    .dataframe tbody tr th {\n",
       "        vertical-align: top;\n",
       "    }\n",
       "\n",
       "    .dataframe thead th {\n",
       "        text-align: right;\n",
       "    }\n",
       "</style>\n",
       "<table border=\"1\" class=\"dataframe\">\n",
       "  <thead>\n",
       "    <tr style=\"text-align: right;\">\n",
       "      <th>attribute</th>\n",
       "      <th>n_roles</th>\n",
       "      <th>weights</th>\n",
       "    </tr>\n",
       "  </thead>\n",
       "  <tbody>\n",
       "    <tr>\n",
       "      <th>dg1</th>\n",
       "      <td>20</td>\n",
       "      <td>[1, 10, 1, 1, 1, 1]</td>\n",
       "    </tr>\n",
       "    <tr>\n",
       "      <th>dg2</th>\n",
       "      <td>50</td>\n",
       "      <td>[1, 1, 1, 1, 1, 1, 1, 1]</td>\n",
       "    </tr>\n",
       "    <tr>\n",
       "      <th>DieGame</th>\n",
       "      <td>50</td>\n",
       "      <td>[1, 1, 1, 1, 1, 1, 1, 1]</td>\n",
       "    </tr>\n",
       "  </tbody>\n",
       "</table>\n",
       "</div>"
      ],
      "text/plain": [
       "attribute n_roles                   weights\n",
       "dg1            20       [1, 10, 1, 1, 1, 1]\n",
       "dg2            50  [1, 1, 1, 1, 1, 1, 1, 1]\n",
       "DieGame        50  [1, 1, 1, 1, 1, 1, 1, 1]"
      ]
     },
     "execution_count": 14,
     "metadata": {},
     "output_type": "execute_result"
    }
   ],
   "source": [
    "pd.DataFrame(results, columns=['attribute', 'dg1', 'dg2', 'DieGame']).set_index('attribute').T"
   ]
  }
 ],
 "metadata": {
  "kernelspec": {
   "display_name": "Python 3",
   "language": "python",
   "name": "python3"
  },
  "language_info": {
   "codemirror_mode": {
    "name": "ipython",
    "version": 3
   },
   "file_extension": ".py",
   "mimetype": "text/x-python",
   "name": "python",
   "nbconvert_exporter": "python",
   "pygments_lexer": "ipython3",
   "version": "3.11.4"
  },
  "widgets": {
   "application/vnd.jupyter.widget-state+json": {
    "state": {},
    "version_major": 2,
    "version_minor": 0
   }
  }
 },
 "nbformat": 4,
 "nbformat_minor": 5
}
