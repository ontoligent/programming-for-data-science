{
 "cells": [
  {
   "cell_type": "markdown",
   "metadata": {
    "slideshow": {
     "slide_type": "slide"
    },
    "tags": []
   },
   "source": [
    "# NB: More About Classes\n",
    "\n",
    "Programming for Data Science"
   ]
  },
  {
   "cell_type": "markdown",
   "metadata": {
    "slideshow": {
     "slide_type": "slide"
    },
    "tags": []
   },
   "source": [
    "## Some Useful Facts about Python Classes\n",
    "\n",
    "You can put your classes **in a `.py`** file and import them into your other scripts.\n",
    "\n",
    "You can put **more than one class** in a file.\n",
    "\n",
    "Class names are usually written in **CamelCase**, but not instances.\n",
    "\n",
    "When saving to a file:\n",
    "\n",
    "- If only one class, use a lower case name of the class in the file name.\n",
    "- If more than one, use a package name, one that stands for the logical group the classes belong to."
   ]
  },
  {
   "cell_type": "markdown",
   "metadata": {
    "slideshow": {
     "slide_type": "slide"
    },
    "tags": []
   },
   "source": [
    "## Anatomy of a Python Class\n",
    "\n",
    "Let's look a little more closely at the contents of a Python class."
   ]
  },
  {
   "cell_type": "code",
   "execution_count": 2,
   "metadata": {
    "slideshow": {
     "slide_type": "slide"
    },
    "tags": []
   },
   "outputs": [],
   "source": [
    "# Import class dependencies here, outside of the class definition\n",
    "import pandas as pd\n",
    "import numpy as np\n",
    "\n",
    "# Use CamelCase to name your class\n",
    "class MyClass(object): # Optionally pass ancestor classes to use inheritance\n",
    "    \"\"\"\n",
    "    Extensive docstring describing structure and function of class.\n",
    "    \"\"\"\n",
    "    \n",
    "    # Class attributes go here with initial values if applicable\n",
    "    att1 = True \n",
    "    att2 = 'Foo'\n",
    "    _private_att = 'Bar' # A variable that is meant to be internally only; not intended to accessed by users\n",
    "    \n",
    "    # Object initializer; called when an instance of the class is created\n",
    "    def __init__(self):\n",
    "        pass\n",
    "    \n",
    "    # Methods that share state via the self variable\n",
    "    def get_something(self):\n",
    "        pass\n",
    "    \n",
    "    # Name your methods consistently -- prefix with verbs\n",
    "    def put_something(self):\n",
    "        pass\n",
    "    \n",
    "    def do_something(self):\n",
    "        pass\n",
    "\n",
    "    def show_something(self):\n",
    "        pass\n",
    "\n",
    "    # A private method\n",
    "    def _private_method(self): \n",
    "        pass\n",
    "    \n",
    "    def do_something_else(self):\n",
    "        # Use private method\n",
    "        self._private_method()\n",
    "    \n",
    "    # A static method -- no self\n",
    "    def static_method():\n",
    "        pass"
   ]
  },
  {
   "cell_type": "code",
   "execution_count": 37,
   "metadata": {
    "slideshow": {
     "slide_type": "slide"
    },
    "tags": []
   },
   "outputs": [
    {
     "name": "stdout",
     "output_type": "stream",
     "text": [
      "Help on class MyClass in module __main__:\n",
      "\n",
      "class MyClass(builtins.object)\n",
      " |  Extensive docstring describing structure and function of class.\n",
      " |  \n",
      " |  Methods defined here:\n",
      " |  \n",
      " |  __init__(self)\n",
      " |      Initialize self.  See help(type(self)) for accurate signature.\n",
      " |  \n",
      " |  do_something(self)\n",
      " |  \n",
      " |  do_something_else(self)\n",
      " |  \n",
      " |  get_something(self)\n",
      " |      # Methods that share state via the self variable\n",
      " |  \n",
      " |  put_something(self)\n",
      " |      # Name your methods consistently -- prefix with verbs\n",
      " |  \n",
      " |  show_something(self)\n",
      " |  \n",
      " |  static_method()\n",
      " |      # A static method\n",
      " |  \n",
      " |  ----------------------------------------------------------------------\n",
      " |  Data descriptors defined here:\n",
      " |  \n",
      " |  __dict__\n",
      " |      dictionary for instance variables (if defined)\n",
      " |  \n",
      " |  __weakref__\n",
      " |      list of weak references to the object (if defined)\n",
      " |  \n",
      " |  ----------------------------------------------------------------------\n",
      " |  Data and other attributes defined here:\n",
      " |  \n",
      " |  att1 = True\n",
      " |  \n",
      " |  att2 = 'Foo'\n",
      "\n"
     ]
    }
   ],
   "source": [
    "help(MyClass)"
   ]
  },
  {
   "cell_type": "markdown",
   "metadata": {
    "slideshow": {
     "slide_type": "slide"
    },
    "tags": []
   },
   "source": [
    "## Private Attributes and Methods\n",
    "\n",
    "Python supports the use of private attributes and methods.\n",
    "\n",
    "Privacy in this context means that they are hidden from users in various ways:\n",
    "\n",
    "- They are not visible in `help()`\n",
    "- They are not imported into the namespace of a calling module &mdash; we'll learn about this later.\n",
    "\n",
    "However, if a user wishes to call a private method or inspect a private attribute, they can by doing something like this:\n",
    "\n",
    "```python\n",
    "my_object._my_private_method()\n",
    "```\n",
    "\n",
    "This can lead to problems, though, since by convention private methods and attributes may change or disappear in future versions of the class."
   ]
  },
  {
   "cell_type": "markdown",
   "metadata": {
    "slideshow": {
     "slide_type": "slide"
    },
    "tags": []
   },
   "source": [
    "Classes are meant to be black boxes from the user perspective &mdash; you pass and receive data from them in predictable ways without any dependencies on what's inside the class.\n",
    "\n",
    "Developers are free to refactor their code over time, significantly changing its internals, so long as the public methods and attributes remain the same."
   ]
  },
  {
   "cell_type": "markdown",
   "metadata": {
    "slideshow": {
     "slide_type": "slide"
    },
    "tags": []
   },
   "source": [
    "## Static Classes\n",
    "\n",
    "Static classes are class that don't have instance methods.\n",
    "\n",
    "Static classes don't need to be instantiated.\n",
    "\n",
    "They can be used to store a collection of stand-alone helper functions as methods.\n",
    "\n",
    "In the example below, note the absence of `self`."
   ]
  },
  {
   "cell_type": "code",
   "execution_count": 3,
   "metadata": {
    "tags": []
   },
   "outputs": [],
   "source": [
    "class StaticClass():\n",
    "\n",
    "    def add_these(*nums):\n",
    "        sum = 0\n",
    "        for num in nums: sum += num\n",
    "        return sum\n",
    "    \n",
    "    def square_me(x):\n",
    "        return x**2"
   ]
  },
  {
   "cell_type": "code",
   "execution_count": 4,
   "metadata": {
    "tags": []
   },
   "outputs": [
    {
     "data": {
      "text/plain": [
       "12"
      ]
     },
     "execution_count": 4,
     "metadata": {},
     "output_type": "execute_result"
    }
   ],
   "source": [
    "StaticClass.add_these(1,5,6)"
   ]
  },
  {
   "cell_type": "code",
   "execution_count": 5,
   "metadata": {
    "tags": []
   },
   "outputs": [
    {
     "data": {
      "text/plain": [
       "25"
      ]
     },
     "execution_count": 5,
     "metadata": {},
     "output_type": "execute_result"
    }
   ],
   "source": [
    "StaticClass.square_me(5)"
   ]
  },
  {
   "cell_type": "markdown",
   "metadata": {
    "slideshow": {
     "slide_type": "slide"
    },
    "tags": []
   },
   "source": [
    "This won't work:"
   ]
  },
  {
   "cell_type": "code",
   "execution_count": 9,
   "metadata": {
    "tags": []
   },
   "outputs": [],
   "source": [
    "sc = StaticClass()"
   ]
  },
  {
   "cell_type": "code",
   "execution_count": 10,
   "metadata": {
    "tags": []
   },
   "outputs": [
    {
     "ename": "TypeError",
     "evalue": "StaticClass.square_me() takes 1 positional argument but 2 were given",
     "output_type": "error",
     "traceback": [
      "\u001b[0;31m---------------------------------------------------------------------------\u001b[0m",
      "\u001b[0;31mTypeError\u001b[0m                                 Traceback (most recent call last)",
      "Cell \u001b[0;32mIn[10], line 1\u001b[0m\n\u001b[0;32m----> 1\u001b[0m \u001b[43msc\u001b[49m\u001b[38;5;241;43m.\u001b[39;49m\u001b[43msquare_me\u001b[49m\u001b[43m(\u001b[49m\u001b[38;5;241;43m10\u001b[39;49m\u001b[43m)\u001b[49m\n",
      "\u001b[0;31mTypeError\u001b[0m: StaticClass.square_me() takes 1 positional argument but 2 were given"
     ]
    }
   ],
   "source": [
    "sc.square_me(10)"
   ]
  },
  {
   "cell_type": "markdown",
   "metadata": {
    "slideshow": {
     "slide_type": "slide"
    },
    "tags": []
   },
   "source": [
    "## Classes as Data Structures"
   ]
  },
  {
   "cell_type": "markdown",
   "metadata": {},
   "source": [
    "Classes are a quick way to store data, similar to dictionaries.\n",
    "\n",
    "Here we define a static class to store some configuration data."
   ]
  },
  {
   "cell_type": "code",
   "execution_count": 12,
   "metadata": {
    "tags": []
   },
   "outputs": [],
   "source": [
    "class MyConfig:\n",
    "    a = 10\n",
    "    b = 'foo'\n",
    "    c = 'something else'\n",
    "    f = lambda x: x + 10"
   ]
  },
  {
   "cell_type": "markdown",
   "metadata": {
    "slideshow": {
     "slide_type": "slide"
    },
    "tags": []
   },
   "source": [
    "Objects attributes can be accessed with less typing than dictionary keys."
   ]
  },
  {
   "cell_type": "code",
   "execution_count": 14,
   "metadata": {
    "tags": []
   },
   "outputs": [
    {
     "data": {
      "text/plain": [
       "10"
      ]
     },
     "execution_count": 14,
     "metadata": {},
     "output_type": "execute_result"
    }
   ],
   "source": [
    "MyConfig.a"
   ]
  },
  {
   "cell_type": "code",
   "execution_count": 15,
   "metadata": {
    "tags": []
   },
   "outputs": [
    {
     "data": {
      "text/plain": [
       "110"
      ]
     },
     "execution_count": 15,
     "metadata": {},
     "output_type": "execute_result"
    }
   ],
   "source": [
    "MyConfig.f(100)"
   ]
  },
  {
   "cell_type": "markdown",
   "metadata": {
    "slideshow": {
     "slide_type": "slide"
    },
    "tags": []
   },
   "source": [
    "Note also that attributes can be viewed with tab completion (in Jupyter and other IDEs).\n",
    "\n",
    "<img src=\"../../media/class-att-tab-completion.png\" style=\"height:300px;\"/>"
   ]
  },
  {
   "cell_type": "markdown",
   "metadata": {
    "slideshow": {
     "slide_type": "slide"
    },
    "tags": []
   },
   "source": [
    "You can dynamically add attributes, too."
   ]
  },
  {
   "cell_type": "code",
   "execution_count": 17,
   "metadata": {
    "tags": []
   },
   "outputs": [],
   "source": [
    "MyConfig.x = 50"
   ]
  },
  {
   "cell_type": "markdown",
   "metadata": {},
   "source": [
    "Note that lambda functions are attributes, too, so you can do this:"
   ]
  },
  {
   "cell_type": "code",
   "execution_count": 16,
   "metadata": {
    "tags": []
   },
   "outputs": [],
   "source": [
    "MyConfig.y = lambda x: x**2"
   ]
  },
  {
   "cell_type": "code",
   "execution_count": 19,
   "metadata": {
    "tags": []
   },
   "outputs": [
    {
     "data": {
      "text/plain": [
       "10000"
      ]
     },
     "execution_count": 19,
     "metadata": {},
     "output_type": "execute_result"
    }
   ],
   "source": [
    "MyConfig.y(100)"
   ]
  },
  {
   "cell_type": "markdown",
   "metadata": {},
   "source": [
    "It's harder to add true functions, though."
   ]
  },
  {
   "cell_type": "markdown",
   "metadata": {
    "slideshow": {
     "slide_type": "slide"
    },
    "tags": []
   },
   "source": [
    "If you wanted to create a data structure template, you could create a non-static class like this:"
   ]
  },
  {
   "cell_type": "code",
   "execution_count": 24,
   "metadata": {
    "tags": []
   },
   "outputs": [],
   "source": [
    "class ConfigTemplate:\n",
    "    \n",
    "    def __init__(self):\n",
    "        self.project_name = ''\n",
    "        self.project_type = ''\n",
    "        self.default_url = ''\n",
    "        self.description = ''"
   ]
  },
  {
   "cell_type": "code",
   "execution_count": 31,
   "metadata": {
    "tags": []
   },
   "outputs": [],
   "source": [
    "config1 = ConfigTemplate()\n",
    "config1.project_name = 'Apollo'\n",
    "config1.project_type = 'Moon Mission'"
   ]
  },
  {
   "cell_type": "code",
   "execution_count": 29,
   "metadata": {
    "tags": []
   },
   "outputs": [],
   "source": [
    "config2 = ConfigTemplate()\n",
    "config2.project_name = 'Artemis'\n",
    "config1.project_type = 'Moon Mission'"
   ]
  },
  {
   "cell_type": "code",
   "execution_count": 33,
   "metadata": {
    "tags": []
   },
   "outputs": [
    {
     "data": {
      "text/plain": [
       "'Apollo'"
      ]
     },
     "execution_count": 33,
     "metadata": {},
     "output_type": "execute_result"
    }
   ],
   "source": [
    "config1.project_name"
   ]
  },
  {
   "cell_type": "code",
   "execution_count": 34,
   "metadata": {
    "tags": []
   },
   "outputs": [
    {
     "data": {
      "text/plain": [
       "'Artemis'"
      ]
     },
     "execution_count": 34,
     "metadata": {},
     "output_type": "execute_result"
    }
   ],
   "source": [
    "config2.project_name"
   ]
  }
 ],
 "metadata": {
  "kernelspec": {
   "display_name": "Python 3",
   "language": "python",
   "name": "python3"
  },
  "language_info": {
   "codemirror_mode": {
    "name": "ipython",
    "version": 3
   },
   "file_extension": ".py",
   "mimetype": "text/x-python",
   "name": "python",
   "nbconvert_exporter": "python",
   "pygments_lexer": "ipython3",
   "version": "3.11.4"
  }
 },
 "nbformat": 4,
 "nbformat_minor": 4
}
