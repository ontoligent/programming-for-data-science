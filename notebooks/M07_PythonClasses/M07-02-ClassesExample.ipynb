{
 "cells": [
  {
   "cell_type": "markdown",
   "metadata": {
    "slideshow": {
     "slide_type": "slide"
    },
    "tags": []
   },
   "source": [
    "# NB: From Functions to Classes\n",
    "\n",
    "Programming for Data Science"
   ]
  },
  {
   "cell_type": "markdown",
   "metadata": {
    "slideshow": {
     "slide_type": "slide"
    },
    "tags": []
   },
   "source": [
    "To get a better idea of what classes are and how they work, let's motivate the concept.\n",
    "\n",
    "Let's look at how classes evolve from and improve upon functional groups, discussed previously."
   ]
  },
  {
   "cell_type": "markdown",
   "metadata": {
    "slideshow": {
     "slide_type": "slide"
    },
    "tags": []
   },
   "source": [
    "\n",
    "## Method 1: Functions Relaying Data\n",
    "\n",
    "Let's first define a set of functions that work in a sequence, where the return value of one is the argument of the other.\n",
    "\n",
    "In this example, we want to simulate the rolling of dice in a game of chance."
   ]
  },
  {
   "cell_type": "markdown",
   "metadata": {
    "slideshow": {
     "slide_type": "slide"
    },
    "tags": []
   },
   "source": [
    "To do this, we could write three functions:\n",
    "\n",
    "- One to define a die.\n",
    "- One to perform the action of rolling a die.\n",
    "- One to show the results."
   ]
  },
  {
   "cell_type": "code",
   "execution_count": 1,
   "metadata": {
    "tags": []
   },
   "outputs": [],
   "source": [
    "import pandas as pd\n",
    "import numpy as np\n",
    "\n",
    "def create_die(weights):\n",
    "    \"Create a simple die object of n sides with arbitrary weights. Return the die as a DataFrame.\"\n",
    "    n_sides = len(weights)\n",
    "    my_probs = [i/sum(weights) for i in weights]\n",
    "    my_die = pd.DataFrame({\n",
    "        'side': range(1, n_sides + 1),\n",
    "        'weights': my_probs\n",
    "    })\n",
    "    return my_die\n",
    "\n",
    "def roll_dice(my_die, n_rolls=1):\n",
    "    \"Roll a die one or more times and return the results as a Series.\"\n",
    "    results = []\n",
    "    for i in range(n_rolls):\n",
    "        result = my_die.side.sample(weights=my_die.weights).values[0]\n",
    "        results.append(result)\n",
    "    return pd.Series(results)\n",
    "\n",
    "def plot_results(my_results):\n",
    "    \"Show the results of rolling the dice n times with a simple bar graph.\"\n",
    "    my_results.value_counts().sort_index().plot.bar(rot=0);"
   ]
  },
  {
   "cell_type": "markdown",
   "metadata": {
    "slideshow": {
     "slide_type": "slide"
    },
    "tags": []
   },
   "source": [
    "Now let's use the functions together and simulate the rolling of $10$ dice."
   ]
  },
  {
   "cell_type": "markdown",
   "metadata": {},
   "source": [
    "First, we create a fair die."
   ]
  },
  {
   "cell_type": "code",
   "execution_count": 2,
   "metadata": {
    "tags": []
   },
   "outputs": [
    {
     "data": {
      "text/html": [
       "<div>\n",
       "<style scoped>\n",
       "    .dataframe tbody tr th:only-of-type {\n",
       "        vertical-align: middle;\n",
       "    }\n",
       "\n",
       "    .dataframe tbody tr th {\n",
       "        vertical-align: top;\n",
       "    }\n",
       "\n",
       "    .dataframe thead th {\n",
       "        text-align: right;\n",
       "    }\n",
       "</style>\n",
       "<table border=\"1\" class=\"dataframe\">\n",
       "  <thead>\n",
       "    <tr style=\"text-align: right;\">\n",
       "      <th></th>\n",
       "      <th>side</th>\n",
       "      <th>weights</th>\n",
       "    </tr>\n",
       "  </thead>\n",
       "  <tbody>\n",
       "    <tr>\n",
       "      <th>0</th>\n",
       "      <td>1</td>\n",
       "      <td>0.142857</td>\n",
       "    </tr>\n",
       "    <tr>\n",
       "      <th>1</th>\n",
       "      <td>2</td>\n",
       "      <td>0.142857</td>\n",
       "    </tr>\n",
       "    <tr>\n",
       "      <th>2</th>\n",
       "      <td>3</td>\n",
       "      <td>0.142857</td>\n",
       "    </tr>\n",
       "    <tr>\n",
       "      <th>3</th>\n",
       "      <td>4</td>\n",
       "      <td>0.142857</td>\n",
       "    </tr>\n",
       "    <tr>\n",
       "      <th>4</th>\n",
       "      <td>5</td>\n",
       "      <td>0.142857</td>\n",
       "    </tr>\n",
       "    <tr>\n",
       "      <th>5</th>\n",
       "      <td>6</td>\n",
       "      <td>0.142857</td>\n",
       "    </tr>\n",
       "    <tr>\n",
       "      <th>6</th>\n",
       "      <td>7</td>\n",
       "      <td>0.142857</td>\n",
       "    </tr>\n",
       "  </tbody>\n",
       "</table>\n",
       "</div>"
      ],
      "text/plain": [
       "   side   weights\n",
       "0     1  0.142857\n",
       "1     2  0.142857\n",
       "2     3  0.142857\n",
       "3     4  0.142857\n",
       "4     5  0.142857\n",
       "5     6  0.142857\n",
       "6     7  0.142857"
      ]
     },
     "execution_count": 2,
     "metadata": {},
     "output_type": "execute_result"
    }
   ],
   "source": [
    "fair_die = create_die([1,1,1,1,1,1,1])\n",
    "fair_die"
   ]
  },
  {
   "cell_type": "markdown",
   "metadata": {
    "slideshow": {
     "slide_type": "slide"
    },
    "tags": []
   },
   "source": [
    "Next, we roll our die $n$ times."
   ]
  },
  {
   "cell_type": "code",
   "execution_count": 3,
   "metadata": {
    "tags": []
   },
   "outputs": [
    {
     "data": {
      "text/plain": [
       "0    5\n",
       "1    1\n",
       "2    2\n",
       "3    5\n",
       "4    1\n",
       "5    2\n",
       "6    4\n",
       "7    3\n",
       "8    7\n",
       "9    3\n",
       "dtype: int64"
      ]
     },
     "execution_count": 3,
     "metadata": {},
     "output_type": "execute_result"
    }
   ],
   "source": [
    "n_rolls = 10\n",
    "fair_results = roll_dice(fair_die, n_rolls)\n",
    "fair_results"
   ]
  },
  {
   "cell_type": "markdown",
   "metadata": {
    "slideshow": {
     "slide_type": "slide"
    },
    "tags": []
   },
   "source": [
    "Finally, we plot the results:"
   ]
  },
  {
   "cell_type": "code",
   "execution_count": 4,
   "metadata": {
    "tags": []
   },
   "outputs": [
    {
     "data": {
      "image/png": "[encoded data removed]",
      "text/plain": [
       "<Figure size 640x480 with 1 Axes>"
      ]
     },
     "metadata": {},
     "output_type": "display_data"
    }
   ],
   "source": [
    "plot_results(fair_results)"
   ]
  },
  {
   "cell_type": "markdown",
   "metadata": {
    "slideshow": {
     "slide_type": "slide"
    },
    "tags": []
   },
   "source": [
    "Let's play with an unfair die."
   ]
  },
  {
   "cell_type": "code",
   "execution_count": 5,
   "metadata": {
    "tags": []
   },
   "outputs": [
    {
     "data": {
      "image/png": "[encoded data removed]",
      "text/plain": [
       "<Figure size 640x480 with 1 Axes>"
      ]
     },
     "metadata": {},
     "output_type": "display_data"
    }
   ],
   "source": [
    "unfair_die = create_die([1,1,1,1,1,5])\n",
    "unfair_results = roll_dice(unfair_die, n_rolls)\n",
    "plot_results(unfair_results)"
   ]
  },
  {
   "cell_type": "markdown",
   "metadata": {
    "slideshow": {
     "slide_type": "slide"
    },
    "tags": []
   },
   "source": [
    "Finally, let's write a function to peform all of these actions at once."
   ]
  },
  {
   "cell_type": "code",
   "execution_count": 6,
   "metadata": {
    "tags": []
   },
   "outputs": [],
   "source": [
    "def do_it_all(weights, n_rolls):\n",
    "    plot_results(roll_dice(create_die(weights), n_rolls))"
   ]
  },
  {
   "cell_type": "code",
   "execution_count": 7,
   "metadata": {
    "tags": []
   },
   "outputs": [
    {
     "data": {
      "image/png": "[encoded data removed]",
      "text/plain": [
       "<Figure size 640x480 with 1 Axes>"
      ]
     },
     "metadata": {},
     "output_type": "display_data"
    }
   ],
   "source": [
    "do_it_all([1,1,1,1,1,10], n_rolls)"
   ]
  },
  {
   "cell_type": "markdown",
   "metadata": {},
   "source": [
    "Note the nested structure of the functions.\n",
    "\n",
    "Each function uses the result of the previous.\n",
    "\n",
    "The pattern is to relay or hand-off data from one function to the other, as a ball in a rugby match."
   ]
  },
  {
   "cell_type": "markdown",
   "metadata": {
    "slideshow": {
     "slide_type": "slide"
    },
    "tags": []
   },
   "source": [
    "## Method 2: Functions Sharing Globals\n",
    "\n",
    "Let's try something different now.\n",
    "\n",
    "Instead of passing the data from function to function, let's **centralize** our data in a dictionary called `config`.\n",
    "\n",
    "We'll treat this dictionary as a **global** variable.\n",
    "\n",
    "Iniitally, `config` has this structure:\n",
    "\n",
    "```python\n",
    "\n",
    "config = {\n",
    "    \"die1\": {\n",
    "        \"weights\": [...]\n",
    "    },\n",
    "    \"die2\": {\n",
    "        \"weights\": [...]\n",
    "    },\n",
    "    ...\n",
    "}\n",
    "```"
   ]
  },
  {
   "cell_type": "code",
   "execution_count": 8,
   "metadata": {
    "slideshow": {
     "slide_type": "slide"
    },
    "tags": []
   },
   "outputs": [],
   "source": [
    "def create_die2(die_id):\n",
    "    \"Create a die from data in config and add results to config.\"\n",
    "    global config\n",
    "    config[die_id]['die'] = None\n",
    "    weights = config[die_id]['weights']\n",
    "    n_sides = len(weights)\n",
    "    my_probs = [i/sum(weights) for i in weights]\n",
    "    config[die_id]['die'] = pd.DataFrame({\n",
    "        'side': range(1, n_sides + 1),\n",
    "        'weights': my_probs\n",
    "    })\n",
    "\n",
    "def roll_dice2(die_id):\n",
    "    \"Roll the die from the config and save results in the config.\"\n",
    "    global config\n",
    "    global n_rolls2\n",
    "    config[die_id]['results'] = None\n",
    "    my_die = config[die_id]['die']\n",
    "    results = []\n",
    "    for i in range(n_rolls2):\n",
    "        result = my_die.side.sample(weights=my_die.weights).values[0]\n",
    "        results.append(result)\n",
    "    config[die_id]['results'] = pd.Series(results)\n",
    "\n",
    "def plot_results2(die_id):\n",
    "    \"Plot the results in the config.\"\n",
    "    global config\n",
    "    my_results = config[die_id]['results']\n",
    "    my_results.value_counts().sort_index().plot.bar(rot=0);\n",
    "\n",
    "def do_it_all2(die_id):\n",
    "    \"Do everything.\"\n",
    "    global config\n",
    "    global n_rolls2\n",
    "    print(\"Die ID:\", die_id)\n",
    "    print(\"Weights:\", config[die_id]['weights'])\n",
    "    print(\"Rolls:\", n_rolls2)\n",
    "    create_die2(die_id)\n",
    "    roll_dice2(die_id)\n",
    "    plot_results2(die_id)"
   ]
  },
  {
   "cell_type": "markdown",
   "metadata": {
    "slideshow": {
     "slide_type": "slide"
    },
    "tags": []
   },
   "source": [
    "Note that it is not strictly necessary to use the `global` keyword in the functions about, since `config` and `n_rolls2` are already nvisible to the functions, and none of the functions reassign the variables, which would make them local. Sometimes we use `global` to fix the scope of variables just in case we reassign them.\n",
    "\n",
    "To use these functions, we start by populating our configuration  with kinds of dice.\n",
    "\n",
    "We define an fair and an unfair version.\n",
    "\n",
    "As we can see from the method definitions in our class, the dictionaries associated with each key will take on more keys."
   ]
  },
  {
   "cell_type": "code",
   "execution_count": 9,
   "metadata": {
    "tags": []
   },
   "outputs": [],
   "source": [
    "config = {\n",
    "    'fair': {\n",
    "        'weights': [1,1,1,1,1,1]\n",
    "    },\n",
    "    'unfair': {\n",
    "        'weights': [1,1,1,1,10,100],\n",
    "    }\n",
    "}"
   ]
  },
  {
   "cell_type": "markdown",
   "metadata": {
    "slideshow": {
     "slide_type": "slide"
    },
    "tags": []
   },
   "source": [
    "Now we call the main function `do_it_all()` by giving the key of the die type with which we wish to play.\n",
    "\n",
    "We also assign to the global variable the number of rolls."
   ]
  },
  {
   "cell_type": "code",
   "execution_count": 10,
   "metadata": {
    "tags": []
   },
   "outputs": [
    {
     "name": "stdout",
     "output_type": "stream",
     "text": [
      "Die ID: fair\n",
      "Weights: [1, 1, 1, 1, 1, 1]\n",
      "Rolls: 10\n"
     ]
    },
    {
     "data": {
      "image/png": "[encoded data removed]",
      "text/plain": [
       "<Figure size 640x480 with 1 Axes>"
      ]
     },
     "metadata": {},
     "output_type": "display_data"
    }
   ],
   "source": [
    "n_rolls2 = 10\n",
    "do_it_all2('fair')"
   ]
  },
  {
   "cell_type": "markdown",
   "metadata": {
    "slideshow": {
     "slide_type": "slide"
    },
    "tags": []
   },
   "source": [
    "Let's try it with the unfair die."
   ]
  },
  {
   "cell_type": "code",
   "execution_count": 11,
   "metadata": {
    "tags": []
   },
   "outputs": [
    {
     "name": "stdout",
     "output_type": "stream",
     "text": [
      "Die ID: unfair\n",
      "Weights: [1, 1, 1, 1, 10, 100]\n",
      "Rolls: 10\n"
     ]
    },
    {
     "data": {
      "image/png": "[encoded data removed]",
      "text/plain": [
       "<Figure size 640x480 with 1 Axes>"
      ]
     },
     "metadata": {},
     "output_type": "display_data"
    }
   ],
   "source": [
    "do_it_all2('unfair')"
   ]
  },
  {
   "cell_type": "markdown",
   "metadata": {
    "slideshow": {
     "slide_type": "slide"
    },
    "tags": []
   },
   "source": [
    "Note how `conig` has been modified."
   ]
  },
  {
   "cell_type": "code",
   "execution_count": 12,
   "metadata": {
    "tags": []
   },
   "outputs": [
    {
     "data": {
      "text/plain": [
       "{'fair': {'weights': [1, 1, 1, 1, 1, 1],\n",
       "  'die':    side   weights\n",
       "  0     1  0.166667\n",
       "  1     2  0.166667\n",
       "  2     3  0.166667\n",
       "  3     4  0.166667\n",
       "  4     5  0.166667\n",
       "  5     6  0.166667,\n",
       "  'results': 0    2\n",
       "  1    6\n",
       "  2    2\n",
       "  3    4\n",
       "  4    4\n",
       "  5    4\n",
       "  6    1\n",
       "  7    6\n",
       "  8    3\n",
       "  9    3\n",
       "  dtype: int64},\n",
       " 'unfair': {'weights': [1, 1, 1, 1, 10, 100],\n",
       "  'die':    side   weights\n",
       "  0     1  0.008772\n",
       "  1     2  0.008772\n",
       "  2     3  0.008772\n",
       "  3     4  0.008772\n",
       "  4     5  0.087719\n",
       "  5     6  0.877193,\n",
       "  'results': 0    6\n",
       "  1    6\n",
       "  2    6\n",
       "  3    6\n",
       "  4    6\n",
       "  5    5\n",
       "  6    6\n",
       "  7    6\n",
       "  8    6\n",
       "  9    6\n",
       "  dtype: int64}}"
      ]
     },
     "execution_count": 12,
     "metadata": {},
     "output_type": "execute_result"
    }
   ],
   "source": [
    "config"
   ]
  },
  {
   "cell_type": "markdown",
   "metadata": {
    "slideshow": {
     "slide_type": "slide"
    },
    "tags": []
   },
   "source": [
    "Now let's up the number of rolls a bit and roll both dice."
   ]
  },
  {
   "cell_type": "code",
   "execution_count": 13,
   "metadata": {
    "tags": []
   },
   "outputs": [
    {
     "name": "stdout",
     "output_type": "stream",
     "text": [
      "Die ID: unfair\n",
      "Weights: [1, 1, 1, 1, 10, 100]\n",
      "Rolls: 1000\n"
     ]
    },
    {
     "data": {
      "image/png": "[encoded data removed]",
      "text/plain": [
       "<Figure size 640x480 with 1 Axes>"
      ]
     },
     "metadata": {},
     "output_type": "display_data"
    }
   ],
   "source": [
    "n_rolls2 = 1000 # By changing this we affect all uses of the functions until we change it.\n",
    "do_it_all2('unfair')"
   ]
  },
  {
   "cell_type": "code",
   "execution_count": 14,
   "metadata": {
    "slideshow": {
     "slide_type": "slide"
    },
    "tags": []
   },
   "outputs": [
    {
     "name": "stdout",
     "output_type": "stream",
     "text": [
      "Die ID: fair\n",
      "Weights: [1, 1, 1, 1, 1, 1]\n",
      "Rolls: 1000\n"
     ]
    },
    {
     "data": {
      "image/png": "[encoded data removed]",
      "text/plain": [
       "<Figure size 640x480 with 1 Axes>"
      ]
     },
     "metadata": {},
     "output_type": "display_data"
    }
   ],
   "source": [
    "do_it_all2('fair')"
   ]
  },
  {
   "cell_type": "markdown",
   "metadata": {
    "slideshow": {
     "slide_type": "slide"
    },
    "tags": []
   },
   "source": [
    "## Method 3: Functions as Methods in a Class\n",
    "\n",
    "Finally, let's define a class that combines the configuration data structure and all the functions as attributes and methods."
   ]
  },
  {
   "cell_type": "code",
   "execution_count": 15,
   "metadata": {
    "scrolled": true,
    "slideshow": {
     "slide_type": "slide"
    },
    "tags": []
   },
   "outputs": [],
   "source": [
    "class DieGame():\n",
    "        \n",
    "    def __init__(self):\n",
    "        \"Initalize the object by defining the number of rolls and the die weights. These can be changed after initialization.\"\n",
    "        self.n_rolls = 10\n",
    "        self.weights = [1,1,1,1,1,1]\n",
    "        \n",
    "    def create_die(self):\n",
    "        \"Create the die using the object's weights. Save to self as a DataFrame.\"\n",
    "        self.n_sides = len(self.weights)\n",
    "        self.my_probs = [i/sum(self.weights) for i in self.weights]\n",
    "        self.die = pd.DataFrame({\n",
    "            'side': range(1, self.n_sides + 1),\n",
    "            'weights': self.my_probs\n",
    "        })\n",
    "    \n",
    "    def roll_die(self):\n",
    "        \"Roll the die using the object's specified number of rolls and die. Save to self as a Series.\"\n",
    "        results = []\n",
    "        for i in range(self.n_rolls):\n",
    "            result = self.die.side.sample(weights=self.die.weights).values[0]\n",
    "            results.append(result)\n",
    "        self.results = pd.Series(results)        \n",
    "        \n",
    "    def plot_results(self):\n",
    "        \"Plot the results using the state stored in self.\"\n",
    "        prob_model = pd.Series({i+1:round(p, 2) for i, p in enumerate(self.my_probs)})\n",
    "        print(\"Sides:\", self.n_sides)\n",
    "        print(\"Model:\")\n",
    "        print(prob_model)\n",
    "        print(\"Rolls:\", self.n_rolls)\n",
    "        self.results.value_counts().sort_index().plot.bar(rot=0);\n",
    "        \n",
    "    # We add another method because it's so easy :-)\n",
    "    def plot_probs(self):\n",
    "        \"Plot the probabilities of the die sides.\"\n",
    "        pd.Series(self.my_probs).plot.pie(title=\"Die Model\")\n",
    "        \n",
    "    def do_it_all(self):\n",
    "        \"The main function that does everything.\"\n",
    "        self.create_die()\n",
    "        self.roll_die()\n",
    "        self.plot_results()\n",
    "        "
   ]
  },
  {
   "cell_type": "markdown",
   "metadata": {
    "slideshow": {
     "slide_type": "slide"
    },
    "tags": []
   },
   "source": [
    "Let's use our class, but change the number of rolls."
   ]
  },
  {
   "cell_type": "code",
   "execution_count": 16,
   "metadata": {
    "tags": []
   },
   "outputs": [
    {
     "name": "stdout",
     "output_type": "stream",
     "text": [
      "Sides: 6\n",
      "Model:\n",
      "1    0.17\n",
      "2    0.17\n",
      "3    0.17\n",
      "4    0.17\n",
      "5    0.17\n",
      "6    0.17\n",
      "dtype: float64\n",
      "Rolls: 100\n"
     ]
    },
    {
     "data": {
      "image/png": "[encoded data removed]",
      "text/plain": [
       "<Figure size 640x480 with 1 Axes>"
      ]
     },
     "metadata": {},
     "output_type": "display_data"
    }
   ],
   "source": [
    "game_1 = DieGame()\n",
    "game_1.n_rolls = 100 # We override the default\n",
    "game_1.do_it_all()"
   ]
  },
  {
   "cell_type": "markdown",
   "metadata": {
    "slideshow": {
     "slide_type": "slide"
    },
    "tags": []
   },
   "source": [
    "And let's visualize the probabilities of each side as a pie chart."
   ]
  },
  {
   "cell_type": "code",
   "execution_count": 17,
   "metadata": {
    "tags": []
   },
   "outputs": [
    {
     "data": {
      "image/png": "[encoded data removed]",
      "text/plain": [
       "<Figure size 640x480 with 1 Axes>"
      ]
     },
     "metadata": {},
     "output_type": "display_data"
    }
   ],
   "source": [
    "game_1.plot_probs()"
   ]
  },
  {
   "cell_type": "markdown",
   "metadata": {
    "slideshow": {
     "slide_type": "slide"
    },
    "tags": []
   },
   "source": [
    "Let's create a new object, this time overriding both initial values."
   ]
  },
  {
   "cell_type": "code",
   "execution_count": 18,
   "metadata": {
    "tags": []
   },
   "outputs": [
    {
     "name": "stdout",
     "output_type": "stream",
     "text": [
      "Sides: 6\n",
      "Model:\n",
      "1    0.04\n",
      "2    0.04\n",
      "3    0.04\n",
      "4    0.18\n",
      "5    0.36\n",
      "6    0.36\n",
      "dtype: float64\n",
      "Rolls: 100\n"
     ]
    },
    {
     "data": {
      "image/png": "[encoded data removed]",
      "text/plain": [
       "<Figure size 640x480 with 1 Axes>"
      ]
     },
     "metadata": {},
     "output_type": "display_data"
    }
   ],
   "source": [
    "game_2 = DieGame()\n",
    "game_2.n_rolls = 100\n",
    "game_2.weights = [1,1,1,5,10,10]\n",
    "game_2.do_it_all()"
   ]
  },
  {
   "cell_type": "code",
   "execution_count": 19,
   "metadata": {
    "slideshow": {
     "slide_type": "slide"
    },
    "tags": []
   },
   "outputs": [
    {
     "data": {
      "image/png": "[encoded data removed]",
      "text/plain": [
       "<Figure size 640x480 with 1 Axes>"
      ]
     },
     "metadata": {},
     "output_type": "display_data"
    }
   ],
   "source": [
    "game_2.plot_probs()"
   ]
  },
  {
   "cell_type": "markdown",
   "metadata": {
    "slideshow": {
     "slide_type": "slide"
    },
    "tags": []
   },
   "source": [
    "## Some Conclusions\n",
    "\n",
    "Note how the class definition basically wraps both data and functions into a single entity.\n",
    "\n",
    "The class defines a scope that replaces the use of globals in our second method.\n",
    "\n",
    "`self` replaces the need to create a shared, global data structure like `config`.\n",
    "\n",
    "Instead, each method shares the data in `self`.\n",
    "\n",
    "Note also that we don't pass arguments to the object as we do with functions (although we can). \n",
    "\n",
    "At each stage we interact with the object by setting attributes and calling methods."
   ]
  },
  {
   "cell_type": "markdown",
   "metadata": {},
   "source": [
    "## Note: A More Efficient Way To Roll\n",
    "\n",
    "In the above examples, instead of using a for loop and calling the `.sample()` method each time to simulate the rolling of a die, we can do this:\n",
    "\n",
    "```python\n",
    "self.results = self.die.side.sample(self.n_rolls, replace=True, weights=self.die.weights)\n",
    "```\n",
    "\n",
    "The `.sample()` function takes an argument to specify the number of samples to draw.  But be careful to set the `replace` parameter to `True` or `False`, depending on the kind of process you are trying to model."
   ]
  }
 ],
 "metadata": {
  "kernelspec": {
   "display_name": "eta",
   "language": "python",
   "name": "eta"
  },
  "language_info": {
   "codemirror_mode": {
    "name": "ipython",
    "version": 3
   },
   "file_extension": ".py",
   "mimetype": "text/x-python",
   "name": "python",
   "nbconvert_exporter": "python",
   "pygments_lexer": "ipython3",
   "version": "3.9.19"
  }
 },
 "nbformat": 4,
 "nbformat_minor": 4
}
