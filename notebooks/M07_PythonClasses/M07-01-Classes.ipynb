{
 "cells": [
  {
   "cell_type": "markdown",
   "metadata": {
    "slideshow": {
     "slide_type": "slide"
    },
    "tags": []
   },
   "source": [
    "# NB: Introducing Classes\n",
    "\n",
    "Programming for Data Science"
   ]
  },
  {
   "cell_type": "markdown",
   "metadata": {
    "slideshow": {
     "slide_type": "slide"
    },
    "tags": []
   },
   "source": [
    "## Introduction\n",
    "\n",
    "Classes are a way of **organizing code** into bundles of variables and functions called **attributes** and **methods**.\n",
    "\n",
    "Each class **models** some thing &mdash; a thing in the world, a process, a model, or just some convenient way of grouping code.\n",
    "\n",
    "For example, a logistic regression model would have **attributes** like:\n",
    "\n",
    "- weights\n",
    "- an optional intercept term\n",
    "- the maximum number of iterations\n",
    "\n",
    "These attributes help describe the object; they give the object's **state**.\n",
    "\n",
    "The logistic regression model would have **functionality** such as:\n",
    "\n",
    "- the optimization routine used in training\n",
    "- a prediction function\n",
    "\n",
    "The behavior, or functionality, is supported by methods, which are functions included in the class."
   ]
  },
  {
   "cell_type": "markdown",
   "metadata": {
    "slideshow": {
     "slide_type": "slide"
    },
    "tags": []
   },
   "source": [
    "Here are a couple of other ways to think of a class:\n",
    "\n",
    "- It provides **a template** for creating an object and for working with the object.\n",
    "- It constitutes a kind of **definition** of something in the world."
   ]
  },
  {
   "cell_type": "markdown",
   "metadata": {
    "slideshow": {
     "slide_type": "slide"
    },
    "tags": []
   },
   "source": [
    "### A First Example \n",
    "\n",
    "Ok, let's look at examples, starting with a very small, simple class.  \n",
    "\n",
    "The class contains:\n",
    "\n",
    "- a name `Ferrari458`\n",
    "- a docstring for a quick description\n",
    "- an attribute, which is number of cylinders in the engine\n",
    "- a method"
   ]
  },
  {
   "cell_type": "code",
   "execution_count": 41,
   "metadata": {
    "tags": [],
    "vscode": {
     "languageId": "python"
    }
   },
   "outputs": [],
   "source": [
    "class Ferrari458:\n",
    "    \"This is a Ferrari 458 object\"\n",
    "    cylinders = 8\n",
    "\n",
    "    def print_origin(self):\n",
    "        \"Returns a string\"\n",
    "        return 'I was built in Italy!'"
   ]
  },
  {
   "cell_type": "markdown",
   "metadata": {},
   "source": [
    "You can learn about the class by printing the docstring:"
   ]
  },
  {
   "cell_type": "code",
   "execution_count": 42,
   "metadata": {
    "tags": [],
    "vscode": {
     "languageId": "python"
    }
   },
   "outputs": [
    {
     "data": {
      "text/plain": [
       "'This is a Ferrari 458 object'"
      ]
     },
     "execution_count": 42,
     "metadata": {},
     "output_type": "execute_result"
    }
   ],
   "source": [
    "Ferrari458.__doc__"
   ]
  },
  {
   "cell_type": "markdown",
   "metadata": {
    "slideshow": {
     "slide_type": "slide"
    },
    "tags": []
   },
   "source": [
    "You can also get detailed help like this:"
   ]
  },
  {
   "cell_type": "code",
   "execution_count": 43,
   "metadata": {
    "tags": [],
    "vscode": {
     "languageId": "python"
    }
   },
   "outputs": [
    {
     "name": "stdout",
     "output_type": "stream",
     "text": [
      "Help on class Ferrari458 in module __main__:\n",
      "\n",
      "class Ferrari458(builtins.object)\n",
      " |  This is a Ferrari 458 object\n",
      " |  \n",
      " |  Methods defined here:\n",
      " |  \n",
      " |  print_origin(self)\n",
      " |      Returns a string\n",
      " |  \n",
      " |  ----------------------------------------------------------------------\n",
      " |  Data descriptors defined here:\n",
      " |  \n",
      " |  __dict__\n",
      " |      dictionary for instance variables (if defined)\n",
      " |  \n",
      " |  __weakref__\n",
      " |      list of weak references to the object (if defined)\n",
      " |  \n",
      " |  ----------------------------------------------------------------------\n",
      " |  Data and other attributes defined here:\n",
      " |  \n",
      " |  cylinders = 8\n",
      "\n"
     ]
    }
   ],
   "source": [
    "help(Ferrari458)"
   ]
  },
  {
   "cell_type": "markdown",
   "metadata": {
    "slideshow": {
     "slide_type": "slide"
    },
    "tags": []
   },
   "source": [
    "Next, we **create an object** from the class (also called an **instance** of the class).  \n",
    "\n",
    "It is called like a **function**.\n",
    "\n",
    "The process is called **instantiation**."
   ]
  },
  {
   "cell_type": "code",
   "execution_count": 44,
   "metadata": {
    "tags": [],
    "vscode": {
     "languageId": "python"
    }
   },
   "outputs": [],
   "source": [
    "myferrari = Ferrari458()"
   ]
  },
  {
   "cell_type": "markdown",
   "metadata": {},
   "source": [
    "We can show the number of `myferrari` cylinders by using the `object.attribute` format:"
   ]
  },
  {
   "cell_type": "code",
   "execution_count": 45,
   "metadata": {
    "tags": [],
    "vscode": {
     "languageId": "python"
    }
   },
   "outputs": [
    {
     "data": {
      "text/plain": [
       "8"
      ]
     },
     "execution_count": 45,
     "metadata": {},
     "output_type": "execute_result"
    }
   ],
   "source": [
    "myferrari.cylinders"
   ]
  },
  {
   "cell_type": "markdown",
   "metadata": {
    "slideshow": {
     "slide_type": "slide"
    },
    "tags": []
   },
   "source": [
    "We can call its method `.print_origin()` to learn where the car was built:"
   ]
  },
  {
   "cell_type": "code",
   "execution_count": 8,
   "metadata": {
    "tags": [],
    "vscode": {
     "languageId": "python"
    }
   },
   "outputs": [
    {
     "data": {
      "text/plain": [
       "'I was built in Italy!'"
      ]
     },
     "execution_count": 8,
     "metadata": {},
     "output_type": "execute_result"
    }
   ],
   "source": [
    "myferrari.print_origin()"
   ]
  },
  {
   "cell_type": "markdown",
   "metadata": {
    "slideshow": {
     "slide_type": "slide"
    },
    "tags": []
   },
   "source": [
    "Note that the method takes `self` as its first argument. \n",
    "\n",
    "By doing this, the method can use the `self.attribute` and `self.method()` pattern to access the attributes and methods contained in other parts of the class.  \n",
    "\n",
    "Here is an example, with the method `.get_cylinders()`:"
   ]
  },
  {
   "cell_type": "code",
   "execution_count": 70,
   "metadata": {
    "tags": [],
    "vscode": {
     "languageId": "python"
    }
   },
   "outputs": [],
   "source": [
    "class Ferrari458_v2:\n",
    "    \"\"\"This is a Ferrari 458 object\"\"\"\n",
    "    cylinders = 8\n",
    "\n",
    "    def print_origin(self):\n",
    "        return 'I was built in Italy!'\n",
    "\n",
    "    def get_cylinders(self):\n",
    "        return self.cylinders"
   ]
  },
  {
   "cell_type": "code",
   "execution_count": 71,
   "metadata": {
    "tags": [],
    "vscode": {
     "languageId": "python"
    }
   },
   "outputs": [
    {
     "data": {
      "text/plain": [
       "8"
      ]
     },
     "execution_count": 71,
     "metadata": {},
     "output_type": "execute_result"
    }
   ],
   "source": [
    "myferrari = Ferrari458_v2()\n",
    "myferrari.get_cylinders()"
   ]
  },
  {
   "cell_type": "markdown",
   "metadata": {},
   "source": [
    "For the method `.get_cylinders()` to see the attribute `cylinders`, it has to access the attribute as a property of `self`.\n",
    "\n",
    "This is because the scope inside the class doesn't behave like global scope in a module. \n",
    "\n",
    "Each method can only see what is inside of it, or what is global to the code that defined the class.\n",
    "\n",
    "Instead of having globals, it has the shared variable `self` that methods can use to share information."
   ]
  },
  {
   "cell_type": "markdown",
   "metadata": {
    "slideshow": {
     "slide_type": "slide"
    },
    "tags": []
   },
   "source": [
    "## The Meaning of `self`\n",
    "\n",
    "`self` stands for the intantiated object itself. \n",
    "\n",
    "It is a proxy in the template for an actual instance of the class."
   ]
  },
  {
   "cell_type": "markdown",
   "metadata": {
    "slideshow": {
     "slide_type": "slide"
    },
    "tags": []
   },
   "source": [
    "So, to repeat what was said earlier, if you want your method to access the other attributes and methods of an object, you need to put self as its first argument.\n",
    "\n",
    "Note that when you use the method with an instance, you don't pass the object name as an argument:\n",
    "\n",
    "```python\n",
    "myferrari.get_cylinders() \n",
    "```\n",
    "\n",
    "The object name `myferrari` is passed implicitly by Python.\n",
    "\n",
    "You can use any valid name you want for the name of the object itself, but the convention is to use `self`."
   ]
  },
  {
   "cell_type": "markdown",
   "metadata": {
    "slideshow": {
     "slide_type": "slide"
    },
    "tags": []
   },
   "source": [
    "Note that `self` is **only used within the methods** of a class, not outside of it in the rest of the class definition.\n",
    "\n",
    "Attributes defined outside of methods but inside a class are implicitly attached to `self`.\n",
    "\n",
    "The `self` variable is the mechanism that allows methods to share data without having to pass and return a bunch of variables.\n",
    "\n",
    "Think of `self` as a **data structure that stores the program itself**"
   ]
  },
  {
   "cell_type": "markdown",
   "metadata": {
    "slideshow": {
     "slide_type": "slide"
    },
    "tags": []
   },
   "source": [
    "## The  `.__init__()` method\n",
    "\n",
    "There is a special method called `.__init__()` that will **initialize** the state of an object when you create it.\n",
    "\n",
    "Use it to supply more context-dependent information about your instance."
   ]
  },
  {
   "cell_type": "markdown",
   "metadata": {
    "tags": []
   },
   "source": [
    "Let's look at another version of the class with `__init__()`."
   ]
  },
  {
   "cell_type": "code",
   "execution_count": 72,
   "metadata": {
    "tags": [],
    "vscode": {
     "languageId": "python"
    }
   },
   "outputs": [],
   "source": [
    "class Ferrari458_v3:\n",
    "    \"\"\"this is a Ferrari 458 object\"\"\"\n",
    "    cylinders = 8\n",
    "    \n",
    "    def __init__(self, color):\n",
    "        self.color = color\n",
    "\n",
    "    def print_origin(self):\n",
    "        return 'I was built in Italy!'\n",
    "\n",
    "    def get_color(self):\n",
    "        return self.color"
   ]
  },
  {
   "cell_type": "markdown",
   "metadata": {},
   "source": [
    "By adding the `.__init__()` method, we can create objects if we pass the color.  "
   ]
  },
  {
   "cell_type": "markdown",
   "metadata": {
    "slideshow": {
     "slide_type": "slide"
    },
    "tags": []
   },
   "source": [
    "If we don't pass this parameter, there will be an error.\n",
    "\n",
    "This is because we did not define a default value for the color argument in our initialization method."
   ]
  },
  {
   "cell_type": "code",
   "execution_count": 73,
   "metadata": {
    "tags": [],
    "vscode": {
     "languageId": "python"
    }
   },
   "outputs": [
    {
     "ename": "TypeError",
     "evalue": "__init__() missing 1 required positional argument: 'color'",
     "output_type": "error",
     "traceback": [
      "\u001b[0;31m---------------------------------------------------------------------------\u001b[0m",
      "\u001b[0;31mTypeError\u001b[0m                                 Traceback (most recent call last)",
      "\u001b[0;32m/tmp/ipykernel_402510/3814512135.py\u001b[0m in \u001b[0;36m<module>\u001b[0;34m\u001b[0m\n\u001b[0;32m----> 1\u001b[0;31m \u001b[0mferr1\u001b[0m \u001b[0;34m=\u001b[0m \u001b[0mFerrari458_v3\u001b[0m\u001b[0;34m(\u001b[0m\u001b[0;34m)\u001b[0m\u001b[0;34m\u001b[0m\u001b[0;34m\u001b[0m\u001b[0m\n\u001b[0m",
      "\u001b[0;31mTypeError\u001b[0m: __init__() missing 1 required positional argument: 'color'"
     ]
    }
   ],
   "source": [
    "ferr1 = Ferrari458_v3()"
   ]
  },
  {
   "cell_type": "markdown",
   "metadata": {},
   "source": [
    "This works:"
   ]
  },
  {
   "cell_type": "code",
   "execution_count": 74,
   "metadata": {
    "tags": [],
    "vscode": {
     "languageId": "python"
    }
   },
   "outputs": [],
   "source": [
    "ferr1 = Ferrari458_v3(\"red\")"
   ]
  },
  {
   "cell_type": "markdown",
   "metadata": {
    "slideshow": {
     "slide_type": "slide"
    },
    "tags": []
   },
   "source": [
    "We can access the initialized attribute using the dot operator, just as if it were declared at the top of the class:"
   ]
  },
  {
   "cell_type": "code",
   "execution_count": 75,
   "metadata": {
    "tags": [],
    "vscode": {
     "languageId": "python"
    }
   },
   "outputs": [
    {
     "data": {
      "text/plain": [
       "'red'"
      ]
     },
     "execution_count": 75,
     "metadata": {},
     "output_type": "execute_result"
    }
   ],
   "source": [
    "ferr1.color"
   ]
  },
  {
   "cell_type": "markdown",
   "metadata": {},
   "source": [
    "Or we can call the accessor method that we created."
   ]
  },
  {
   "cell_type": "code",
   "execution_count": 76,
   "metadata": {
    "tags": [],
    "vscode": {
     "languageId": "python"
    }
   },
   "outputs": [
    {
     "data": {
      "text/plain": [
       "'red'"
      ]
     },
     "execution_count": 76,
     "metadata": {},
     "output_type": "execute_result"
    }
   ],
   "source": [
    "ferr1.get_color()"
   ]
  },
  {
   "cell_type": "markdown",
   "metadata": {},
   "source": [
    "Note that even though we initialized the car object with \"red\", we can always change it:"
   ]
  },
  {
   "cell_type": "code",
   "execution_count": 77,
   "metadata": {
    "tags": [],
    "vscode": {
     "languageId": "python"
    }
   },
   "outputs": [],
   "source": [
    "ferr1.color = \"Cobalt\""
   ]
  },
  {
   "cell_type": "code",
   "execution_count": 78,
   "metadata": {
    "tags": [],
    "vscode": {
     "languageId": "python"
    }
   },
   "outputs": [
    {
     "data": {
      "text/plain": [
       "'Cobalt'"
      ]
     },
     "execution_count": 78,
     "metadata": {},
     "output_type": "execute_result"
    }
   ],
   "source": [
    "ferr1.get_color()"
   ]
  },
  {
   "cell_type": "markdown",
   "metadata": {
    "slideshow": {
     "slide_type": "slide"
    },
    "tags": []
   },
   "source": [
    "## Instance vs Class Attributes\n",
    "\n",
    "Notice the difference between the `cylinders` and the `color` attributes.\n",
    "\n",
    "```python\n",
    "class Ferrari458_v3:\n",
    "    \"\"\"this is a Ferrari 458 object\"\"\"\n",
    "    cylinders = 8\n",
    "    \n",
    "    def __init__(self, color):\n",
    "        self.color = color\n",
    "```\n",
    "\n",
    "The first is a **class** attribute. \n",
    "\n",
    "It is defined **outside** of any method. \n",
    "\n",
    "Its value will apply to all instances of the class, unless the instance overrides it.\n",
    "\n",
    "The second is an **instance** attribute. \n",
    "\n",
    "It is defined **inside** of a method.\n",
    "\n",
    "Its value is meant to be changed with each instance."
   ]
  },
  {
   "cell_type": "markdown",
   "metadata": {
    "slideshow": {
     "slide_type": "slide"
    },
    "tags": []
   },
   "source": [
    "Look what happens if we change the value of `cylinders` in the class:"
   ]
  },
  {
   "cell_type": "code",
   "execution_count": 79,
   "metadata": {
    "tags": []
   },
   "outputs": [],
   "source": [
    "Ferrari458_v3.cylinders = 12"
   ]
  },
  {
   "cell_type": "code",
   "execution_count": 80,
   "metadata": {
    "tags": []
   },
   "outputs": [
    {
     "data": {
      "text/plain": [
       "12"
      ]
     },
     "execution_count": 80,
     "metadata": {},
     "output_type": "execute_result"
    }
   ],
   "source": [
    "ferr1.cylinders"
   ]
  },
  {
   "cell_type": "markdown",
   "metadata": {},
   "source": [
    "The value will be changed with _all_ of the instances created from the class."
   ]
  },
  {
   "cell_type": "markdown",
   "metadata": {
    "slideshow": {
     "slide_type": "slide"
    },
    "tags": []
   },
   "source": [
    "Now, if we change the instance variable, the class is unaffected."
   ]
  },
  {
   "cell_type": "code",
   "execution_count": 83,
   "metadata": {
    "tags": []
   },
   "outputs": [],
   "source": [
    "ferr1.cylinders = 4"
   ]
  },
  {
   "cell_type": "code",
   "execution_count": 84,
   "metadata": {
    "tags": []
   },
   "outputs": [
    {
     "data": {
      "text/plain": [
       "12"
      ]
     },
     "execution_count": 84,
     "metadata": {},
     "output_type": "execute_result"
    }
   ],
   "source": [
    "Ferrari458_v3.cylinders"
   ]
  },
  {
   "cell_type": "markdown",
   "metadata": {
    "slideshow": {
     "slide_type": "slide"
    },
    "tags": []
   },
   "source": [
    "## Summary and Additional Info\n",
    "\n",
    "An **object** is a self-contained bundle of **methods and attributes**.\n",
    "\n",
    "* Methods are basically functions.\n",
    "* Attributes are basically variables.\n",
    "\n",
    "A **class** definition is a **template** for creating objects.\n",
    "\n",
    "* Objects are **class instances**. \n",
    "* Classes are **object types**.\n",
    "\n",
    "Objects have **their own scope**, like functions."
   ]
  },
  {
   "cell_type": "markdown",
   "metadata": {
    "slideshow": {
     "slide_type": "slide"
    },
    "tags": []
   },
   "source": [
    "When objects are first created, **they often expected to have data passed to them**.\n",
    "\n",
    "* This is called **initializing** the object.\n",
    "* These data are handled internally by the `.__init__()` method. \n",
    "* Data that are passed this way may be **overridden** by accessing the attributes they assigned to.\n",
    "\n",
    "The methods of a class begin with `self` as the first argument.\n",
    "\n",
    "* This stands for **the instance itself**.\n",
    "* **All methods and attributes are available** to all other methods in the object **through the `self` object**.\n",
    "\n",
    "If a method does not have `self` as its first argument, it cannot access the internal state or methods of the object.\n",
    "\n",
    "* The internal state is just the attributes and their current values.\n",
    "* These are called **static** methods.\n",
    "* Static methods are useful in providing functions to the environment in which their containing object is instantiated.\n",
    "\n",
    "**There is a lot more to the subject, but this is good enough to get started!**"
   ]
  }
 ],
 "metadata": {
  "kernelspec": {
   "display_name": "eta",
   "language": "python",
   "name": "eta"
  },
  "language_info": {
   "codemirror_mode": {
    "name": "ipython",
    "version": 3
   },
   "file_extension": ".py",
   "mimetype": "text/x-python",
   "name": "python",
   "nbconvert_exporter": "python",
   "pygments_lexer": "ipython3",
   "version": "3.9.19"
  }
 },
 "nbformat": 4,
 "nbformat_minor": 4
}
