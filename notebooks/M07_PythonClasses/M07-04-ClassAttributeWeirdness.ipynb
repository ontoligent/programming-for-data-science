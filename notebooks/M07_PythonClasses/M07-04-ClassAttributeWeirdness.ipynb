{
 "cells": [
  {
   "cell_type": "markdown",
   "metadata": {
    "slideshow": {
     "slide_type": "slide"
    },
    "tags": []
   },
   "source": [
    "#  NB: Understanding Class Attributes\n",
    "\n",
    "Programming for Data Science"
   ]
  },
  {
   "cell_type": "markdown",
   "metadata": {
    "slideshow": {
     "slide_type": "slide"
    },
    "tags": []
   },
   "source": [
    "This notebook demonstrates how class and instance attributes are related to each other."
   ]
  },
  {
   "cell_type": "markdown",
   "metadata": {
    "slideshow": {
     "slide_type": "slide"
    },
    "tags": []
   },
   "source": [
    "## A Simple Example\n",
    "\n",
    "We define a class with one attribute."
   ]
  },
  {
   "cell_type": "code",
   "execution_count": 3,
   "metadata": {
    "tags": []
   },
   "outputs": [],
   "source": [
    "class Foo(): x = 1"
   ]
  },
  {
   "cell_type": "markdown",
   "metadata": {},
   "source": [
    "Then we create an instance of the class."
   ]
  },
  {
   "cell_type": "code",
   "execution_count": 4,
   "metadata": {
    "tags": []
   },
   "outputs": [],
   "source": [
    "foo1 = Foo()"
   ]
  },
  {
   "cell_type": "markdown",
   "metadata": {},
   "source": [
    "Notice that the class defines the value for the instance."
   ]
  },
  {
   "cell_type": "code",
   "execution_count": 5,
   "metadata": {
    "tags": []
   },
   "outputs": [
    {
     "data": {
      "text/plain": [
       "(1, 1)"
      ]
     },
     "execution_count": 5,
     "metadata": {},
     "output_type": "execute_result"
    }
   ],
   "source": [
    "foo1.x, Foo.x"
   ]
  },
  {
   "cell_type": "markdown",
   "metadata": {
    "tags": []
   },
   "source": [
    "Note also that the instance attribute changes if the class attribute is changed."
   ]
  },
  {
   "cell_type": "code",
   "execution_count": 6,
   "metadata": {
    "tags": []
   },
   "outputs": [],
   "source": [
    "Foo.x = 2"
   ]
  },
  {
   "cell_type": "code",
   "execution_count": 7,
   "metadata": {
    "tags": []
   },
   "outputs": [
    {
     "data": {
      "text/plain": [
       "(2, 2)"
      ]
     },
     "execution_count": 7,
     "metadata": {},
     "output_type": "execute_result"
    }
   ],
   "source": [
    "foo1.x, Foo.x"
   ]
  },
  {
   "cell_type": "markdown",
   "metadata": {
    "slideshow": {
     "slide_type": "slide"
    },
    "tags": []
   },
   "source": [
    "What if we change the local attribute's value?\n",
    "\n",
    "What happens to the class attribute?"
   ]
  },
  {
   "cell_type": "code",
   "execution_count": 9,
   "metadata": {
    "slideshow": {
     "slide_type": "slide"
    },
    "tags": []
   },
   "outputs": [],
   "source": [
    "foo1.x = 3"
   ]
  },
  {
   "cell_type": "code",
   "execution_count": 10,
   "metadata": {
    "tags": []
   },
   "outputs": [
    {
     "data": {
      "text/plain": [
       "(3, 2)"
      ]
     },
     "execution_count": 10,
     "metadata": {},
     "output_type": "execute_result"
    }
   ],
   "source": [
    "foo1.x, Foo.x"
   ]
  },
  {
   "cell_type": "markdown",
   "metadata": {},
   "source": [
    "Turns out we cannot override the class attribute with the instance."
   ]
  },
  {
   "cell_type": "markdown",
   "metadata": {
    "tags": []
   },
   "source": [
    "We can also see that the instance attribute is now unaffected by changing the value in the class."
   ]
  },
  {
   "cell_type": "code",
   "execution_count": 11,
   "metadata": {
    "tags": []
   },
   "outputs": [],
   "source": [
    "Foo.x = 4"
   ]
  },
  {
   "cell_type": "code",
   "execution_count": 12,
   "metadata": {
    "tags": []
   },
   "outputs": [
    {
     "data": {
      "text/plain": [
       "(3, 4)"
      ]
     },
     "execution_count": 12,
     "metadata": {},
     "output_type": "execute_result"
    }
   ],
   "source": [
    "foo1.x, Foo.x"
   ]
  },
  {
   "cell_type": "markdown",
   "metadata": {},
   "source": [
    "What happened?\n",
    "\n",
    "By assigning a value to the instance attribute, we converted from global in the class to local in the instance.\n",
    "\n",
    "This is similar to what we saw with local and global variables in functions."
   ]
  },
  {
   "cell_type": "markdown",
   "metadata": {
    "slideshow": {
     "slide_type": "slide"
    },
    "tags": []
   },
   "source": [
    "Finally, notice how changing the value of the class attribute changes **all** the instance attributes that have not overridden the attribute."
   ]
  },
  {
   "cell_type": "code",
   "execution_count": 13,
   "metadata": {
    "tags": []
   },
   "outputs": [],
   "source": [
    "foo2 = Foo()\n",
    "foo3 = Foo()"
   ]
  },
  {
   "cell_type": "code",
   "execution_count": 14,
   "metadata": {
    "tags": []
   },
   "outputs": [],
   "source": [
    "Foo.x = 10"
   ]
  },
  {
   "cell_type": "code",
   "execution_count": 15,
   "metadata": {
    "tags": []
   },
   "outputs": [
    {
     "data": {
      "text/plain": [
       "(3, 10, 10, 10)"
      ]
     },
     "execution_count": 15,
     "metadata": {},
     "output_type": "execute_result"
    }
   ],
   "source": [
    "foo1.x, foo2.x, foo3.x, Foo.x"
   ]
  },
  {
   "cell_type": "markdown",
   "metadata": {
    "slideshow": {
     "slide_type": "slide"
    },
    "tags": []
   },
   "source": [
    "## Mutable Class Attributes\n",
    "\n",
    "There is an interesting **gotcha** regarding class attributes in Python.\n",
    "\n",
    "**Lists and other mutable data structures can be class attributes and yet have their values modified by instances.**\n",
    "\n",
    "This is kind of weird, and you should look out for it."
   ]
  },
  {
   "cell_type": "markdown",
   "metadata": {
    "slideshow": {
     "slide_type": "slide"
    },
    "tags": []
   },
   "source": [
    "To demonstrate, we define a class with two instance variables, one a scalar and one a list.\n",
    "\n",
    "We define a method to alter the value of each.\n",
    "\n",
    "We also define a method compare the state of the instance with that of its class."
   ]
  },
  {
   "cell_type": "code",
   "execution_count": 39,
   "metadata": {
    "tags": []
   },
   "outputs": [],
   "source": [
    "class MyTest():\n",
    "    \n",
    "    # Two class attributes\n",
    "    foo = 0  \n",
    "    bar = [] \n",
    "    \n",
    "    def add_one(self):\n",
    "        \"A method to alter the values of the class attributes.\"\n",
    "        self.foo += 1       \n",
    "        self.bar.append(1)  \n",
    "        \n",
    "    def replace_bar(self, new_list = []):\n",
    "        \"A method to redefine the class list attribute.\"\n",
    "        self.bar = new_list \n",
    "        \n",
    "    def compare_states(self):\n",
    "        \"A method to compare the state of instance to that of its class.\"\n",
    "        print('instance.foo =', self.foo)\n",
    "        print('class.foo =', __class__.foo) # Notice how we can refer to an instance's class\n",
    "        print('instance.bar =', self.bar)\n",
    "        print('class.bar =', __class__.bar)\n",
    "        "
   ]
  },
  {
   "cell_type": "markdown",
   "metadata": {
    "slideshow": {
     "slide_type": "slide"
    },
    "tags": []
   },
   "source": [
    "Now let's run some tests. \n",
    "\n",
    "We define an instance and change nothing."
   ]
  },
  {
   "cell_type": "code",
   "execution_count": 40,
   "metadata": {
    "tags": []
   },
   "outputs": [],
   "source": [
    "test1 = MyTest()"
   ]
  },
  {
   "cell_type": "code",
   "execution_count": 41,
   "metadata": {
    "tags": []
   },
   "outputs": [
    {
     "name": "stdout",
     "output_type": "stream",
     "text": [
      "instance.foo = 0\n",
      "class.foo = 0\n",
      "instance.bar = []\n",
      "class.bar = []\n"
     ]
    }
   ],
   "source": [
    "test1.compare_states()"
   ]
  },
  {
   "cell_type": "markdown",
   "metadata": {
    "slideshow": {
     "slide_type": "slide"
    },
    "tags": []
   },
   "source": [
    "Now let's increment the attributes and see the results."
   ]
  },
  {
   "cell_type": "code",
   "execution_count": 42,
   "metadata": {
    "tags": []
   },
   "outputs": [],
   "source": [
    "test1.add_one()"
   ]
  },
  {
   "cell_type": "code",
   "execution_count": 43,
   "metadata": {
    "tags": []
   },
   "outputs": [
    {
     "name": "stdout",
     "output_type": "stream",
     "text": [
      "instance.foo = 1\n",
      "class.foo = 0\n",
      "instance.bar = [1]\n",
      "class.bar = [1]\n"
     ]
    }
   ],
   "source": [
    "test1.compare_states()"
   ]
  },
  {
   "cell_type": "markdown",
   "metadata": {},
   "source": [
    "The method `.add_one()` **does** disconnect the instance `foo` from the class `foo`.\n",
    "\n",
    "But it **does not** disconnect the instance `bar` from the class `bar`.\n",
    "\n",
    "Instead, a change that took place in one instance affects the state of all other instances!\n",
    "\n",
    "The difference is that `foo` is a scalar, and `bar` is a list, i.e. mutable data structure.\n",
    "\n",
    "When the instance mutates the class attribute, the class attribute is not reassigned &mdash; only its contents change."
   ]
  },
  {
   "cell_type": "markdown",
   "metadata": {
    "slideshow": {
     "slide_type": "slide"
    },
    "tags": []
   },
   "source": [
    "We do it again to drive the point home."
   ]
  },
  {
   "cell_type": "code",
   "execution_count": 44,
   "metadata": {
    "tags": []
   },
   "outputs": [
    {
     "name": "stdout",
     "output_type": "stream",
     "text": [
      "instance.foo = 2\n",
      "class.foo = 0\n",
      "instance.bar = [1, 1]\n",
      "class.bar = [1, 1]\n"
     ]
    }
   ],
   "source": [
    "test1.add_one()\n",
    "test1.compare_states()"
   ]
  },
  {
   "cell_type": "markdown",
   "metadata": {
    "slideshow": {
     "slide_type": "slide"
    },
    "tags": []
   },
   "source": [
    "Now, let's replace list itself in the instance."
   ]
  },
  {
   "cell_type": "code",
   "execution_count": 45,
   "metadata": {
    "tags": []
   },
   "outputs": [
    {
     "name": "stdout",
     "output_type": "stream",
     "text": [
      "Iter 0\n",
      "instance.foo = 3\n",
      "class.foo = 0\n",
      "instance.bar = [1]\n",
      "class.bar = [1, 1]\n",
      "\n",
      "Iter 1\n",
      "instance.foo = 4\n",
      "class.foo = 0\n",
      "instance.bar = [1, 1]\n",
      "class.bar = [1, 1]\n",
      "\n",
      "Iter 2\n",
      "instance.foo = 5\n",
      "class.foo = 0\n",
      "instance.bar = [1, 1, 1]\n",
      "class.bar = [1, 1]\n",
      "\n",
      "Iter 3\n",
      "instance.foo = 6\n",
      "class.foo = 0\n",
      "instance.bar = [1, 1, 1, 1]\n",
      "class.bar = [1, 1]\n",
      "\n",
      "Iter 4\n",
      "instance.foo = 7\n",
      "class.foo = 0\n",
      "instance.bar = [1, 1, 1, 1, 1]\n",
      "class.bar = [1, 1]\n",
      "\n"
     ]
    }
   ],
   "source": [
    "test1.replace_bar()\n",
    "# test1.bar = [] # Same as\n",
    "\n",
    "for i in range(5):\n",
    "    print(\"Iter\", i)\n",
    "    test1.add_one()\n",
    "    test1.compare_states()\n",
    "    print()"
   ]
  },
  {
   "cell_type": "markdown",
   "metadata": {},
   "source": [
    "Notice that now the class list is not altered by the instance list.\n",
    "\n",
    "It remains in the state before the list itself was re-assigned by the instance.\n",
    "\n",
    "This is because we redefined the list itself, not just its content."
   ]
  },
  {
   "cell_type": "markdown",
   "metadata": {
    "slideshow": {
     "slide_type": "slide"
    },
    "tags": []
   },
   "source": [
    "Let's define a second instance."
   ]
  },
  {
   "cell_type": "code",
   "execution_count": 46,
   "metadata": {
    "tags": []
   },
   "outputs": [
    {
     "name": "stdout",
     "output_type": "stream",
     "text": [
      "instance.foo = 0\n",
      "class.foo = 0\n",
      "instance.bar = [1, 1]\n",
      "class.bar = [1, 1]\n"
     ]
    }
   ],
   "source": [
    "test2 = MyTest()\n",
    "test2.compare_states()"
   ]
  },
  {
   "cell_type": "markdown",
   "metadata": {},
   "source": [
    "The new instance has the original value of `foo`.\n",
    "\n",
    "However, notice it starts off with the modified value of `bar` before it was replaced."
   ]
  },
  {
   "cell_type": "markdown",
   "metadata": {
    "slideshow": {
     "slide_type": "slide"
    },
    "tags": []
   },
   "source": [
    "We do it a few more times to drive the point home."
   ]
  },
  {
   "cell_type": "code",
   "execution_count": 47,
   "metadata": {
    "tags": []
   },
   "outputs": [
    {
     "name": "stdout",
     "output_type": "stream",
     "text": [
      "Iter 0\n",
      "instance.foo = 1\n",
      "class.foo = 0\n",
      "instance.bar = [1, 1, 1]\n",
      "class.bar = [1, 1, 1]\n",
      "\n",
      "Iter 1\n",
      "instance.foo = 2\n",
      "class.foo = 0\n",
      "instance.bar = [1, 1, 1, 1]\n",
      "class.bar = [1, 1, 1, 1]\n",
      "\n",
      "Iter 2\n",
      "instance.foo = 3\n",
      "class.foo = 0\n",
      "instance.bar = [1, 1, 1, 1, 1]\n",
      "class.bar = [1, 1, 1, 1, 1]\n",
      "\n",
      "Iter 3\n",
      "instance.foo = 4\n",
      "class.foo = 0\n",
      "instance.bar = [1, 1, 1, 1, 1, 1]\n",
      "class.bar = [1, 1, 1, 1, 1, 1]\n",
      "\n",
      "Iter 4\n",
      "instance.foo = 5\n",
      "class.foo = 0\n",
      "instance.bar = [1, 1, 1, 1, 1, 1, 1]\n",
      "class.bar = [1, 1, 1, 1, 1, 1, 1]\n",
      "\n"
     ]
    }
   ],
   "source": [
    "for i in range(5):\n",
    "    print(\"Iter\", i)\n",
    "    test2.add_one()\n",
    "    test2.compare_states()\n",
    "    print()"
   ]
  },
  {
   "cell_type": "markdown",
   "metadata": {
    "slideshow": {
     "slide_type": "slide"
    },
    "tags": []
   },
   "source": [
    "## Some Observations\n",
    "    \n",
    "Class attribute changes affect those attributes in all of it instances ...\n",
    "\n",
    " ... unless the instance assigns a value to the attribute.\n",
    "\n",
    "However, appending to a list from an instance &mdash; or, more generally, modifying data in a mutable data structure  &mdash; does not count as an assignment operation. The instance changes will affect the class state. \n",
    "\n",
    "Bottom line: **use class attributes with caution**."
   ]
  }
 ],
 "metadata": {
  "kernelspec": {
   "display_name": "Python 3",
   "language": "python",
   "name": "python3"
  },
  "language_info": {
   "codemirror_mode": {
    "name": "ipython",
    "version": 3
   },
   "file_extension": ".py",
   "mimetype": "text/x-python",
   "name": "python",
   "nbconvert_exporter": "python",
   "pygments_lexer": "ipython3",
   "version": "3.11.4"
  }
 },
 "nbformat": 4,
 "nbformat_minor": 4
}
