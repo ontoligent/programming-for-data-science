{
 "cells": [
  {
   "cell_type": "markdown",
   "id": "3633ce53-ba1b-4e2e-8543-32968b6c44b7",
   "metadata": {
    "slideshow": {
     "slide_type": "slide"
    },
    "tags": []
   },
   "source": [
    "# NB: R Control Structures\n",
    "\n",
    "Programming for Data Science"
   ]
  },
  {
   "cell_type": "markdown",
   "id": "3ce196f9-93dc-4ce4-90a6-9169f9144f07",
   "metadata": {
    "slideshow": {
     "slide_type": "slide"
    },
    "tags": []
   },
   "source": [
    "## Conditional Statements\n",
    "\n",
    "R supports conditional statements in the standard way.\n",
    "\n",
    "It provides the following statements:\n",
    "\n",
    "`if`, `else if`, and `else`."
   ]
  },
  {
   "cell_type": "markdown",
   "id": "11ff6d64-3771-4911-8274-ccd3b1694d22",
   "metadata": {
    "slideshow": {
     "slide_type": "slide"
    },
    "tags": []
   },
   "source": [
    "Here's a skeletal control structure in R:\n",
    "\n",
    "```r\n",
    "if (<condition>) {\n",
    "        ## do something\n",
    "} \n",
    "\n",
    "if (<condition>) {\n",
    "        ## do something\n",
    "} \n",
    "else {\n",
    "        ## do something else\n",
    "}\n",
    "```"
   ]
  },
  {
   "cell_type": "markdown",
   "id": "3e71ee8f-d274-4ddf-aefb-4f8f01eb0600",
   "metadata": {
    "slideshow": {
     "slide_type": "fragment"
    },
    "tags": []
   },
   "source": [
    "Here is a more compact way of writing it:"
   ]
  },
  {
   "cell_type": "markdown",
   "id": "d1fd34c6-570e-4465-a779-5ec919963233",
   "metadata": {
    "tags": []
   },
   "source": [
    "```r\n",
    "if (<condition1>) {\n",
    "        ## do something\n",
    "} else if (<condition2>)  {\n",
    "        ## do something different\n",
    "} else {\n",
    "        ## do something different\n",
    "}\n",
    "```"
   ]
  },
  {
   "cell_type": "markdown",
   "id": "19f793af-01c1-4374-8abe-a0b3f62b29e7",
   "metadata": {
    "slideshow": {
     "slide_type": "slide"
    },
    "tags": []
   },
   "source": [
    "Let's look at some examples.\n",
    "\n",
    "Here, we generate a uniform random number, using the function `runif()`.\n",
    "\n",
    "The first argument determines the number of results, and the second two define the upper and lower bound."
   ]
  },
  {
   "cell_type": "code",
   "execution_count": 14,
   "id": "21bd8bdf-17af-4a64-9ba2-7a1b69c71192",
   "metadata": {
    "tags": []
   },
   "outputs": [
    {
     "data": {
      "text/html": [
       "6.29529620986432"
      ],
      "text/latex": [
       "6.29529620986432"
      ],
      "text/markdown": [
       "6.29529620986432"
      ],
      "text/plain": [
       "[1] 6.295296"
      ]
     },
     "metadata": {},
     "output_type": "display_data"
    }
   ],
   "source": [
    "x <- runif(1, 0, 10)\n",
    "x"
   ]
  },
  {
   "cell_type": "code",
   "execution_count": 15,
   "id": "04bac56e-7d8e-42d2-8c07-10ec48306206",
   "metadata": {
    "tags": []
   },
   "outputs": [
    {
     "data": {
      "text/html": [
       "10"
      ],
      "text/latex": [
       "10"
      ],
      "text/markdown": [
       "10"
      ],
      "text/plain": [
       "[1] 10"
      ]
     },
     "metadata": {},
     "output_type": "display_data"
    }
   ],
   "source": [
    "if (x > 3) {\n",
    "    y <- 10\n",
    "} else {\n",
    "    y <- 0\n",
    "}\n",
    "y"
   ]
  },
  {
   "cell_type": "markdown",
   "id": "24886fe9-c065-43a9-b939-c938f9b83fea",
   "metadata": {
    "slideshow": {
     "slide_type": "slide"
    },
    "tags": []
   },
   "source": [
    "You can assign an `if` statement to a variable."
   ]
  },
  {
   "cell_type": "code",
   "execution_count": 18,
   "id": "1fd664b8-3e07-4ca9-9762-1e5b9d44e592",
   "metadata": {
    "tags": []
   },
   "outputs": [
    {
     "data": {
      "text/html": [
       "10"
      ],
      "text/latex": [
       "10"
      ],
      "text/markdown": [
       "10"
      ],
      "text/plain": [
       "[1] 10"
      ]
     },
     "metadata": {},
     "output_type": "display_data"
    }
   ],
   "source": [
    "z <- if (x > 3) {10} else {0}\n",
    "z"
   ]
  },
  {
   "cell_type": "markdown",
   "id": "faebe2d5-6655-416d-bb63-3e3c6902c8b4",
   "metadata": {
    "slideshow": {
     "slide_type": "fragment"
    },
    "tags": []
   },
   "source": [
    "Note you can drop the braces when doing a one-liner."
   ]
  },
  {
   "cell_type": "code",
   "execution_count": 16,
   "id": "6594663f-4a78-4fc8-80c4-177ebbd4b7b3",
   "metadata": {
    "tags": []
   },
   "outputs": [
    {
     "data": {
      "text/html": [
       "10"
      ],
      "text/latex": [
       "10"
      ],
      "text/markdown": [
       "10"
      ],
      "text/plain": [
       "[1] 10"
      ]
     },
     "metadata": {},
     "output_type": "display_data"
    }
   ],
   "source": [
    "z <- if (x > 3) 10 else 0\n",
    "z"
   ]
  },
  {
   "cell_type": "markdown",
   "id": "ce5c2c38-0f5a-4e9b-9686-acc0a73a5711",
   "metadata": {
    "tags": []
   },
   "source": [
    "You do need to keep the parentheses around the comparison expression, though."
   ]
  },
  {
   "cell_type": "markdown",
   "id": "b973bd54-be87-424c-8fed-4722ed79828b",
   "metadata": {
    "slideshow": {
     "slide_type": "slide"
    },
    "tags": []
   },
   "source": [
    "Of course, you can stack `if` blocks, too.\n",
    "\n",
    "```r\n",
    "if (<condition1>) {\n",
    "    \n",
    "}\n",
    "\n",
    "if (<condition2>) {\n",
    "\n",
    "}\n",
    "```"
   ]
  },
  {
   "cell_type": "markdown",
   "id": "cc5f95ad-b6b9-414b-acf5-5214c5b0857a",
   "metadata": {
    "slideshow": {
     "slide_type": "slide"
    },
    "tags": []
   },
   "source": [
    "## `for` Loops\n",
    "\n",
    "For loops are straight-forward in R. \n",
    "\n",
    "They take an iterator variable, e.g. `i`, and assign it successive values from a sequence or vector."
   ]
  },
  {
   "cell_type": "code",
   "execution_count": 26,
   "id": "b15112a5-adfa-47b6-b1f5-ff74ad9d49c6",
   "metadata": {
    "tags": []
   },
   "outputs": [
    {
     "name": "stdout",
     "output_type": "stream",
     "text": [
      "[1] 1\n",
      "[1] 2\n",
      "[1] 3\n",
      "[1] 4\n",
      "[1] 5\n",
      "[1] 6\n",
      "[1] 7\n",
      "[1] 8\n",
      "[1] 9\n",
      "[1] 10\n"
     ]
    }
   ],
   "source": [
    "for (i in 1:10) {\n",
    "  print(i)\n",
    "}"
   ]
  },
  {
   "cell_type": "markdown",
   "id": "9d7ca966-4d6a-43c7-ab1d-7a7e6336275f",
   "metadata": {
    "slideshow": {
     "slide_type": "slide"
    },
    "tags": []
   },
   "source": [
    "## `seq_along()`\n",
    "\n",
    "The `seq_along()` function is commonly used in conjunction with for\n",
    "loops. \n",
    "\n",
    "It generates an integer sequence based on the **length** of an object."
   ]
  },
  {
   "cell_type": "code",
   "execution_count": 41,
   "id": "b434c513-2020-47c4-9b1a-0c07d3d423da",
   "metadata": {
    "tags": []
   },
   "outputs": [
    {
     "name": "stdout",
     "output_type": "stream",
     "text": [
      "[1] \"a\"\n",
      "[1] \"b\"\n",
      "[1] \"c\"\n",
      "[1] \"d\"\n"
     ]
    }
   ],
   "source": [
    "x <- c(\"a\", \"b\", \"c\", \"d\")\n",
    "for (i in seq_along(x)) {\n",
    "  print(x[i])  \n",
    "}"
   ]
  },
  {
   "cell_type": "markdown",
   "id": "fdb40059-54aa-4074-adea-7b4c3818b565",
   "metadata": {
    "slideshow": {
     "slide_type": "slide"
    },
    "tags": []
   },
   "source": [
    "Note that it is not necessary to use an index-type variable to iterate through an iterable object."
   ]
  },
  {
   "cell_type": "code",
   "execution_count": 42,
   "id": "2368de1f-f926-4e8b-b14a-9e742c8d8006",
   "metadata": {
    "tags": []
   },
   "outputs": [
    {
     "name": "stdout",
     "output_type": "stream",
     "text": [
      "[1] \"a\"\n",
      "[1] \"b\"\n",
      "[1] \"c\"\n",
      "[1] \"d\"\n"
     ]
    }
   ],
   "source": [
    "for (letter in x) {\n",
    "  print(letter)\n",
    "}"
   ]
  },
  {
   "cell_type": "markdown",
   "id": "d2ce028e-3c84-4bcb-8052-e4d02c957873",
   "metadata": {
    "slideshow": {
     "slide_type": "slide"
    },
    "tags": []
   },
   "source": [
    "For one line loops, the curly braces are not strictly necessary."
   ]
  },
  {
   "cell_type": "code",
   "execution_count": 43,
   "id": "0382c7a6-406c-46c5-a0af-c3538c16789d",
   "metadata": {
    "tags": []
   },
   "outputs": [
    {
     "name": "stdout",
     "output_type": "stream",
     "text": [
      "[1] \"a\"\n",
      "[1] \"b\"\n",
      "[1] \"c\"\n",
      "[1] \"d\"\n"
     ]
    }
   ],
   "source": [
    "for (i in 1:4) print(x[i])"
   ]
  },
  {
   "cell_type": "markdown",
   "id": "50b040c5-942e-4b6a-8fb5-adaaea3e72f3",
   "metadata": {
    "slideshow": {
     "slide_type": "slide"
    },
    "tags": []
   },
   "source": [
    "## `seq_len()`\n",
    "\n",
    "The `seq_len()` function is also used in conjunction with for\n",
    "loops. \n",
    "\n",
    "It generates an integer sequence based a number."
   ]
  },
  {
   "cell_type": "code",
   "execution_count": 44,
   "id": "e9643559-02f9-4824-bfcd-769d62277460",
   "metadata": {
    "tags": []
   },
   "outputs": [
    {
     "name": "stdout",
     "output_type": "stream",
     "text": [
      "[1] \"a\"\n",
      "[1] \"b\"\n",
      "[1] \"c\"\n",
      "[1] \"d\"\n"
     ]
    }
   ],
   "source": [
    "for (i in seq_len(length(x))) {\n",
    "  print(x[i])  \n",
    "}"
   ]
  },
  {
   "cell_type": "markdown",
   "id": "1b779e0e-9607-48e7-9a98-aee504b64713",
   "metadata": {
    "slideshow": {
     "slide_type": "slide"
    },
    "tags": []
   },
   "source": [
    "`seq_len()` is like `seq()`, but it doesn't have the flexibility of the latter.\n",
    "\n",
    "It handles the common case of beginning at $1$ and stepping by $1$."
   ]
  },
  {
   "cell_type": "code",
   "execution_count": 54,
   "id": "c3f34ae8-fc69-4640-8ce3-491fd89e9472",
   "metadata": {
    "tags": []
   },
   "outputs": [
    {
     "data": {
      "text/html": [
       "<style>\n",
       ".list-inline {list-style: none; margin:0; padding: 0}\n",
       ".list-inline>li {display: inline-block}\n",
       ".list-inline>li:not(:last-child)::after {content: \"\\00b7\"; padding: 0 .5ex}\n",
       "</style>\n",
       "<ol class=list-inline><li>1</li><li>2</li><li>3</li><li>4</li><li>5</li><li>6</li></ol>\n"
      ],
      "text/latex": [
       "\\begin{enumerate*}\n",
       "\\item 1\n",
       "\\item 2\n",
       "\\item 3\n",
       "\\item 4\n",
       "\\item 5\n",
       "\\item 6\n",
       "\\end{enumerate*}\n"
      ],
      "text/markdown": [
       "1. 1\n",
       "2. 2\n",
       "3. 3\n",
       "4. 4\n",
       "5. 5\n",
       "6. 6\n",
       "\n",
       "\n"
      ],
      "text/plain": [
       "[1] 1 2 3 4 5 6"
      ]
     },
     "metadata": {},
     "output_type": "display_data"
    },
    {
     "data": {
      "text/html": [
       "<style>\n",
       ".list-inline {list-style: none; margin:0; padding: 0}\n",
       ".list-inline>li {display: inline-block}\n",
       ".list-inline>li:not(:last-child)::after {content: \"\\00b7\"; padding: 0 .5ex}\n",
       "</style>\n",
       "<ol class=list-inline><li>1</li><li>2</li><li>3</li><li>4</li><li>5</li><li>6</li></ol>\n"
      ],
      "text/latex": [
       "\\begin{enumerate*}\n",
       "\\item 1\n",
       "\\item 2\n",
       "\\item 3\n",
       "\\item 4\n",
       "\\item 5\n",
       "\\item 6\n",
       "\\end{enumerate*}\n"
      ],
      "text/markdown": [
       "1. 1\n",
       "2. 2\n",
       "3. 3\n",
       "4. 4\n",
       "5. 5\n",
       "6. 6\n",
       "\n",
       "\n"
      ],
      "text/plain": [
       "[1] 1 2 3 4 5 6"
      ]
     },
     "metadata": {},
     "output_type": "display_data"
    }
   ],
   "source": [
    "seq(length(x))\n",
    "seq_len(length(x))"
   ]
  },
  {
   "cell_type": "markdown",
   "id": "0110ac46-90de-4396-bbbc-98822f7c4034",
   "metadata": {
    "slideshow": {
     "slide_type": "slide"
    },
    "tags": []
   },
   "source": [
    "## Nested `for` loops\n",
    "\n",
    "For loops can be nested inside of each other.\n",
    "\n",
    "The number of levels you nest is often a function of the number of dimensions in your iterable.\n",
    "\n",
    "Here we iterate through a $2$-D data structure."
   ]
  },
  {
   "cell_type": "code",
   "execution_count": 55,
   "id": "b62730e0-47da-4f06-912a-61ba4950f965",
   "metadata": {
    "tags": []
   },
   "outputs": [
    {
     "name": "stdout",
     "output_type": "stream",
     "text": [
      "[1] 1\n",
      "[1] 3\n",
      "[1] 5\n",
      "[1] 2\n",
      "[1] 4\n",
      "[1] 6\n"
     ]
    }
   ],
   "source": [
    "x <- matrix(1:6, 2, 3)\n",
    "for (i in seq_len(nrow(x))) {\n",
    "  for (j in seq_len(ncol(x))) {\n",
    "    print(x[i, j])\n",
    "  }   \n",
    "}"
   ]
  },
  {
   "cell_type": "markdown",
   "id": "417a7254-a1c2-41ed-a29c-c21ff3851dcb",
   "metadata": {
    "slideshow": {
     "slide_type": "slide"
    },
    "tags": []
   },
   "source": [
    "## `while` Loops\n",
    "\n",
    "As with Python, while loops start with a condition. \n",
    "\n",
    "It iterates while the condition is `TRUE` and stops when it is `FALSE`.\n",
    "\n",
    "Remember, while loops can go on forever is the truth condition is never\n",
    "met!"
   ]
  },
  {
   "cell_type": "code",
   "execution_count": 56,
   "id": "3b37a3a2-26ef-458d-aba0-702a03f9e6cb",
   "metadata": {
    "tags": []
   },
   "outputs": [
    {
     "name": "stdout",
     "output_type": "stream",
     "text": [
      "[1] 0\n",
      "[1] 1\n",
      "[1] 2\n",
      "[1] 3\n",
      "[1] 4\n",
      "[1] 5\n",
      "[1] 6\n",
      "[1] 7\n",
      "[1] 8\n",
      "[1] 9\n"
     ]
    }
   ],
   "source": [
    "count <- 0\n",
    "while (count < 10) {\n",
    "  print(count)\n",
    "  count <- count + 1\n",
    "}"
   ]
  },
  {
   "cell_type": "markdown",
   "id": "62aff44c-24ed-42be-9c7a-8cb26bb6cc21",
   "metadata": {
    "slideshow": {
     "slide_type": "slide"
    },
    "tags": []
   },
   "source": [
    "## `next` and `break`\n",
    "\n",
    "`next` is used to skip an iteration of a loop. \n",
    "\n",
    "This is the same as `continue` in Python."
   ]
  },
  {
   "cell_type": "code",
   "execution_count": 23,
   "id": "d72da0dc-464e-479f-86ad-c7862ac65463",
   "metadata": {
    "tags": []
   },
   "outputs": [],
   "source": [
    "for (i in 1:100) {\n",
    "  if (i <= 20) {\n",
    "    # Skip the first 20 iterations\n",
    "    next                \n",
    "  }     \n",
    "  # Do something here\n",
    "}"
   ]
  },
  {
   "cell_type": "markdown",
   "id": "c8f86d10-848a-40df-a783-8ef398740134",
   "metadata": {
    "slideshow": {
     "slide_type": "slide"
    },
    "tags": []
   },
   "source": [
    "`break` is used to exit a loop immediately."
   ]
  },
  {
   "cell_type": "code",
   "execution_count": 22,
   "id": "4e16b62c-80b2-49a1-adce-0b9bed3bc297",
   "metadata": {
    "tags": []
   },
   "outputs": [
    {
     "name": "stdout",
     "output_type": "stream",
     "text": [
      "[1] 1\n",
      "[1] 2\n",
      "[1] 3\n",
      "[1] 4\n",
      "[1] 5\n",
      "[1] 6\n",
      "[1] 7\n",
      "[1] 8\n",
      "[1] 9\n",
      "[1] 10\n",
      "[1] 11\n",
      "[1] 12\n",
      "[1] 13\n",
      "[1] 14\n",
      "[1] 15\n",
      "[1] 16\n",
      "[1] 17\n",
      "[1] 18\n",
      "[1] 19\n",
      "[1] 20\n",
      "[1] 21\n"
     ]
    }
   ],
   "source": [
    "for (i in 1:100) {\n",
    "  print(i)\n",
    "  if (i > 20) {\n",
    "    # Stop loop after 20 iterations\n",
    "    break  \n",
    "  }     \n",
    "}"
   ]
  },
  {
   "cell_type": "markdown",
   "id": "0ef6e92a-12ae-45da-b169-32e547da4e68",
   "metadata": {
    "slideshow": {
     "slide_type": "slide"
    },
    "tags": []
   },
   "source": [
    "## `repeat` Loops\n",
    "\n",
    "`repeat` loops are used by R.\n",
    "\n",
    "They initiate an infinite loop right from the start.\n",
    "\n",
    "The only way to exit a repeat loop is to call break on an internal\n",
    "condition.\n",
    "\n",
    "Here's an example of what one might look like:"
   ]
  },
  {
   "cell_type": "markdown",
   "id": "f450508e-a835-4bc6-acff-38a197ef7b01",
   "metadata": {
    "tags": []
   },
   "source": [
    "```r\n",
    "x0 <- 1\n",
    "tol <- 1e-8\n",
    "\n",
    "repeat {\n",
    "  x1 <- computeEstimate()\n",
    "  if (abs(x1 - x0) < tol) {  ## Close enough?\n",
    "    break\n",
    "  } else {\n",
    "    x0 <- x1\n",
    "  } \n",
    "}\n",
    "```"
   ]
  }
 ],
 "metadata": {
  "kernelspec": {
   "display_name": "R Environment",
   "language": "R",
   "name": "r_env"
  },
  "language_info": {
   "codemirror_mode": "r",
   "file_extension": ".r",
   "mimetype": "text/x-r-source",
   "name": "R",
   "pygments_lexer": "r",
   "version": "4.3.1"
  }
 },
 "nbformat": 4,
 "nbformat_minor": 5
}
