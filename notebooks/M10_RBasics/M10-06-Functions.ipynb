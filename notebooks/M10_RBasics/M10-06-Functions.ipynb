{
 "cells": [
  {
   "cell_type": "markdown",
   "id": "825de87c-4ed5-4fdc-9776-1003387083ae",
   "metadata": {
    "slideshow": {
     "slide_type": "slide"
    },
    "tags": []
   },
   "source": [
    "# NB: R Functions\n",
    "\n",
    "Programming for Data Science"
   ]
  },
  {
   "cell_type": "markdown",
   "id": "bde505bc-7cca-498e-8d10-00fa6799aa5a",
   "metadata": {
    "slideshow": {
     "slide_type": "slide"
    },
    "tags": []
   },
   "source": [
    "Functions are fundamental to R, as with most programming languages.\n",
    "\n",
    "Syntactically, R functions are constructed by the function statement and assigned to a variable.\n",
    "\n",
    "```r\n",
    "my.function <- function(<args>) {\n",
    "    <body>\n",
    "    return(<return_value>)\n",
    "}\n",
    "```"
   ]
  },
  {
   "cell_type": "markdown",
   "id": "e1811160-22bc-49a0-a46c-d740dc07add4",
   "metadata": {
    "slideshow": {
     "slide_type": "fragment"
    },
    "tags": []
   },
   "source": [
    "`<args>` are arguments that may take default values. \n",
    "\n",
    "Defaults are assigned with the `=` operator, not `<-`.\n",
    "\n",
    "`<body>` is code executed when the function is called.\n",
    "\n",
    "`<return_value>` is the value returned by the `return()`.\n",
    "\n",
    "Note the `return()` is optional.\n",
    "\n",
    "If not called, R will return the last variable in the body."
   ]
  },
  {
   "cell_type": "markdown",
   "id": "d43374e7-b047-473d-b715-56b44a995b4b",
   "metadata": {
    "slideshow": {
     "slide_type": "slide"
    },
    "tags": []
   },
   "source": [
    "Let's look at an example.\n",
    "\n",
    "Here we define a function that computes Z-scores by doing the\n",
    "following:\n",
    "\n",
    "First, it takes a value and a vector of values as inputs.\n",
    "\n",
    "Second, it **normalizes** the value against the vector by subtracting the vector mean from value, and dividing by vector standard deviation."
   ]
  },
  {
   "cell_type": "code",
   "execution_count": 4,
   "id": "d065debd-61e0-47e4-bb9e-dd7e04d5a843",
   "metadata": {},
   "outputs": [],
   "source": [
    "compute_zscore <- function(val, vec) {\n",
    "  (val - mean(vec)) / sd(vec)\n",
    "}"
   ]
  },
  {
   "cell_type": "markdown",
   "id": "6847167c-2eec-49cd-b6b1-0cc0146f1b57",
   "metadata": {
    "slideshow": {
     "slide_type": "fragment"
    },
    "tags": []
   },
   "source": [
    "Let's test it with some sample data."
   ]
  },
  {
   "cell_type": "code",
   "execution_count": 2,
   "id": "b3ba5bf2-7a73-477c-8fcd-6e09fc359e9b",
   "metadata": {},
   "outputs": [],
   "source": [
    "x <- 5                \n",
    "xx <- c(4, 6, 7, 8, 2, 11)"
   ]
  },
  {
   "cell_type": "code",
   "execution_count": 5,
   "id": "3238e9ce-a983-4252-97f8-837dc73c41f8",
   "metadata": {},
   "outputs": [
    {
     "data": {
      "text/html": [
       "-0.424476359978009"
      ],
      "text/latex": [
       "-0.424476359978009"
      ],
      "text/markdown": [
       "-0.424476359978009"
      ],
      "text/plain": [
       "[1] -0.4244764"
      ]
     },
     "metadata": {},
     "output_type": "display_data"
    }
   ],
   "source": [
    "compute_zscore(x, xx)"
   ]
  },
  {
   "cell_type": "markdown",
   "id": "e347afc0-7234-4fc5-9f58-3eb25d2579f8",
   "metadata": {
    "slideshow": {
     "slide_type": "slide"
    },
    "tags": []
   },
   "source": [
    "Note that if vector contains identical values, `sd` is zero, and so the z-score is\n",
    "undefined."
   ]
  },
  {
   "cell_type": "code",
   "execution_count": 7,
   "id": "d1f196e4-52f8-41ff-be91-6ff5260644a9",
   "metadata": {},
   "outputs": [
    {
     "data": {
      "text/html": [
       "Inf"
      ],
      "text/latex": [
       "Inf"
      ],
      "text/markdown": [
       "Inf"
      ],
      "text/plain": [
       "[1] Inf"
      ]
     },
     "metadata": {},
     "output_type": "display_data"
    }
   ],
   "source": [
    "compute_zscore(x, c(1, 1, 1, 1))"
   ]
  },
  {
   "cell_type": "markdown",
   "id": "e8eb4801-89da-41e4-8f8a-b3ff98fdce7f",
   "metadata": {
    "slideshow": {
     "slide_type": "fragment"
    },
    "tags": []
   },
   "source": [
    "Also, if a vector contains missing values, the result will be `NA`."
   ]
  },
  {
   "cell_type": "code",
   "execution_count": 8,
   "id": "2d5f1c1f-ff15-44ab-af0f-36354744abd3",
   "metadata": {},
   "outputs": [
    {
     "data": {
      "text/html": [
       "&lt;NA&gt;"
      ],
      "text/latex": [
       "<NA>"
      ],
      "text/markdown": [
       "&lt;NA&gt;"
      ],
      "text/plain": [
       "[1] NA"
      ]
     },
     "metadata": {},
     "output_type": "display_data"
    }
   ],
   "source": [
    "xx_na <- c(1, NA, 3, 5) \n",
    "compute_zscore(x, xx_na)"
   ]
  },
  {
   "cell_type": "markdown",
   "id": "2107eda8-cb8a-4561-a6d2-c4b78f585480",
   "metadata": {
    "slideshow": {
     "slide_type": "slide"
    },
    "tags": []
   },
   "source": [
    "Here's another example.\n",
    "\n",
    "We write a function that returns $1$ if passed value is odd, $0$ if even.\n",
    "\n",
    "Recall that `%%` is modulus operator, which returns the remainder of a division operation."
   ]
  },
  {
   "cell_type": "code",
   "execution_count": 12,
   "id": "ae5b1a31-5dd5-40ff-bbc4-f35b24a75ccd",
   "metadata": {},
   "outputs": [],
   "source": [
    "is_odd <- function(x) { \n",
    "    if (x %% 2 == 1) { \n",
    "        return(1) \n",
    "    } else { \n",
    "        return(0)\n",
    "    } \n",
    "}"
   ]
  },
  {
   "cell_type": "markdown",
   "id": "e06e7323-2f45-49d3-b36f-0d44421bd4f1",
   "metadata": {},
   "source": [
    "Call to test some cases:"
   ]
  },
  {
   "cell_type": "code",
   "execution_count": 49,
   "id": "25ed06c4-5cff-409a-844b-aaa753228ec7",
   "metadata": {},
   "outputs": [
    {
     "data": {
      "text/html": [
       "0"
      ],
      "text/latex": [
       "0"
      ],
      "text/markdown": [
       "0"
      ],
      "text/plain": [
       "[1] 0"
      ]
     },
     "metadata": {},
     "output_type": "display_data"
    },
    {
     "data": {
      "text/html": [
       "1"
      ],
      "text/latex": [
       "1"
      ],
      "text/markdown": [
       "1"
      ],
      "text/plain": [
       "[1] 1"
      ]
     },
     "metadata": {},
     "output_type": "display_data"
    }
   ],
   "source": [
    "is_odd(4)\n",
    "is_odd(3)"
   ]
  },
  {
   "cell_type": "markdown",
   "id": "81944d49-7f2f-46db-b3fb-3ca955c89f71",
   "metadata": {
    "slideshow": {
     "slide_type": "slide"
    },
    "tags": []
   },
   "source": [
    "## Default Argument Values"
   ]
  },
  {
   "cell_type": "markdown",
   "id": "33c8ffbb-0791-4dee-8e93-8e773d22b809",
   "metadata": {},
   "source": [
    "Function arguments can use default values:"
   ]
  },
  {
   "cell_type": "code",
   "execution_count": 14,
   "id": "481520dd-c6f0-4081-82c9-c07824df37fc",
   "metadata": {},
   "outputs": [],
   "source": [
    "threshold_vals <- function(p, thresh = 0.5) {\n",
    "  p > thresh\n",
    "}"
   ]
  },
  {
   "cell_type": "markdown",
   "id": "bd760c96-d34c-4101-8d78-2e3863573d0f",
   "metadata": {},
   "source": [
    "Here we use the default `thresh`."
   ]
  },
  {
   "cell_type": "code",
   "execution_count": 15,
   "id": "7ae4ba66-20f6-4263-b467-80135d3839a6",
   "metadata": {},
   "outputs": [
    {
     "data": {
      "text/html": [
       "<style>\n",
       ".list-inline {list-style: none; margin:0; padding: 0}\n",
       ".list-inline>li {display: inline-block}\n",
       ".list-inline>li:not(:last-child)::after {content: \"\\00b7\"; padding: 0 .5ex}\n",
       "</style>\n",
       "<ol class=list-inline><li>TRUE</li><li>FALSE</li><li>FALSE</li><li>TRUE</li></ol>\n"
      ],
      "text/latex": [
       "\\begin{enumerate*}\n",
       "\\item TRUE\n",
       "\\item FALSE\n",
       "\\item FALSE\n",
       "\\item TRUE\n",
       "\\end{enumerate*}\n"
      ],
      "text/markdown": [
       "1. TRUE\n",
       "2. FALSE\n",
       "3. FALSE\n",
       "4. TRUE\n",
       "\n",
       "\n"
      ],
      "text/plain": [
       "[1]  TRUE FALSE FALSE  TRUE"
      ]
     },
     "metadata": {},
     "output_type": "display_data"
    }
   ],
   "source": [
    "threshold_vals(c(0.6, 0.4, 0.1, 1))"
   ]
  },
  {
   "cell_type": "markdown",
   "id": "9773396c-1a1b-4166-a1f1-01a6b372f162",
   "metadata": {},
   "source": [
    "Now, pass a different threshold:"
   ]
  },
  {
   "cell_type": "code",
   "execution_count": 52,
   "id": "10ee0f8f-dbd6-4870-8c2f-65f8eec933e1",
   "metadata": {},
   "outputs": [
    {
     "data": {
      "text/html": [
       "<style>\n",
       ".list-inline {list-style: none; margin:0; padding: 0}\n",
       ".list-inline>li {display: inline-block}\n",
       ".list-inline>li:not(:last-child)::after {content: \"\\00b7\"; padding: 0 .5ex}\n",
       "</style>\n",
       "<ol class=list-inline><li>FALSE</li><li>FALSE</li><li>FALSE</li><li>TRUE</li></ol>\n"
      ],
      "text/latex": [
       "\\begin{enumerate*}\n",
       "\\item FALSE\n",
       "\\item FALSE\n",
       "\\item FALSE\n",
       "\\item TRUE\n",
       "\\end{enumerate*}\n"
      ],
      "text/markdown": [
       "1. FALSE\n",
       "2. FALSE\n",
       "3. FALSE\n",
       "4. TRUE\n",
       "\n",
       "\n"
      ],
      "text/plain": [
       "[1] FALSE FALSE FALSE  TRUE"
      ]
     },
     "metadata": {},
     "output_type": "display_data"
    }
   ],
   "source": [
    "threshold_vals(c(0.6, 0.4, 0.1, 1), 0.7)"
   ]
  },
  {
   "cell_type": "markdown",
   "id": "f62d1ba2-a319-4beb-958c-7a09c3c4c15e",
   "metadata": {
    "slideshow": {
     "slide_type": "slide"
    },
    "tags": []
   },
   "source": [
    "## Error Trapping \n",
    "\n",
    "You can assert important preconditions with `stop()`.\n",
    "\n",
    "Here, we assert that the lengths of vectors x and y match.\n",
    "\n",
    "If they don't. we throw an error with `stop()`.\n"
   ]
  },
  {
   "cell_type": "code",
   "execution_count": 17,
   "id": "af606dc2-1250-4f03-aa96-56652dedbb2e",
   "metadata": {},
   "outputs": [],
   "source": [
    "add_vectors <- function(x, y) {\n",
    "  if (length(x) != length(y)) {\n",
    "    stop(\"x and y must be the same length\", call. = FALSE)\n",
    "  }\n",
    "  x + y\n",
    "}"
   ]
  },
  {
   "cell_type": "code",
   "execution_count": 54,
   "id": "facdce2d-0d78-46bc-8322-9c7b1758598c",
   "metadata": {},
   "outputs": [
    {
     "data": {
      "text/html": [
       "<style>\n",
       ".list-inline {list-style: none; margin:0; padding: 0}\n",
       ".list-inline>li {display: inline-block}\n",
       ".list-inline>li:not(:last-child)::after {content: \"\\00b7\"; padding: 0 .5ex}\n",
       "</style>\n",
       "<ol class=list-inline><li>4</li><li>5</li><li>6</li></ol>\n"
      ],
      "text/latex": [
       "\\begin{enumerate*}\n",
       "\\item 4\n",
       "\\item 5\n",
       "\\item 6\n",
       "\\end{enumerate*}\n"
      ],
      "text/markdown": [
       "1. 4\n",
       "2. 5\n",
       "3. 6\n",
       "\n",
       "\n"
      ],
      "text/plain": [
       "[1] 4 5 6"
      ]
     },
     "metadata": {},
     "output_type": "display_data"
    }
   ],
   "source": [
    "add_vectors(c(1, 2, 3), c(3, 3, 3))"
   ]
  },
  {
   "cell_type": "markdown",
   "id": "ce9f081b-7835-4da0-8f96-911ffc720bd9",
   "metadata": {
    "slideshow": {
     "slide_type": "slide"
    },
    "tags": []
   },
   "source": [
    "Let's see if it traps this error:"
   ]
  },
  {
   "cell_type": "code",
   "execution_count": 20,
   "id": "02e266c0-ec77-4b7d-9d76-8929dc4f6ec1",
   "metadata": {},
   "outputs": [
    {
     "ename": "ERROR",
     "evalue": "Error: x and y must be the same length\n",
     "output_type": "error",
     "traceback": [
      "Error: x and y must be the same length\nTraceback:\n",
      "1. add_vectors(c(1, 2, 3), c(3, 3, 3, 3))",
      "2. stop(\"x and y must be the same length\", call. = FALSE)   # at line 3 of file <text>"
     ]
    }
   ],
   "source": [
    "add_vectors(c(1, 2, 3), c(3, 3, 3, 3))"
   ]
  },
  {
   "cell_type": "markdown",
   "id": "949a87b6-a3bd-4a77-b4c2-66cc7b248b6a",
   "metadata": {
    "slideshow": {
     "slide_type": "slide"
    },
    "tags": []
   },
   "source": [
    "## Scoping Rules\n",
    "\n",
    "Scoping rules for functions are similar to those in Python.\n",
    "\n",
    "R uses the tinted glass model discussed earlier."
   ]
  },
  {
   "cell_type": "code",
   "execution_count": 28,
   "id": "88cad7c1-fa7c-43e7-a4e1-689593d2f381",
   "metadata": {},
   "outputs": [],
   "source": [
    "z <- 4\n",
    "test_fcn <- function(x) {\n",
    "  x^z\n",
    "}"
   ]
  },
  {
   "cell_type": "code",
   "execution_count": 29,
   "id": "60d4543f-1f51-4519-9856-c3cbee5c6054",
   "metadata": {},
   "outputs": [
    {
     "data": {
      "text/html": [
       "16"
      ],
      "text/latex": [
       "16"
      ],
      "text/markdown": [
       "16"
      ],
      "text/plain": [
       "[1] 16"
      ]
     },
     "metadata": {},
     "output_type": "display_data"
    }
   ],
   "source": [
    "test_fcn(2)"
   ]
  },
  {
   "cell_type": "markdown",
   "id": "38eb10fb-cadc-4426-8d7b-15faa80536cc",
   "metadata": {},
   "source": [
    "Since `z` isn't in the function, R looks in the function's\n",
    "environment for it."
   ]
  },
  {
   "cell_type": "markdown",
   "id": "060970a9-9758-4c1c-b981-1f13eef3e080",
   "metadata": {
    "slideshow": {
     "slide_type": "slide"
    },
    "tags": []
   },
   "source": [
    "Note that R handles potential scope conflicts differently to Python.\n",
    "\n",
    "Recall that Python would not have allowed the following to run, since the function treats `m` as both global and local."
   ]
  },
  {
   "cell_type": "code",
   "execution_count": 30,
   "id": "a6a592c9-cf4e-47e3-bea4-c955d550bf89",
   "metadata": {},
   "outputs": [],
   "source": [
    "m <- 5\n",
    "test_2 <- function(x) {\n",
    "    print(m)\n",
    "    m <- x**2\n",
    "    print(m)\n",
    "}"
   ]
  },
  {
   "cell_type": "code",
   "execution_count": 31,
   "id": "c6e46801-03ca-45b5-9997-c75570fcc7e2",
   "metadata": {
    "tags": []
   },
   "outputs": [
    {
     "name": "stdout",
     "output_type": "stream",
     "text": [
      "[1] 5\n",
      "[1] 100\n"
     ]
    }
   ],
   "source": [
    "test_2(10)"
   ]
  }
 ],
 "metadata": {
  "kernelspec": {
   "display_name": "R Environment",
   "language": "R",
   "name": "r_env"
  },
  "language_info": {
   "codemirror_mode": "r",
   "file_extension": ".r",
   "mimetype": "text/x-r-source",
   "name": "R",
   "pygments_lexer": "r",
   "version": "4.3.1"
  }
 },
 "nbformat": 4,
 "nbformat_minor": 5
}
