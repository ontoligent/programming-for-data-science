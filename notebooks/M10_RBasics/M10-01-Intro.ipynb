{
 "cells": [
  {
   "cell_type": "markdown",
   "id": "ebe84028-051c-4bd1-9ae3-6993e1039589",
   "metadata": {
    "slideshow": {
     "slide_type": "slide"
    },
    "tags": []
   },
   "source": [
    "# NB: Introducing R\n",
    "\n",
    "Programming for Data Science"
   ]
  },
  {
   "cell_type": "markdown",
   "id": "dbdd04fd-16ed-4d52-bb63-89498a1769c5",
   "metadata": {
    "slideshow": {
     "slide_type": "slide"
    },
    "tags": []
   },
   "source": [
    "## What is R?\n",
    "\n",
    "R is an open source programming language developed in the 1990s **by and for statisticians**.\n",
    "\n",
    "It was based on **the earlier langauge S**, first developed at Bell Labs in the mid-1970s, also by and for statisticians.\n",
    "\n",
    "It is a **purpose-built** language designed to provide a relatively low-code scripting language to explore, visualize, and model data."
   ]
  },
  {
   "cell_type": "markdown",
   "id": "4f203bc2-a219-44c8-8311-ef8df7b78f22",
   "metadata": {
    "jp-MarkdownHeadingCollapsed": true,
    "slideshow": {
     "slide_type": "slide"
    },
    "tags": []
   },
   "source": [
    "## Why Study R?\n",
    "\n",
    "**R is in many ways the original data science programming language**.\n",
    "\n",
    "**Python borrows** many concepts from R, including the data frame.\n",
    "\n",
    "The R community provides **insights** into data processing through excellent documentation and well-designed code.\n",
    "\n",
    "Although not as popular as it once was, it is still widely used &mdash; **you may find yourself on a team that prefers it**.\n",
    "\n",
    "Many courses in the **UVA SDS programs use R**.\n",
    "\n",
    "It's **not that hard**, especially once you know basic programming concepts."
   ]
  },
  {
   "cell_type": "markdown",
   "id": "f484601f-a1f4-4a4b-bd13-eea282efadec",
   "metadata": {
    "jp-MarkdownHeadingCollapsed": true,
    "slideshow": {
     "slide_type": "slide"
    },
    "tags": []
   },
   "source": [
    "## R's Design\n",
    "\n",
    "R was designed to support **statistical computing** above all.\n",
    "\n",
    "In constrast to Python, it is **not a general purpose language**, although it may be used for many things.\n",
    "\n",
    "It has a very strong **academic community** which is reflected in its **high quality  documentation**, the variety of **its scientific libraries**, and in its **well-organized resources**.\n",
    "\n",
    "It has many **statistical functions** built into it, i.e. to get started with statistical computing you don't need to import anything.\n",
    "\n",
    "It is based on what we might call **vector-first** thinking.\n",
    "\n",
    "As with Python, **everything is an object**."
   ]
  },
  {
   "cell_type": "markdown",
   "id": "9bd52d2e-ecf9-41b2-9003-b4f6b862ef26",
   "metadata": {
    "slideshow": {
     "slide_type": "slide"
    },
    "tags": []
   },
   "source": [
    "## R Syntax\n",
    "\n",
    "Syntax loosely follows traditional `C`-style syntax.\n",
    "\n",
    "It uses **braces** `{` and `}` to form code blocks.\n",
    "\n",
    "It uses **semi-colons** to end statements (optionally) or separate them if on same line.\n",
    "\n",
    "Notably, **assignments** are made with `<-` or `->` operators."
   ]
  },
  {
   "cell_type": "markdown",
   "id": "7f4aa3a9-d989-4818-b03c-700ffe905aa8",
   "metadata": {
    "slideshow": {
     "slide_type": "slide"
    },
    "tags": []
   },
   "source": [
    "**Dots** `.` have no special meaning &mdash; they are _not_ operators.\n",
    "\n",
    "In effect, they are used like underscores `_` in Python.\n",
    "\n",
    "Single and double **quotes** have the same meaning, but double quotes tend to be preferred.\n",
    "\n",
    "Use single quotes if you expect your string to contain double quotes.\n",
    "\n",
    "Backslash escape applies to R strings, although since there are no raw strings &mdash; Python's `r\" \"`  &mdash; we often have to supply double backslashes in regular expressions."
   ]
  },
  {
   "cell_type": "markdown",
   "id": "7ef82099-d54a-4451-93d4-a94298e750e1",
   "metadata": {
    "slideshow": {
     "slide_type": "slide"
    },
    "tags": []
   },
   "source": [
    "## Using R\n",
    "\n",
    "Although there are many ways to run R programs, by far the most common is to use [**R Studio**](https://posit.co/download/rstudio-desktop/).\n",
    "\n",
    "R Studio provides **a fully-functional programming environment** that includes an editor, a command-line, access to the file system, a help system, an installation system, etc.\n",
    "\n",
    "You may use other programs run R too, though, such as VSCode and Jupyter.\n",
    "\n",
    "In practice, however, RStudio is almost universally used."
   ]
  },
  {
   "cell_type": "markdown",
   "id": "f7c0a7f1-d430-4bcc-8821-de90558a3ae0",
   "metadata": {
    "slideshow": {
     "slide_type": "slide"
    },
    "tags": []
   },
   "source": [
    "R programs can be plain text files with an `.r` suffix, R Markdown files (`.Rmd`), or many other kinds of file.\n",
    "\n",
    "We will discuss these in a later module."
   ]
  },
  {
   "cell_type": "markdown",
   "id": "28447da8-0d84-4e30-a9c1-86682139a699",
   "metadata": {
    "slideshow": {
     "slide_type": "slide"
    },
    "tags": []
   },
   "source": [
    "## Command Line R\n",
    "\n",
    "R can also be run from the command line.\n",
    "\n",
    "R is invoked by calling `R`:\n",
    "\n",
    "```bash\n",
    "> R\n",
    "```\n",
    "\n",
    "If properly installed, that should produce a message like this:"
   ]
  },
  {
   "cell_type": "raw",
   "id": "31cfd49f-075e-4b72-af32-365a422d384c",
   "metadata": {
    "slideshow": {
     "slide_type": "fragment"
    },
    "tags": []
   },
   "source": [
    "R version 4.3.1 (2023-06-16) -- \"Beagle Scouts\"\n",
    "Copyright (C) 2023 The R Foundation for Statistical Computing\n",
    "Platform: x86_64-conda-linux-gnu (64-bit)\n",
    "\n",
    "R is free software and comes with ABSOLUTELY NO WARRANTY.\n",
    "You are welcome to redistribute it under certain conditions.\n",
    "Type 'license()' or 'licence()' for distribution details.\n",
    "\n",
    "  Natural language support but running in an English locale\n",
    "\n",
    "R is a collaborative project with many contributors.\n",
    "Type 'contributors()' for more information and\n",
    "'citation()' on how to cite R or R packages in publications.\n",
    "\n",
    "Type 'demo()' for some demos, 'help()' for on-line help, or\n",
    "'help.start()' for an HTML browser interface to help.\n",
    "Type 'q()' to quit R.\n",
    "\n",
    "[Previously saved workspace restored]\n",
    "\n",
    "> "
   ]
  },
  {
   "cell_type": "markdown",
   "id": "7b6a7141-c776-4599-adda-e86c74b1bd79",
   "metadata": {
    "slideshow": {
     "slide_type": "slide"
    },
    "tags": []
   },
   "source": [
    "## Installing and Loading Packages\n",
    "\n",
    "As with Python, R allows you to install and import packages to extend the program's capabilities.\n",
    "\n",
    "Packages can be installed from within a program as follows:"
   ]
  },
  {
   "cell_type": "code",
   "execution_count": 6,
   "id": "66a57db5-836b-4de7-b069-18f49662aabd",
   "metadata": {
    "tags": []
   },
   "outputs": [],
   "source": [
    "# install.packages(\"tm\")"
   ]
  },
  {
   "cell_type": "markdown",
   "id": "eaabff01-85a4-491f-8202-577e9ea51252",
   "metadata": {},
   "source": [
    "Here installed the Text Mining `tm` package.\n",
    "\n",
    "You only have to install a package once."
   ]
  },
  {
   "cell_type": "markdown",
   "id": "5514cf2f-c12f-48bd-a718-6276201678e4",
   "metadata": {
    "slideshow": {
     "slide_type": "slide"
    },
    "tags": []
   },
   "source": [
    "You can also install packages using R Studio's Package window or from the command line.\n",
    "\n",
    "Once they are installed, you import them with the `library()` function:"
   ]
  },
  {
   "cell_type": "code",
   "execution_count": 4,
   "id": "547a6083-d1d1-44cb-bd47-afa727b4645f",
   "metadata": {
    "tags": []
   },
   "outputs": [],
   "source": [
    "library(tm)"
   ]
  },
  {
   "cell_type": "markdown",
   "id": "0f45c711-22a1-4c23-8cc9-702a9ada51ee",
   "metadata": {},
   "source": [
    "Note that the library name is quoted in when installing, but not when\n",
    "using `library`."
   ]
  },
  {
   "cell_type": "markdown",
   "id": "55667075-d582-486f-8f5f-6e9e2db3622e",
   "metadata": {
    "slideshow": {
     "slide_type": "slide"
    },
    "tags": []
   },
   "source": [
    "## Using R in Jupyter\n",
    "\n",
    "If you want to use R within a Jupyter notebook file, you can create and load an R kernel using Anaconda's package manager `conda`. In brief, here's what you do. \n",
    "\n",
    "First, at the command line:\n",
    "\n",
    "```bash\n",
    "conda create -n r_env r-essentials r-base\n",
    "conda activate r_env\n",
    "R # This opens the R shell\n",
    "```\n",
    "Then, in the R shell:\n",
    "```r\n",
    "IRkernel::installspec(name = 'r_env', displayname = 'R Environment')\n",
    "quit()\n",
    "```"
   ]
  },
  {
   "cell_type": "markdown",
   "id": "c166c441-f17a-4032-b3ad-badd68884e20",
   "metadata": {
    "slideshow": {
     "slide_type": "slide"
    },
    "tags": []
   },
   "source": [
    "Now, fire up a Jupyter Lab or Jupyter Notebook instance from the OpenOnDemand page and select the kernel when you create a new notebook.\n",
    "\n",
    "Note that the name `r_env` can be replaced by whatever you want."
   ]
  }
 ],
 "metadata": {
  "kernelspec": {
   "display_name": "R Environment",
   "language": "R",
   "name": "r_env"
  },
  "language_info": {
   "codemirror_mode": "r",
   "file_extension": ".r",
   "mimetype": "text/x-r-source",
   "name": "R",
   "pygments_lexer": "r",
   "version": "4.3.1"
  }
 },
 "nbformat": 4,
 "nbformat_minor": 5
}
