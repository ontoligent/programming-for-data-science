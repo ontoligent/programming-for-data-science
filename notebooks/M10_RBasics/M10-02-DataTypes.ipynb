{
 "cells": [
  {
   "cell_type": "markdown",
   "id": "ebe84028-051c-4bd1-9ae3-6993e1039589",
   "metadata": {
    "slideshow": {
     "slide_type": "slide"
    },
    "tags": []
   },
   "source": [
    "# NB: R Data Types and Operators\n",
    "\n",
    "Programming for Data Science"
   ]
  },
  {
   "cell_type": "markdown",
   "id": "a7b59172-1758-4926-9292-d3b4a5b270e4",
   "metadata": {
    "slideshow": {
     "slide_type": "slide"
    },
    "tags": []
   },
   "source": [
    "R supports the following **basic data types**:\n",
    "\n",
    "- Numeric\n",
    "- Integer\n",
    "- Complex\n",
    "- Logical\n",
    "- Character\n",
    "\n",
    "Let's go over each briefly."
   ]
  },
  {
   "cell_type": "markdown",
   "id": "aa0f168d-acd2-4a47-a2bf-ad704e03e37c",
   "metadata": {
    "slideshow": {
     "slide_type": "slide"
    },
    "tags": []
   },
   "source": [
    "## Numeric\n",
    "\n",
    "Floating point numbers are called \"numerics\" in R.\n",
    "\n",
    "It is the **default** data type.\n",
    "\n",
    "If we assign a decimal value to a variable `x`, `x` will be of numeric type:"
   ]
  },
  {
   "cell_type": "code",
   "execution_count": 1,
   "id": "743bd372-3991-44bc-9808-bbef759f4ab8",
   "metadata": {
    "tags": []
   },
   "outputs": [
    {
     "data": {
      "text/html": [
       "10.5"
      ],
      "text/latex": [
       "10.5"
      ],
      "text/markdown": [
       "10.5"
      ],
      "text/plain": [
       "[1] 10.5"
      ]
     },
     "metadata": {},
     "output_type": "display_data"
    }
   ],
   "source": [
    "x <- 10.5      \n",
    "x              "
   ]
  },
  {
   "cell_type": "markdown",
   "id": "92494732-3526-4c27-ae6c-cc5a33dd0b68",
   "metadata": {
    "slideshow": {
     "slide_type": "slide"
    },
    "tags": []
   },
   "source": [
    "We can learn the type of data stored by a variable with the `class()` function."
   ]
  },
  {
   "cell_type": "code",
   "execution_count": 2,
   "id": "f512b879-b5ec-40a1-b006-1c7a9f726fcf",
   "metadata": {
    "tags": []
   },
   "outputs": [
    {
     "data": {
      "text/html": [
       "'numeric'"
      ],
      "text/latex": [
       "'numeric'"
      ],
      "text/markdown": [
       "'numeric'"
      ],
      "text/plain": [
       "[1] \"numeric\""
      ]
     },
     "metadata": {},
     "output_type": "display_data"
    }
   ],
   "source": [
    "class(x)      "
   ]
  },
  {
   "cell_type": "markdown",
   "id": "6706bf66-3660-4da9-9d03-735c077476e7",
   "metadata": {
    "slideshow": {
     "slide_type": "slide"
    },
    "tags": []
   },
   "source": [
    "Even if we assign an integer to a variable `k`, it is will still be saved\n",
    "as a numeric value."
   ]
  },
  {
   "cell_type": "code",
   "execution_count": 3,
   "id": "f2d58797-56bb-4f38-8920-3faee7487361",
   "metadata": {
    "tags": []
   },
   "outputs": [
    {
     "data": {
      "text/html": [
       "1"
      ],
      "text/latex": [
       "1"
      ],
      "text/markdown": [
       "1"
      ],
      "text/plain": [
       "[1] 1"
      ]
     },
     "metadata": {},
     "output_type": "display_data"
    }
   ],
   "source": [
    "k <- 1\n",
    "k              "
   ]
  },
  {
   "cell_type": "code",
   "execution_count": 4,
   "id": "3d8a940a-1bc3-4116-91fc-b86a163a247d",
   "metadata": {
    "tags": []
   },
   "outputs": [
    {
     "data": {
      "text/html": [
       "'numeric'"
      ],
      "text/latex": [
       "'numeric'"
      ],
      "text/markdown": [
       "'numeric'"
      ],
      "text/plain": [
       "[1] \"numeric\""
      ]
     },
     "metadata": {},
     "output_type": "display_data"
    }
   ],
   "source": [
    "class(k)       "
   ]
  },
  {
   "cell_type": "markdown",
   "id": "148b1529-3795-44e7-8246-2c5dda9f2cc5",
   "metadata": {
    "slideshow": {
     "slide_type": "slide"
    },
    "tags": []
   },
   "source": [
    "That `k` is not an integer can be confirmed with `is.integer()`:"
   ]
  },
  {
   "cell_type": "code",
   "execution_count": 135,
   "id": "8c0e42cc-30ad-4b60-b854-6f2b267a0139",
   "metadata": {
    "tags": []
   },
   "outputs": [
    {
     "data": {
      "text/html": [
       "FALSE"
      ],
      "text/latex": [
       "FALSE"
      ],
      "text/markdown": [
       "FALSE"
      ],
      "text/plain": [
       "[1] FALSE"
      ]
     },
     "metadata": {},
     "output_type": "display_data"
    }
   ],
   "source": [
    "is.integer(k)  "
   ]
  },
  {
   "cell_type": "markdown",
   "id": "529258d2-a3e8-45ec-894e-6403cc3f864b",
   "metadata": {
    "slideshow": {
     "slide_type": "slide"
    },
    "tags": []
   },
   "source": [
    "## Integers\n",
    "\n",
    "To create an integer variable in R, we use `as.integer()`."
   ]
  },
  {
   "cell_type": "code",
   "execution_count": 13,
   "id": "0747b55f-f9f9-4848-8aa8-6e891c88553c",
   "metadata": {
    "tags": []
   },
   "outputs": [
    {
     "data": {
      "text/html": [
       "3"
      ],
      "text/latex": [
       "3"
      ],
      "text/markdown": [
       "3"
      ],
      "text/plain": [
       "[1] 3"
      ]
     },
     "metadata": {},
     "output_type": "display_data"
    }
   ],
   "source": [
    "y <- as.integer(3) \n",
    "y              "
   ]
  },
  {
   "cell_type": "code",
   "execution_count": 14,
   "id": "e4898a9e-f6f5-47c1-ab06-86efde129c6d",
   "metadata": {
    "tags": []
   },
   "outputs": [
    {
     "data": {
      "text/html": [
       "'integer'"
      ],
      "text/latex": [
       "'integer'"
      ],
      "text/markdown": [
       "'integer'"
      ],
      "text/plain": [
       "[1] \"integer\""
      ]
     },
     "metadata": {},
     "output_type": "display_data"
    },
    {
     "data": {
      "text/html": [
       "TRUE"
      ],
      "text/latex": [
       "TRUE"
      ],
      "text/markdown": [
       "TRUE"
      ],
      "text/plain": [
       "[1] TRUE"
      ]
     },
     "metadata": {},
     "output_type": "display_data"
    }
   ],
   "source": [
    "class(y)       \n",
    "is.integer(y)  "
   ]
  },
  {
   "cell_type": "markdown",
   "id": "16c34136-7246-4120-8100-a1a91590f9a2",
   "metadata": {
    "slideshow": {
     "slide_type": "slide"
    },
    "tags": []
   },
   "source": [
    "We can also declare an integer by appending an `L` suffix."
   ]
  },
  {
   "cell_type": "code",
   "execution_count": 15,
   "id": "4472b5a2-a8d0-4e65-8dcc-419731b3105f",
   "metadata": {
    "tags": []
   },
   "outputs": [],
   "source": [
    "y <- 3L "
   ]
  },
  {
   "cell_type": "markdown",
   "id": "78e847da-a3ba-4b5b-a81f-92d209a3a91c",
   "metadata": {},
   "source": [
    "To see if a variable is an integer, you can use `is.integer()`:"
   ]
  },
  {
   "cell_type": "code",
   "execution_count": 16,
   "id": "ff71ace6-bf87-41b6-8d46-17d2abd2686f",
   "metadata": {
    "tags": []
   },
   "outputs": [
    {
     "data": {
      "text/html": [
       "TRUE"
      ],
      "text/latex": [
       "TRUE"
      ],
      "text/markdown": [
       "TRUE"
      ],
      "text/plain": [
       "[1] TRUE"
      ]
     },
     "metadata": {},
     "output_type": "display_data"
    }
   ],
   "source": [
    "is.integer(y) "
   ]
  },
  {
   "cell_type": "markdown",
   "id": "975acfc7-08d9-49d5-93f8-cdfdc2f36af5",
   "metadata": {
    "slideshow": {
     "slide_type": "slide"
    },
    "tags": []
   },
   "source": [
    "We can also coerce, or cast, a numeric value into an integer with\n",
    "`as.integer()`."
   ]
  },
  {
   "cell_type": "code",
   "execution_count": 207,
   "id": "79bf00af-ee12-4be6-95c0-c6c6b744b5eb",
   "metadata": {
    "tags": []
   },
   "outputs": [
    {
     "data": {
      "text/html": [
       "3"
      ],
      "text/latex": [
       "3"
      ],
      "text/markdown": [
       "3"
      ],
      "text/plain": [
       "[1] 3"
      ]
     },
     "metadata": {},
     "output_type": "display_data"
    }
   ],
   "source": [
    "as.integer(3.14)    "
   ]
  },
  {
   "cell_type": "markdown",
   "id": "17d702a6-17df-4e1b-8ef0-233f82ebe814",
   "metadata": {
    "slideshow": {
     "slide_type": "slide"
    },
    "tags": []
   },
   "source": [
    "And we can parse a string for decimal values in much the same way."
   ]
  },
  {
   "cell_type": "code",
   "execution_count": 208,
   "id": "432533d8-174d-415a-8261-3d522279a0b6",
   "metadata": {
    "tags": []
   },
   "outputs": [
    {
     "data": {
      "text/html": [
       "5"
      ],
      "text/latex": [
       "5"
      ],
      "text/markdown": [
       "5"
      ],
      "text/plain": [
       "[1] 5"
      ]
     },
     "metadata": {},
     "output_type": "display_data"
    }
   ],
   "source": [
    "as.integer(\"5.27\")  "
   ]
  },
  {
   "cell_type": "markdown",
   "id": "251631c8-6d88-4e15-978e-8236119e57d3",
   "metadata": {
    "slideshow": {
     "slide_type": "slide"
    },
    "tags": []
   },
   "source": [
    "On the other hand, you can't parse a non-decimal string."
   ]
  },
  {
   "cell_type": "code",
   "execution_count": 209,
   "id": "37e49214-4cf5-488a-9dc4-a43de17ba47d",
   "metadata": {
    "tags": []
   },
   "outputs": [
    {
     "name": "stderr",
     "output_type": "stream",
     "text": [
      "Warning message in eval(expr, envir, enclos):\n",
      "“NAs introduced by coercion”\n"
     ]
    },
    {
     "data": {
      "text/html": [
       "&lt;NA&gt;"
      ],
      "text/latex": [
       "<NA>"
      ],
      "text/markdown": [
       "&lt;NA&gt;"
      ],
      "text/plain": [
       "[1] NA"
      ]
     },
     "metadata": {},
     "output_type": "display_data"
    }
   ],
   "source": [
    "as.integer(\"Joe\")   "
   ]
  },
  {
   "cell_type": "markdown",
   "id": "25ea6b04-9e54-461a-a918-09ef9b865e36",
   "metadata": {
    "slideshow": {
     "slide_type": "slide"
    },
    "tags": []
   },
   "source": [
    "We can convert booleans to numbers this way, too."
   ]
  },
  {
   "cell_type": "code",
   "execution_count": 210,
   "id": "6399d07b-8e60-4fef-9bab-e2a27bb55db6",
   "metadata": {
    "tags": []
   },
   "outputs": [
    {
     "data": {
      "text/html": [
       "1"
      ],
      "text/latex": [
       "1"
      ],
      "text/markdown": [
       "1"
      ],
      "text/plain": [
       "[1] 1"
      ]
     },
     "metadata": {},
     "output_type": "display_data"
    },
    {
     "data": {
      "text/html": [
       "0"
      ],
      "text/latex": [
       "0"
      ],
      "text/markdown": [
       "0"
      ],
      "text/plain": [
       "[1] 0"
      ]
     },
     "metadata": {},
     "output_type": "display_data"
    }
   ],
   "source": [
    "as.integer(TRUE)    \n",
    "as.integer(FALSE)   "
   ]
  },
  {
   "cell_type": "markdown",
   "id": "b9877d69-980e-4d5c-a488-81fe84c77019",
   "metadata": {
    "slideshow": {
     "slide_type": "slide"
    },
    "tags": []
   },
   "source": [
    "## Math Operators\n",
    "\n",
    "Numerics and integers are subject to the standard array of arithmetic\n",
    "operations.\n",
    "\n",
    "| **Operator**   | **Description**             |\n",
    "|----------------|-----------------------------|\n",
    "| **+**          | addition                    |\n",
    "| **-**          | subtraction                 |\n",
    "| **\\***         | multiplication              |\n",
    "| **/**          | division                    |\n",
    "| **\\^ or \\*\\*** | exponentiation              |\n",
    "| **x %% y**     | modulus (x mod y) 5%%2 is 1 |\n",
    "| **x %/% y**    | integer division 5%/%2 is 2 |"
   ]
  },
  {
   "cell_type": "markdown",
   "id": "839b399e-5821-4a35-9b24-f831037f27d7",
   "metadata": {
    "slideshow": {
     "slide_type": "slide"
    },
    "tags": []
   },
   "source": [
    "## Logical (Boolean)\n",
    "\n",
    "Boolean data are called \"logical\" in R.\n",
    "\n",
    "They take the values `TRUE` and `FALSE`, or `T` and `F` for short.\n",
    "\n",
    "A logical value is often produced from the **comparison** between\n",
    "values."
   ]
  },
  {
   "cell_type": "code",
   "execution_count": 17,
   "id": "e96fdf82-96a2-47f9-9665-5b3424018aa5",
   "metadata": {
    "tags": []
   },
   "outputs": [
    {
     "data": {
      "text/html": [
       "FALSE"
      ],
      "text/latex": [
       "FALSE"
      ],
      "text/markdown": [
       "FALSE"
      ],
      "text/plain": [
       "[1] FALSE"
      ]
     },
     "metadata": {},
     "output_type": "display_data"
    }
   ],
   "source": [
    "x <- 1\n",
    "y <- 2      \n",
    "z <- x > y  \n",
    "z           "
   ]
  },
  {
   "cell_type": "code",
   "execution_count": 18,
   "id": "65504c17-4d19-44c5-a2ab-b1e384b004de",
   "metadata": {
    "tags": []
   },
   "outputs": [
    {
     "data": {
      "text/html": [
       "'logical'"
      ],
      "text/latex": [
       "'logical'"
      ],
      "text/markdown": [
       "'logical'"
      ],
      "text/plain": [
       "[1] \"logical\""
      ]
     },
     "metadata": {},
     "output_type": "display_data"
    }
   ],
   "source": [
    "class(z) "
   ]
  },
  {
   "cell_type": "markdown",
   "id": "49ea8446-0f73-4d5f-92f1-51754b0319c0",
   "metadata": {
    "slideshow": {
     "slide_type": "slide"
    },
    "tags": []
   },
   "source": [
    "## Logical Operators\n",
    "\n",
    "R supports the standard logical operations: `&` stands for \"and\", `|` for stands for \"or\", and `!` stands for negation."
   ]
  },
  {
   "cell_type": "code",
   "execution_count": 19,
   "id": "f389a98c-df40-4c61-a2ec-1496e2e400e3",
   "metadata": {
    "tags": []
   },
   "outputs": [
    {
     "data": {
      "text/html": [
       "FALSE"
      ],
      "text/latex": [
       "FALSE"
      ],
      "text/markdown": [
       "FALSE"
      ],
      "text/plain": [
       "[1] FALSE"
      ]
     },
     "metadata": {},
     "output_type": "display_data"
    }
   ],
   "source": [
    "u <- TRUE\n",
    "v <- FALSE\n",
    "u & v"
   ]
  },
  {
   "cell_type": "code",
   "execution_count": 20,
   "id": "6578e12d-d2a0-44d0-a2d2-14267f79c000",
   "metadata": {
    "tags": []
   },
   "outputs": [
    {
     "data": {
      "text/html": [
       "TRUE"
      ],
      "text/latex": [
       "TRUE"
      ],
      "text/markdown": [
       "TRUE"
      ],
      "text/plain": [
       "[1] TRUE"
      ]
     },
     "metadata": {},
     "output_type": "display_data"
    }
   ],
   "source": [
    "u | v"
   ]
  },
  {
   "cell_type": "code",
   "execution_count": 21,
   "id": "d7f89b44-8cc0-41ff-9b43-29983ec8d013",
   "metadata": {
    "tags": []
   },
   "outputs": [
    {
     "data": {
      "text/html": [
       "FALSE"
      ],
      "text/latex": [
       "FALSE"
      ],
      "text/markdown": [
       "FALSE"
      ],
      "text/plain": [
       "[1] FALSE"
      ]
     },
     "metadata": {},
     "output_type": "display_data"
    }
   ],
   "source": [
    "!u"
   ]
  },
  {
   "cell_type": "markdown",
   "id": "2f649d68-4747-4810-babb-5276e080e6d0",
   "metadata": {
    "slideshow": {
     "slide_type": "slide"
    },
    "tags": []
   },
   "source": [
    "Again, you may use `T` and `F` instead of `TRUE` and `FALSE`."
   ]
  },
  {
   "cell_type": "code",
   "execution_count": 22,
   "id": "fa6cc7d0-1765-408f-aeba-6fe5eaea59a0",
   "metadata": {
    "tags": []
   },
   "outputs": [
    {
     "data": {
      "text/html": [
       "FALSE"
      ],
      "text/latex": [
       "FALSE"
      ],
      "text/markdown": [
       "FALSE"
      ],
      "text/plain": [
       "[1] FALSE"
      ]
     },
     "metadata": {},
     "output_type": "display_data"
    }
   ],
   "source": [
    "a <- T\n",
    "b <- F\n",
    "a & b"
   ]
  },
  {
   "cell_type": "markdown",
   "id": "78c82c5c-dd1d-41b8-a4ef-07d8805c976f",
   "metadata": {
    "slideshow": {
     "slide_type": "slide"
    },
    "tags": []
   },
   "source": [
    "## Characters\n",
    "\n",
    "Strings are called \"character\" objects in R.\n",
    "\n",
    "This may be confusing if you are coming from a language, such as Java, where \"character\"\n",
    "means an individual character, such as `A`.\n",
    "\n",
    "We may convert non-character objects into characters with the `as.character()` function:"
   ]
  },
  {
   "cell_type": "code",
   "execution_count": 23,
   "id": "6d99ac7a-fb3e-4c53-8e7e-19cd630e96f1",
   "metadata": {
    "tags": []
   },
   "outputs": [
    {
     "data": {
      "text/html": [
       "'3.14'"
      ],
      "text/latex": [
       "'3.14'"
      ],
      "text/markdown": [
       "'3.14'"
      ],
      "text/plain": [
       "[1] \"3.14\""
      ]
     },
     "metadata": {},
     "output_type": "display_data"
    }
   ],
   "source": [
    "x <- as.character(3.14) \n",
    "x"
   ]
  },
  {
   "cell_type": "code",
   "execution_count": 24,
   "id": "17f7cc60-c456-4a25-9b8b-6075fa39315d",
   "metadata": {
    "tags": []
   },
   "outputs": [
    {
     "data": {
      "text/html": [
       "'character'"
      ],
      "text/latex": [
       "'character'"
      ],
      "text/markdown": [
       "'character'"
      ],
      "text/plain": [
       "[1] \"character\""
      ]
     },
     "metadata": {},
     "output_type": "display_data"
    }
   ],
   "source": [
    "class(x)       # print the class name of x "
   ]
  },
  {
   "cell_type": "markdown",
   "id": "47cfec4d-dbc2-4f0b-9c96-2a7f0cbcd9d0",
   "metadata": {
    "slideshow": {
     "slide_type": "slide"
    },
    "tags": []
   },
   "source": [
    "## `paste()`\n",
    "\n",
    "Two character values can be concatenated with the `paste()` function."
   ]
  },
  {
   "cell_type": "code",
   "execution_count": 1,
   "id": "16c2474b-06ec-4238-aecf-0447bed35d6a",
   "metadata": {
    "tags": []
   },
   "outputs": [
    {
     "data": {
      "text/html": [
       "'Joe Smith'"
      ],
      "text/latex": [
       "'Joe Smith'"
      ],
      "text/markdown": [
       "'Joe Smith'"
      ],
      "text/plain": [
       "[1] \"Joe Smith\""
      ]
     },
     "metadata": {},
     "output_type": "display_data"
    }
   ],
   "source": [
    "fname <- \"Joe\"\n",
    "lname <- \"Smith\" \n",
    "paste(fname, lname) "
   ]
  },
  {
   "cell_type": "markdown",
   "id": "f2988c44-48a1-491f-975a-500283d25a40",
   "metadata": {
    "slideshow": {
     "slide_type": "fragment"
    },
    "tags": []
   },
   "source": [
    "`paste()` takes a `sep` argument:"
   ]
  },
  {
   "cell_type": "code",
   "execution_count": 29,
   "id": "15535b36-2b1d-40b9-b704-9949b01d01e8",
   "metadata": {
    "tags": []
   },
   "outputs": [
    {
     "data": {
      "text/html": [
       "'A--B--C'"
      ],
      "text/latex": [
       "'A--B--C'"
      ],
      "text/markdown": [
       "'A--B--C'"
      ],
      "text/plain": [
       "[1] \"A--B--C\""
      ]
     },
     "metadata": {},
     "output_type": "display_data"
    }
   ],
   "source": [
    "paste(\"A\", \"B\", \"C\", sep=\"--\")"
   ]
  },
  {
   "cell_type": "markdown",
   "id": "03a2e62e-94a7-4b80-aac8-301c8b2e924c",
   "metadata": {
    "slideshow": {
     "slide_type": "slide"
    },
    "tags": []
   },
   "source": [
    "Note that R does *not* overload the `+` operator."
   ]
  },
  {
   "cell_type": "code",
   "execution_count": 30,
   "id": "6082ebbb-97fc-42c3-9515-507572055b68",
   "metadata": {
    "tags": []
   },
   "outputs": [
    {
     "ename": "ERROR",
     "evalue": "Error in fname + lname: non-numeric argument to binary operator\n",
     "output_type": "error",
     "traceback": [
      "Error in fname + lname: non-numeric argument to binary operator\nTraceback:\n"
     ]
    }
   ],
   "source": [
    "fname + lname"
   ]
  },
  {
   "cell_type": "markdown",
   "id": "0d68fd61-4bf1-457b-abf4-25118f2330bd",
   "metadata": {
    "slideshow": {
     "slide_type": "slide"
    },
    "tags": []
   },
   "source": [
    "## `sprintf()`\n",
    "\n",
    "It is often convenient to create a readable string with the `sprintf()`\n",
    "function, which has a C language syntax."
   ]
  },
  {
   "cell_type": "code",
   "execution_count": 31,
   "id": "aaf9727c-c55f-44ac-a16c-43d7029c6ca8",
   "metadata": {
    "tags": []
   },
   "outputs": [
    {
     "data": {
      "text/html": [
       "'Sam has 100 dollars'"
      ],
      "text/latex": [
       "'Sam has 100 dollars'"
      ],
      "text/markdown": [
       "'Sam has 100 dollars'"
      ],
      "text/plain": [
       "[1] \"Sam has 100 dollars\""
      ]
     },
     "metadata": {},
     "output_type": "display_data"
    }
   ],
   "source": [
    "sprintf(\"%s has %d dollars\", \"Sam\", 100) "
   ]
  },
  {
   "cell_type": "markdown",
   "id": "70cd2529-0844-464a-847b-fcc63509f171",
   "metadata": {
    "slideshow": {
     "slide_type": "slide"
    },
    "tags": []
   },
   "source": [
    "## `substr()`\n",
    "\n",
    "To extract a substring, we apply the `substr()` function.\n",
    "\n",
    "Here is an example showing how to extract the substring between the\n",
    "third and twelfth positions in a string."
   ]
  },
  {
   "cell_type": "code",
   "execution_count": 154,
   "id": "d3d9692f-353c-4383-ba73-a31553470f8a",
   "metadata": {
    "tags": []
   },
   "outputs": [
    {
     "data": {
      "text/html": [
       "'ry has a l'"
      ],
      "text/latex": [
       "'ry has a l'"
      ],
      "text/markdown": [
       "'ry has a l'"
      ],
      "text/plain": [
       "[1] \"ry has a l\""
      ]
     },
     "metadata": {},
     "output_type": "display_data"
    }
   ],
   "source": [
    "substr(\"Mary has a little lamb.\", start=3, stop=12) "
   ]
  },
  {
   "cell_type": "markdown",
   "id": "493e9d23-4d7a-4446-af4c-d1f4c5ae35d2",
   "metadata": {
    "slideshow": {
     "slide_type": "slide"
    },
    "tags": []
   },
   "source": [
    "## `sub()`\n",
    "\n",
    "And to replace the first occurrence of the word \"little\" by another word\n",
    "\"big\" in the string, we apply the `sub()` function.\n",
    "\n",
    "This function can use regular expressions."
   ]
  },
  {
   "cell_type": "code",
   "execution_count": 155,
   "id": "852cd14a-9f92-4f01-9a0e-06fad7f36bd3",
   "metadata": {
    "tags": []
   },
   "outputs": [
    {
     "data": {
      "text/html": [
       "'Mary has a big lamb.'"
      ],
      "text/latex": [
       "'Mary has a big lamb.'"
      ],
      "text/markdown": [
       "'Mary has a big lamb.'"
      ],
      "text/plain": [
       "[1] \"Mary has a big lamb.\""
      ]
     },
     "metadata": {},
     "output_type": "display_data"
    }
   ],
   "source": [
    "sub(\"little\", \"big\", \"Mary has a little lamb.\") "
   ]
  }
 ],
 "metadata": {
  "kernelspec": {
   "display_name": "R Environment",
   "language": "R",
   "name": "r_env"
  },
  "language_info": {
   "codemirror_mode": "r",
   "file_extension": ".r",
   "mimetype": "text/x-r-source",
   "name": "R",
   "pygments_lexer": "r",
   "version": "4.3.1"
  }
 },
 "nbformat": 4,
 "nbformat_minor": 5
}
