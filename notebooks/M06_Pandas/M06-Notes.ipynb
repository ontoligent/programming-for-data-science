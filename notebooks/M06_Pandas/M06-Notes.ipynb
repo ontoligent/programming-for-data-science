{
 "cells": [
  {
   "cell_type": "markdown",
   "id": "2094c925-7dea-4e0e-95dd-13eefa7fa57c",
   "metadata": {},
   "source": [
    "# M06 Notes"
   ]
  },
  {
   "cell_type": "markdown",
   "id": "f074eb73-e909-4e43-931c-6153c261f387",
   "metadata": {},
   "source": [
    "## Data Design\n",
    "\n",
    "The structure of data consists of three parts:\n",
    "\n",
    "- **Observed**: Captured measurments. Data qua data. The Information.\n",
    "- **Ontic**: Names that uniquely identify the observied individual or event. The Context.\n",
    "- **Analytic**: Values that are analytically derived from observed data. The Model.\n",
    "\n",
    "All three have structures. The features associated with observed data \n",
    "\n"
   ]
  },
  {
   "cell_type": "markdown",
   "id": "14b71cbe-3749-4e0f-af61-019b2f2281d3",
   "metadata": {
    "slideshow": {
     "slide_type": "slide"
    },
    "tags": []
   },
   "source": [
    "## The Data Frame\n",
    "\n",
    "The most **important** data structure in Pandas is the **dataframe** (sometimes spelled \"data frame\"), with the **series** playing a **supporting** role. \n",
    "\n",
    "In fact, **dataframe objects are built out of series objects**.\n",
    "\n",
    "Dataframes are **inspired by the R structure** of the same name. \n",
    "\n",
    "They have many similarities, but there are fundamental differences between the two that go beyond mere language differences. \n",
    "\n",
    "Most important is the Pandas dataframes have **indexes**, whereas R dataframes do not.\n",
    "\n",
    "It is helpful to think of **Pandas as wrapper around NumPy and Matplotlib** that makes it much easier to perform common operations, like select data by column name or visualizing plots. \n",
    "\n",
    "But this comes at a cost &mdash; Pandas is **slower** than NumPy. \n",
    "\n",
    "This represents the classic trade-off between **ease-of-use** for humnas and machine **performance**."
   ]
  }
 ],
 "metadata": {
  "kernelspec": {
   "display_name": "Python 3",
   "language": "python",
   "name": "python3"
  },
  "language_info": {
   "codemirror_mode": {
    "name": "ipython",
    "version": 3
   },
   "file_extension": ".py",
   "mimetype": "text/x-python",
   "name": "python",
   "nbconvert_exporter": "python",
   "pygments_lexer": "ipython3",
   "version": "3.11.4"
  }
 },
 "nbformat": 4,
 "nbformat_minor": 5
}
