{
 "cells": [
  {
   "cell_type": "markdown",
   "id": "70caa5cc-fb0d-4e78-bfc9-cb924d703802",
   "metadata": {
    "slideshow": {
     "slide_type": "slide"
    },
    "tags": []
   },
   "source": [
    "# User Stories\n",
    "\n",
    "Programming for Data Science"
   ]
  },
  {
   "cell_type": "markdown",
   "id": "ac0d2a84-a62e-43a4-bbc2-5da8328d67d5",
   "metadata": {
    "slideshow": {
     "slide_type": "slide"
    },
    "tags": []
   },
   "source": [
    "# What are User Stories?\n",
    "\n",
    "**User Stories** are at the heart of Agile development.\n",
    "\n",
    "Instead of eliciting requirements through a formal process, teams ask clients to give **their wishes in verbal form**:\n",
    "\n",
    "- `As a [type of user]`\n",
    "- `I want [an action or behavior]`\n",
    "- `so that [a benefit/value]`\n",
    "\n",
    "Note that in this context **\"users\"  may be any stakeholder**, including **developers**, not just \"end users.\" "
   ]
  },
  {
   "cell_type": "markdown",
   "id": "3b4ecadb-9e8f-4464-9b0e-e802dd2707b2",
   "metadata": {
    "slideshow": {
     "slide_type": "slide"
    },
    "tags": []
   },
   "source": [
    "# Process\n",
    "\n",
    "These \"stories\" are written on **index cards**.\n",
    "\n",
    "They are developed in the context of a **conversation** between developers and clients to clarify the meaning of the sentences.\n",
    "\n",
    "These are then converted by the development team into formal **requirements**."
   ]
  },
  {
   "cell_type": "markdown",
   "id": "d26a573f-3b59-4763-95b7-b5967a99ee2c",
   "metadata": {
    "slideshow": {
     "slide_type": "slide"
    },
    "tags": []
   },
   "source": [
    "# Requirements \n",
    "\n",
    "Recall that requirements are the building blocks of a software design specification (a \"spec\").\n",
    "\n",
    "Having a clear spec allows developers to design and test code effectively."
   ]
  },
  {
   "cell_type": "markdown",
   "id": "75b81dfc-ba46-48e8-bc19-40a019674cf4",
   "metadata": {
    "slideshow": {
     "slide_type": "slide"
    },
    "tags": []
   },
   "source": [
    "There are two main kinds of requirement:\n",
    "\n",
    "**Functional** &ndash; relating specifically to how the software will work, i.e. function.\n",
    "\n",
    "**Non-functional** (so-called) &ndash; relating to the broader purpose and context of usage.\n",
    "\n",
    "Each requirement relates to a feature of the product."
   ]
  },
  {
   "cell_type": "markdown",
   "id": "70183ed1-a000-4ae1-9525-1614244b4edf",
   "metadata": {
    "slideshow": {
     "slide_type": "slide"
    },
    "tags": []
   },
   "source": [
    "# Priorities\n",
    "\n",
    "Once a list of requirements is developed, they are then **prioritized**.\n",
    "\n",
    "One technique of priortization is called **MSCW**, pronounced \"Moscow,\" which stands for: \n",
    "\n",
    "- **M**ust Have: The product absolutely requires this functionality. The feature is critical to the app’s success.\n",
    "\n",
    "- **S**hould Have: It would be great if product had this functionality, but it isn’t absolutely required. These may be important but not as time-critical as Must-Haves.\n",
    "\n",
    "- **C**ould Have: The feature is value and is desirable but not necessary for the product to perform its primary tasks.\n",
    "\n",
    "- **W**on’t Have: The feature is non-critical or low value. It may be out of scope of the products purpose."
   ]
  },
  {
   "cell_type": "markdown",
   "id": "c3808d7a-b722-46cc-be65-66e5bc97f968",
   "metadata": {
    "slideshow": {
     "slide_type": "slide"
    },
    "tags": []
   },
   "source": [
    "By comparing each requirement with a **scope** definition in a project **charter** (not discussed here), requirements are assigned on of M, C, S, and W.\n",
    "\n",
    "Very often, only the **M**s are kept for the first version of the product."
   ]
  },
  {
   "cell_type": "markdown",
   "id": "510b3bd9-70f5-48e5-bf15-8d1e11c5b102",
   "metadata": {
    "slideshow": {
     "slide_type": "slide"
    },
    "tags": []
   },
   "source": [
    "# Milestones\n",
    "\n",
    "After requirements have been prioritized, they are grouped into **milestones**.\n",
    "\n",
    "Milestones are time units that follow a sequence. For example, a database-driven web application might have these:\n",
    "\n",
    "- Stand up the development infrastructure.\n",
    "- Establish the data model and back-end architecture.\n",
    "- Build a minimally viable product.\n",
    "\n",
    "Milestones may or may not be tied to a specific date, but they do follow each other in time."
   ]
  },
  {
   "cell_type": "markdown",
   "id": "1dd533cc-2e71-480b-afd2-eb235e6e8153",
   "metadata": {
    "slideshow": {
     "slide_type": "slide"
    },
    "tags": []
   },
   "source": [
    "# Scrums \n",
    "\n",
    "In executing the project plan, the development team meets regularly in brief **stand-up meetings** called **scrums**.\n",
    "\n",
    "These may be held **daily** but they are meant to be short and may adjourn quickly if there are not pressing issues to discuss.\n",
    "\n",
    "**Stakeholder representatives**, such as the product manager, may attend too on occasion."
   ]
  },
  {
   "cell_type": "markdown",
   "id": "c4502551-b75a-4796-805c-4e478cae41fb",
   "metadata": {
    "slideshow": {
     "slide_type": "slide"
    },
    "tags": []
   },
   "source": [
    "# Clients \n",
    "\n",
    "At regular intervals, **clients** are introduced to the process\n",
    "\n",
    "**Prototypes**, MVPs, etc. are presented.\n",
    "\n",
    "**Feedback** is elicited early and often."
   ]
  },
  {
   "cell_type": "markdown",
   "id": "09649aee-5219-4ad2-af58-aefd2a519ce5",
   "metadata": {
    "slideshow": {
     "slide_type": "slide"
    },
    "tags": []
   },
   "source": [
    "# Communication \n",
    "\n",
    "The whole process is driven by a **communication** plan that defines such things as:\n",
    "\n",
    "- Frequency of meeting.\n",
    "- Mode of communication &ndash; F2F, Slack, Git.\n",
    "- Task management tools &ndash; Jira, Trello, Smartsheet, etc."
   ]
  },
  {
   "cell_type": "markdown",
   "id": "bd3ab504-524c-4f4f-aa25-824151ea31be",
   "metadata": {
    "slideshow": {
     "slide_type": "slide"
    },
    "tags": []
   },
   "source": [
    "# Other Artifacts \n",
    "\n",
    "Other **artifacts** are involved in this process:\n",
    "\n",
    "- The project **charter**.\n",
    "- The project **plan**.\n",
    "- A **Kan Ban** board."
   ]
  }
 ],
 "metadata": {
  "kernelspec": {
   "display_name": "Python 3",
   "language": "python",
   "name": "python3"
  },
  "language_info": {
   "codemirror_mode": {
    "name": "ipython",
    "version": 3
   },
   "file_extension": ".py",
   "mimetype": "text/x-python",
   "name": "python",
   "nbconvert_exporter": "python",
   "pygments_lexer": "ipython3",
   "version": "3.11.4"
  }
 },
 "nbformat": 4,
 "nbformat_minor": 5
}
