{
 "cells": [
  {
   "cell_type": "markdown",
   "id": "4937b772-12d0-448e-8f32-2cf7b8e5572c",
   "metadata": {
    "slideshow": {
     "slide_type": "slide"
    },
    "tags": []
   },
   "source": [
    "# Project Management\n",
    "\n",
    "Programming for Data Science"
   ]
  },
  {
   "cell_type": "markdown",
   "id": "af2b5a25-4464-4286-b1c9-a4e1ccf62ae6",
   "metadata": {
    "slideshow": {
     "slide_type": "slide"
    },
    "tags": []
   },
   "source": [
    "# What is Project Management?\n",
    "\n",
    "Broadly speaking, project management (PM) is a class of rational **methods** and protocols for organizing the **labor** of **complex activities** in order to achieve **specific outcomes** that are **on time and on budget**.\n",
    "\n",
    "PM is important for data science programming because programming means building software, and software projects often invovle **teams** building **complicated products** for **clients**. "
   ]
  },
  {
   "cell_type": "markdown",
   "id": "3da5d3b1-72c7-4840-9036-7ede788bd8bf",
   "metadata": {
    "slideshow": {
     "slide_type": "slide"
    },
    "tags": []
   },
   "source": [
    "PM is an **established field** that is used for many activities, from military operations to business processes.\n",
    "\n",
    "It is a **profession** in which you can be **certified** as a **CPM**.\n",
    "\n",
    "It is a **field of study** with an established and large **body of knowledge** known as **PMBOK**."
   ]
  },
  {
   "cell_type": "markdown",
   "id": "9f7efc9d-1839-4127-bcca-8943dd7988d1",
   "metadata": {
    "slideshow": {
     "slide_type": "slide"
    },
    "tags": []
   },
   "source": [
    "The history of PM dates to the **early 20th century** when scientific techniques were applied to **management and manufacturing**.\n",
    "\n",
    "One of the earliest tools of project management is the [Gantt Chart](https://en.wikipedia.org/wiki/Gantt_chart), a tool to visualize the relationship between many labor and production components.\n",
    "\n",
    "![](../../media/early-gantt-chart.png)\n",
    "\n",
    "[Source](https://www.onepager.com/community/blog/a-brief-history-of-the-gantt-chart/)"
   ]
  },
  {
   "cell_type": "markdown",
   "id": "db879259-e65b-4bf9-8dfd-36e9ad363552",
   "metadata": {
    "slideshow": {
     "slide_type": "slide"
    },
    "tags": []
   },
   "source": [
    "PM becomes highly developed in the 1950s and '60s in the **post-war era**.\n",
    "\n",
    "Think of the complexity of the **Manhattan Project** or **NASA's** moon shot.\n",
    "\n",
    "From the beginning, PM has been used to support **critical operations**: weapons systems, air traffic control, financial systems, health care, etc."
   ]
  },
  {
   "cell_type": "markdown",
   "id": "8effe277-373e-4598-9576-6a594911854b",
   "metadata": {
    "slideshow": {
     "slide_type": "slide"
    },
    "tags": []
   },
   "source": [
    "Increasingly, **software** became involved in all of the operations.\n",
    "\n",
    "But **in the 1960s**, the US Department of Defense's study of software problems found that:\n",
    "\n",
    "$47\\%$ of software delivered could not be used, as it usually didn’t meet requirements.\n",
    "\n",
    "$29\\%$ of funded software was never delivered, as it was usually canceled due to cost/schedule overruns.\n",
    "\n",
    "$19\\%$ of software was useful after extensive rework, and it usually cost $36$ times more to fix problems after release.\n",
    "\n",
    "Eventually, PM was adapted to **software development**, to address these issues."
   ]
  },
  {
   "cell_type": "markdown",
   "id": "ab4a6379-8106-482d-b344-e4f1c6ddc7c7",
   "metadata": {
    "slideshow": {
     "slide_type": "slide"
    },
    "tags": []
   },
   "source": [
    "**Software development is hard** for many reasons:\n",
    "\n",
    "Hardware and software are inherently **complex**.\n",
    "\n",
    "Code is imperfect and **error-prone**.\n",
    "\n",
    "Code is always **an interpretation of specifications** that are always **underspecified**."
   ]
  },
  {
   "cell_type": "markdown",
   "id": "ec33800a-f57b-4239-8218-ff6dfdcd2234",
   "metadata": {
    "slideshow": {
     "slide_type": "slide"
    },
    "tags": []
   },
   "source": [
    "Code is **underspecified** in two senses:\n",
    "\n",
    "First, there is the inherent **inadequacy of language** to represent reality.\n",
    "\n",
    "\"The map is not the terrain\"\n",
    "\n",
    "Second is the fact that **people don't know what they want** even when they say they do.\n",
    "\n",
    "That is, reality itself changes."
   ]
  },
  {
   "cell_type": "markdown",
   "id": "cb9c9271-1786-45b4-9b4f-3ac0d8c81af7",
   "metadata": {
    "slideshow": {
     "slide_type": "slide"
    },
    "tags": []
   },
   "source": [
    "The slipperiness of writing code that achieves our goals is captured in the Danish proverb:\n",
    "\n",
    "> The operation was a success, but the patient died."
   ]
  },
  {
   "cell_type": "markdown",
   "id": "17c91fd1-b3f0-413a-8351-d5582b251efb",
   "metadata": {
    "jp-MarkdownHeadingCollapsed": true,
    "slideshow": {
     "slide_type": "slide"
    },
    "tags": []
   },
   "source": [
    "# Paradigms of Software Development\n",
    "\n",
    "To address these issues, many **paradigms of the software development** **life cycle** (SDLC) have been introduced over the years.\n",
    "\n",
    "Two popular approaches are the **Waterfall** and **Spiral** methods."
   ]
  },
  {
   "cell_type": "markdown",
   "id": "46b9bd0b-b25f-4620-af8a-baa540ad731a",
   "metadata": {
    "slideshow": {
     "slide_type": "slide"
    },
    "tags": []
   },
   "source": [
    "# The Waterfall Model\n",
    "\n",
    "The Waterfall model represents softwawre development as a linear process that begins with **requirements** gathering and formalization and ends with **maintaining** software products.\n",
    "\n",
    "The metaphor is that **everythings descends from the requirements**."
   ]
  },
  {
   "cell_type": "markdown",
   "id": "970e4783-0019-471d-b705-cb28dbf1666d",
   "metadata": {
    "jp-MarkdownHeadingCollapsed": true,
    "tags": []
   },
   "source": [
    "![Waterfall Methodology](../../media/pm-waterfall.jpg)\n",
    "\n",
    "[Source](https://4.bp.blogspot.com/-FJ4rlfMcDfc/V8mDTJfcDQI/AAAAAAAAA4s/f1dd7JC9-QsBh-67gdIDpq5ThubrTcVywCK4B/s1600/maxresdefault.jpg)"
   ]
  },
  {
   "attachments": {
    "082f304e-40ff-404b-bd00-a8189bcb53e5.png": {
     "image/png": "[encoded data removed]"
    }
   },
   "cell_type": "markdown",
   "id": "63ffd939-254a-456f-ac54-349728cab684",
   "metadata": {
    "slideshow": {
     "slide_type": "slide"
    },
    "tags": []
   },
   "source": [
    "# The Iron Triangle\n",
    "\n",
    "One of the **limitations** of the waterfall model is that it relies heavily on **getting the requirements right** in the first place.\n",
    "\n",
    "The Iron Triangle concept shows **the effect of changing user requirements** on a project.\n",
    "\n",
    "If users want to add something to a project &mdash; a new feature, for example &mdash; this means that **scope** has increased.\n",
    "\n",
    "Therefore, either **time** or **resources** must expand as well to allow for the change.\n",
    "\n",
    "![pm-iron-triangle.png](attachment:082f304e-40ff-404b-bd00-a8189bcb53e5.png)"
   ]
  },
  {
   "cell_type": "markdown",
   "id": "dec54659-c398-498d-83ca-1c6877db6236",
   "metadata": {
    "slideshow": {
     "slide_type": "slide"
    },
    "tags": []
   },
   "source": [
    "# The Spiral Model\n",
    "\n",
    "The Spiral method addresses the problem of changing requirements by being more **iterative**.\n",
    "\n",
    "It introduces the client at points in an **ongoing cycle**.\n",
    "\n",
    "![](../../media/pm-sdlc_spiral_model.jpg)\n",
    "\n",
    "[Source](https://www.tutorialspoint.com/sdlc/sdlc_spiral_model.htm)"
   ]
  },
  {
   "cell_type": "markdown",
   "id": "f2f2c7f9-00fa-471e-8e79-6aec1c93760d",
   "metadata": {
    "slideshow": {
     "slide_type": "slide"
    },
    "tags": []
   },
   "source": [
    "Both methods have the virtue of being **rational** and **comprehensive**, defining all the things involved in software development.\n",
    "\n",
    "But they are **very linear**.\n",
    "\n",
    "Even the Spiral method is a linear process. The same linear sequence &mdash;\n",
    "\n",
    "```\n",
    "Objective Identification \n",
    "-> Alternate Evaluation \n",
    "-> Product Development\n",
    "-> Next Phase Planning \n",
    "```\n",
    "\n",
    "&mdash; is repeated successively until the project is completed."
   ]
  },
  {
   "cell_type": "markdown",
   "id": "1107f1c4-dbf7-4361-8283-528c5e253980",
   "metadata": {
    "slideshow": {
     "slide_type": "slide"
    },
    "tags": []
   },
   "source": [
    "# Engineering and Human Labor\n",
    "\n",
    "What these methods have in common is a **faith in the power of planning and engineering** to achieve results.\n",
    "\n",
    "Planning assumes the ability to **predict accurately how things will unfold** and that people understand and **follow rules**.\n",
    "\n",
    "However, **life is not always linear**. \n",
    "\n",
    "Many **factors interfere** to alter the movement from requirements to product."
   ]
  },
  {
   "cell_type": "markdown",
   "id": "665da144-cf24-41ce-8c86-6d49e6a4f04a",
   "metadata": {
    "slideshow": {
     "slide_type": "slide"
    },
    "tags": []
   },
   "source": [
    "# Client and Developer\n",
    "\n",
    "These relationship between **initial requirements** and **final product** are embodied in the **relationship between client and developer**.\n",
    "\n",
    "But notice the absence of the client in the design, building, and validation phases in both models.\n",
    "\n",
    "This is partly the result of mitigating the **mission creep** introduced by the client, which runs afoul of the iron triangle.\n",
    "\n",
    "But **effective software design** often requires **a more involved role for the client**."
   ]
  }
 ],
 "metadata": {
  "celltoolbar": "Slideshow",
  "kernelspec": {
   "display_name": "Python 3",
   "language": "python",
   "name": "python3"
  },
  "language_info": {
   "codemirror_mode": {
    "name": "ipython",
    "version": 3
   },
   "file_extension": ".py",
   "mimetype": "text/x-python",
   "name": "python",
   "nbconvert_exporter": "python",
   "pygments_lexer": "ipython3",
   "version": "3.11.4"
  }
 },
 "nbformat": 4,
 "nbformat_minor": 5
}
