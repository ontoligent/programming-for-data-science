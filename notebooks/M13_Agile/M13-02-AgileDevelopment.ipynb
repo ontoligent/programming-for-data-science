{
 "cells": [
  {
   "cell_type": "markdown",
   "id": "10180f32-d0cb-41ef-89de-82dc37ae082c",
   "metadata": {
    "slideshow": {
     "slide_type": "slide"
    },
    "tags": []
   },
   "source": [
    "# Agile Development\n",
    "\n",
    "Programming for Data Science"
   ]
  },
  {
   "cell_type": "markdown",
   "id": "57f533c4-5c20-4158-8cce-d36fc34cb4fc",
   "metadata": {
    "slideshow": {
     "slide_type": "slide"
    },
    "tags": []
   },
   "source": [
    "# Enter Agile \n",
    "\n",
    "Against the linearity of previous PM approaches, agile software development is an approach that **embraces non-linearity** and **client participation**."
   ]
  },
  {
   "cell_type": "markdown",
   "id": "690f3259-31fd-4b4d-a3e7-9b3567ebb2fa",
   "metadata": {
    "slideshow": {
     "slide_type": "slide"
    },
    "tags": []
   },
   "source": [
    "Historically, agile PM appeared in the early 2000s and was spurred by the **affordances of the Web** and **open source software**.\n",
    "\n",
    "The success of **Linux** and other open source projects showed that software development need not follow the **rigid bureaucratic conventions** of the military or corporation.\n",
    "\n",
    "Instead, software development teams could organize organically, without oversight, using tools like **Git**.\n",
    "\n",
    "They could also release their products **iteratively**, getting both user and developer feedback quickly."
   ]
  },
  {
   "cell_type": "markdown",
   "id": "228b6b10-7656-4dbc-952c-116422bb20e2",
   "metadata": {
    "slideshow": {
     "slide_type": "slide"
    },
    "tags": []
   },
   "source": [
    "# The Agile Way\n",
    "\n",
    "Agile development is essentially a **philosophy** developed in response to **bureaucratic** software development processes.\n",
    "\n",
    "It is an approach that focuses on a set of design biases:\n",
    "\n",
    "- **Individuals and interactions** over **processes and tools**\n",
    "- **Working software** over **comprehensive documentation**\n",
    "- **Customer collaboration** over **contract negotiation**\n",
    "- **Responding to change** over **following a plan**\n",
    "\n",
    "Essentially, it is based on a **mistrust** of machines, plans, contracts, documents, etc."
   ]
  },
  {
   "cell_type": "markdown",
   "id": "dd7c65a2-4c8a-4f32-b030-568b68de7455",
   "metadata": {
    "slideshow": {
     "slide_type": "slide"
    },
    "tags": []
   },
   "source": [
    "The [Agile Manifesto](https://agilemanifesto.org/principles.html) was written in 2001 after a number of lighter and more flexible approaches were developed in the 1990s.\n",
    "\n",
    "- SCRUM\n",
    "- XP (Extreme Programming)\n",
    "- Etc."
   ]
  },
  {
   "cell_type": "markdown",
   "id": "4a7fce03-18c2-46bb-a09c-b9ede33d89b6",
   "metadata": {
    "slideshow": {
     "slide_type": "slide"
    },
    "tags": []
   },
   "source": [
    "It is also a collection of **methods and tools**:\n",
    "\n",
    "- User stories\n",
    "- Scrum meetings\n",
    "- Sprints\n",
    "- Task weighting with cards\n",
    "- Etc."
   ]
  },
  {
   "cell_type": "markdown",
   "id": "7508ea54-263a-48b6-b0d9-5ce65f1b9a2a",
   "metadata": {
    "slideshow": {
     "slide_type": "slide"
    },
    "tags": []
   },
   "source": [
    "# Principles\n",
    "\n",
    "The Agile Manifesto articulates $12$ Principles of Agile software development:"
   ]
  },
  {
   "cell_type": "markdown",
   "id": "db3dc6e2-b723-41bf-8684-b3df6522c6ca",
   "metadata": {
    "slideshow": {
     "slide_type": "fragment"
    },
    "tags": []
   },
   "source": [
    "1. Customer satisfaction by **early and continuous delivery** of valuable software. &rarr; The \"early and often\" of open source development."
   ]
  },
  {
   "cell_type": "markdown",
   "id": "18b38e16-44fd-4155-b7e8-cfb02d5ba184",
   "metadata": {
    "slideshow": {
     "slide_type": "fragment"
    },
    "tags": []
   },
   "source": [
    "2. **Welcome changing requirements**, even in **late** development."
   ]
  },
  {
   "cell_type": "markdown",
   "id": "9d018dc0-e81d-4eb4-ab5f-62e8a5508b5a",
   "metadata": {
    "slideshow": {
     "slide_type": "fragment"
    },
    "tags": []
   },
   "source": [
    "3. Deliver working software **frequently** (weeks rather than months)."
   ]
  },
  {
   "cell_type": "markdown",
   "id": "3828b238-3641-4053-ab0d-7928db6eb186",
   "metadata": {
    "slideshow": {
     "slide_type": "fragment"
    },
    "tags": []
   },
   "source": [
    "4. Close, **daily** cooperation between business people and developers."
   ]
  },
  {
   "cell_type": "markdown",
   "id": "ed34a0b7-bf37-4dd4-b0cc-9f6a91f25ce7",
   "metadata": {
    "slideshow": {
     "slide_type": "fragment"
    },
    "tags": []
   },
   "source": [
    "5. Projects are built around **motivated individuals**, who should be **trusted**."
   ]
  },
  {
   "cell_type": "markdown",
   "id": "0f60dc99-e992-495d-87d7-3ac7b23f27dd",
   "metadata": {
    "slideshow": {
     "slide_type": "fragment"
    },
    "tags": []
   },
   "source": [
    "6. **Face-to-face** conversation is the best form of communication (co-location)."
   ]
  },
  {
   "cell_type": "markdown",
   "id": "00adc9e2-87e7-494c-9c22-f51411406c01",
   "metadata": {
    "slideshow": {
     "slide_type": "slide"
    },
    "tags": []
   },
   "source": [
    "7. **Working software** is the primary measure of progress."
   ]
  },
  {
   "cell_type": "markdown",
   "id": "a995b18f-7e9c-4d1a-8449-3fa9eb7133ee",
   "metadata": {
    "slideshow": {
     "slide_type": "fragment"
    },
    "tags": []
   },
   "source": [
    "8. **Sustainable** development, able to maintain a constant pace."
   ]
  },
  {
   "cell_type": "markdown",
   "id": "f8c7548c-574a-4740-befa-9e0373e65379",
   "metadata": {
    "slideshow": {
     "slide_type": "fragment"
    },
    "tags": []
   },
   "source": [
    "9. **Continuous** attention to technical excellence and good design."
   ]
  },
  {
   "cell_type": "markdown",
   "id": "1c138af4-6de1-4dd4-a0b4-a0f42aafc2ee",
   "metadata": {
    "slideshow": {
     "slide_type": "fragment"
    },
    "tags": []
   },
   "source": [
    "10. **Simplicity**&mdash;the art of maximizing the amount of work not done&mdash;is essential."
   ]
  },
  {
   "cell_type": "markdown",
   "id": "6b86847f-4eb2-4780-acab-25d706de5bba",
   "metadata": {
    "slideshow": {
     "slide_type": "fragment"
    },
    "tags": []
   },
   "source": [
    "11. Best [architectures](https://en.wikipedia.org/wiki/Agile_Architecture), requirements, and designs emerge from **self-organizing** teams."
   ]
  },
  {
   "cell_type": "markdown",
   "id": "974b337d-e7a5-485c-9428-cad413de8843",
   "metadata": {
    "slideshow": {
     "slide_type": "fragment"
    },
    "tags": []
   },
   "source": [
    "12. Regularly, **the team reflects** on how to become more effective, and adjusts accordingly."
   ]
  },
  {
   "cell_type": "markdown",
   "id": "bdef237d-ec44-410d-8fdb-7acfa54d903d",
   "metadata": {
    "slideshow": {
     "slide_type": "slide"
    },
    "tags": []
   },
   "source": [
    "As you can see, it's all about **giving teams the freedom and trust** to creatively respond to client needs and change."
   ]
  }
 ],
 "metadata": {
  "kernelspec": {
   "display_name": "Python 3",
   "language": "python",
   "name": "python3"
  },
  "language_info": {
   "codemirror_mode": {
    "name": "ipython",
    "version": 3
   },
   "file_extension": ".py",
   "mimetype": "text/x-python",
   "name": "python",
   "nbconvert_exporter": "python",
   "pygments_lexer": "ipython3",
   "version": "3.11.4"
  }
 },
 "nbformat": 4,
 "nbformat_minor": 5
}
