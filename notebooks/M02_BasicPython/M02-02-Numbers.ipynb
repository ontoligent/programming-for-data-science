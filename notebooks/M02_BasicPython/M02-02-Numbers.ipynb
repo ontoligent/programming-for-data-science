{
 "cells": [
  {
   "cell_type": "markdown",
   "id": "8e1fb6e7-b98c-48a6-9bf9-e0a53af24167",
   "metadata": {
    "slideshow": {
     "slide_type": "slide"
    },
    "tags": []
   },
   "source": [
    "# NB: Numbers\n",
    "\n",
    "Programming for Data Science"
   ]
  },
  {
   "cell_type": "markdown",
   "id": "7b75479c-277d-4352-8510-4a1593f374b7",
   "metadata": {
    "slideshow": {
     "slide_type": "slide"
    },
    "tags": []
   },
   "source": [
    "# Built-in Functions\n",
    "\n",
    "Python has many built-in mathematical functions for numbers."
   ]
  },
  {
   "cell_type": "markdown",
   "id": "aaf78869-a8c9-44a5-9ca7-4ef063c00472",
   "metadata": {
    "slideshow": {
     "slide_type": "slide"
    },
    "tags": []
   },
   "source": [
    "## `pow()` Power"
   ]
  },
  {
   "cell_type": "markdown",
   "id": "d9aadb38-f267-4095-8690-dacfd3aa6336",
   "metadata": {},
   "source": [
    "$2$ raised to $3 = 8$"
   ]
  },
  {
   "cell_type": "code",
   "execution_count": 1,
   "id": "a646bee5-4fc4-4b77-a6bb-3471621043b6",
   "metadata": {
    "tags": []
   },
   "outputs": [
    {
     "data": {
      "text/plain": [
       "8"
      ]
     },
     "execution_count": 1,
     "metadata": {},
     "output_type": "execute_result"
    }
   ],
   "source": [
    "pow(2,3)"
   ]
  },
  {
   "cell_type": "markdown",
   "id": "cd55c136-0cae-444a-91f7-2d2ff758c987",
   "metadata": {
    "slideshow": {
     "slide_type": "slide"
    },
    "tags": []
   },
   "source": [
    "## `abs()` Absolute value"
   ]
  },
  {
   "cell_type": "markdown",
   "id": "37aaa6fb-0d16-42af-b078-b859945200ba",
   "metadata": {},
   "source": [
    "Returns $2$, the absolute value of its argument."
   ]
  },
  {
   "cell_type": "code",
   "execution_count": 2,
   "id": "c96b707c-5b1e-431a-8b5b-8e4d1a5c76de",
   "metadata": {
    "tags": []
   },
   "outputs": [
    {
     "data": {
      "text/plain": [
       "2"
      ]
     },
     "execution_count": 2,
     "metadata": {},
     "output_type": "execute_result"
    }
   ],
   "source": [
    "abs(-2)"
   ]
  },
  {
   "cell_type": "markdown",
   "id": "8ab20ae0-83a7-4ab0-8e50-bc8170e1da1f",
   "metadata": {
    "slideshow": {
     "slide_type": "slide"
    },
    "tags": []
   },
   "source": [
    "## `round()` Round\n",
    "\n",
    "Rounding up or down its argument (to closest whole number)."
   ]
  },
  {
   "cell_type": "markdown",
   "id": "589cda40-4a3d-4c5b-8151-c08066f3d145",
   "metadata": {},
   "source": [
    "Rounds up to $3.0$."
   ]
  },
  {
   "cell_type": "code",
   "execution_count": 3,
   "id": "adc71127-f93e-4f88-8db9-79a3941c8ddb",
   "metadata": {
    "tags": []
   },
   "outputs": [
    {
     "data": {
      "text/plain": [
       "3"
      ]
     },
     "execution_count": 3,
     "metadata": {},
     "output_type": "execute_result"
    }
   ],
   "source": [
    "round(2.8)"
   ]
  },
  {
   "cell_type": "markdown",
   "id": "4096c346-26a4-471f-a929-91d1f460074a",
   "metadata": {},
   "source": [
    "Rounds down to $1.0$."
   ]
  },
  {
   "cell_type": "code",
   "execution_count": 1,
   "id": "8d289d5f",
   "metadata": {
    "tags": []
   },
   "outputs": [
    {
     "data": {
      "text/plain": [
       "1"
      ]
     },
     "execution_count": 1,
     "metadata": {},
     "output_type": "execute_result"
    }
   ],
   "source": [
    "round(1.1)"
   ]
  },
  {
   "cell_type": "markdown",
   "id": "136d5470-a375-4c15-9b11-0c404efcfd37",
   "metadata": {},
   "source": [
    "You can specify how many decimal places to round to as well."
   ]
  },
  {
   "cell_type": "code",
   "execution_count": 2,
   "id": "8541c1db-adca-4cf9-b7d6-479e095ad15d",
   "metadata": {
    "tags": []
   },
   "outputs": [
    {
     "data": {
      "text/plain": [
       "5.37"
      ]
     },
     "execution_count": 2,
     "metadata": {},
     "output_type": "execute_result"
    }
   ],
   "source": [
    "round(5.36958211, 2)"
   ]
  },
  {
   "cell_type": "markdown",
   "id": "06ba32bb-fbae-4ae2-8fd6-94bd7e6beca8",
   "metadata": {
    "slideshow": {
     "slide_type": "slide"
    },
    "tags": []
   },
   "source": [
    "# Math library functions\n",
    "\n",
    "Python's Math library contains many other functions to perform mathematical operations.\n",
    "\n",
    "See the Python docs on [the math library](https://docs.python.org/3/library/math.html) for more information."
   ]
  },
  {
   "cell_type": "markdown",
   "id": "96cc1bcb-86f3-4141-bd39-fdfa8ba124ed",
   "metadata": {
    "slideshow": {
     "slide_type": "slide"
    },
    "tags": []
   },
   "source": [
    "First, we import the library like so:"
   ]
  },
  {
   "cell_type": "code",
   "execution_count": 27,
   "id": "56332d5c-5ac1-426a-9cf5-1ba88a81a61b",
   "metadata": {
    "tags": []
   },
   "outputs": [],
   "source": [
    "import math"
   ]
  },
  {
   "cell_type": "markdown",
   "id": "142cd362-3eed-482b-9949-ddfa04d24b45",
   "metadata": {},
   "source": [
    "We'll learn more about importing libraries into your programs later in the course."
   ]
  },
  {
   "cell_type": "markdown",
   "id": "8aef2df3-29d4-4bac-a95d-1ae47f6b0fc6",
   "metadata": {
    "slideshow": {
     "slide_type": "slide"
    },
    "tags": []
   },
   "source": [
    "## `math.sqrt()` Square root"
   ]
  },
  {
   "cell_type": "code",
   "execution_count": 29,
   "id": "54feb630-1e74-4993-befd-5ef1238bdbc0",
   "metadata": {
    "tags": []
   },
   "outputs": [
    {
     "data": {
      "text/plain": [
       "3.4641016151377544"
      ]
     },
     "execution_count": 29,
     "metadata": {},
     "output_type": "execute_result"
    }
   ],
   "source": [
    "math.sqrt(12)"
   ]
  },
  {
   "cell_type": "code",
   "execution_count": 30,
   "id": "685cb656-453b-45b3-8350-b38db94f928d",
   "metadata": {
    "tags": []
   },
   "outputs": [
    {
     "name": "stdout",
     "output_type": "stream",
     "text": [
      "2\n",
      "2\n",
      "2\n"
     ]
    }
   ],
   "source": [
    "print(math.floor(2.5)) # returns largest whole number less than the argument\n",
    "print(math.floor(2.9))\n",
    "print(math.floor(2.1))"
   ]
  },
  {
   "cell_type": "markdown",
   "id": "77b42b84-edf2-4c36-ba39-b05ccec6103d",
   "metadata": {
    "slideshow": {
     "slide_type": "slide"
    },
    "tags": []
   },
   "source": [
    "## `math.log()`"
   ]
  },
  {
   "cell_type": "code",
   "execution_count": 32,
   "id": "714a0bf0-37a0-480c-b99d-300536e5ad22",
   "metadata": {
    "tags": []
   },
   "outputs": [
    {
     "data": {
      "text/plain": [
       "2.0"
      ]
     },
     "execution_count": 32,
     "metadata": {},
     "output_type": "execute_result"
    }
   ],
   "source": [
    "math.log(100, 10)"
   ]
  },
  {
   "cell_type": "code",
   "execution_count": 33,
   "id": "ce576db6-7ae8-4358-89ff-d7a3dea1815a",
   "metadata": {
    "tags": []
   },
   "outputs": [
    {
     "data": {
      "text/plain": [
       "8.0"
      ]
     },
     "execution_count": 33,
     "metadata": {},
     "output_type": "execute_result"
    }
   ],
   "source": [
    "math.log(256, 2)"
   ]
  },
  {
   "cell_type": "markdown",
   "id": "943c99f7-c366-4e22-acb2-4a4d73d739e5",
   "metadata": {
    "slideshow": {
     "slide_type": "slide"
    },
    "tags": []
   },
   "source": [
    "# The Random library \n",
    "\n",
    "Python has a library to help you generate random numbers.\n",
    "\n",
    "Random number generators are an essential part of any data scientist's toolkit.\n",
    "\n",
    "See [random — Generate pseudo-random numbers](https://docs.python.org/3/library/random.html) for more information on the library."
   ]
  },
  {
   "cell_type": "code",
   "execution_count": 4,
   "id": "e90823f9-d108-4002-a560-e0a462624dcb",
   "metadata": {
    "tags": []
   },
   "outputs": [],
   "source": [
    "import random"
   ]
  },
  {
   "cell_type": "markdown",
   "id": "ae964ebc-810f-4a99-8e82-be7ad59a3b9a",
   "metadata": {
    "slideshow": {
     "slide_type": "slide"
    },
    "tags": []
   },
   "source": [
    "## `random.random()`"
   ]
  },
  {
   "cell_type": "markdown",
   "id": "c88a50e1-ee10-41ee-a9c4-39e3136f8b1f",
   "metadata": {},
   "source": [
    "Using `random()` will return a number between $0$ and $1$."
   ]
  },
  {
   "cell_type": "code",
   "execution_count": 5,
   "id": "b6add17b-5945-4403-8c0c-42b5e5f5ec7f",
   "metadata": {
    "tags": []
   },
   "outputs": [
    {
     "name": "stdout",
     "output_type": "stream",
     "text": [
      "0.605894272418689\n"
     ]
    }
   ],
   "source": [
    "print(random.random())"
   ]
  },
  {
   "cell_type": "markdown",
   "id": "636f9a05-3758-4b4f-9b19-7ebfbddc1ade",
   "metadata": {
    "slideshow": {
     "slide_type": "slide"
    },
    "tags": []
   },
   "source": [
    "## `random.randint()`"
   ]
  },
  {
   "cell_type": "markdown",
   "id": "98633eaa-9a81-4642-ab14-9c69d3ed75f9",
   "metadata": {},
   "source": [
    "We may specify a range in the parentheses. \n",
    "\n",
    "This will return a random integer in the range $1$ to $100$ inclusive."
   ]
  },
  {
   "cell_type": "code",
   "execution_count": 8,
   "id": "e95584a9-c03e-4ea5-b6dd-a28731935654",
   "metadata": {
    "tags": []
   },
   "outputs": [
    {
     "name": "stdout",
     "output_type": "stream",
     "text": [
      "18\n"
     ]
    }
   ],
   "source": [
    "print(random.randint(1,100))"
   ]
  }
 ],
 "metadata": {
  "kernelspec": {
   "display_name": "eta",
   "language": "python",
   "name": "eta"
  },
  "language_info": {
   "codemirror_mode": {
    "name": "ipython",
    "version": 3
   },
   "file_extension": ".py",
   "mimetype": "text/x-python",
   "name": "python",
   "nbconvert_exporter": "python",
   "pygments_lexer": "ipython3",
   "version": "3.9.19"
  },
  "vscode": {
   "interpreter": {
    "hash": "c3b963de08c47c3b6758389c5e0978ad73698a111eb508d4e16b558edb8f4cbf"
   }
  },
  "widgets": {
   "application/vnd.jupyter.widget-state+json": {
    "state": {},
    "version_major": 2,
    "version_minor": 0
   }
  }
 },
 "nbformat": 4,
 "nbformat_minor": 5
}
