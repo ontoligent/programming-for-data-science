{
 "cells": [
  {
   "cell_type": "markdown",
   "id": "e41e2ac4-a6d3-49a4-91c9-3baa1ad2dba7",
   "metadata": {
    "slideshow": {
     "slide_type": "slide"
    },
    "tags": []
   },
   "source": [
    "# NB&colon; Strings\n",
    "\n",
    "Programming for Data Science"
   ]
  },
  {
   "cell_type": "markdown",
   "id": "54253ec1-37f8-4b53-80f6-d68c7112fd71",
   "metadata": {
    "slideshow": {
     "slide_type": "slide"
    },
    "tags": []
   },
   "source": [
    "## Strings\n",
    "\n",
    "Strings are **sequences of characters**. \n",
    "\n",
    "Characters are member of **character sets**. Python uses the **Unicode** character set.\n",
    "\n",
    "Python does not have a data type for individual characters, though, as some languages do. \n",
    "\n",
    "Instead, a string is an object type that is similar to a **list**, which we will cover soon.\n",
    "\n",
    "Python makes it **easy** to manipulate string in **complex** ways.\n",
    "\n",
    "This is very useful for **data wrangling tasks** such as web scraping and converting unstructured text files into structured data sets."
   ]
  },
  {
   "cell_type": "markdown",
   "id": "fd567605-278e-4f53-80a7-c4fcb3e6d57d",
   "metadata": {
    "slideshow": {
     "slide_type": "slide"
    },
    "tags": []
   },
   "source": [
    "# Kinds of quotes \n",
    "\n",
    "Recall that strings are signified by the use of quotes. \n",
    "\n",
    "Single and double quotes are identical in function.\n",
    "\n",
    "They must be \"straight quotes\" though &mdash; cutting and pasting from a Word document with smart quotes won't work."
   ]
  },
  {
   "cell_type": "code",
   "execution_count": 1,
   "id": "c4c756c1-6cc8-4df2-8d2e-1b8f8704f22b",
   "metadata": {
    "tags": []
   },
   "outputs": [
    {
     "data": {
      "text/plain": [
       "True"
      ]
     },
     "execution_count": 1,
     "metadata": {},
     "output_type": "execute_result"
    }
   ],
   "source": [
    "'hello world!' == \"hello world!\""
   ]
  },
  {
   "cell_type": "markdown",
   "id": "8ee65e4a-7ae1-465d-af74-07f73c56c7e4",
   "metadata": {
    "slideshow": {
     "slide_type": "slide"
    },
    "tags": []
   },
   "source": [
    "# Printing with `print()`\n",
    "\n",
    "Python uses a print function to render output to screens or files.\n",
    "\n",
    "This function was introduced in Python 3 and is one of the reasons Python 2 and 3 are incompatible.\n",
    "\n",
    "Python 2 uses a print _statement_ instead of a function. We'll cover this topic later.\n",
    "\n",
    "The print function takes a string as an argument and returns an interpreted version of the string, based its prefix (or lack of one)."
   ]
  },
  {
   "cell_type": "code",
   "execution_count": 2,
   "id": "03437f96-39b2-4174-83dc-b8b0bd5284b7",
   "metadata": {
    "tags": []
   },
   "outputs": [
    {
     "name": "stdout",
     "output_type": "stream",
     "text": [
      "This is a simple print statement\n"
     ]
    }
   ],
   "source": [
    "print(\"This is a simple print statement\")"
   ]
  },
  {
   "cell_type": "markdown",
   "id": "5b650b2a-ca70-4ba2-bcd0-b179dafb919b",
   "metadata": {
    "slideshow": {
     "slide_type": "slide"
    },
    "tags": []
   },
   "source": [
    "## Escape Characters\n",
    "\n",
    "Python supports special \"escape characters\" within quoted strings that produce effects when printed.\n",
    "\n",
    "These are characters prefixed with a backslash `\\`.\n",
    "\n",
    "```\n",
    "\\\\     Backslash (\\)\n",
    "\\'     Single quote (')\n",
    "\\\"     Double quote (\")\n",
    "\\n     Line break\n",
    "\\t     Tab\n",
    "```\n",
    "\n",
    "Note that these escape characters are not unique to Python. They are part of almost all languages."
   ]
  },
  {
   "cell_type": "markdown",
   "id": "919ea37e-595e-4c42-a417-6a702e1647e8",
   "metadata": {
    "slideshow": {
     "slide_type": "subslide"
    },
    "tags": []
   },
   "source": [
    "Here is a string with the tab character `\\t`:"
   ]
  },
  {
   "cell_type": "code",
   "execution_count": 3,
   "id": "cf869480-ec7c-4288-a904-9384be8bfa23",
   "metadata": {
    "tags": []
   },
   "outputs": [
    {
     "data": {
      "text/plain": [
       "'Hello,\\tWorld! (With a tab character)'"
      ]
     },
     "execution_count": 3,
     "metadata": {},
     "output_type": "execute_result"
    }
   ],
   "source": [
    "\"Hello,\\tWorld! (With a tab character)\""
   ]
  },
  {
   "cell_type": "markdown",
   "id": "bc91bc50-0709-449d-9d7f-1bc5d905df8b",
   "metadata": {},
   "source": [
    "Here is the string interpreted by `print()`:"
   ]
  },
  {
   "cell_type": "code",
   "execution_count": 4,
   "id": "eb4ec814-5a48-4108-8d9d-59ac87c1cadf",
   "metadata": {
    "tags": []
   },
   "outputs": [
    {
     "name": "stdout",
     "output_type": "stream",
     "text": [
      "Hello,\tWorld! (With a tab character)\n"
     ]
    }
   ],
   "source": [
    "print(\"Hello,\\tWorld! (With a tab character)\")"
   ]
  },
  {
   "cell_type": "markdown",
   "id": "273915a2-b075-4270-a1e8-89b0ac4190f2",
   "metadata": {
    "slideshow": {
     "slide_type": "subslide"
    },
    "tags": []
   },
   "source": [
    "Here we insert the new line character `\\n`:"
   ]
  },
  {
   "cell_type": "code",
   "execution_count": 5,
   "id": "7657cbcf-beef-40fc-9d6b-0cc2496075b1",
   "metadata": {
    "tags": []
   },
   "outputs": [
    {
     "name": "stdout",
     "output_type": "stream",
     "text": [
      "Line one\n",
      "Line two, with newline character\n"
     ]
    }
   ],
   "source": [
    "print(\"Line one\\nLine two, with newline character\")"
   ]
  },
  {
   "cell_type": "markdown",
   "id": "fb4e474f-880b-4020-b085-f4ffdbda43c0",
   "metadata": {
    "slideshow": {
     "slide_type": "subslide"
    },
    "tags": []
   },
   "source": [
    "Remember that to concatenate strings, you may use the plus sign `+`:"
   ]
  },
  {
   "cell_type": "code",
   "execution_count": 6,
   "id": "a502e236-cbf4-4c84-b80d-a1527b129872",
   "metadata": {
    "tags": []
   },
   "outputs": [
    {
     "name": "stdout",
     "output_type": "stream",
     "text": [
      "Concatenation,\tin strings with tab in middle\n"
     ]
    }
   ],
   "source": [
    "print(\"Concatenation,\" + \"\\t\" + \"in strings with tab in middle\")"
   ]
  },
  {
   "cell_type": "markdown",
   "id": "49283066-ade9-49c0-b181-d448c67fe017",
   "metadata": {
    "slideshow": {
     "slide_type": "slide"
    },
    "tags": []
   },
   "source": [
    "## Quotes in Quotes\n",
    "\n",
    "If you wanted to print quotes in a string, you can alternate singles and doubles:"
   ]
  },
  {
   "cell_type": "code",
   "execution_count": 7,
   "id": "b3b61d77-bc71-4ada-b838-7890d63df6e7",
   "metadata": {
    "tags": []
   },
   "outputs": [
    {
     "name": "stdout",
     "output_type": "stream",
     "text": [
      "Printing \"quotes\" within a string\n"
     ]
    }
   ],
   "source": [
    "print('Printing \"quotes\" within a string')"
   ]
  },
  {
   "cell_type": "code",
   "execution_count": 8,
   "id": "2e363358-92de-45be-93c9-7464e080a0b7",
   "metadata": {
    "tags": []
   },
   "outputs": [
    {
     "name": "stdout",
     "output_type": "stream",
     "text": [
      "Printing 'quotes' within a string\n"
     ]
    }
   ],
   "source": [
    "print(\"Printing 'quotes' within a string\")"
   ]
  },
  {
   "cell_type": "markdown",
   "id": "5fce4716-ae87-463d-b242-f54372d93d69",
   "metadata": {},
   "source": [
    "Or you can escape the qoute:"
   ]
  },
  {
   "cell_type": "code",
   "execution_count": 9,
   "id": "51fef2c2-249b-4248-a3d9-34326ce50801",
   "metadata": {
    "tags": []
   },
   "outputs": [
    {
     "name": "stdout",
     "output_type": "stream",
     "text": [
      "Printing \"quotes\" within a string\n"
     ]
    }
   ],
   "source": [
    "print(\"Printing \\\"quotes\\\" within a string\")"
   ]
  },
  {
   "cell_type": "markdown",
   "id": "8aad5d2e-5f2e-4cdc-a82b-65f5c6c8a0a3",
   "metadata": {
    "slideshow": {
     "slide_type": "slide"
    },
    "tags": []
   },
   "source": [
    "## Spaces \n",
    "\n",
    "By default, the print function puts spaces between strings and a newline at the end, but you can change that: "
   ]
  },
  {
   "cell_type": "code",
   "execution_count": 10,
   "id": "e829f8c9-9868-4009-9b97-1dd6dcb9f434",
   "metadata": {
    "tags": []
   },
   "outputs": [
    {
     "name": "stdout",
     "output_type": "stream",
     "text": [
      "This is a sentence\n"
     ]
    }
   ],
   "source": [
    "print(\"This\", \"is\", \"a\", \"sentence\")"
   ]
  },
  {
   "cell_type": "code",
   "execution_count": 11,
   "id": "884caf24-d7a7-4572-827b-cecfde5cd651",
   "metadata": {
    "tags": []
   },
   "outputs": [
    {
     "name": "stdout",
     "output_type": "stream",
     "text": [
      "This|is|a|sentence\n"
     ]
    }
   ],
   "source": [
    "print(\"This\", \"is\", \"a\", \"sentence\", sep=\"|\")"
   ]
  },
  {
   "cell_type": "code",
   "execution_count": 12,
   "id": "dcfa5f12-52c6-4abe-975d-d793f4cd4711",
   "metadata": {
    "tags": []
   },
   "outputs": [
    {
     "name": "stdout",
     "output_type": "stream",
     "text": [
      "This is a sentence -- This is a sentence\n"
     ]
    }
   ],
   "source": [
    "print(\"This\", \"is\", \"a\", \"sentence\", end=\" -- \")\n",
    "print(\"This\", \"is\", \"a\", \"sentence\")"
   ]
  },
  {
   "cell_type": "markdown",
   "id": "b364690c-4d00-4075-a960-90d7dac1b99e",
   "metadata": {
    "slideshow": {
     "slide_type": "slide"
    },
    "tags": []
   },
   "source": [
    "# String Prefixes\n",
    "\n",
    "Python allows you to prefix a string literal with a letter to change how the string is interpreted."
   ]
  },
  {
   "cell_type": "markdown",
   "id": "0b67ae93-fe3a-4690-ab9e-e9e9d9271025",
   "metadata": {
    "slideshow": {
     "slide_type": "subslide"
    },
    "tags": []
   },
   "source": [
    "## `f` strings\n",
    "\n",
    "Prefixing a string with `f` (for 'formatted') allows variable interpolation &mdash; inplace evaluation of variables in strings."
   ]
  },
  {
   "cell_type": "code",
   "execution_count": 13,
   "id": "0d9779e6-856b-4336-a676-e1418df18f5d",
   "metadata": {
    "tags": []
   },
   "outputs": [],
   "source": [
    "people = 'knights'\n",
    "greeting = 'Ni'"
   ]
  },
  {
   "cell_type": "code",
   "execution_count": 14,
   "id": "7dd1d9ad-76ff-48e0-83c4-eb7d43854d50",
   "metadata": {
    "tags": []
   },
   "outputs": [
    {
     "name": "stdout",
     "output_type": "stream",
     "text": [
      "We are the knights who say Ni!\n"
     ]
    }
   ],
   "source": [
    "print(f'We are the {people} who say {greeting}!')"
   ]
  },
  {
   "cell_type": "markdown",
   "id": "a62eee0f-712d-4055-9c71-9a8799cb07b2",
   "metadata": {},
   "source": [
    "The brackets and characters within them (called format fields)\n",
    "are replaced with the passed objects."
   ]
  },
  {
   "cell_type": "markdown",
   "id": "b2da275c-6809-4aee-b902-860a23d218fd",
   "metadata": {
    "slideshow": {
     "slide_type": "subslide"
    },
    "tags": []
   },
   "source": [
    "## `r` strings\n",
    "\n",
    "Prefixing a string with `r` (for 'raw') causes escape characters to be uninterpreted. "
   ]
  },
  {
   "cell_type": "code",
   "execution_count": 15,
   "id": "0e3dc313-0c31-4255-ac38-611086d10df6",
   "metadata": {
    "tags": []
   },
   "outputs": [
    {
     "name": "stdout",
     "output_type": "stream",
     "text": [
      "Sentence one.\n",
      "Sentence two.\n"
     ]
    }
   ],
   "source": [
    "print(\"Sentence one.\\nSentence two.\")"
   ]
  },
  {
   "cell_type": "code",
   "execution_count": 16,
   "id": "c4ed76bb-ec2b-41d5-b8ea-dbb751050ea9",
   "metadata": {
    "tags": []
   },
   "outputs": [
    {
     "name": "stdout",
     "output_type": "stream",
     "text": [
      "Sentence one.\\nSentence two.\n"
     ]
    }
   ],
   "source": [
    "print(r\"Sentence one.\\nSentence two.\")"
   ]
  },
  {
   "cell_type": "markdown",
   "id": "c5669569-5072-42dc-8108-170cb5dbf2e3",
   "metadata": {
    "slideshow": {
     "slide_type": "slide"
    },
    "tags": []
   },
   "source": [
    "# Comments\n",
    "\n",
    "Comments are lines of code that aren't read by the interpreter.\n",
    "\n",
    "They are used to explain blocks of code, or to remove code from execution when debugging."
   ]
  },
  {
   "cell_type": "code",
   "execution_count": 42,
   "id": "cba4510a-cbb5-42d8-9c37-b0a285d88aa9",
   "metadata": {
    "tags": []
   },
   "outputs": [],
   "source": [
    "# This is a comment"
   ]
  },
  {
   "cell_type": "markdown",
   "id": "0c17b107-23bf-4686-ad46-fb5055e25a42",
   "metadata": {
    "slideshow": {
     "slide_type": "slide"
    },
    "tags": []
   },
   "source": [
    "# Multi-line Strings\n",
    "\n",
    "Python lets you put strings that take up more than one line into your code by using `'''` or `\"\"\"`."
   ]
  },
  {
   "cell_type": "code",
   "execution_count": 17,
   "id": "1f0efec2-1856-436c-b886-bf2b5960b9c5",
   "metadata": {
    "tags": []
   },
   "outputs": [],
   "source": [
    "foo = '''\n",
    "This is an\n",
    "example of\n",
    "a multi-line\n",
    "comment: single quotes\n",
    "'''"
   ]
  },
  {
   "cell_type": "code",
   "execution_count": 18,
   "id": "f64fb285-ee64-4779-9164-25277c19552d",
   "metadata": {
    "tags": []
   },
   "outputs": [
    {
     "name": "stdout",
     "output_type": "stream",
     "text": [
      "\n",
      "This is an\n",
      "example of\n",
      "a multi-line\n",
      "comment: single quotes\n",
      "\n"
     ]
    }
   ],
   "source": [
    "print(foo)"
   ]
  },
  {
   "cell_type": "markdown",
   "id": "c51d56c6-168c-45b7-b4e0-5f48cb8ce8e3",
   "metadata": {
    "slideshow": {
     "slide_type": "slide"
    },
    "tags": []
   },
   "source": [
    "Note that the hard returns are represented as `\\n`s."
   ]
  },
  {
   "cell_type": "code",
   "execution_count": 19,
   "id": "bc665ca3-bdc9-40ac-90ea-24b1c68a1e3f",
   "metadata": {
    "tags": []
   },
   "outputs": [
    {
     "data": {
      "text/plain": [
       "'\\nThis is an\\nexample of\\na multi-line\\ncomment: single quotes\\n'"
      ]
     },
     "execution_count": 19,
     "metadata": {},
     "output_type": "execute_result"
    }
   ],
   "source": [
    "foo"
   ]
  },
  {
   "cell_type": "markdown",
   "id": "764282c0-ba9b-4f39-92ed-463f97e7581e",
   "metadata": {
    "slideshow": {
     "slide_type": "slide"
    },
    "tags": []
   },
   "source": [
    "# Run-time User Input\n",
    "\n",
    "The `input()` function allows users to enter data while the program is running:"
   ]
  },
  {
   "cell_type": "code",
   "execution_count": 21,
   "id": "f8427479-7065-49c1-8bcf-5b5f128fb7dd",
   "metadata": {
    "tags": []
   },
   "outputs": [
    {
     "name": "stdin",
     "output_type": "stream",
     "text": [
      "What is your name?  Rafael\n"
     ]
    },
    {
     "name": "stdout",
     "output_type": "stream",
     "text": [
      "Hello, Rafael!\n"
     ]
    }
   ],
   "source": [
    "answer = input(\"What is your name? \")\n",
    "print(\"Hello, \" + answer + \"!\")"
   ]
  },
  {
   "cell_type": "markdown",
   "id": "151e7721-97a9-43cd-9071-22ecbe0efc64",
   "metadata": {
    "slideshow": {
     "slide_type": "slide"
    },
    "tags": []
   },
   "source": [
    "# Some String Functions"
   ]
  },
  {
   "cell_type": "markdown",
   "id": "677d5002-f67c-4000-864f-0126b434d956",
   "metadata": {
    "jp-MarkdownHeadingCollapsed": true,
    "tags": []
   },
   "source": [
    "Pythoh has many built-in string methods and functions.\n",
    "\n",
    "See [Common String Operations](https://docs.python.org/3/library/string.html) for more info."
   ]
  },
  {
   "cell_type": "markdown",
   "id": "490ea9ff-1225-40ac-bcc8-7dc7f2bd8f3d",
   "metadata": {
    "slideshow": {
     "slide_type": "slide"
    },
    "tags": []
   },
   "source": [
    "## `.lower()`, `.upper()`\n",
    "\n",
    "These will conver the case of a string."
   ]
  },
  {
   "cell_type": "code",
   "execution_count": 22,
   "id": "90d9c88f-f29b-414c-a013-79065b8135d9",
   "metadata": {
    "tags": []
   },
   "outputs": [
    {
     "data": {
      "text/plain": [
       "'bob'"
      ]
     },
     "execution_count": 22,
     "metadata": {},
     "output_type": "execute_result"
    }
   ],
   "source": [
    "'BOB'.lower()"
   ]
  },
  {
   "cell_type": "code",
   "execution_count": 23,
   "id": "72bd4cb6-0346-4cba-b5a7-539d42ed0626",
   "metadata": {
    "tags": []
   },
   "outputs": [
    {
     "data": {
      "text/plain": [
       "'CARLOS'"
      ]
     },
     "execution_count": 23,
     "metadata": {},
     "output_type": "execute_result"
    }
   ],
   "source": [
    "'carlos'.upper()"
   ]
  },
  {
   "cell_type": "markdown",
   "id": "3b8271d0-10e2-40b9-ba08-3c44f81fe30f",
   "metadata": {
    "slideshow": {
     "slide_type": "slide"
    },
    "tags": []
   },
   "source": [
    "## `.split()` \n",
    "\n",
    "This will parse a string based on a delimiter, which defaults to whitespace.\n",
    "\n",
    "NOTE: This does *not* use regular expressions.\n",
    "\n",
    "This returns a list."
   ]
  },
  {
   "cell_type": "code",
   "execution_count": 24,
   "id": "d0d6df04-be47-4581-ad19-62db40f0f689",
   "metadata": {
    "tags": []
   },
   "outputs": [],
   "source": [
    "monty_python_quote = 'are.you.suggesting.coconuts.migrate'"
   ]
  },
  {
   "cell_type": "code",
   "execution_count": 25,
   "id": "5e673d1a-0c13-4360-896e-a3349d0ffb10",
   "metadata": {
    "tags": []
   },
   "outputs": [
    {
     "data": {
      "text/plain": [
       "'are.you.suggesting.coconuts.migrate'"
      ]
     },
     "execution_count": 25,
     "metadata": {},
     "output_type": "execute_result"
    }
   ],
   "source": [
    "monty_python_quote"
   ]
  },
  {
   "cell_type": "code",
   "execution_count": 26,
   "id": "14d19853-c990-4101-b204-4261be885d72",
   "metadata": {
    "tags": []
   },
   "outputs": [
    {
     "data": {
      "text/plain": [
       "['are', 'you', 'suggesting', 'coconuts', 'migrate']"
      ]
     },
     "execution_count": 26,
     "metadata": {},
     "output_type": "execute_result"
    }
   ],
   "source": [
    "monty_python_quote.split('.') "
   ]
  },
  {
   "cell_type": "markdown",
   "id": "7b506baf-39af-4f3b-b944-d0763b9bb1fa",
   "metadata": {
    "slideshow": {
     "slide_type": "slide"
    },
    "tags": []
   },
   "source": [
    "Note that literal strings behave like objects."
   ]
  },
  {
   "cell_type": "code",
   "execution_count": 27,
   "id": "b8ddf58f-1de0-4bbd-9872-60e5f9a1be25",
   "metadata": {
    "tags": []
   },
   "outputs": [
    {
     "data": {
      "text/plain": [
       "['are', 'you', 'suggesting', 'coconuts', 'migrate']"
      ]
     },
     "execution_count": 27,
     "metadata": {},
     "output_type": "execute_result"
    }
   ],
   "source": [
    "'are.you.suggesting.coconuts.migrate'.split('.')"
   ]
  },
  {
   "cell_type": "markdown",
   "id": "a0336557-af29-49bd-adbb-0b9e833f97a5",
   "metadata": {
    "slideshow": {
     "slide_type": "slide"
    },
    "tags": []
   },
   "source": [
    "## `.strip()`, `.rstrip()`, `lstrip()` Strip methods\n",
    "\n",
    "You remove extra whitespace from strings using `strip()`, `rstrip()` and `lstrip()`.\n",
    "\n",
    "Whitespace characters are characters that are used for spacing.\n",
    "\n",
    "These include newlines, spaces, tabs, carriage returns, feed, etc. \n"
   ]
  },
  {
   "cell_type": "markdown",
   "id": "354079cf-2713-4c12-8bec-8e523ab7343d",
   "metadata": {
    "slideshow": {
     "slide_type": "slide"
    },
    "tags": []
   },
   "source": [
    "`.strip()` removes white space from anywhere in a string.\\\n",
    "`.rstrip()` only removes white space from the right-hand-side of the string.\\\n",
    "`.lstrip()` only removes white space from the left-hand-side of the string."
   ]
  },
  {
   "cell_type": "code",
   "execution_count": 28,
   "id": "bc7c4ab0-21ec-4f2d-8334-88df9bd02a1b",
   "metadata": {
    "tags": []
   },
   "outputs": [],
   "source": [
    "str1 = '  hello, world!'    # white space at the beginning\n",
    "str2 = '  hello, world!  '  # white space at both ends\n",
    "str3 = 'hello, world!  '    # white space at the end"
   ]
  },
  {
   "cell_type": "code",
   "execution_count": 29,
   "id": "c507d2a2-6b16-4e4d-827e-f201d6b07303",
   "metadata": {
    "tags": []
   },
   "outputs": [
    {
     "data": {
      "text/plain": [
       "('  hello, world!', '  hello, world!  ', 'hello, world!  ')"
      ]
     },
     "execution_count": 29,
     "metadata": {},
     "output_type": "execute_result"
    }
   ],
   "source": [
    "str1, str2, str3"
   ]
  },
  {
   "cell_type": "code",
   "execution_count": 30,
   "id": "af68bded-7dd9-4a1c-a9f8-0b2453dc9213",
   "metadata": {
    "tags": []
   },
   "outputs": [
    {
     "data": {
      "text/plain": [
       "('hello, world!', '  hello, world!')"
      ]
     },
     "execution_count": 30,
     "metadata": {},
     "output_type": "execute_result"
    }
   ],
   "source": [
    "str1.lstrip(), str1.rstrip()"
   ]
  },
  {
   "cell_type": "code",
   "execution_count": 31,
   "id": "70d0e0c9-b994-4f1d-873f-2dd57b23a988",
   "metadata": {
    "tags": []
   },
   "outputs": [
    {
     "data": {
      "text/plain": [
       "('hello, world!', '  hello, world!')"
      ]
     },
     "execution_count": 31,
     "metadata": {},
     "output_type": "execute_result"
    }
   ],
   "source": [
    "str2.strip(), str2.rstrip()"
   ]
  },
  {
   "cell_type": "code",
   "execution_count": 32,
   "id": "366d59d0-e6db-4aa1-8be9-11e1c3c65405",
   "metadata": {
    "tags": []
   },
   "outputs": [
    {
     "data": {
      "text/plain": [
       "('hello, world!  ', 'hello, world!')"
      ]
     },
     "execution_count": 32,
     "metadata": {},
     "output_type": "execute_result"
    }
   ],
   "source": [
    "str2.lstrip(), str3.rstrip()"
   ]
  },
  {
   "cell_type": "markdown",
   "id": "833e588c-83a3-418d-b242-7691a7f2b7da",
   "metadata": {
    "slideshow": {
     "slide_type": "slide"
    },
    "tags": []
   },
   "source": [
    "## `.startswith()`\n",
    "\n",
    "This lets you see if a string starts with a character or a string."
   ]
  },
  {
   "cell_type": "code",
   "execution_count": 33,
   "id": "3be2e327-cb67-4ae2-a264-26ea1d52074d",
   "metadata": {
    "tags": []
   },
   "outputs": [],
   "source": [
    "status = 'success'"
   ]
  },
  {
   "cell_type": "code",
   "execution_count": 34,
   "id": "4c33464b-8db8-4828-a770-cc0594f37225",
   "metadata": {
    "tags": []
   },
   "outputs": [
    {
     "data": {
      "text/plain": [
       "False"
      ]
     },
     "execution_count": 34,
     "metadata": {},
     "output_type": "execute_result"
    }
   ],
   "source": [
    "status.startswith('a')"
   ]
  },
  {
   "cell_type": "code",
   "execution_count": 35,
   "id": "c827d30d-1c31-435b-af85-fb3b0e120e06",
   "metadata": {
    "tags": []
   },
   "outputs": [
    {
     "data": {
      "text/plain": [
       "True"
      ]
     },
     "execution_count": 35,
     "metadata": {},
     "output_type": "execute_result"
    }
   ],
   "source": [
    "status.endswith('s')"
   ]
  },
  {
   "cell_type": "code",
   "execution_count": 44,
   "id": "adc0e454-dc1d-4df8-a4d7-b47a8f744e04",
   "metadata": {
    "tags": []
   },
   "outputs": [
    {
     "data": {
      "text/plain": [
       "True"
      ]
     },
     "execution_count": 44,
     "metadata": {},
     "output_type": "execute_result"
    }
   ],
   "source": [
    "status.endswith('ss')"
   ]
  },
  {
   "cell_type": "markdown",
   "id": "c07d9911-f4a4-4d87-98f8-6b5f733f12d7",
   "metadata": {
    "slideshow": {
     "slide_type": "slide"
    },
    "tags": []
   },
   "source": [
    "## `.replace()`\n",
    "\n",
    "This lets you swap out characters or strings."
   ]
  },
  {
   "cell_type": "code",
   "execution_count": 37,
   "id": "884e6997-fc78-4b3a-b6c3-8b5e1a13b0cd",
   "metadata": {
    "tags": []
   },
   "outputs": [
    {
     "data": {
      "text/plain": [
       "'lxtinx'"
      ]
     },
     "execution_count": 37,
     "metadata": {},
     "output_type": "execute_result"
    }
   ],
   "source": [
    "\"latina\".replace(\"a\", \"x\")"
   ]
  },
  {
   "cell_type": "code",
   "execution_count": 38,
   "id": "94dbe9c7-10ff-4229-b7de-e0666b428a00",
   "metadata": {
    "tags": []
   },
   "outputs": [
    {
     "data": {
      "text/plain": [
       "'good day'"
      ]
     },
     "execution_count": 38,
     "metadata": {},
     "output_type": "execute_result"
    }
   ],
   "source": [
    "\"good night\".replace(\"night\", \"day\")"
   ]
  },
  {
   "cell_type": "markdown",
   "id": "664fcd83-acbe-4f70-a802-3b98b57aebdc",
   "metadata": {
    "slideshow": {
     "slide_type": "slide"
    },
    "tags": []
   },
   "source": [
    "## `.format()` \n",
    "\n",
    "Instead of using the `f` string prefix, you can use the format method to embed variables in strings.  \n",
    "\n",
    "Place `{}` in the string in order from left to right. followed by `.format(var1, var2, ...`)`"
   ]
  },
  {
   "cell_type": "code",
   "execution_count": 39,
   "id": "c6e1ec0b-2d43-41da-af37-19d2eda1e485",
   "metadata": {
    "tags": []
   },
   "outputs": [
    {
     "name": "stdout",
     "output_type": "stream",
     "text": [
      "Epoch: 20, loss: 1.55\n"
     ]
    }
   ],
   "source": [
    "epoch = 20\n",
    "loss = 1.55\n",
    "print('Epoch: {}, loss: {}'.format(epoch, loss))"
   ]
  },
  {
   "cell_type": "markdown",
   "id": "a0e36720-0323-4485-bed6-c2bfdfbd9567",
   "metadata": {},
   "source": [
    "This breaks, as three variables are required based on number of {}"
   ]
  },
  {
   "cell_type": "code",
   "execution_count": 40,
   "id": "d8f238ee-525a-4199-bcaa-a61e6a08313e",
   "metadata": {
    "tags": []
   },
   "outputs": [
    {
     "ename": "IndexError",
     "evalue": "Replacement index 2 out of range for positional args tuple",
     "output_type": "error",
     "traceback": [
      "\u001b[0;31m---------------------------------------------------------------------------\u001b[0m",
      "\u001b[0;31mIndexError\u001b[0m                                Traceback (most recent call last)",
      "Cell \u001b[0;32mIn[40], line 1\u001b[0m\n\u001b[0;32m----> 1\u001b[0m \u001b[38;5;28mprint\u001b[39m(\u001b[38;5;124;43m'\u001b[39;49m\u001b[38;5;124;43mEpoch: \u001b[39;49m\u001b[38;5;132;43;01m{}\u001b[39;49;00m\u001b[38;5;124;43m, loop: \u001b[39;49m\u001b[38;5;132;43;01m{}\u001b[39;49;00m\u001b[38;5;124;43m, loss: \u001b[39;49m\u001b[38;5;132;43;01m{}\u001b[39;49;00m\u001b[38;5;124;43m'\u001b[39;49m\u001b[38;5;241;43m.\u001b[39;49m\u001b[43mformat\u001b[49m\u001b[43m(\u001b[49m\u001b[43mepoch\u001b[49m\u001b[43m,\u001b[49m\u001b[43m \u001b[49m\u001b[43mloss\u001b[49m\u001b[43m)\u001b[49m)\n",
      "\u001b[0;31mIndexError\u001b[0m: Replacement index 2 out of range for positional args tuple"
     ]
    }
   ],
   "source": [
    "print('Epoch: {}, loop: {}, loss: {}'.format(epoch, loss))"
   ]
  },
  {
   "cell_type": "markdown",
   "id": "d395bc8c-4f6a-4865-910c-4c5a3e1e8d1b",
   "metadata": {
    "slideshow": {
     "slide_type": "slide"
    },
    "tags": []
   },
   "source": [
    "## `.zfill()`\n",
    "\n",
    "Use this method to pad strings with zeros, which is useful for printing out data sets in raw text form."
   ]
  },
  {
   "cell_type": "code",
   "execution_count": 51,
   "id": "2f9d3cc8-9917-42db-82f7-d343b00fffd1",
   "metadata": {
    "tags": []
   },
   "outputs": [
    {
     "name": "stdout",
     "output_type": "stream",
     "text": [
      "00012\n",
      "0003.14\n",
      "-003.14\n",
      "3.141592\n"
     ]
    }
   ],
   "source": [
    "print('12'.zfill(5))       \n",
    "print('3.14'.zfill(7))    \n",
    "print('-3.14'.zfill(7))    \n",
    "print('3.141592'.zfill(3)) # Will not truncate"
   ]
  },
  {
   "cell_type": "markdown",
   "id": "a5614b24-cb49-4288-990b-6847e092f31a",
   "metadata": {
    "jp-MarkdownHeadingCollapsed": true,
    "slideshow": {
     "slide_type": "slide"
    },
    "tags": []
   },
   "source": [
    "# Other Functions and Methods\n",
    "\n",
    "There are many other functions and methods for strings.\n",
    "\n",
    "Many of these are based on the fact that strings are list-like.\n",
    "\n",
    "We will cover these when we review lists."
   ]
  }
 ],
 "metadata": {
  "kernelspec": {
   "display_name": "Python 3",
   "language": "python",
   "name": "python3"
  },
  "language_info": {
   "codemirror_mode": {
    "name": "ipython",
    "version": 3
   },
   "file_extension": ".py",
   "mimetype": "text/x-python",
   "name": "python",
   "nbconvert_exporter": "python",
   "pygments_lexer": "ipython3",
   "version": "3.11.4"
  },
  "vscode": {
   "interpreter": {
    "hash": "c3b963de08c47c3b6758389c5e0978ad73698a111eb508d4e16b558edb8f4cbf"
   }
  },
  "widgets": {
   "application/vnd.jupyter.widget-state+json": {
    "state": {},
    "version_major": 2,
    "version_minor": 0
   }
  }
 },
 "nbformat": 4,
 "nbformat_minor": 5
}
