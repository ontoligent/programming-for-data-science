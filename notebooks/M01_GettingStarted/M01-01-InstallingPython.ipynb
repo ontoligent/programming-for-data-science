{
 "cells": [
  {
   "cell_type": "raw",
   "id": "1ad03c52-ed30-4467-888d-75a0986fbbb3",
   "metadata": {
    "raw_mimetype": "",
    "slideshow": {
     "slide_type": ""
    },
    "tags": []
   },
   "source": [
    "---\n",
    "title: \"Installing Python\"\n",
    "jupyter: \"polo\"\n",
    "format:\n",
    "  html:\n",
    "    theme:\n",
    "          light: flatly\n",
    "          dark: darkly\n",
    "    toc: true\n",
    "---"
   ]
  },
  {
   "cell_type": "markdown",
   "id": "6987edd5-7983-4c3d-a03e-54c9ccdf1fee",
   "metadata": {
    "editable": true,
    "slideshow": {
     "slide_type": "slide"
    },
    "tags": []
   },
   "source": [
    "Programming for Data Science"
   ]
  },
  {
   "cell_type": "markdown",
   "id": "bd9a9528-041b-4b2c-b242-0efdc4a7868a",
   "metadata": {
    "editable": true,
    "slideshow": {
     "slide_type": ""
    },
    "tags": []
   },
   "source": [
    "# Introduction\n",
    "\n",
    "To complete this course, you will need access to the tools necessary to write and run Python programs.\n",
    "\n",
    "At a minimum, these tools consist of:\n",
    "\n",
    "- An installed Python interpreter\n",
    "- A plain text editor to write Python program files\n",
    "- A command line or other means to run the program file with the interpreter"
   ]
  },
  {
   "cell_type": "markdown",
   "id": "5599151a-96d0-4058-8940-0178d0f6b21e",
   "metadata": {
    "editable": true,
    "slideshow": {
     "slide_type": "slide"
    },
    "tags": []
   },
   "source": [
    "# The Interpretor\n",
    "\n",
    "At it's core, Python stands for an interpreter, which is a program that runs on your computer and which is capable of interpreting and excecuting files written in the Python language.\n",
    "\n",
    "We normally run a program from the command line\n",
    "\n",
    "As a matter of vocabulary, we call the language Python (with a capital P) and the interpreter `python`. \n",
    "\n",
    "The latter refers to the name of the command you need to execute to run Python."
   ]
  },
  {
   "cell_type": "markdown",
   "id": "c438672c-d76e-4fc3-bd6c-d53d7f293c6f",
   "metadata": {
    "editable": true,
    "slideshow": {
     "slide_type": ""
    },
    "tags": []
   },
   "source": [
    "# The Command Line\n",
    "\n",
    "# Plain Text Editors\n",
    "\n",
    "# IDEs"
   ]
  }
 ],
 "metadata": {
  "kernelspec": {
   "display_name": "Python 3 (ipykernel)",
   "language": "python",
   "name": "python3"
  },
  "language_info": {
   "codemirror_mode": {
    "name": "ipython",
    "version": 3
   },
   "file_extension": ".py",
   "mimetype": "text/x-python",
   "name": "python",
   "nbconvert_exporter": "python",
   "pygments_lexer": "ipython3",
   "version": "3.12.4"
  }
 },
 "nbformat": 4,
 "nbformat_minor": 5
}
