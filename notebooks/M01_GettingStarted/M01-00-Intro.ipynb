{
 "cells": [
  {
   "cell_type": "raw",
   "id": "1ad03c52-ed30-4467-888d-75a0986fbbb3",
   "metadata": {
    "editable": true,
    "raw_mimetype": "",
    "slideshow": {
     "slide_type": ""
    },
    "tags": []
   },
   "source": [
    "---\n",
    "title: \"Getting Started\"\n",
    "jupyter: \"polo\"\n",
    "format:\n",
    "  html:\n",
    "    theme:\n",
    "          light: flatly\n",
    "          dark: darkly\n",
    "    toc: true\n",
    "---"
   ]
  },
  {
   "cell_type": "markdown",
   "id": "6987edd5-7983-4c3d-a03e-54c9ccdf1fee",
   "metadata": {
    "editable": true,
    "slideshow": {
     "slide_type": "slide"
    },
    "tags": []
   },
   "source": [
    "Programming for Data Science"
   ]
  },
  {
   "cell_type": "markdown",
   "id": "cb8c8193-6b04-49b1-9af3-31aa5260a402",
   "metadata": {
    "editable": true,
    "slideshow": {
     "slide_type": ""
    },
    "tags": []
   },
   "source": [
    "## Topics\n",
    "\n",
    "## Suggested Readings\n",
    "\n",
    "## Videos"
   ]
  }
 ],
 "metadata": {
  "kernelspec": {
   "display_name": "Python 3 (ipykernel)",
   "language": "python",
   "name": "python3"
  },
  "language_info": {
   "codemirror_mode": {
    "name": "ipython",
    "version": 3
   },
   "file_extension": ".py",
   "mimetype": "text/x-python",
   "name": "python",
   "nbconvert_exporter": "python",
   "pygments_lexer": "ipython3",
   "version": "3.12.4"
  }
 },
 "nbformat": 4,
 "nbformat_minor": 5
}
